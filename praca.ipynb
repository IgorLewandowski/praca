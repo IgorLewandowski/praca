{
 "cells": [
  {
   "cell_type": "code",
   "execution_count": 1,
   "id": "ce1bdd3c",
   "metadata": {},
   "outputs": [
    {
     "name": "stdout",
     "output_type": "stream",
     "text": [
      "Requirement already satisfied: yfinance in c:\\users\\pocot\\anaconda3\\lib\\site-packages (0.2.52)\n",
      "Requirement already satisfied: html5lib>=1.1 in c:\\users\\pocot\\anaconda3\\lib\\site-packages (from yfinance) (1.1)\n",
      "Requirement already satisfied: lxml>=4.9.1 in c:\\users\\pocot\\anaconda3\\lib\\site-packages (from yfinance) (4.9.1)\n",
      "Requirement already satisfied: frozendict>=2.3.4 in c:\\users\\pocot\\anaconda3\\lib\\site-packages (from yfinance) (2.4.4)\n",
      "Requirement already satisfied: pandas>=1.3.0 in c:\\users\\pocot\\anaconda3\\lib\\site-packages (from yfinance) (1.4.4)\n",
      "Requirement already satisfied: requests>=2.31 in c:\\users\\pocot\\anaconda3\\lib\\site-packages (from yfinance) (2.32.3)\n",
      "Requirement already satisfied: numpy>=1.16.5 in c:\\users\\pocot\\anaconda3\\lib\\site-packages (from yfinance) (1.21.5)\n",
      "Requirement already satisfied: pytz>=2022.5 in c:\\users\\pocot\\anaconda3\\lib\\site-packages (from yfinance) (2024.1)\n",
      "Requirement already satisfied: multitasking>=0.0.7 in c:\\users\\pocot\\anaconda3\\lib\\site-packages (from yfinance) (0.0.11)\n",
      "Requirement already satisfied: peewee>=3.16.2 in c:\\users\\pocot\\anaconda3\\lib\\site-packages (from yfinance) (3.17.5)\n",
      "Requirement already satisfied: beautifulsoup4>=4.11.1 in c:\\users\\pocot\\anaconda3\\lib\\site-packages (from yfinance) (4.11.1)\n",
      "Requirement already satisfied: platformdirs>=2.0.0 in c:\\users\\pocot\\anaconda3\\lib\\site-packages (from yfinance) (2.5.2)\n",
      "Requirement already satisfied: soupsieve>1.2 in c:\\users\\pocot\\anaconda3\\lib\\site-packages (from beautifulsoup4>=4.11.1->yfinance) (2.3.1)\n",
      "Requirement already satisfied: webencodings in c:\\users\\pocot\\anaconda3\\lib\\site-packages (from html5lib>=1.1->yfinance) (0.5.1)\n",
      "Requirement already satisfied: six>=1.9 in c:\\users\\pocot\\anaconda3\\lib\\site-packages (from html5lib>=1.1->yfinance) (1.16.0)\n",
      "Requirement already satisfied: python-dateutil>=2.8.1 in c:\\users\\pocot\\anaconda3\\lib\\site-packages (from pandas>=1.3.0->yfinance) (2.8.2)\n",
      "Requirement already satisfied: certifi>=2017.4.17 in c:\\users\\pocot\\anaconda3\\lib\\site-packages (from requests>=2.31->yfinance) (2022.9.14)\n",
      "Requirement already satisfied: idna<4,>=2.5 in c:\\users\\pocot\\anaconda3\\lib\\site-packages (from requests>=2.31->yfinance) (3.3)\n",
      "Requirement already satisfied: urllib3<3,>=1.21.1 in c:\\users\\pocot\\anaconda3\\lib\\site-packages (from requests>=2.31->yfinance) (1.26.11)\n",
      "Requirement already satisfied: charset-normalizer<4,>=2 in c:\\users\\pocot\\anaconda3\\lib\\site-packages (from requests>=2.31->yfinance) (2.0.4)\n",
      "Note: you may need to restart the kernel to use updated packages.\n"
     ]
    }
   ],
   "source": [
    "pip install yfinance --upgrade --no-cache-dir"
   ]
  },
  {
   "cell_type": "code",
   "execution_count": null,
   "id": "76718b48",
   "metadata": {},
   "outputs": [],
   "source": []
  },
  {
   "cell_type": "code",
   "execution_count": 12,
   "id": "e65e3b54",
   "metadata": {},
   "outputs": [
    {
     "name": "stderr",
     "output_type": "stream",
     "text": [
      "2025-01-26 06:39:45,974 - INFO - Fetching data for AAPL...\n",
      "2025-01-26 06:39:46,012 - INFO - Fetching data for MSFT...\n",
      "2025-01-26 06:39:46,060 - INFO - Fetching data for GOOGL...\n",
      "2025-01-26 06:39:46,089 - INFO - Fetching data for NVDA...\n",
      "2025-01-26 06:39:46,122 - INFO - Fetching data for AMD...\n",
      "2025-01-26 06:39:46,152 - INFO - Fetching data for CRM...\n",
      "2025-01-26 06:39:46,183 - INFO - Fetching data for JPM...\n",
      "2025-01-26 06:39:46,213 - INFO - Fetching data for BAC...\n",
      "2025-01-26 06:39:46,244 - INFO - Fetching data for GS...\n",
      "2025-01-26 06:39:46,276 - INFO - Fetching data for MS...\n",
      "2025-01-26 06:39:46,307 - INFO - Fetching data for V...\n",
      "2025-01-26 06:39:46,338 - INFO - Fetching data for JNJ...\n",
      "2025-01-26 06:39:46,369 - INFO - Fetching data for UNH...\n",
      "2025-01-26 06:39:46,418 - INFO - Fetching data for PFE...\n",
      "2025-01-26 06:39:46,465 - INFO - Fetching data for ABT...\n",
      "2025-01-26 06:39:46,512 - INFO - Fetching data for ABBV...\n",
      "2025-01-26 06:39:46,554 - INFO - Fetching data for AMZN...\n",
      "2025-01-26 06:39:46,585 - INFO - Fetching data for TSLA...\n",
      "2025-01-26 06:39:46,616 - INFO - Fetching data for HD...\n",
      "2025-01-26 06:39:46,649 - INFO - Fetching data for NKE...\n",
      "2025-01-26 06:39:46,695 - INFO - Fetching data for SBUX...\n",
      "2025-01-26 06:39:46,725 - INFO - Fetching data for PG...\n",
      "2025-01-26 06:39:46,756 - INFO - Fetching data for KO...\n",
      "2025-01-26 06:39:46,787 - INFO - Fetching data for WMT...\n",
      "2025-01-26 06:39:46,818 - INFO - Fetching data for COST...\n",
      "2025-01-26 06:39:46,849 - INFO - Fetching data for PEP...\n",
      "2025-01-26 06:39:46,880 - INFO - Fetching data for CAT...\n",
      "2025-01-26 06:39:46,912 - INFO - Fetching data for BA...\n",
      "2025-01-26 06:39:46,942 - INFO - Fetching data for HON...\n",
      "2025-01-26 06:39:46,974 - INFO - Fetching data for UPS...\n",
      "2025-01-26 06:39:47,005 - INFO - Fetching data for GE...\n",
      "2025-01-26 06:39:47,037 - INFO - Fetching data for XOM...\n",
      "2025-01-26 06:39:47,068 - INFO - Fetching data for CVX...\n",
      "2025-01-26 06:39:47,099 - INFO - Fetching data for COP...\n",
      "2025-01-26 06:39:47,129 - INFO - Fetching data for SLB...\n",
      "2025-01-26 06:39:47,162 - INFO - Fetching data for EOG...\n",
      "2025-01-26 06:39:47,193 - INFO - Fetching data for META...\n",
      "2025-01-26 06:39:47,225 - INFO - Fetching data for NFLX...\n",
      "2025-01-26 06:39:47,255 - INFO - Fetching data for DIS...\n",
      "2025-01-26 06:39:47,285 - INFO - Fetching data for CMCSA...\n",
      "2025-01-26 06:39:47,316 - INFO - Fetching data for VZ...\n",
      "2025-01-26 06:39:47,348 - INFO - Fetching data for LIN...\n",
      "2025-01-26 06:39:47,378 - INFO - Fetching data for APD...\n",
      "2025-01-26 06:39:47,409 - INFO - Fetching data for ECL...\n",
      "2025-01-26 06:39:47,439 - INFO - Fetching data for DD...\n",
      "2025-01-26 06:39:47,470 - INFO - Fetching data for FCX...\n",
      "2025-01-26 06:39:47,501 - INFO - Fetching data for PLD...\n",
      "2025-01-26 06:39:47,532 - INFO - Fetching data for AMT...\n",
      "2025-01-26 06:39:47,564 - INFO - Fetching data for EQIX...\n",
      "2025-01-26 06:39:47,596 - INFO - Fetching data for CCI...\n",
      "2025-01-26 06:39:47,626 - INFO - Fetching data for SPG...\n",
      "2025-01-26 06:39:47,728 - INFO - Data saved successfully. Shape: (1525, 51)\n",
      "2025-01-26 06:39:47,728 - INFO - \n",
      "First few rows of the data:\n",
      "2025-01-26 06:39:47,734 - INFO - \n",
      "Number of trading days: 1525\n",
      "2025-01-26 06:39:47,735 - INFO - Number of stocks: 51\n",
      "2025-01-26 06:39:47,736 - INFO - \n",
      "Percentage of missing values per stock:\n"
     ]
    },
    {
     "name": "stdout",
     "output_type": "stream",
     "text": [
      "Price            AAPL       MSFT      GOOGL      NVDA    AMD         CRM  \\\n",
      "Ticker           AAPL       MSFT      GOOGL      NVDA    AMD         CRM   \n",
      "Date                                                                       \n",
      "2018-01-02  40.524342  79.633522  53.466679  4.929882  10.98  103.830070   \n",
      "2018-01-03  40.517288  80.004120  54.378872  5.254335  11.55  104.705177   \n",
      "2018-01-04  40.705490  80.708260  54.590103  5.282033  12.12  106.087456   \n",
      "2018-01-05  41.168934  81.708900  55.313984  5.326794  11.88  107.499565   \n",
      "2018-01-08  41.016018  81.792282  55.509274  5.490012  12.28  108.255348   \n",
      "\n",
      "Price             JPM        BAC          GS         MS  ...         LIN  \\\n",
      "Ticker            JPM        BAC          GS         MS  ...         LIN   \n",
      "Date                                                     ...               \n",
      "2018-01-02  88.111282  25.350628  218.638748  42.214725  ...  139.588013   \n",
      "2018-01-03  88.201080  25.265839  216.603470  42.327969  ...  140.758774   \n",
      "2018-01-04  89.464600  25.596498  219.630692  42.975063  ...  142.966171   \n",
      "2018-01-05  88.890266  25.715199  218.510498  42.958881  ...  144.217407   \n",
      "2018-01-08  89.021545  25.537151  215.337830  42.780941  ...  144.163757   \n",
      "\n",
      "Price              APD         ECL         DD        FCX        PLD  \\\n",
      "Ticker             APD         ECL         DD        FCX        PLD   \n",
      "Date                                                                  \n",
      "2018-01-02  139.873764  124.780724  88.996750  18.136942  53.097012   \n",
      "2018-01-03  140.634384  125.587791  90.420204  17.861723  52.997467   \n",
      "2018-01-04  141.175293  126.608337  92.153122  18.109423  51.935684   \n",
      "2018-01-05  142.358429  127.267036  93.353752  18.256207  51.894211   \n",
      "2018-01-08  142.510529  126.821739  93.031914  18.173643  52.499760   \n",
      "\n",
      "Price              AMT        EQIX        CCI         SPG  \n",
      "Ticker             AMT        EQIX        CCI         SPG  \n",
      "Date                                                       \n",
      "2018-01-02  119.006821  391.925751  81.856621  117.513214  \n",
      "2018-01-03  119.470573  393.732300  81.510963  116.967949  \n",
      "2018-01-04  117.725067  392.828949  80.564110  113.546562  \n",
      "2018-01-05  118.484009  394.179474  81.180305  114.602997  \n",
      "2018-01-08  119.748848  401.817749  81.420792  115.352654  \n",
      "\n",
      "[5 rows x 51 columns]\n",
      "Series([], dtype: float64)\n"
     ]
    }
   ],
   "source": [
    "import yfinance as yf\n",
    "import pandas as pd\n",
    "import json\n",
    "import logging\n",
    "from datetime import datetime\n",
    "\n",
    "logging.basicConfig(level=logging.INFO, format='%(asctime)s - %(levelname)s - %(message)s')\n",
    "logger = logging.getLogger(__name__)\n",
    "\n",
    "def load_tickers_and_dates(json_file_path):\n",
    "    with open(json_file_path, 'r') as file:\n",
    "        data = json.load(file)\n",
    "        tickers = [stock['symbol'] for stock in data['stocks']]\n",
    "        start_date = data['start_date']\n",
    "        end_date = data['end_date']\n",
    "    return tickers, start_date, end_date\n",
    "\n",
    "def fetch_stock_data(symbol, start_date, end_date):\n",
    "    try:\n",
    "        # Fetch data\n",
    "        df = yf.download(symbol, start=start_date, end=end_date, progress=False)\n",
    "        \n",
    "        if df.empty:\n",
    "            logger.warning(f\"No data found for {symbol}\")\n",
    "            return pd.DataFrame()\n",
    "        \n",
    "        # Keep only the 'Close' column\n",
    "        return df[['Close']]\n",
    "        \n",
    "    except Exception as e:\n",
    "        logger.error(f\"Error processing {symbol}: {str(e)}\")\n",
    "        return pd.DataFrame()\n",
    "\n",
    "def main():\n",
    "    try:\n",
    "        # Load configuration\n",
    "        json_file_path = 'tickers.json'\n",
    "        tickers, start_date, end_date = load_tickers_and_dates(json_file_path)\n",
    "        \n",
    "        # Create an empty DataFrame with dates as index\n",
    "        main_df = pd.DataFrame()\n",
    "        \n",
    "        # Fetch and process data\n",
    "        for symbol in tickers:\n",
    "            logger.info(f\"Fetching data for {symbol}...\")\n",
    "            df = fetch_stock_data(symbol, start_date, end_date)\n",
    "            if not df.empty:\n",
    "                # Rename Close column to symbol name\n",
    "                df = df.rename(columns={'Close': symbol})\n",
    "                \n",
    "                if main_df.empty:\n",
    "                    main_df = df\n",
    "                else:\n",
    "                    main_df = main_df.join(df, how='outer')\n",
    "        \n",
    "        if not main_df.empty:\n",
    "            # Sort index by date\n",
    "            main_df = main_df.sort_index()\n",
    "            \n",
    "            # Save dataset\n",
    "            main_df.to_csv('stock_prices.csv')\n",
    "            \n",
    "            logger.info(f\"Data saved successfully. Shape: {main_df.shape}\")\n",
    "            logger.info(\"\\nFirst few rows of the data:\")\n",
    "            print(main_df.head())\n",
    "            \n",
    "            # Print data coverage\n",
    "            logger.info(f\"\\nNumber of trading days: {len(main_df)}\")\n",
    "            logger.info(f\"Number of stocks: {len(main_df.columns)}\")\n",
    "            \n",
    "            # Check for missing values\n",
    "            missing_pct = (main_df.isnull().sum() / len(main_df) * 100).round(2)\n",
    "            logger.info(\"\\nPercentage of missing values per stock:\")\n",
    "            print(missing_pct[missing_pct > 0])\n",
    "            \n",
    "        else:\n",
    "            logger.error(\"No data was processed successfully\")\n",
    "            \n",
    "    except Exception as e:\n",
    "        logger.error(f\"Main execution error: {str(e)}\")\n",
    "        raise\n",
    "\n",
    "if __name__ == \"__main__\":\n",
    "    main()"
   ]
  },
  {
   "cell_type": "code",
   "execution_count": 3,
   "id": "52c8518d",
   "metadata": {},
   "outputs": [],
   "source": [
    "import numpy as np\n",
    "import pandas as pd\n",
    "from sklearn.model_selection import train_test_split\n",
    "from sklearn.preprocessing import MinMaxScaler\n",
    "import tensorflow as tf\n",
    "import yfinance as yf\n",
    "from itertools import product"
   ]
  },
  {
   "cell_type": "code",
   "execution_count": 17,
   "id": "5bd93c1a",
   "metadata": {},
   "outputs": [
    {
     "name": "stderr",
     "output_type": "stream",
     "text": [
      "2025-01-26 07:14:03,581 - INFO - Loading stock data...\n",
      "2025-01-26 07:14:03,603 - INFO - Data shape after cleaning: (1524, 52)\n",
      "2025-01-26 07:14:03,691 - INFO - Total number of sequences: 72573\n",
      "2025-01-26 07:14:03,691 - INFO - X shape: (72573, 100, 1), y shape: (72573, 1)\n",
      "2025-01-26 07:14:03,696 - INFO - Splitting into train and test sets...\n",
      "2025-01-26 07:14:03,714 - INFO - Building and training the model...\n"
     ]
    },
    {
     "name": "stdout",
     "output_type": "stream",
     "text": [
      "Epoch 1/100\n",
      "1815/1815 [==============================] - 87s 47ms/step - loss: 0.0015 - val_loss: 5.5109e-04\n",
      "Epoch 2/100\n",
      "1815/1815 [==============================] - 78s 43ms/step - loss: 4.5844e-04 - val_loss: 4.4964e-04\n",
      "Epoch 3/100\n",
      "1815/1815 [==============================] - 78s 43ms/step - loss: 3.9995e-04 - val_loss: 3.5510e-04\n",
      "Epoch 4/100\n",
      "1815/1815 [==============================] - 77s 42ms/step - loss: 3.9392e-04 - val_loss: 3.8395e-04\n",
      "Epoch 5/100\n",
      "1815/1815 [==============================] - 77s 43ms/step - loss: 3.8217e-04 - val_loss: 4.6014e-04\n",
      "Epoch 6/100\n",
      "1815/1815 [==============================] - 77s 42ms/step - loss: 3.7405e-04 - val_loss: 3.6318e-04\n",
      "Epoch 7/100\n",
      "1815/1815 [==============================] - 77s 42ms/step - loss: 3.7333e-04 - val_loss: 3.5853e-04\n",
      "Epoch 8/100\n",
      "1815/1815 [==============================] - 77s 43ms/step - loss: 3.7175e-04 - val_loss: 3.5193e-04\n",
      "Epoch 9/100\n",
      "1815/1815 [==============================] - 77s 43ms/step - loss: 3.6707e-04 - val_loss: 3.7441e-04\n",
      "Epoch 10/100\n",
      "1815/1815 [==============================] - 78s 43ms/step - loss: 3.6603e-04 - val_loss: 3.7005e-04\n",
      "Epoch 11/100\n",
      "1815/1815 [==============================] - 78s 43ms/step - loss: 3.6901e-04 - val_loss: 3.5062e-04\n",
      "Epoch 12/100\n",
      "1815/1815 [==============================] - 80s 44ms/step - loss: 3.6703e-04 - val_loss: 3.5962e-04\n",
      "Epoch 13/100\n",
      "1815/1815 [==============================] - 81s 44ms/step - loss: 3.6472e-04 - val_loss: 3.5236e-04\n",
      "Epoch 14/100\n",
      "1815/1815 [==============================] - 80s 44ms/step - loss: 3.6445e-04 - val_loss: 3.6046e-04\n",
      "Epoch 15/100\n",
      "1815/1815 [==============================] - 80s 44ms/step - loss: 3.6272e-04 - val_loss: 4.2237e-04\n",
      "Epoch 16/100\n",
      "1815/1815 [==============================] - 81s 44ms/step - loss: 3.6739e-04 - val_loss: 3.8418e-04\n",
      "Epoch 17/100\n",
      "1815/1815 [==============================] - 80s 44ms/step - loss: 3.6398e-04 - val_loss: 3.6018e-04\n",
      "Epoch 18/100\n",
      "1815/1815 [==============================] - 80s 44ms/step - loss: 3.6230e-04 - val_loss: 3.5324e-04\n",
      "Epoch 19/100\n",
      "1815/1815 [==============================] - 79s 44ms/step - loss: 3.6205e-04 - val_loss: 3.7075e-04\n",
      "Epoch 20/100\n",
      "1815/1815 [==============================] - 80s 44ms/step - loss: 3.6485e-04 - val_loss: 3.5651e-04\n",
      "Epoch 21/100\n",
      "1815/1815 [==============================] - 80s 44ms/step - loss: 3.6252e-04 - val_loss: 3.5045e-04\n",
      "Epoch 22/100\n",
      "1815/1815 [==============================] - 79s 43ms/step - loss: 3.6212e-04 - val_loss: 3.7118e-04\n",
      "Epoch 23/100\n",
      "1815/1815 [==============================] - 80s 44ms/step - loss: 3.6318e-04 - val_loss: 3.5729e-04\n",
      "Epoch 24/100\n",
      "1815/1815 [==============================] - 80s 44ms/step - loss: 3.5972e-04 - val_loss: 3.6384e-04\n",
      "Epoch 25/100\n",
      "1815/1815 [==============================] - 80s 44ms/step - loss: 3.6283e-04 - val_loss: 3.5417e-04\n",
      "Epoch 26/100\n",
      "1815/1815 [==============================] - 80s 44ms/step - loss: 3.5859e-04 - val_loss: 4.5425e-04\n",
      "Epoch 27/100\n",
      "1815/1815 [==============================] - 80s 44ms/step - loss: 3.5935e-04 - val_loss: 3.6823e-04\n",
      "Epoch 28/100\n",
      "1815/1815 [==============================] - 79s 43ms/step - loss: 3.5826e-04 - val_loss: 3.5913e-04\n",
      "Epoch 29/100\n",
      "1815/1815 [==============================] - 78s 43ms/step - loss: 3.6271e-04 - val_loss: 3.7375e-04\n",
      "Epoch 30/100\n",
      "1815/1815 [==============================] - 78s 43ms/step - loss: 3.6013e-04 - val_loss: 3.5889e-04\n",
      "Epoch 31/100\n",
      "1815/1815 [==============================] - 78s 43ms/step - loss: 3.5773e-04 - val_loss: 3.6583e-04\n"
     ]
    },
    {
     "name": "stderr",
     "output_type": "stream",
     "text": [
      "2025-01-26 07:54:59,318 - INFO - Plotting loss...\n",
      "2025-01-26 07:54:59,398 - INFO - Saving model...\n",
      "2025-01-26 07:54:59,414 - INFO - Evaluating model...\n",
      "2025-01-26 07:55:06,186 - INFO - Test Loss: 0.0004\n",
      "2025-01-26 07:55:06,187 - INFO - Making sample predictions...\n"
     ]
    },
    {
     "name": "stdout",
     "output_type": "stream",
     "text": [
      "1/1 [==============================] - 0s 403ms/step\n"
     ]
    },
    {
     "name": "stderr",
     "output_type": "stream",
     "text": [
      "2025-01-26 07:55:06,612 - INFO - \n",
      "Sample Predictions vs Actuals (scaled values):\n",
      "2025-01-26 07:55:06,613 - INFO - Predicted: 0.8508, Actual: 0.8133\n",
      "2025-01-26 07:55:06,613 - INFO - Predicted: 0.8299, Actual: 0.8344\n",
      "2025-01-26 07:55:06,614 - INFO - Predicted: 0.6703, Actual: 0.6775\n",
      "2025-01-26 07:55:06,615 - INFO - Predicted: 0.5347, Actual: 0.5022\n",
      "2025-01-26 07:55:06,615 - INFO - Predicted: 0.4015, Actual: 0.3971\n",
      "2025-01-26 07:55:06,616 - INFO - \n",
      "Mean Absolute Percentage Error for samples: 2.76%\n"
     ]
    }
   ],
   "source": [
    "import pandas as pd\n",
    "import numpy as np\n",
    "from sklearn.preprocessing import MinMaxScaler\n",
    "from sklearn.model_selection import train_test_split\n",
    "import tensorflow as tf\n",
    "import matplotlib.pyplot as plt\n",
    "import logging\n",
    "\n",
    "logging.basicConfig(level=logging.INFO, format='%(asctime)s - %(levelname)s - %(message)s')\n",
    "logger = logging.getLogger(__name__)\n",
    "\n",
    "def create_sequences(data, time_step=100):\n",
    "    \"\"\"\n",
    "    Create sequences for a single stock\n",
    "    \"\"\"\n",
    "    X, y = [], []\n",
    "    for i in range(len(data) - time_step - 1):\n",
    "        sequence = data[i:(i + time_step)]\n",
    "        target = data[i + time_step]\n",
    "        X.append(sequence)\n",
    "        y.append(target)\n",
    "    return np.array(X), np.array(y)\n",
    "\n",
    "def build_model(input_shape):\n",
    "    \"\"\"\n",
    "    Build LSTM model for single stock prediction\n",
    "    \"\"\"\n",
    "    model = tf.keras.Sequential([\n",
    "        tf.keras.layers.LSTM(50, return_sequences=True, input_shape=input_shape),\n",
    "        tf.keras.layers.LSTM(50, return_sequences=False),\n",
    "        tf.keras.layers.Dense(25),\n",
    "        tf.keras.layers.Dense(1)\n",
    "    ])\n",
    "    \n",
    "    model.compile(optimizer='adam', loss='mse')\n",
    "    return model\n",
    "\n",
    "def plot_loss(history):\n",
    "    \"\"\"\n",
    "    Plot training and validation loss\n",
    "    \"\"\"\n",
    "    plt.figure(figsize=(10, 6))\n",
    "    plt.plot(history.history['loss'], label='Training Loss')\n",
    "    plt.plot(history.history['val_loss'], label='Validation Loss')\n",
    "    plt.title('Model Loss During Training')\n",
    "    plt.xlabel('Epoch')\n",
    "    plt.ylabel('Loss')\n",
    "    plt.legend()\n",
    "    plt.grid(True)\n",
    "    plt.savefig('training_loss.png')\n",
    "    plt.close()\n",
    "\n",
    "def main():\n",
    "    try:\n",
    "        # Load the data\n",
    "        logger.info(\"Loading stock data...\")\n",
    "        # Skip the first 3 rows and use 4th row as headers\n",
    "        df = pd.read_csv('stock_prices.csv', skiprows=3)\n",
    "        \n",
    "        # Convert all columns except Date to float\n",
    "        for col in df.columns[1:]:  # Skip Date column\n",
    "            df[col] = pd.to_numeric(df[col], errors='coerce')\n",
    "        \n",
    "        # Drop any rows with NaN values\n",
    "        df = df.dropna()\n",
    "        \n",
    "        logger.info(f\"Data shape after cleaning: {df.shape}\")\n",
    "        \n",
    "        # Prepare data for all stocks\n",
    "        all_sequences_X = []\n",
    "        all_sequences_y = []\n",
    "        time_step = 100\n",
    "        \n",
    "        # Process each stock (skip the Date column)\n",
    "        for column in df.columns[1:]:  # Skip the Date column\n",
    "            \n",
    "            \n",
    "            # Get stock data and reshape\n",
    "            stock_data = df[column].values.reshape(-1, 1)\n",
    "            \n",
    "            # Skip if not enough data\n",
    "            if len(stock_data) <= time_step + 1:\n",
    "                logger.warning(f\"Skipping {column}: Not enough data\")\n",
    "                continue\n",
    "                \n",
    "            # Scale the data\n",
    "            scaler = MinMaxScaler(feature_range=(0, 1))\n",
    "            stock_data_scaled = scaler.fit_transform(stock_data)\n",
    "            \n",
    "            # Create sequences\n",
    "            X, y = create_sequences(stock_data_scaled, time_step)\n",
    "            \n",
    "            # Check for NaN values\n",
    "            if np.isnan(X).any() or np.isnan(y).any():\n",
    "                logger.warning(f\"Skipping {column}: Contains NaN values\")\n",
    "                continue\n",
    "            \n",
    "            # Append to main lists\n",
    "            all_sequences_X.append(X)\n",
    "            all_sequences_y.append(y)\n",
    "        \n",
    "        # Combine all sequences\n",
    "        X = np.vstack(all_sequences_X)\n",
    "        y = np.vstack(all_sequences_y)\n",
    "        \n",
    "        logger.info(f\"Total number of sequences: {len(X)}\")\n",
    "        logger.info(f\"X shape: {X.shape}, y shape: {y.shape}\")\n",
    "        \n",
    "        # Verify no NaN values\n",
    "        if np.isnan(X).any() or np.isnan(y).any():\n",
    "            raise ValueError(\"NaN values found in training data\")\n",
    "        \n",
    "        # Split the data\n",
    "        logger.info(\"Splitting into train and test sets...\")\n",
    "        X_train, X_test, y_train, y_test = train_test_split(\n",
    "            X, y, test_size=0.2, random_state=42\n",
    "        )\n",
    "        \n",
    "        # Build and train the model\n",
    "        logger.info(\"Building and training the model...\")\n",
    "        model = build_model((time_step, 1))\n",
    "        \n",
    "        # Add early stopping\n",
    "        early_stopping = tf.keras.callbacks.EarlyStopping(\n",
    "            monitor='val_loss',\n",
    "            patience=10,\n",
    "            restore_best_weights=True\n",
    "        )\n",
    "        \n",
    "        # Train the model\n",
    "        history = model.fit(\n",
    "            X_train, y_train,\n",
    "            validation_data=(X_test, y_test),\n",
    "            epochs=100,  # Reduced epochs\n",
    "            batch_size=32,  # Reduced batch size\n",
    "            callbacks=[early_stopping],\n",
    "            verbose=1\n",
    "        )\n",
    "        \n",
    "        # Plot the loss\n",
    "        logger.info(\"Plotting loss...\")\n",
    "        plot_loss(history)\n",
    "        \n",
    "        # Save the model\n",
    "        logger.info(\"Saving model...\")\n",
    "        model.save('stock_prediction_model.h5')\n",
    "        \n",
    "        # Model evaluation\n",
    "        logger.info(\"Evaluating model...\")\n",
    "        loss = model.evaluate(X_test, y_test, verbose=0)\n",
    "        logger.info(f'Test Loss: {loss:.4f}')\n",
    "        \n",
    "        # Make some sample predictions\n",
    "        logger.info(\"Making sample predictions...\")\n",
    "        predictions = model.predict(X_test[:5])\n",
    "        actuals = y_test[:5]\n",
    "        \n",
    "        logger.info(\"\\nSample Predictions vs Actuals (scaled values):\")\n",
    "        for i in range(5):\n",
    "            logger.info(f\"Predicted: {predictions[i][0]:.4f}, Actual: {actuals[i][0]:.4f}\")\n",
    "            \n",
    "        # Calculate and print mean absolute percentage error for samples\n",
    "        mape = np.mean(np.abs((actuals - predictions) / actuals)) * 100\n",
    "        logger.info(f\"\\nMean Absolute Percentage Error for samples: {mape:.2f}%\")\n",
    "        \n",
    "    except Exception as e:\n",
    "        logger.error(f\"Error during model training: {str(e)}\")\n",
    "        raise\n",
    "\n",
    "if __name__ == \"__main__\":\n",
    "    main()"
   ]
  },
  {
   "cell_type": "code",
   "execution_count": 76,
   "id": "d397cd9e",
   "metadata": {},
   "outputs": [
    {
     "name": "stderr",
     "output_type": "stream",
     "text": [
      "2025-01-26 08:53:28,475 - INFO - Loading stock data...\n",
      "2025-01-26 08:53:28,497 - INFO - Data shape after cleaning: (1524, 52)\n",
      "2025-01-26 08:53:28,497 - INFO - Processing 40.52434158325195...\n",
      "2025-01-26 08:53:28,500 - INFO - Processing 79.6335220336914...\n",
      "2025-01-26 08:53:28,502 - INFO - Processing 53.466678619384766...\n",
      "2025-01-26 08:53:28,504 - INFO - Processing 4.929882049560547...\n",
      "2025-01-26 08:53:28,506 - INFO - Processing 10.979999542236328...\n",
      "2025-01-26 08:53:28,509 - INFO - Processing 103.83007049560547...\n",
      "2025-01-26 08:53:28,511 - INFO - Processing 88.11128234863281...\n",
      "2025-01-26 08:53:28,514 - INFO - Processing 25.350627899169922...\n",
      "2025-01-26 08:53:28,516 - INFO - Processing 218.6387481689453...\n",
      "2025-01-26 08:53:28,518 - INFO - Processing 42.214725494384766...\n",
      "2025-01-26 08:53:28,520 - INFO - Processing 109.10430145263672...\n",
      "2025-01-26 08:53:28,522 - INFO - Processing 114.76158905029297...\n",
      "2025-01-26 08:53:28,524 - INFO - Processing 199.3837432861328...\n",
      "2025-01-26 08:53:28,527 - INFO - Processing 25.560190200805664...\n",
      "2025-01-26 08:53:28,530 - INFO - Processing 51.77656555175781...\n",
      "2025-01-26 08:53:28,532 - INFO - Processing 71.66991424560547...\n",
      "2025-01-26 08:53:28,534 - INFO - Processing 59.45050048828125...\n",
      "2025-01-26 08:53:28,536 - INFO - Processing 21.368667602539062...\n",
      "2025-01-26 08:53:28,539 - INFO - Processing 158.68099975585938...\n",
      "2025-01-26 08:53:28,540 - INFO - Processing 58.65072250366211...\n",
      "2025-01-26 08:53:28,543 - INFO - Processing 49.685428619384766...\n",
      "2025-01-26 08:53:28,545 - INFO - Processing 74.823486328125...\n",
      "2025-01-26 08:53:28,547 - INFO - Processing 36.539886474609375...\n",
      "2025-01-26 08:53:28,549 - INFO - Processing 29.191186904907227...\n",
      "2025-01-26 08:53:28,552 - INFO - Processing 169.60879516601562...\n",
      "2025-01-26 08:53:28,554 - INFO - Processing 96.11446380615234...\n",
      "2025-01-26 08:53:28,556 - INFO - Processing 133.3538360595703...\n",
      "2025-01-26 08:53:28,558 - INFO - Processing 282.88641357421875...\n",
      "2025-01-26 08:53:28,560 - INFO - Processing 127.57176971435547...\n",
      "2025-01-26 08:53:28,562 - INFO - Processing 97.35519409179688...\n",
      "2025-01-26 08:53:28,565 - INFO - Processing 81.63468170166016...\n",
      "2025-01-26 08:53:28,566 - INFO - Processing 61.13518524169922...\n",
      "2025-01-26 08:53:28,569 - INFO - Processing 94.51472473144531...\n",
      "2025-01-26 08:53:28,571 - INFO - Processing 44.161136627197266...\n",
      "2025-01-26 08:53:28,573 - INFO - Processing 57.010005950927734...\n",
      "2025-01-26 08:53:28,576 - INFO - Processing 84.05331420898438...\n",
      "2025-01-26 08:53:28,577 - INFO - Processing 180.72962951660156...\n",
      "2025-01-26 08:53:28,581 - INFO - Processing 201.07000732421875...\n",
      "2025-01-26 08:53:28,583 - INFO - Processing 107.39927673339844...\n",
      "2025-01-26 08:53:28,585 - INFO - Processing 34.6383171081543...\n",
      "2025-01-26 08:53:28,588 - INFO - Processing 36.562740325927734...\n",
      "2025-01-26 08:53:28,591 - INFO - Processing 139.5880126953125...\n",
      "2025-01-26 08:53:28,593 - INFO - Processing 139.87376403808594...\n",
      "2025-01-26 08:53:28,595 - INFO - Processing 124.78072357177734...\n",
      "2025-01-26 08:53:28,597 - INFO - Processing 88.99674987792969...\n",
      "2025-01-26 08:53:28,600 - INFO - Processing 18.13694190979004...\n",
      "2025-01-26 08:53:28,603 - INFO - Processing 53.09701156616211...\n",
      "2025-01-26 08:53:28,605 - INFO - Processing 119.00682067871094...\n",
      "2025-01-26 08:53:28,607 - INFO - Processing 391.9257507324219...\n",
      "2025-01-26 08:53:28,609 - INFO - Processing 81.85662078857422...\n",
      "2025-01-26 08:53:28,611 - INFO - Processing 117.51321411132812...\n",
      "2025-01-26 08:53:28,623 - INFO - Total number of sequences: 72573\n",
      "2025-01-26 08:53:28,623 - INFO - X shape: (72573, 100, 1), y shape: (72573, 1)\n",
      "2025-01-26 08:53:28,624 - INFO - Total sequences: 72573\n",
      "2025-01-26 08:53:28,624 - INFO - Sequences per split: 24191\n",
      "2025-01-26 08:53:28,624 - INFO - \n",
      "Training fold 1/3\n"
     ]
    },
    {
     "name": "stdout",
     "output_type": "stream",
     "text": [
      "Epoch 1/10\n",
      "1512/1512 [==============================] - 62s 39ms/step - loss: 0.0016 - val_loss: 6.0801e-04\n",
      "Epoch 2/10\n",
      "1512/1512 [==============================] - 59s 39ms/step - loss: 4.7544e-04 - val_loss: 3.6042e-04\n",
      "Epoch 3/10\n",
      "1512/1512 [==============================] - 59s 39ms/step - loss: 4.2788e-04 - val_loss: 3.6402e-04\n",
      "Epoch 4/10\n",
      "1512/1512 [==============================] - 59s 39ms/step - loss: 4.0477e-04 - val_loss: 3.1553e-04\n",
      "Epoch 5/10\n",
      "1512/1512 [==============================] - 59s 39ms/step - loss: 3.9716e-04 - val_loss: 3.1648e-04\n",
      "Epoch 6/10\n",
      "1512/1512 [==============================] - 60s 40ms/step - loss: 3.9849e-04 - val_loss: 3.1360e-04\n",
      "Epoch 7/10\n",
      "1512/1512 [==============================] - 60s 40ms/step - loss: 3.9428e-04 - val_loss: 3.1693e-04\n",
      "Epoch 8/10\n",
      "1512/1512 [==============================] - 61s 41ms/step - loss: 3.9255e-04 - val_loss: 4.0379e-04\n",
      "Epoch 9/10\n",
      "1512/1512 [==============================] - 60s 40ms/step - loss: 3.8476e-04 - val_loss: 3.3735e-04\n",
      "Epoch 10/10\n",
      "1512/1512 [==============================] - 60s 40ms/step - loss: 3.8691e-04 - val_loss: 3.1730e-04\n"
     ]
    },
    {
     "name": "stderr",
     "output_type": "stream",
     "text": [
      "2025-01-26 09:03:37,647 - INFO - Fold 1 validation loss: 0.0003\n",
      "2025-01-26 09:03:37,648 - INFO - \n",
      "Training fold 2/3\n"
     ]
    },
    {
     "name": "stdout",
     "output_type": "stream",
     "text": [
      "Epoch 1/10\n",
      "1512/1512 [==============================] - 61s 39ms/step - loss: 0.0015 - val_loss: 3.5993e-04\n",
      "Epoch 2/10\n",
      "1512/1512 [==============================] - 59s 39ms/step - loss: 4.4162e-04 - val_loss: 4.0843e-04\n",
      "Epoch 3/10\n",
      "1512/1512 [==============================] - 60s 40ms/step - loss: 4.2371e-04 - val_loss: 3.1267e-04\n",
      "Epoch 4/10\n",
      "1512/1512 [==============================] - 63s 41ms/step - loss: 4.1303e-04 - val_loss: 3.1607e-04\n",
      "Epoch 5/10\n",
      "1512/1512 [==============================] - 63s 41ms/step - loss: 4.0961e-04 - val_loss: 3.4138e-04\n",
      "Epoch 6/10\n",
      "1512/1512 [==============================] - 63s 42ms/step - loss: 4.0107e-04 - val_loss: 3.1346e-04\n",
      "Epoch 7/10\n",
      "1512/1512 [==============================] - 63s 41ms/step - loss: 3.9717e-04 - val_loss: 3.0749e-04\n",
      "Epoch 8/10\n",
      "1512/1512 [==============================] - 65s 43ms/step - loss: 4.0455e-04 - val_loss: 3.1312e-04\n",
      "Epoch 9/10\n",
      "1512/1512 [==============================] - 64s 42ms/step - loss: 3.9521e-04 - val_loss: 3.6087e-04\n",
      "Epoch 10/10\n",
      "1512/1512 [==============================] - 69s 45ms/step - loss: 3.9629e-04 - val_loss: 3.3897e-04\n"
     ]
    },
    {
     "name": "stderr",
     "output_type": "stream",
     "text": [
      "2025-01-26 09:14:17,160 - INFO - Fold 2 validation loss: 0.0003\n",
      "2025-01-26 09:14:17,161 - INFO - \n",
      "Training fold 3/3\n"
     ]
    },
    {
     "name": "stdout",
     "output_type": "stream",
     "text": [
      "Epoch 1/10\n",
      "1512/1512 [==============================] - 72s 45ms/step - loss: 0.0022 - val_loss: 8.3180e-04\n",
      "Epoch 2/10\n",
      "1512/1512 [==============================] - 69s 45ms/step - loss: 4.2646e-04 - val_loss: 5.6244e-04\n",
      "Epoch 3/10\n",
      "1512/1512 [==============================] - 69s 45ms/step - loss: 3.6112e-04 - val_loss: 4.7401e-04\n",
      "Epoch 4/10\n",
      "1512/1512 [==============================] - 69s 46ms/step - loss: 3.5793e-04 - val_loss: 5.8188e-04\n",
      "Epoch 5/10\n",
      "1512/1512 [==============================] - 69s 45ms/step - loss: 3.4285e-04 - val_loss: 4.3401e-04\n",
      "Epoch 6/10\n",
      "1512/1512 [==============================] - 69s 46ms/step - loss: 3.3807e-04 - val_loss: 4.5684e-04\n",
      "Epoch 7/10\n",
      "1512/1512 [==============================] - 68s 45ms/step - loss: 3.4171e-04 - val_loss: 4.2492e-04\n",
      "Epoch 8/10\n",
      "1512/1512 [==============================] - 68s 45ms/step - loss: 3.4053e-04 - val_loss: 4.2742e-04\n",
      "Epoch 9/10\n",
      "1512/1512 [==============================] - 67s 44ms/step - loss: 3.3287e-04 - val_loss: 4.7598e-04\n",
      "Epoch 10/10\n",
      "1512/1512 [==============================] - 67s 45ms/step - loss: 3.3244e-04 - val_loss: 4.2731e-04\n"
     ]
    },
    {
     "name": "stderr",
     "output_type": "stream",
     "text": [
      "2025-01-26 09:25:53,671 - INFO - Fold 3 validation loss: 0.0004\n",
      "2025-01-26 09:25:53,814 - INFO - \n",
      "Cross-validation results:\n",
      "2025-01-26 09:25:53,814 - INFO - Mean MSE: 0.0004 (+/- 0.0000)\n",
      "2025-01-26 09:25:53,818 - INFO - Saving best model...\n",
      "2025-01-26 09:25:53,841 - INFO - Making sample predictions...\n"
     ]
    },
    {
     "name": "stdout",
     "output_type": "stream",
     "text": [
      "1/1 [==============================] - 0s 492ms/step\n"
     ]
    },
    {
     "name": "stderr",
     "output_type": "stream",
     "text": [
      "2025-01-26 09:25:54,357 - INFO - \n",
      "Sample Predictions vs Actuals (scaled values):\n",
      "2025-01-26 09:25:54,358 - INFO - Predicted: 0.0650, Actual: 0.0650\n",
      "2025-01-26 09:25:54,358 - INFO - Predicted: 0.0642, Actual: 0.0644\n",
      "2025-01-26 09:25:54,359 - INFO - Predicted: 0.0635, Actual: 0.0635\n",
      "2025-01-26 09:25:54,360 - INFO - Predicted: 0.0626, Actual: 0.0684\n",
      "2025-01-26 09:25:54,360 - INFO - Predicted: 0.0670, Actual: 0.0707\n",
      "2025-01-26 09:25:54,360 - INFO - \n",
      "Mean Absolute Percentage Error for samples: 2.80%\n"
     ]
    }
   ],
   "source": [
    "import pandas as pd\n",
    "import numpy as np\n",
    "from sklearn.preprocessing import MinMaxScaler\n",
    "from sklearn.model_selection import TimeSeriesSplit\n",
    "import tensorflow as tf\n",
    "import matplotlib.pyplot as plt\n",
    "import logging\n",
    "\n",
    "logging.basicConfig(level=logging.INFO, format='%(asctime)s - %(levelname)s - %(message)s')\n",
    "logger = logging.getLogger(__name__)\n",
    "\n",
    "def create_sequences(data, time_step=100):\n",
    "    \"\"\"\n",
    "    Create sequences for a single stock\n",
    "    \"\"\"\n",
    "    X, y = [], []\n",
    "    for i in range(len(data) - time_step - 1):\n",
    "        sequence = data[i:(i + time_step)]\n",
    "        target = data[i + time_step]\n",
    "        X.append(sequence)\n",
    "        y.append(target)\n",
    "    return np.array(X), np.array(y)\n",
    "\n",
    "def build_model(input_shape):\n",
    "    \"\"\"\n",
    "    Build LSTM model for single stock prediction\n",
    "    \"\"\"\n",
    "    model = tf.keras.Sequential([\n",
    "        tf.keras.layers.LSTM(50, return_sequences=True, input_shape=input_shape),\n",
    "        tf.keras.layers.LSTM(50, return_sequences=False),\n",
    "        tf.keras.layers.Dense(25),\n",
    "        tf.keras.layers.Dense(1)\n",
    "    ])\n",
    "    \n",
    "    model.compile(optimizer='adam', loss='mse')\n",
    "    return model\n",
    "\n",
    "def plot_cv_results(cv_histories):\n",
    "    \"\"\"\n",
    "    Plot training results for each CV fold\n",
    "    \"\"\"\n",
    "    plt.figure(figsize=(12, 8))\n",
    "    \n",
    "    for fold, history in enumerate(cv_histories):\n",
    "        plt.plot(history.history['loss'], label=f'Training (Fold {fold+1})')\n",
    "        plt.plot(history.history['val_loss'], label=f'Validation (Fold {fold+1})')\n",
    "    \n",
    "    plt.title('Model Loss During Training (All Folds)')\n",
    "    plt.xlabel('Epoch')\n",
    "    plt.ylabel('Loss')\n",
    "    plt.legend()\n",
    "    plt.grid(True)\n",
    "    plt.savefig('cv_training_loss.png')\n",
    "    plt.close()\n",
    "\n",
    "def train_model_with_cv(X, y, n_splits=3):\n",
    "    \"\"\"\n",
    "    Train model using time series cross-validation\n",
    "    \"\"\"\n",
    "    # Calculate total number of available sequences\n",
    "    total_sequences = len(X)\n",
    "    sequences_per_split = total_sequences // n_splits\n",
    "    \n",
    "    cv_scores = []\n",
    "    cv_histories = []\n",
    "    best_model = None\n",
    "    best_val_loss = float('inf')\n",
    "    \n",
    "    logger.info(f\"Total sequences: {total_sequences}\")\n",
    "    logger.info(f\"Sequences per split: {sequences_per_split}\")\n",
    "    \n",
    "    for fold in range(n_splits):\n",
    "        logger.info(f\"\\nTraining fold {fold + 1}/{n_splits}\")\n",
    "        \n",
    "        # Calculate indices for this fold\n",
    "        val_start = fold * sequences_per_split\n",
    "        val_end = (fold + 1) * sequences_per_split\n",
    "        \n",
    "        # Split the data\n",
    "        train_indices = list(range(0, val_start)) + list(range(val_end, total_sequences))\n",
    "        val_indices = list(range(val_start, val_end))\n",
    "        \n",
    "        X_train = X[train_indices]\n",
    "        y_train = y[train_indices]\n",
    "        X_val = X[val_indices]\n",
    "        y_val = y[val_indices]\n",
    "        \n",
    "        # Build and train model\n",
    "        model = build_model((100, 1))\n",
    "        early_stopping = tf.keras.callbacks.EarlyStopping(\n",
    "            monitor='val_loss',\n",
    "            patience=5,\n",
    "            restore_best_weights=True\n",
    "        )\n",
    "        \n",
    "        history = model.fit(\n",
    "            X_train, y_train,\n",
    "            validation_data=(X_val, y_val),\n",
    "            epochs=10,\n",
    "            batch_size=32,\n",
    "            callbacks=[early_stopping],\n",
    "            verbose=1\n",
    "        )\n",
    "        \n",
    "        # Evaluate on validation set\n",
    "        val_loss = model.evaluate(X_val, y_val, verbose=0)\n",
    "        cv_scores.append(val_loss)\n",
    "        cv_histories.append(history)\n",
    "        \n",
    "        logger.info(f\"Fold {fold + 1} validation loss: {val_loss:.4f}\")\n",
    "        \n",
    "        # Keep track of best model\n",
    "        if val_loss < best_val_loss:\n",
    "            best_val_loss = val_loss\n",
    "            best_model = model\n",
    "    \n",
    "    # Plot results\n",
    "    plot_cv_results(cv_histories)\n",
    "    \n",
    "    # Log CV results\n",
    "    mean_score = np.mean(cv_scores)\n",
    "    std_score = np.std(cv_scores)\n",
    "    logger.info(f\"\\nCross-validation results:\")\n",
    "    logger.info(f\"Mean MSE: {mean_score:.4f} (+/- {std_score:.4f})\")\n",
    "    \n",
    "    return best_model, cv_scores\n",
    "\n",
    "def main():\n",
    "    try:\n",
    "        # Load the data\n",
    "        logger.info(\"Loading stock data...\")\n",
    "        # Skip the first 3 rows and use 4th row as headers\n",
    "        df = pd.read_csv('stock_prices.csv', skiprows=3)\n",
    "        \n",
    "        # Convert all columns except Date to float\n",
    "        for col in df.columns[1:]:  # Skip Date column\n",
    "            df[col] = pd.to_numeric(df[col], errors='coerce')\n",
    "        \n",
    "        # Drop any rows with NaN values\n",
    "        df = df.dropna()\n",
    "        \n",
    "        logger.info(f\"Data shape after cleaning: {df.shape}\")\n",
    "        \n",
    "        # Prepare data for all stocks\n",
    "        all_sequences_X = []\n",
    "        all_sequences_y = []\n",
    "        time_step = 100\n",
    "        \n",
    "        # Process each stock (skip the Date column)\n",
    "        for column in df.columns[1:]:  # Skip the Date column\n",
    "            logger.info(f\"Processing {column}...\")\n",
    "            \n",
    "            # Get stock data and reshape\n",
    "            stock_data = df[column].values.reshape(-1, 1)\n",
    "            \n",
    "            # Skip if not enough data\n",
    "            if len(stock_data) <= time_step + 1:\n",
    "                logger.warning(f\"Skipping {column}: Not enough data\")\n",
    "                continue\n",
    "                \n",
    "            # Scale the data\n",
    "            scaler = MinMaxScaler(feature_range=(0, 1))\n",
    "            stock_data_scaled = scaler.fit_transform(stock_data)\n",
    "            \n",
    "            # Create sequences\n",
    "            X, y = create_sequences(stock_data_scaled, time_step)\n",
    "            \n",
    "            # Check for NaN values\n",
    "            if np.isnan(X).any() or np.isnan(y).any():\n",
    "                logger.warning(f\"Skipping {column}: Contains NaN values\")\n",
    "                continue\n",
    "            \n",
    "            # Append to main lists\n",
    "            all_sequences_X.append(X)\n",
    "            all_sequences_y.append(y)\n",
    "        \n",
    "        # Combine all sequences\n",
    "        X = np.vstack(all_sequences_X)\n",
    "        y = np.vstack(all_sequences_y)\n",
    "        \n",
    "        logger.info(f\"Total number of sequences: {len(X)}\")\n",
    "        logger.info(f\"X shape: {X.shape}, y shape: {y.shape}\")\n",
    "        \n",
    "        # Train model with cross-validation\n",
    "        best_model, cv_scores = train_model_with_cv(X, y, n_splits=3)\n",
    "        \n",
    "        # Save the best model\n",
    "        logger.info(\"Saving best model...\")\n",
    "        best_model.save('stock_prediction_model_cv.h5')\n",
    "        \n",
    "        # Make some sample predictions\n",
    "        logger.info(\"Making sample predictions...\")\n",
    "        predictions = best_model.predict(X[:5])\n",
    "        actuals = y[:5]\n",
    "        \n",
    "        logger.info(\"\\nSample Predictions vs Actuals (scaled values):\")\n",
    "        for i in range(5):\n",
    "            logger.info(f\"Predicted: {predictions[i][0]:.4f}, Actual: {actuals[i][0]:.4f}\")\n",
    "            \n",
    "        # Calculate and print mean absolute percentage error for samples\n",
    "        mape = np.mean(np.abs((actuals - predictions) / actuals)) * 100\n",
    "        logger.info(f\"\\nMean Absolute Percentage Error for samples: {mape:.2f}%\")\n",
    "        \n",
    "    except Exception as e:\n",
    "        logger.error(f\"Error during model training: {str(e)}\")\n",
    "        raise\n",
    "\n",
    "if __name__ == \"__main__\":\n",
    "    main()"
   ]
  },
  {
   "cell_type": "code",
   "execution_count": 80,
   "id": "41f9acf3",
   "metadata": {},
   "outputs": [
    {
     "name": "stderr",
     "output_type": "stream",
     "text": [
      "2025-01-26 10:18:20,100 - INFO - Loading stock data...\n",
      "2025-01-26 10:18:20,123 - INFO - Data shape after cleaning: (1524, 52)\n",
      "2025-01-26 10:18:20,123 - INFO - Processing 40.52434158325195...\n",
      "2025-01-26 10:18:20,126 - INFO - Processing 79.6335220336914...\n",
      "2025-01-26 10:18:20,128 - INFO - Processing 53.466678619384766...\n",
      "2025-01-26 10:18:20,130 - INFO - Processing 4.929882049560547...\n",
      "2025-01-26 10:18:20,132 - INFO - Processing 10.979999542236328...\n",
      "2025-01-26 10:18:20,135 - INFO - Processing 103.83007049560547...\n",
      "2025-01-26 10:18:20,137 - INFO - Processing 88.11128234863281...\n",
      "2025-01-26 10:18:20,140 - INFO - Processing 25.350627899169922...\n",
      "2025-01-26 10:18:20,142 - INFO - Processing 218.6387481689453...\n",
      "2025-01-26 10:18:20,144 - INFO - Processing 42.214725494384766...\n",
      "2025-01-26 10:18:20,147 - INFO - Processing 109.10430145263672...\n",
      "2025-01-26 10:18:20,150 - INFO - Processing 114.76158905029297...\n",
      "2025-01-26 10:18:20,152 - INFO - Processing 199.3837432861328...\n",
      "2025-01-26 10:18:20,156 - INFO - Processing 25.560190200805664...\n",
      "2025-01-26 10:18:20,158 - INFO - Processing 51.77656555175781...\n",
      "2025-01-26 10:18:20,160 - INFO - Processing 71.66991424560547...\n",
      "2025-01-26 10:18:20,163 - INFO - Processing 59.45050048828125...\n",
      "2025-01-26 10:18:20,165 - INFO - Processing 21.368667602539062...\n",
      "2025-01-26 10:18:20,168 - INFO - Processing 158.68099975585938...\n",
      "2025-01-26 10:18:20,170 - INFO - Processing 58.65072250366211...\n",
      "2025-01-26 10:18:20,172 - INFO - Processing 49.685428619384766...\n",
      "2025-01-26 10:18:20,175 - INFO - Processing 74.823486328125...\n",
      "2025-01-26 10:18:20,177 - INFO - Processing 36.539886474609375...\n",
      "2025-01-26 10:18:20,179 - INFO - Processing 29.191186904907227...\n",
      "2025-01-26 10:18:20,182 - INFO - Processing 169.60879516601562...\n",
      "2025-01-26 10:18:20,184 - INFO - Processing 96.11446380615234...\n",
      "2025-01-26 10:18:20,187 - INFO - Processing 133.3538360595703...\n",
      "2025-01-26 10:18:20,190 - INFO - Processing 282.88641357421875...\n",
      "2025-01-26 10:18:20,192 - INFO - Processing 127.57176971435547...\n",
      "2025-01-26 10:18:20,194 - INFO - Processing 97.35519409179688...\n",
      "2025-01-26 10:18:20,197 - INFO - Processing 81.63468170166016...\n",
      "2025-01-26 10:18:20,199 - INFO - Processing 61.13518524169922...\n",
      "2025-01-26 10:18:20,201 - INFO - Processing 94.51472473144531...\n",
      "2025-01-26 10:18:20,203 - INFO - Processing 44.161136627197266...\n",
      "2025-01-26 10:18:20,207 - INFO - Processing 57.010005950927734...\n",
      "2025-01-26 10:18:20,209 - INFO - Processing 84.05331420898438...\n",
      "2025-01-26 10:18:20,211 - INFO - Processing 180.72962951660156...\n",
      "2025-01-26 10:18:20,213 - INFO - Processing 201.07000732421875...\n",
      "2025-01-26 10:18:20,217 - INFO - Processing 107.39927673339844...\n",
      "2025-01-26 10:18:20,220 - INFO - Processing 34.6383171081543...\n",
      "2025-01-26 10:18:20,222 - INFO - Processing 36.562740325927734...\n",
      "2025-01-26 10:18:20,225 - INFO - Processing 139.5880126953125...\n",
      "2025-01-26 10:18:20,227 - INFO - Processing 139.87376403808594...\n",
      "2025-01-26 10:18:20,229 - INFO - Processing 124.78072357177734...\n",
      "2025-01-26 10:18:20,232 - INFO - Processing 88.99674987792969...\n",
      "2025-01-26 10:18:20,234 - INFO - Processing 18.13694190979004...\n",
      "2025-01-26 10:18:20,236 - INFO - Processing 53.09701156616211...\n",
      "2025-01-26 10:18:20,239 - INFO - Processing 119.00682067871094...\n",
      "2025-01-26 10:18:20,241 - INFO - Processing 391.9257507324219...\n",
      "2025-01-26 10:18:20,244 - INFO - Processing 81.85662078857422...\n",
      "2025-01-26 10:18:20,246 - INFO - Processing 117.51321411132812...\n",
      "2025-01-26 10:18:20,257 - INFO - Total number of sequences: 72573\n",
      "2025-01-26 10:18:20,258 - INFO - X shape: (72573, 100, 1), y shape: (72573, 1)\n",
      "2025-01-26 10:18:20,258 - INFO - Total sequences: 72573\n",
      "2025-01-26 10:18:20,259 - INFO - Sequences per split: 14514\n",
      "2025-01-26 10:18:20,259 - INFO - \n",
      "Training fold 1/5\n"
     ]
    },
    {
     "name": "stdout",
     "output_type": "stream",
     "text": [
      "Epoch 1/50\n",
      "1815/1815 [==============================] - 71s 38ms/step - loss: 0.0018 - val_loss: 4.5658e-04\n",
      "Epoch 2/50\n",
      "1815/1815 [==============================] - 69s 38ms/step - loss: 4.6523e-04 - val_loss: 3.0633e-04\n",
      "Epoch 3/50\n",
      "1815/1815 [==============================] - 69s 38ms/step - loss: 4.1498e-04 - val_loss: 2.9501e-04\n",
      "Epoch 4/50\n",
      "1815/1815 [==============================] - 69s 38ms/step - loss: 4.0569e-04 - val_loss: 3.1100e-04\n",
      "Epoch 5/50\n",
      "1815/1815 [==============================] - 69s 38ms/step - loss: 3.9169e-04 - val_loss: 3.8067e-04\n",
      "Epoch 6/50\n",
      "1815/1815 [==============================] - 69s 38ms/step - loss: 3.8961e-04 - val_loss: 4.3495e-04\n",
      "Epoch 7/50\n",
      "1815/1815 [==============================] - 69s 38ms/step - loss: 3.9037e-04 - val_loss: 2.9621e-04\n",
      "Epoch 8/50\n",
      "1815/1815 [==============================] - 69s 38ms/step - loss: 3.8637e-04 - val_loss: 2.8516e-04\n",
      "Epoch 9/50\n",
      "1815/1815 [==============================] - 69s 38ms/step - loss: 3.8629e-04 - val_loss: 3.2379e-04\n",
      "Epoch 10/50\n",
      "1815/1815 [==============================] - 69s 38ms/step - loss: 3.8124e-04 - val_loss: 2.8552e-04\n",
      "Epoch 11/50\n",
      "1815/1815 [==============================] - 69s 38ms/step - loss: 3.8293e-04 - val_loss: 3.3643e-04\n",
      "Epoch 12/50\n",
      "1815/1815 [==============================] - 69s 38ms/step - loss: 3.8495e-04 - val_loss: 2.9574e-04\n",
      "Epoch 13/50\n",
      "1815/1815 [==============================] - 69s 38ms/step - loss: 3.8031e-04 - val_loss: 2.9135e-04\n"
     ]
    },
    {
     "name": "stderr",
     "output_type": "stream",
     "text": [
      "2025-01-26 10:33:27,786 - INFO - Fold 1 validation loss: 0.0003\n",
      "2025-01-26 10:33:27,787 - INFO - \n",
      "Training fold 2/5\n"
     ]
    },
    {
     "name": "stdout",
     "output_type": "stream",
     "text": [
      "Epoch 1/50\n",
      "1815/1815 [==============================] - 81s 43ms/step - loss: 0.0014 - val_loss: 5.0468e-04\n",
      "Epoch 2/50\n",
      "1815/1815 [==============================] - 80s 44ms/step - loss: 4.4737e-04 - val_loss: 3.5407e-04\n",
      "Epoch 3/50\n",
      "1815/1815 [==============================] - 79s 44ms/step - loss: 3.9530e-04 - val_loss: 3.8150e-04\n",
      "Epoch 4/50\n",
      "1815/1815 [==============================] - 79s 44ms/step - loss: 3.8782e-04 - val_loss: 4.1281e-04\n",
      "Epoch 5/50\n",
      "1815/1815 [==============================] - 79s 44ms/step - loss: 3.7924e-04 - val_loss: 3.4971e-04\n",
      "Epoch 6/50\n",
      "1815/1815 [==============================] - 78s 43ms/step - loss: 3.7882e-04 - val_loss: 3.9167e-04\n",
      "Epoch 7/50\n",
      "1815/1815 [==============================] - 78s 43ms/step - loss: 3.7312e-04 - val_loss: 3.5950e-04\n",
      "Epoch 8/50\n",
      "1815/1815 [==============================] - 78s 43ms/step - loss: 3.7170e-04 - val_loss: 3.4206e-04\n",
      "Epoch 9/50\n",
      "1815/1815 [==============================] - 78s 43ms/step - loss: 3.7384e-04 - val_loss: 3.4629e-04\n",
      "Epoch 10/50\n",
      "1815/1815 [==============================] - 78s 43ms/step - loss: 3.6470e-04 - val_loss: 4.1442e-04\n",
      "Epoch 11/50\n",
      "1815/1815 [==============================] - 78s 43ms/step - loss: 3.7155e-04 - val_loss: 3.4603e-04\n",
      "Epoch 12/50\n",
      "1815/1815 [==============================] - 78s 43ms/step - loss: 3.6561e-04 - val_loss: 3.5571e-04\n",
      "Epoch 13/50\n",
      "1815/1815 [==============================] - 78s 43ms/step - loss: 3.6473e-04 - val_loss: 3.4831e-04\n"
     ]
    },
    {
     "name": "stderr",
     "output_type": "stream",
     "text": [
      "2025-01-26 10:50:37,808 - INFO - Fold 2 validation loss: 0.0003\n",
      "2025-01-26 10:50:37,809 - INFO - \n",
      "Training fold 3/5\n"
     ]
    },
    {
     "name": "stdout",
     "output_type": "stream",
     "text": [
      "Epoch 1/50\n",
      "1815/1815 [==============================] - 79s 42ms/step - loss: 0.0015 - val_loss: 5.2295e-04\n",
      "Epoch 2/50\n",
      "1815/1815 [==============================] - 76s 42ms/step - loss: 4.4484e-04 - val_loss: 3.5195e-04\n",
      "Epoch 3/50\n",
      "1815/1815 [==============================] - 76s 42ms/step - loss: 4.0530e-04 - val_loss: 3.4411e-04\n",
      "Epoch 4/50\n",
      "1815/1815 [==============================] - 76s 42ms/step - loss: 3.9679e-04 - val_loss: 4.0706e-04\n",
      "Epoch 5/50\n",
      "1815/1815 [==============================] - 76s 42ms/step - loss: 3.8903e-04 - val_loss: 3.2579e-04\n",
      "Epoch 6/50\n",
      "1815/1815 [==============================] - 76s 42ms/step - loss: 3.8687e-04 - val_loss: 3.9400e-04\n",
      "Epoch 7/50\n",
      "1815/1815 [==============================] - 76s 42ms/step - loss: 3.8309e-04 - val_loss: 3.3696e-04\n",
      "Epoch 8/50\n",
      "1815/1815 [==============================] - 76s 42ms/step - loss: 3.8259e-04 - val_loss: 3.6801e-04\n",
      "Epoch 9/50\n",
      "1815/1815 [==============================] - 76s 42ms/step - loss: 3.7973e-04 - val_loss: 3.8511e-04\n",
      "Epoch 10/50\n",
      "1815/1815 [==============================] - 78s 43ms/step - loss: 3.7584e-04 - val_loss: 3.3051e-04\n"
     ]
    },
    {
     "name": "stderr",
     "output_type": "stream",
     "text": [
      "2025-01-26 11:03:29,451 - INFO - Fold 3 validation loss: 0.0003\n",
      "2025-01-26 11:03:29,452 - INFO - \n",
      "Training fold 4/5\n"
     ]
    },
    {
     "name": "stdout",
     "output_type": "stream",
     "text": [
      "Epoch 1/50\n",
      "1815/1815 [==============================] - 86s 46ms/step - loss: 0.0015 - val_loss: 4.6282e-04\n",
      "Epoch 2/50\n",
      "1815/1815 [==============================] - 78s 43ms/step - loss: 4.1433e-04 - val_loss: 4.2249e-04\n",
      "Epoch 3/50\n",
      "1815/1815 [==============================] - 77s 42ms/step - loss: 3.9206e-04 - val_loss: 3.9492e-04\n",
      "Epoch 4/50\n",
      "1815/1815 [==============================] - 78s 43ms/step - loss: 3.8232e-04 - val_loss: 3.5544e-04\n",
      "Epoch 5/50\n",
      "1815/1815 [==============================] - 77s 43ms/step - loss: 3.7552e-04 - val_loss: 3.6477e-04\n",
      "Epoch 6/50\n",
      "1815/1815 [==============================] - 78s 43ms/step - loss: 3.6861e-04 - val_loss: 3.5747e-04\n",
      "Epoch 7/50\n",
      "1815/1815 [==============================] - 78s 43ms/step - loss: 3.7212e-04 - val_loss: 3.5600e-04\n",
      "Epoch 8/50\n",
      "1815/1815 [==============================] - 78s 43ms/step - loss: 3.6669e-04 - val_loss: 3.8351e-04\n",
      "Epoch 9/50\n",
      "1815/1815 [==============================] - 78s 43ms/step - loss: 3.6224e-04 - val_loss: 3.5748e-04\n"
     ]
    },
    {
     "name": "stderr",
     "output_type": "stream",
     "text": [
      "2025-01-26 11:15:23,239 - INFO - Fold 4 validation loss: 0.0004\n",
      "2025-01-26 11:15:23,240 - INFO - \n",
      "Training fold 5/5\n"
     ]
    },
    {
     "name": "stdout",
     "output_type": "stream",
     "text": [
      "Epoch 1/50\n",
      "1815/1815 [==============================] - 82s 44ms/step - loss: 0.0016 - val_loss: 5.6208e-04\n",
      "Epoch 2/50\n",
      "1815/1815 [==============================] - 78s 43ms/step - loss: 4.0750e-04 - val_loss: 4.3459e-04\n",
      "Epoch 3/50\n",
      "1815/1815 [==============================] - 78s 43ms/step - loss: 3.7178e-04 - val_loss: 5.3623e-04\n",
      "Epoch 4/50\n",
      "1815/1815 [==============================] - 79s 44ms/step - loss: 3.7103e-04 - val_loss: 4.5967e-04\n",
      "Epoch 5/50\n",
      "1815/1815 [==============================] - 79s 44ms/step - loss: 3.6326e-04 - val_loss: 4.3125e-04\n",
      "Epoch 6/50\n",
      "1815/1815 [==============================] - 79s 44ms/step - loss: 3.5620e-04 - val_loss: 4.6664e-04\n",
      "Epoch 7/50\n",
      "1815/1815 [==============================] - 79s 44ms/step - loss: 3.5329e-04 - val_loss: 4.2909e-04\n",
      "Epoch 8/50\n",
      "1815/1815 [==============================] - 79s 44ms/step - loss: 3.4736e-04 - val_loss: 4.3890e-04\n",
      "Epoch 9/50\n",
      "1815/1815 [==============================] - 79s 44ms/step - loss: 3.5230e-04 - val_loss: 4.2316e-04\n",
      "Epoch 10/50\n",
      "1815/1815 [==============================] - 79s 44ms/step - loss: 3.4771e-04 - val_loss: 4.9916e-04\n",
      "Epoch 11/50\n",
      "1815/1815 [==============================] - 79s 44ms/step - loss: 3.4499e-04 - val_loss: 4.4661e-04\n",
      "Epoch 12/50\n",
      "1815/1815 [==============================] - 79s 44ms/step - loss: 3.4265e-04 - val_loss: 4.2018e-04\n",
      "Epoch 13/50\n",
      "1815/1815 [==============================] - 79s 44ms/step - loss: 3.4368e-04 - val_loss: 4.1699e-04\n",
      "Epoch 14/50\n",
      "1815/1815 [==============================] - 79s 43ms/step - loss: 3.4469e-04 - val_loss: 4.9426e-04\n",
      "Epoch 15/50\n",
      "1815/1815 [==============================] - 76s 42ms/step - loss: 3.4505e-04 - val_loss: 4.5204e-04\n",
      "Epoch 16/50\n",
      "1815/1815 [==============================] - 76s 42ms/step - loss: 3.4559e-04 - val_loss: 4.2485e-04\n",
      "Epoch 17/50\n",
      "1815/1815 [==============================] - 76s 42ms/step - loss: 3.4442e-04 - val_loss: 4.6742e-04\n",
      "Epoch 18/50\n",
      "1815/1815 [==============================] - 76s 42ms/step - loss: 3.4415e-04 - val_loss: 4.4912e-04\n"
     ]
    },
    {
     "name": "stderr",
     "output_type": "stream",
     "text": [
      "2025-01-26 11:39:02,838 - INFO - Fold 5 validation loss: 0.0004\n",
      "2025-01-26 11:39:02,970 - INFO - \n",
      "Cross-validation results:\n",
      "2025-01-26 11:39:02,971 - INFO - Mean MSE: 0.0003 (+/- 0.0000)\n",
      "2025-01-26 11:39:02,974 - INFO - Saving best model...\n",
      "2025-01-26 11:39:02,990 - INFO - Making sample predictions...\n"
     ]
    },
    {
     "name": "stdout",
     "output_type": "stream",
     "text": [
      "1/1 [==============================] - 0s 380ms/step\n"
     ]
    },
    {
     "name": "stderr",
     "output_type": "stream",
     "text": [
      "2025-01-26 11:39:03,392 - INFO - \n",
      "Sample Predictions vs Actuals (scaled values):\n",
      "2025-01-26 11:39:03,392 - INFO - Predicted: 0.0674, Actual: 0.0650\n",
      "2025-01-26 11:39:03,392 - INFO - Predicted: 0.0665, Actual: 0.0644\n",
      "2025-01-26 11:39:03,393 - INFO - Predicted: 0.0659, Actual: 0.0635\n",
      "2025-01-26 11:39:03,394 - INFO - Predicted: 0.0651, Actual: 0.0684\n",
      "2025-01-26 11:39:03,394 - INFO - Predicted: 0.0693, Actual: 0.0707\n",
      "2025-01-26 11:39:03,395 - INFO - \n",
      "Mean Absolute Percentage Error for samples: 3.51%\n"
     ]
    }
   ],
   "source": [
    "import pandas as pd\n",
    "import numpy as np\n",
    "from sklearn.preprocessing import MinMaxScaler\n",
    "from sklearn.model_selection import TimeSeriesSplit\n",
    "import tensorflow as tf\n",
    "import matplotlib.pyplot as plt\n",
    "import logging\n",
    "\n",
    "logging.basicConfig(level=logging.INFO, format='%(asctime)s - %(levelname)s - %(message)s')\n",
    "logger = logging.getLogger(__name__)\n",
    "\n",
    "def create_sequences(data, time_step=100):\n",
    "    \"\"\"\n",
    "    Create sequences for a single stock\n",
    "    \"\"\"\n",
    "    X, y = [], []\n",
    "    for i in range(len(data) - time_step - 1):\n",
    "        sequence = data[i:(i + time_step)]\n",
    "        target = data[i + time_step]\n",
    "        X.append(sequence)\n",
    "        y.append(target)\n",
    "    return np.array(X), np.array(y)\n",
    "\n",
    "def build_model(input_shape):\n",
    "    \"\"\"\n",
    "    Build LSTM model for single stock prediction\n",
    "    \"\"\"\n",
    "    model = tf.keras.Sequential([\n",
    "        tf.keras.layers.LSTM(50, return_sequences=True, input_shape=input_shape),\n",
    "        tf.keras.layers.LSTM(50, return_sequences=False),\n",
    "        tf.keras.layers.Dense(25),\n",
    "        tf.keras.layers.Dense(1)\n",
    "    ])\n",
    "    \n",
    "    model.compile(optimizer='adam', loss='mse')\n",
    "    return model\n",
    "\n",
    "def plot_cv_results(cv_histories):\n",
    "    \"\"\"\n",
    "    Plot training results for each CV fold\n",
    "    \"\"\"\n",
    "    plt.figure(figsize=(12, 8))\n",
    "    \n",
    "    for fold, history in enumerate(cv_histories):\n",
    "        plt.plot(history.history['loss'], label=f'Training (Fold {fold+1})')\n",
    "        plt.plot(history.history['val_loss'], label=f'Validation (Fold {fold+1})')\n",
    "    \n",
    "    plt.title('Model Loss During Training (All Folds)')\n",
    "    plt.xlabel('Epoch')\n",
    "    plt.ylabel('Loss')\n",
    "    plt.legend()\n",
    "    plt.grid(True)\n",
    "    plt.savefig('cv_training_loss.png')\n",
    "    plt.close()\n",
    "\n",
    "def train_model_with_cv(X, y, n_splits=5):\n",
    "    \"\"\"\n",
    "    Train model using time series cross-validation\n",
    "    \"\"\"\n",
    "    # Calculate total number of available sequences\n",
    "    total_sequences = len(X)\n",
    "    sequences_per_split = total_sequences // n_splits\n",
    "    \n",
    "    cv_scores = []\n",
    "    cv_histories = []\n",
    "    best_model = None\n",
    "    best_val_loss = float('inf')\n",
    "    \n",
    "    logger.info(f\"Total sequences: {total_sequences}\")\n",
    "    logger.info(f\"Sequences per split: {sequences_per_split}\")\n",
    "    \n",
    "    for fold in range(n_splits):\n",
    "        logger.info(f\"\\nTraining fold {fold + 1}/{n_splits}\")\n",
    "        \n",
    "        # Calculate indices for this fold\n",
    "        val_start = fold * sequences_per_split\n",
    "        val_end = (fold + 1) * sequences_per_split\n",
    "        \n",
    "        # Split the data\n",
    "        train_indices = list(range(0, val_start)) + list(range(val_end, total_sequences))\n",
    "        val_indices = list(range(val_start, val_end))\n",
    "        \n",
    "        X_train = X[train_indices]\n",
    "        y_train = y[train_indices]\n",
    "        X_val = X[val_indices]\n",
    "        y_val = y[val_indices]\n",
    "        \n",
    "        # Build and train model\n",
    "        model = build_model((100, 1))\n",
    "        early_stopping = tf.keras.callbacks.EarlyStopping(\n",
    "            monitor='val_loss',\n",
    "            patience=5,\n",
    "            restore_best_weights=True\n",
    "        )\n",
    "        \n",
    "        history = model.fit(\n",
    "            X_train, y_train,\n",
    "            validation_data=(X_val, y_val),\n",
    "            epochs=50,\n",
    "            batch_size=32,\n",
    "            callbacks=[early_stopping],\n",
    "            verbose=1\n",
    "        )\n",
    "        \n",
    "        # Evaluate on validation set\n",
    "        val_loss = model.evaluate(X_val, y_val, verbose=0)\n",
    "        cv_scores.append(val_loss)\n",
    "        cv_histories.append(history)\n",
    "        \n",
    "        logger.info(f\"Fold {fold + 1} validation loss: {val_loss:.4f}\")\n",
    "        \n",
    "        # Keep track of best model\n",
    "        if val_loss < best_val_loss:\n",
    "            best_val_loss = val_loss\n",
    "            best_model = model\n",
    "    \n",
    "    # Plot results\n",
    "    plot_cv_results(cv_histories)\n",
    "    \n",
    "    # Log CV results\n",
    "    mean_score = np.mean(cv_scores)\n",
    "    std_score = np.std(cv_scores)\n",
    "    logger.info(f\"\\nCross-validation results:\")\n",
    "    logger.info(f\"Mean MSE: {mean_score:.4f} (+/- {std_score:.4f})\")\n",
    "    \n",
    "    return best_model, cv_scores\n",
    "\n",
    "def main():\n",
    "    try:\n",
    "        # Load the data\n",
    "        logger.info(\"Loading stock data...\")\n",
    "        # Skip the first 3 rows and use 4th row as headers\n",
    "        df = pd.read_csv('stock_prices.csv', skiprows=3)\n",
    "        \n",
    "        # Convert all columns except Date to float\n",
    "        for col in df.columns[1:]:  # Skip Date column\n",
    "            df[col] = pd.to_numeric(df[col], errors='coerce')\n",
    "        \n",
    "        # Drop any rows with NaN values\n",
    "        df = df.dropna()\n",
    "        \n",
    "        logger.info(f\"Data shape after cleaning: {df.shape}\")\n",
    "        \n",
    "        # Prepare data for all stocks\n",
    "        all_sequences_X = []\n",
    "        all_sequences_y = []\n",
    "        time_step = 100\n",
    "        \n",
    "        # Process each stock (skip the Date column)\n",
    "        for column in df.columns[1:]:  # Skip the Date column\n",
    "            logger.info(f\"Processing {column}...\")\n",
    "            \n",
    "            # Get stock data and reshape\n",
    "            stock_data = df[column].values.reshape(-1, 1)\n",
    "            \n",
    "            # Skip if not enough data\n",
    "            if len(stock_data) <= time_step + 1:\n",
    "                logger.warning(f\"Skipping {column}: Not enough data\")\n",
    "                continue\n",
    "                \n",
    "            # Scale the data\n",
    "            scaler = MinMaxScaler(feature_range=(0, 1))\n",
    "            stock_data_scaled = scaler.fit_transform(stock_data)\n",
    "            \n",
    "            # Create sequences\n",
    "            X, y = create_sequences(stock_data_scaled, time_step)\n",
    "            \n",
    "            # Check for NaN values\n",
    "            if np.isnan(X).any() or np.isnan(y).any():\n",
    "                logger.warning(f\"Skipping {column}: Contains NaN values\")\n",
    "                continue\n",
    "            \n",
    "            # Append to main lists\n",
    "            all_sequences_X.append(X)\n",
    "            all_sequences_y.append(y)\n",
    "        \n",
    "        # Combine all sequences\n",
    "        X = np.vstack(all_sequences_X)\n",
    "        y = np.vstack(all_sequences_y)\n",
    "        \n",
    "        logger.info(f\"Total number of sequences: {len(X)}\")\n",
    "        logger.info(f\"X shape: {X.shape}, y shape: {y.shape}\")\n",
    "        \n",
    "        # Train model with cross-validation\n",
    "        best_model, cv_scores = train_model_with_cv(X, y, n_splits=5)\n",
    "        \n",
    "        # Save the best model\n",
    "        logger.info(\"Saving best model...\")\n",
    "        best_model.save('stock_prediction_model_cv_big.h5')\n",
    "        \n",
    "        # Make some sample predictions\n",
    "        logger.info(\"Making sample predictions...\")\n",
    "        predictions = best_model.predict(X[:5])\n",
    "        actuals = y[:5]\n",
    "        \n",
    "        logger.info(\"\\nSample Predictions vs Actuals (scaled values):\")\n",
    "        for i in range(5):\n",
    "            logger.info(f\"Predicted: {predictions[i][0]:.4f}, Actual: {actuals[i][0]:.4f}\")\n",
    "            \n",
    "        # Calculate and print mean absolute percentage error for samples\n",
    "        mape = np.mean(np.abs((actuals - predictions) / actuals)) * 100\n",
    "        logger.info(f\"\\nMean Absolute Percentage Error for samples: {mape:.2f}%\")\n",
    "        \n",
    "    except Exception as e:\n",
    "        logger.error(f\"Error during model training: {str(e)}\")\n",
    "        raise\n",
    "\n",
    "if __name__ == \"__main__\":\n",
    "    main()"
   ]
  },
  {
   "cell_type": "code",
   "execution_count": null,
   "id": "22da3cb6",
   "metadata": {},
   "outputs": [],
   "source": []
  },
  {
   "cell_type": "code",
   "execution_count": 81,
   "id": "f88a64b9",
   "metadata": {},
   "outputs": [],
   "source": [
    "model = tf.keras.models.load_model('stock_prediction_model_cv_big.h5')"
   ]
  },
  {
   "cell_type": "code",
   "execution_count": 82,
   "id": "0cd65abe",
   "metadata": {
    "scrolled": false
   },
   "outputs": [
    {
     "name": "stdout",
     "output_type": "stream",
     "text": [
      "Model: \"sequential_11\"\n",
      "_________________________________________________________________\n",
      " Layer (type)                Output Shape              Param #   \n",
      "=================================================================\n",
      " lstm_22 (LSTM)              (None, 100, 50)           10400     \n",
      "                                                                 \n",
      " lstm_23 (LSTM)              (None, 50)                20200     \n",
      "                                                                 \n",
      " dense_22 (Dense)            (None, 25)                1275      \n",
      "                                                                 \n",
      " dense_23 (Dense)            (None, 1)                 26        \n",
      "                                                                 \n",
      "=================================================================\n",
      "Total params: 31,901\n",
      "Trainable params: 31,901\n",
      "Non-trainable params: 0\n",
      "_________________________________________________________________\n"
     ]
    }
   ],
   "source": [
    "model.summary()"
   ]
  },
  {
   "cell_type": "code",
   "execution_count": 83,
   "id": "90cf3f53",
   "metadata": {},
   "outputs": [
    {
     "name": "stdout",
     "output_type": "stream",
     "text": [
      "Requirement already satisfied: matplotlib in c:\\users\\pocot\\anaconda3\\lib\\site-packages (3.5.2)\n",
      "Requirement already satisfied: fonttools>=4.22.0 in c:\\users\\pocot\\anaconda3\\lib\\site-packages (from matplotlib) (4.25.0)\n",
      "Requirement already satisfied: cycler>=0.10 in c:\\users\\pocot\\anaconda3\\lib\\site-packages (from matplotlib) (0.11.0)\n",
      "Requirement already satisfied: kiwisolver>=1.0.1 in c:\\users\\pocot\\anaconda3\\lib\\site-packages (from matplotlib) (1.4.2)\n",
      "Requirement already satisfied: packaging>=20.0 in c:\\users\\pocot\\anaconda3\\lib\\site-packages (from matplotlib) (21.3)\n",
      "Requirement already satisfied: python-dateutil>=2.7 in c:\\users\\pocot\\anaconda3\\lib\\site-packages (from matplotlib) (2.8.2)\n",
      "Requirement already satisfied: numpy>=1.17 in c:\\users\\pocot\\anaconda3\\lib\\site-packages (from matplotlib) (1.21.5)\n",
      "Requirement already satisfied: pillow>=6.2.0 in c:\\users\\pocot\\anaconda3\\lib\\site-packages (from matplotlib) (9.2.0)\n",
      "Requirement already satisfied: pyparsing>=2.2.1 in c:\\users\\pocot\\anaconda3\\lib\\site-packages (from matplotlib) (3.0.9)\n",
      "Requirement already satisfied: six>=1.5 in c:\\users\\pocot\\anaconda3\\lib\\site-packages (from python-dateutil>=2.7->matplotlib) (1.16.0)\n",
      "Note: you may need to restart the kernel to use updated packages.\n"
     ]
    }
   ],
   "source": [
    "pip install matplotlib"
   ]
  },
  {
   "cell_type": "code",
   "execution_count": 84,
   "id": "c5a61a2e",
   "metadata": {},
   "outputs": [],
   "source": [
    "import tensorflow as tf\n",
    "import matplotlib.pyplot as plt\n",
    "from matplotlib.patches import Rectangle\n",
    "\n",
    "def visualize_model(model):\n",
    "\n",
    "    fig, ax = plt.subplots(figsize=(12, 8))\n",
    "\n",
    "\n",
    "    layer_colors = {\n",
    "        'LSTM': 'skyblue',\n",
    "        'Dense': 'lightgreen'\n",
    "    }\n",
    "\n",
    "\n",
    "    layer_x = 0\n",
    "    layer_width = 1.5\n",
    "    layer_gap = 1.0\n",
    "    y_center = 5\n",
    "\n",
    "\n",
    "    for layer in model.layers:\n",
    "        layer_type = layer.__class__.__name__\n",
    "        layer_color = layer_colors.get(layer_type, 'lightgrey')\n",
    "        \n",
    "\n",
    "        output_shape = layer.output_shape\n",
    "        if isinstance(output_shape, tuple) and len(output_shape) > 0:\n",
    "            layer_height = output_shape[-1] / 10.0  \n",
    "        else:\n",
    "            layer_height = 1  \n",
    "\n",
    "\n",
    "        ax.add_patch(Rectangle((layer_x, y_center - layer_height / 2), layer_width, layer_height, edgecolor='black', facecolor=layer_color))\n",
    "\n",
    "\n",
    "        ax.text(layer_x + layer_width / 2, y_center + layer_height / 2 + 0.1, layer_type, ha='center', va='bottom', fontsize=12, fontweight='bold')\n",
    "        ax.text(layer_x + layer_width / 2, y_center - layer_height / 2 - 0.1, f\"Output: {output_shape}\", ha='center', va='top', fontsize=10)\n",
    "\n",
    "\n",
    "        layer_x += layer_width + layer_gap\n",
    "\n",
    "\n",
    "    ax.set_xlim(-1, layer_x)\n",
    "    ax.set_ylim(y_center - 10, y_center + 10)\n",
    "    ax.axis('off')\n",
    "    plt.title(\"Model Architecture\")\n",
    "    plt.show()"
   ]
  },
  {
   "cell_type": "code",
   "execution_count": 85,
   "id": "da2b08e9",
   "metadata": {
    "scrolled": true
   },
   "outputs": [
    {
     "data": {
      "image/png": "[encoded data removed]",
      "text/plain": [
       "<Figure size 1200x800 with 1 Axes>"
      ]
     },
     "metadata": {},
     "output_type": "display_data"
    }
   ],
   "source": [
    "visualize_model(model)"
   ]
  },
  {
   "cell_type": "code",
   "execution_count": 86,
   "id": "eafa2dec",
   "metadata": {},
   "outputs": [],
   "source": [
    "\n",
    "def predict_stock_price(ticker, days_to_predict):\n",
    "\n",
    "    model = tf.keras.models.load_model('model.h5')\n",
    "\n",
    "\n",
    "    stock_data = yf.download(ticker, period=\"1y\")\n",
    "    data = stock_data['Close'].values.reshape(-1, 1)\n",
    "\n",
    "\n",
    "    scaler = MinMaxScaler(feature_range=(0, 1))\n",
    "    data_scaled = scaler.fit_transform(data)\n",
    "\n",
    "\n",
    "    time_step = 100\n",
    "    X, y = create_dataset(data_scaled, time_step)\n",
    "    X = X.reshape(X.shape[0], X.shape[1], 1)\n",
    "\n",
    "\n",
    "    predictions = []\n",
    "    last_sequence = X[-1]\n",
    "\n",
    "    for _ in range(days_to_predict):\n",
    "        prediction = model.predict(last_sequence.reshape(1, time_step, 1))\n",
    "        predictions.append(prediction[0, 0])\n",
    "        last_sequence = np.append(last_sequence[1:], prediction).reshape(time_step, 1)\n",
    "\n",
    "\n",
    "    predictions = np.array(predictions).reshape(-1, 1)\n",
    "    predictions_original_scale = scaler.inverse_transform(predictions)\n",
    "\n",
    "    return predictions_original_scale\n",
    "\n"
   ]
  },
  {
   "cell_type": "code",
   "execution_count": 87,
   "id": "b352740d",
   "metadata": {},
   "outputs": [],
   "source": [
    "def predict_stock_price_bullish(ticker, days_to_predict, randomness=0.01):\n",
    "    # Fetch historical stock data\n",
    "    stock_data = yf.download(ticker, period=\"1y\")\n",
    "    data = stock_data['Close'].values.reshape(-1, 1)\n",
    "\n",
    "\n",
    "    scaler = MinMaxScaler(feature_range=(0, 1))\n",
    "    data_scaled = scaler.fit_transform(data)\n",
    "\n",
    "\n",
    "    time_step = 100\n",
    "    X, y = create_dataset(data_scaled, time_step)\n",
    "    X = X.reshape(X.shape[0], X.shape[1], 1)\n",
    "\n",
    "\n",
    "    predictions = []\n",
    "    last_sequence = X[-1]\n",
    "\n",
    "    for _ in range(days_to_predict):\n",
    "        prediction = model.predict(last_sequence.reshape(1, time_step, 1))\n",
    "\n",
    "        prediction = prediction + (np.random.rand() * randomness)\n",
    "        predictions.append(prediction[0, 0])\n",
    "        last_sequence = np.append(last_sequence[1:], prediction).reshape(time_step, 1)\n",
    "\n",
    "\n",
    "    predictions = np.array(predictions).reshape(-1, 1)\n",
    "    predictions_original_scale = scaler.inverse_transform(predictions)\n",
    "\n",
    "    return predictions_original_scale"
   ]
  },
  {
   "cell_type": "code",
   "execution_count": 88,
   "id": "802b3b58",
   "metadata": {},
   "outputs": [],
   "source": [
    "def predict_stock_price_bearish(ticker, days_to_predict, randomness=0.01):\n",
    "\n",
    "    stock_data = yf.download(ticker, period=\"1y\")\n",
    "    data = stock_data['Close'].values.reshape(-1, 1)\n",
    "\n",
    "\n",
    "    scaler = MinMaxScaler(feature_range=(0, 1))\n",
    "    data_scaled = scaler.fit_transform(data)\n",
    "\n",
    "\n",
    "    time_step = 100\n",
    "    X, y = create_dataset(data_scaled, time_step)\n",
    "    X = X.reshape(X.shape[0], X.shape[1], 1)\n",
    "\n",
    "\n",
    "    predictions = []\n",
    "    last_sequence = X[-1]\n",
    "\n",
    "    for _ in range(days_to_predict):\n",
    "        prediction = model.predict(last_sequence.reshape(1, time_step, 1))\n",
    "\n",
    "        prediction = prediction - (np.random.rand() * randomness)\n",
    "        predictions.append(prediction[0, 0])\n",
    "        last_sequence = np.append(last_sequence[1:], prediction).reshape(time_step, 1)\n",
    "\n",
    "\n",
    "    predictions = np.array(predictions).reshape(-1, 1)\n",
    "    predictions_original_scale = scaler.inverse_transform(predictions)\n",
    "\n",
    "    return predictions_original_scale"
   ]
  },
  {
   "cell_type": "code",
   "execution_count": 89,
   "id": "6f6fe30a",
   "metadata": {},
   "outputs": [],
   "source": [
    "def generate_predictions(tickers, days_to_predict, randomness=0.01):\n",
    "    predictions = {}\n",
    "    for ticker in tickers:\n",
    "        bullish_price = predict_stock_price_bullish(ticker, days_to_predict, randomness)[-1, 0]\n",
    "        bearish_price = predict_stock_price_bearish(ticker, days_to_predict, randomness)[-1, 0]\n",
    "        current_price = yf.Ticker(ticker).history(period='1d')['Close'][0]\n",
    "        predicted_price = predict_stock_price(ticker, days_to_predict)[-1, 0]\n",
    "        predictions[ticker] = [bullish_price, bearish_price, current_price, predicted_price]\n",
    "    return predictions"
   ]
  },
  {
   "cell_type": "code",
   "execution_count": 90,
   "id": "9d8e71c8",
   "metadata": {},
   "outputs": [],
   "source": [
    "def calculate_percent_change(predictions):\n",
    "    percent_changes = {}\n",
    "    for ticker, prices in predictions.items():\n",
    "        bullish_price, bearish_price, current_price, predicted_price = prices\n",
    "        bullish_change = ((bullish_price - current_price) / current_price) * 100\n",
    "        bearish_change = ((bearish_price - current_price) / current_price) * 100\n",
    "        predicted_change = ((predicted_price - current_price) / current_price) * 100\n",
    "        percent_changes[ticker] = [bullish_change, bearish_change, predicted_change]\n",
    "    return percent_changes"
   ]
  },
  {
   "cell_type": "code",
   "execution_count": 91,
   "id": "7db7016f",
   "metadata": {},
   "outputs": [],
   "source": [
    "def stock_selection(percent_changes, allowable_change):\n",
    "    selected_stocks = {}\n",
    "    for ticker, changes in percent_changes.items():\n",
    "        bullish_change, bearish_change, predicted_change = changes\n",
    "        if bullish_change >= allowable_change and bearish_change >= allowable_change and predicted_change >= allowable_change:\n",
    "            selected_stocks[ticker] = changes\n",
    "    return selected_stocks"
   ]
  },
  {
   "cell_type": "code",
   "execution_count": 92,
   "id": "72598e33",
   "metadata": {},
   "outputs": [],
   "source": [
    "#heurystyki wybierania portfolio:"
   ]
  },
  {
   "cell_type": "code",
   "execution_count": 93,
   "id": "864afc71",
   "metadata": {},
   "outputs": [],
   "source": [
    "def greedy(scenario, tickers, current_prices, investment_budget, biggest_allowable_net_loss):\n",
    "    num_shares = [0] * len(tickers)\n",
    "    remaining_budget = investment_budget\n",
    "    remaining_allowable_loss = biggest_allowable_net_loss\n",
    "    total_invested = 0\n",
    "    total_loss = 0\n",
    "\n",
    "\n",
    "    potential_gains = {tickers[i]: scenario[i] - current_prices[i] for i in range(len(tickers))}\n",
    "\n",
    "\n",
    "    sorted_stocks = sorted(potential_gains.items(), key=lambda item: item[1], reverse=True)\n",
    "\n",
    "    for ticker, gain in sorted_stocks:\n",
    "        index = tickers.index(ticker)\n",
    "        current_price = current_prices[index]\n",
    "        predicted_price = scenario[index]\n",
    "\n",
    "\n",
    "        max_shares_by_budget = remaining_budget // current_price\n",
    "        max_shares_by_loss = remaining_allowable_loss // max(1, current_price - predicted_price)\n",
    "        max_shares = min(max_shares_by_budget, max_shares_by_loss)\n",
    "\n",
    "        if max_shares > 0:\n",
    "            num_shares[index] = max_shares\n",
    "            invested_amount = max_shares * current_price\n",
    "            total_invested += invested_amount\n",
    "            if predicted_price < current_price:\n",
    "                total_loss += max_shares * (current_price - predicted_price)\n",
    "            remaining_budget -= invested_amount\n",
    "            remaining_allowable_loss -= invested_amount\n",
    "\n",
    "    return num_shares, total_invested, total_loss"
   ]
  },
  {
   "cell_type": "code",
   "execution_count": 94,
   "id": "14bc6eca",
   "metadata": {},
   "outputs": [],
   "source": [
    "import random\n",
    "import math\n",
    "\n",
    "def simulated_annealing(scenario, tickers, current_prices, investment_budget, biggest_allowable_net_loss, initial_temperature, cooling_rate, num_iterations):\n",
    "    num_shares = [0] * len(tickers)\n",
    "    best_shares = list(num_shares)\n",
    "    remaining_budget = investment_budget\n",
    "    remaining_allowable_loss = biggest_allowable_net_loss\n",
    "    total_invested = 0\n",
    "    total_loss = 0\n",
    "\n",
    "\n",
    "    def calculate_investment_and_loss(num_shares):\n",
    "        total_invested = 0\n",
    "        total_loss = 0\n",
    "        for i, shares in enumerate(num_shares):\n",
    "            current_price = current_prices[i]\n",
    "            predicted_price = scenario[i]\n",
    "            total_invested += shares * current_price\n",
    "            if predicted_price < current_price:\n",
    "                total_loss += shares * (current_price - predicted_price)\n",
    "        return total_invested, total_loss\n",
    "\n",
    "\n",
    "    for i in range(len(tickers)):\n",
    "        if remaining_budget >= current_prices[i]:\n",
    "            max_shares_by_budget = remaining_budget // current_prices[i]\n",
    "            max_shares_by_loss = remaining_allowable_loss // max(1, current_prices[i] - scenario[i])\n",
    "            max_shares = min(max_shares_by_budget, max_shares_by_loss)\n",
    "            num_shares[i] = random.randint(0, max_shares)\n",
    "            invested_amount = num_shares[i] * current_prices[i]\n",
    "            total_invested += invested_amount\n",
    "            remaining_budget -= invested_amount\n",
    "            if scenario[i] < current_prices[i]:\n",
    "                total_loss += num_shares[i] * (current_prices[i] - scenario[i])\n",
    "                remaining_allowable_loss -= num_shares[i] * (current_prices[i] - scenario[i])\n",
    "    \n",
    "    best_shares = list(num_shares)\n",
    "    best_invested, best_loss = calculate_investment_and_loss(best_shares)\n",
    "\n",
    "    temperature = initial_temperature\n",
    "\n",
    "    for iteration in range(num_iterations):\n",
    "\n",
    "        new_shares = list(num_shares)\n",
    "        i = random.randint(0, len(tickers) - 1)\n",
    "        if new_shares[i] > 0:\n",
    "            new_shares[i] -= 1\n",
    "        else:\n",
    "            new_shares[i] += 1\n",
    "\n",
    "        new_invested, new_loss = calculate_investment_and_loss(new_shares)\n",
    "        if new_invested <= investment_budget and new_loss <= biggest_allowable_net_loss:\n",
    "\n",
    "            delta = new_loss - total_loss\n",
    "            if delta < 0 or random.random() < math.exp(-delta / temperature):\n",
    "                num_shares = new_shares\n",
    "                total_invested, total_loss = new_invested, new_loss\n",
    "\n",
    "\n",
    "                if total_loss < best_loss:\n",
    "                    best_shares = list(num_shares)\n",
    "                    best_invested, best_loss = total_invested, total_loss\n",
    "\n",
    "\n",
    "        temperature *= cooling_rate\n",
    "\n",
    "    return best_shares, best_invested, best_loss"
   ]
  },
  {
   "cell_type": "code",
   "execution_count": 95,
   "id": "796c4669",
   "metadata": {},
   "outputs": [],
   "source": [
    "import numpy as np\n",
    "\n",
    "def ant_colony_optimization(scenario, tickers, current_prices, investment_budget, biggest_allowable_net_loss):\n",
    "    num_ants=10\n",
    "    num_iterations=100\n",
    "    alpha=1.0\n",
    "    beta=2.0\n",
    "    evaporation_rate=0.5\n",
    "    Q=100\n",
    "    \n",
    "    num_stocks = len(tickers)\n",
    "    pheromone = np.ones(num_stocks)\n",
    "    best_solution = None\n",
    "    best_invested = 0\n",
    "    best_loss = float('inf')\n",
    "    \n",
    "    def fitness(shares):\n",
    "        total_invested = sum(shares[i] * current_prices[i] for i in range(num_stocks))\n",
    "        total_loss = sum(shares[i] * max(0, current_prices[i] - scenario[i]) for i in range(num_stocks))\n",
    "        return total_invested, total_loss\n",
    "\n",
    "    for _ in range(num_iterations):\n",
    "        solutions = []\n",
    "        investments = []\n",
    "        losses = []\n",
    "\n",
    "        for _ in range(num_ants):\n",
    "            remaining_budget = investment_budget\n",
    "            remaining_allowable_loss = biggest_allowable_net_loss\n",
    "            shares = [0] * num_stocks\n",
    "            for _ in range(num_stocks):\n",
    "                probabilities = [\n",
    "                    (pheromone[i] ** alpha) * ((scenario[i] - current_prices[i]) ** beta)\n",
    "                    if remaining_budget >= current_prices[i] and remaining_allowable_loss >= (current_prices[i] - scenario[i])\n",
    "                    else 0\n",
    "                    for i in range(num_stocks)\n",
    "                ]\n",
    "                probabilities_sum = sum(probabilities)\n",
    "                if probabilities_sum == 0:\n",
    "                    break\n",
    "                probabilities = [p / probabilities_sum for p in probabilities]\n",
    "                chosen_stock = np.random.choice(num_stocks, p=probabilities)\n",
    "                max_shares_by_budget = remaining_budget // current_prices[chosen_stock]\n",
    "                max_shares_by_loss = remaining_allowable_loss // max(1, current_prices[chosen_stock] - scenario[chosen_stock])\n",
    "                max_shares = min(max_shares_by_budget, max_shares_by_loss)\n",
    "                if max_shares > 0:\n",
    "                    shares[chosen_stock] += max_shares\n",
    "                    remaining_budget -= max_shares * current_prices[chosen_stock]\n",
    "                    remaining_allowable_loss -= max_shares * (current_prices[chosen_stock] - scenario[chosen_stock])\n",
    "            \n",
    "            total_invested, total_loss = fitness(shares)\n",
    "            solutions.append(shares)\n",
    "            investments.append(total_invested)\n",
    "            losses.append(total_loss)\n",
    "\n",
    "            if total_loss < best_loss and total_invested <= investment_budget:\n",
    "                best_solution = shares\n",
    "                best_invested = total_invested\n",
    "                best_loss = total_loss\n",
    "\n",
    "        pheromone *= (1 - evaporation_rate)\n",
    "        for i in range(num_ants):\n",
    "            for j in range(num_stocks):\n",
    "                pheromone[j] += Q / (1 + losses[i]) if solutions[i][j] > 0 else 0\n",
    "\n",
    "    return best_solution, best_invested, best_loss\n",
    "\n"
   ]
  },
  {
   "cell_type": "code",
   "execution_count": 96,
   "id": "986b865c",
   "metadata": {},
   "outputs": [],
   "source": [
    "def scenario_for_portfolio(portfolio_decision, scenario):\n",
    "    resulting_values = [portfolio_decision[i] * scenario[i] for i in range(len(portfolio_decision))]\n",
    "    return resulting_values\n",
    "    "
   ]
  },
  {
   "cell_type": "code",
   "execution_count": 97,
   "id": "b006f319",
   "metadata": {},
   "outputs": [],
   "source": [
    "def scenarios_for_portfolios(portfolio_decisions, scenarios):\n",
    "\n",
    "    \n",
    "    all_results = []\n",
    "    for portfolio_decision in portfolio_decisions:\n",
    "        for scenario in scenarios:\n",
    "            result = scenario_for_portfolio(portfolio_decision, scenario)\n",
    "            all_results.append(result)\n",
    "    \n",
    "    return all_results"
   ]
  },
  {
   "cell_type": "code",
   "execution_count": 98,
   "id": "3614b9e7",
   "metadata": {},
   "outputs": [],
   "source": [
    "def result_decision(all_results):\n",
    "    results = []\n",
    "    for result in all_results:\n",
    "        sum = 0\n",
    "        for value in result:\n",
    "            sum+=value\n",
    "        results.append(sum)\n",
    "    return results"
   ]
  },
  {
   "cell_type": "code",
   "execution_count": 99,
   "id": "ef9357ea",
   "metadata": {},
   "outputs": [],
   "source": [
    "def maximum_regret_decision(decisions, results):\n",
    "    #najlepszy wynik dla najlepszej decyzji, nie znamy wiec zakładamy bardzo wysoki\n",
    "    best_val_best_dec = 1000*investment_budget\n",
    "    regrets=[]\n",
    "    result = 0\n",
    "    r = 0\n",
    "    for decision in decisions:\n",
    "        max_regret = 0\n",
    "        for i in range(3):\n",
    "            regret = best_val_best_dec - results[r]\n",
    "            if regret >= max_regret:\n",
    "                max_regret = regret\n",
    "            i+=1\n",
    "            r+=1\n",
    "        regrets.append(max_regret)\n",
    "    return regrets\n",
    "        \n",
    "    "
   ]
  },
  {
   "cell_type": "code",
   "execution_count": 100,
   "id": "1fab0af1",
   "metadata": {},
   "outputs": [],
   "source": [
    "def best_decision_minmax_regret(decisions, regrets):\n",
    "    min_max_regret = math.inf\n",
    "    best_decision = 0\n",
    "    no_best_decision = 0\n",
    "    for i in range(len(regrets)):\n",
    "        if regrets[i] < min_max_regret:\n",
    "            min_max_regret = regrets[i]\n",
    "            best_decision = decisions[i]\n",
    "            \n",
    "    return best_decision, min_max_regret, i"
   ]
  },
  {
   "cell_type": "code",
   "execution_count": 101,
   "id": "2284f933",
   "metadata": {},
   "outputs": [],
   "source": [
    "def select_tickers(selected_stocks, tickers):\n",
    "    selected_tickers = [ticker for ticker in tickers if ticker in selected_stocks.keys()]\n",
    "    return selected_tickers"
   ]
  },
  {
   "cell_type": "code",
   "execution_count": 102,
   "id": "5a9255fd",
   "metadata": {},
   "outputs": [],
   "source": [
    "def main_function(tickers, days_to_predict, investment_budget, biggest_allowable_net_loss, allowable_stock_risk):\n",
    "    randomness = 0.015\n",
    "    predicted_prices = generate_predictions(tickers, days_to_predict, randomness)\n",
    "    percent_changes = calculate_percent_change(predicted_prices)\n",
    "    selected_stocks = stock_selection(percent_changes, allowable_stock_risk)\n",
    "    selected_tickers = select_tickers(selected_stocks,tickers)\n",
    "    sc_predicted = []\n",
    "    sc_bullish = []\n",
    "    sc_bearish = []\n",
    "    current_prices = []\n",
    "    for ticker in selected_tickers:\n",
    "        if ticker in predicted_prices:\n",
    "            sc_bullish.append(predicted_prices[ticker][0])\n",
    "            sc_bearish.append(predicted_prices[ticker][1])\n",
    "            sc_predicted.append(predicted_prices[ticker][3])\n",
    "            current_prices.append(predicted_prices[ticker][2])\n",
    "    portfolio_aco_bearish = ant_colony_optimization(sc_bearish, selected_tickers, current_prices, investment_budget, biggest_allowable_net_loss)\n",
    "    portfolio_aco_bullish = ant_colony_optimization(sc_bullish, selected_tickers, current_prices, investment_budget, biggest_allowable_net_loss)\n",
    "    portfolio_aco_predicted = ant_colony_optimization(sc_predicted, selected_tickers, current_prices, investment_budget, biggest_allowable_net_loss)\n",
    "    portfolio_sa_bearish = simulated_annealing(sc_bearish, selected_tickers, current_prices, investment_budget, biggest_allowable_net_loss, 40, 0.01, 100)\n",
    "    portfolio_sa_bullish = simulated_annealing(sc_bullish, selected_tickers, current_prices, investment_budget, biggest_allowable_net_loss, 40, 0.01, 100)\n",
    "    portfolio_sa_predicted = simulated_annealing(sc_predicted, selected_tickers, current_prices, investment_budget, biggest_allowable_net_loss, 40, 0.01, 100)\n",
    "    portfolio_greedy_bearish = greedy(sc_bearish, selected_tickers, current_prices, investment_budget, biggest_allowable_net_loss)\n",
    "    portfolio_greedy_bullish = greedy(sc_bullish, selected_tickers, current_prices, investment_budget, biggest_allowable_net_loss)\n",
    "    portfolio_greedy_predicted = greedy(sc_predicted, selected_tickers, current_prices, investment_budget, biggest_allowable_net_loss)\n",
    "    scenarios = [sc_predicted, sc_bullish, sc_bearish]\n",
    "    portfolio_decisions = [portfolio_aco_bearish[0], portfolio_aco_bullish[0], portfolio_aco_predicted[0], \n",
    "                       portfolio_sa_bearish[0], portfolio_sa_bullish[0], portfolio_sa_predicted[0],\n",
    "                       portfolio_greedy_bearish[0], portfolio_greedy_bullish[0], portfolio_greedy_predicted[0]]\n",
    "    l = scenarios_for_portfolios(portfolio_decisions, scenarios)\n",
    "    results = result_decision(l)\n",
    "    regrets = maximum_regret_decision(portfolio_decisions, results)\n",
    "    best_decision, regret, i  = best_decision_minmax_regret(portfolio_decisions, regrets)      \n",
    "    return best_decision, regret, i, selected_tickers, regrets, results, l\n"
   ]
  },
  {
   "cell_type": "code",
   "execution_count": 103,
   "id": "48d8030b",
   "metadata": {},
   "outputs": [],
   "source": [
    "tickers = ['AAPL', 'MSFT', 'GOOGL', 'NVDA', 'AMZN', 'META', 'TSM', 'BRK-B', 'LLY', 'AVGO', 'NVO', 'TSLA', 'JPM', 'V', 'WMT', 'XOM', 'UNH', 'TCEHY', 'MA', 'ASML', 'PG', 'ORCL', 'COST' ]\n",
    "days_to_predict = 10\n",
    "investment_budget = 10000 #in usd\n",
    "biggest_allowable_net_loss = 1000 # in usd\n",
    "allowable_stock_risk = -2"
   ]
  },
  {
   "cell_type": "code",
   "execution_count": 104,
   "id": "0d828de8",
   "metadata": {},
   "outputs": [
    {
     "name": "stderr",
     "output_type": "stream",
     "text": [
      "[*********************100%***********************]  1 of 1 completed\n"
     ]
    },
    {
     "name": "stdout",
     "output_type": "stream",
     "text": [
      "1/1 [==============================] - 0s 383ms/step\n",
      "1/1 [==============================] - 0s 15ms/step\n",
      "1/1 [==============================] - 0s 15ms/step\n",
      "1/1 [==============================] - 0s 15ms/step\n",
      "1/1 [==============================] - 0s 14ms/step\n",
      "1/1 [==============================] - 0s 16ms/step\n",
      "1/1 [==============================] - 0s 17ms/step\n",
      "1/1 [==============================] - 0s 16ms/step\n",
      "1/1 [==============================] - 0s 16ms/step\n",
      "1/1 [==============================] - 0s 15ms/step\n"
     ]
    },
    {
     "name": "stderr",
     "output_type": "stream",
     "text": [
      "\r",
      "[*********************100%***********************]  1 of 1 completed"
     ]
    },
    {
     "name": "stdout",
     "output_type": "stream",
     "text": [
      "1/1 [==============================] - 0s 17ms/step\n",
      "1/1 [==============================] - 0s 16ms/step\n",
      "1/1 [==============================] - 0s 15ms/step\n",
      "1/1 [==============================] - 0s 16ms/step\n",
      "1/1 [==============================] - ETA: 0s"
     ]
    },
    {
     "name": "stderr",
     "output_type": "stream",
     "text": [
      "\n"
     ]
    },
    {
     "name": "stdout",
     "output_type": "stream",
     "text": [
      "1/1 [==============================] - 0s 17ms/step\n",
      "1/1 [==============================] - 0s 15ms/step\n",
      "1/1 [==============================] - 0s 15ms/step\n",
      "1/1 [==============================] - 0s 16ms/step\n",
      "1/1 [==============================] - 0s 17ms/step\n",
      "1/1 [==============================] - 0s 16ms/step\n"
     ]
    },
    {
     "name": "stderr",
     "output_type": "stream",
     "text": [
      "[*********************100%***********************]  1 of 1 completed\n"
     ]
    },
    {
     "name": "stdout",
     "output_type": "stream",
     "text": [
      "1/1 [==============================] - 0s 384ms/step\n",
      "1/1 [==============================] - 0s 16ms/step\n",
      "1/1 [==============================] - 0s 16ms/step\n",
      "1/1 [==============================] - 0s 16ms/step\n",
      "1/1 [==============================] - 0s 16ms/step\n",
      "1/1 [==============================] - 0s 15ms/step\n",
      "1/1 [==============================] - 0s 17ms/step\n",
      "1/1 [==============================] - 0s 17ms/step\n",
      "1/1 [==============================] - 0s 15ms/step\n",
      "1/1 [==============================] - 0s 15ms/step\n"
     ]
    },
    {
     "name": "stderr",
     "output_type": "stream",
     "text": [
      "\r",
      "[*********************100%***********************]  1 of 1 completed"
     ]
    },
    {
     "name": "stdout",
     "output_type": "stream",
     "text": [
      "1/1 [==============================] - 0s 15ms/step\n",
      "1/1 [==============================] - 0s 15ms/step\n",
      "1/1 [==============================] - 0s 16ms/step\n",
      "1/1 [==============================] - 0s 16ms/step\n",
      "1/1 [==============================] - 0s 15ms/step\n",
      "1/1 [==============================] - ETA: 0s"
     ]
    },
    {
     "name": "stderr",
     "output_type": "stream",
     "text": [
      "\n"
     ]
    },
    {
     "name": "stdout",
     "output_type": "stream",
     "text": [
      "1/1 [==============================] - 0s 15ms/step\n",
      "1/1 [==============================] - 0s 17ms/step\n",
      "1/1 [==============================] - 0s 15ms/step\n",
      "1/1 [==============================] - 0s 14ms/step\n",
      "1/1 [==============================] - 0s 16ms/step\n"
     ]
    },
    {
     "name": "stderr",
     "output_type": "stream",
     "text": [
      "\r",
      "[*********************100%***********************]  1 of 1 completed"
     ]
    },
    {
     "name": "stdout",
     "output_type": "stream",
     "text": [
      "1/1 [==============================] - 0s 14ms/step\n",
      "1/1 [==============================] - 0s 15ms/step\n",
      "1/1 [==============================] - 0s 16ms/step\n",
      "1/1 [==============================] - 0s 15ms/step\n",
      "1/1 [==============================] - 0s 14ms/step\n",
      "1/1 [==============================] - ETA: 0s"
     ]
    },
    {
     "name": "stderr",
     "output_type": "stream",
     "text": [
      "\n"
     ]
    },
    {
     "name": "stdout",
     "output_type": "stream",
     "text": [
      "1/1 [==============================] - 0s 15ms/step\n",
      "1/1 [==============================] - 0s 16ms/step\n",
      "1/1 [==============================] - 0s 15ms/step\n",
      "1/1 [==============================] - 0s 16ms/step\n",
      "1/1 [==============================] - 0s 15ms/step\n"
     ]
    },
    {
     "name": "stderr",
     "output_type": "stream",
     "text": [
      "[*********************100%***********************]  1 of 1 completed\n"
     ]
    },
    {
     "name": "stdout",
     "output_type": "stream",
     "text": [
      "1/1 [==============================] - 0s 388ms/step\n",
      "1/1 [==============================] - 0s 15ms/step\n",
      "1/1 [==============================] - 0s 16ms/step\n",
      "1/1 [==============================] - 0s 16ms/step\n",
      "1/1 [==============================] - 0s 15ms/step\n",
      "1/1 [==============================] - 0s 16ms/step\n",
      "1/1 [==============================] - 0s 15ms/step\n",
      "1/1 [==============================] - 0s 15ms/step\n",
      "1/1 [==============================] - 0s 15ms/step\n",
      "1/1 [==============================] - 0s 15ms/step\n"
     ]
    },
    {
     "name": "stderr",
     "output_type": "stream",
     "text": [
      "\r",
      "[*********************100%***********************]  1 of 1 completed"
     ]
    },
    {
     "name": "stdout",
     "output_type": "stream",
     "text": [
      "1/1 [==============================] - 0s 16ms/step\n",
      "1/1 [==============================] - 0s 16ms/step\n",
      "1/1 [==============================] - 0s 15ms/step\n",
      "1/1 [==============================] - 0s 16ms/step\n",
      "1/1 [==============================] - ETA: 0s"
     ]
    },
    {
     "name": "stderr",
     "output_type": "stream",
     "text": [
      "\n"
     ]
    },
    {
     "name": "stdout",
     "output_type": "stream",
     "text": [
      "1/1 [==============================] - 0s 16ms/step\n",
      "1/1 [==============================] - 0s 16ms/step\n",
      "1/1 [==============================] - 0s 15ms/step\n",
      "1/1 [==============================] - 0s 14ms/step\n",
      "1/1 [==============================] - 0s 14ms/step\n",
      "1/1 [==============================] - 0s 16ms/step\n"
     ]
    },
    {
     "name": "stderr",
     "output_type": "stream",
     "text": [
      "\r",
      "[*********************100%***********************]  1 of 1 completed"
     ]
    },
    {
     "name": "stdout",
     "output_type": "stream",
     "text": [
      "1/1 [==============================] - 0s 15ms/step\n",
      "1/1 [==============================] - 0s 15ms/step\n",
      "1/1 [==============================] - 0s 15ms/step\n",
      "1/1 [==============================] - 0s 17ms/step\n",
      "1/1 [==============================] - 0s 16ms/step\n",
      "1/1 [==============================] - ETA: 0s"
     ]
    },
    {
     "name": "stderr",
     "output_type": "stream",
     "text": [
      "\n"
     ]
    },
    {
     "name": "stdout",
     "output_type": "stream",
     "text": [
      "1/1 [==============================] - 0s 14ms/step\n",
      "1/1 [==============================] - 0s 16ms/step\n",
      "1/1 [==============================] - 0s 15ms/step\n",
      "1/1 [==============================] - 0s 15ms/step\n",
      "1/1 [==============================] - 0s 15ms/step\n"
     ]
    },
    {
     "name": "stderr",
     "output_type": "stream",
     "text": [
      "[*********************100%***********************]  1 of 1 completed\n"
     ]
    },
    {
     "name": "stdout",
     "output_type": "stream",
     "text": [
      "1/1 [==============================] - 0s 383ms/step\n",
      "1/1 [==============================] - 0s 15ms/step\n",
      "1/1 [==============================] - 0s 15ms/step\n",
      "1/1 [==============================] - 0s 16ms/step\n",
      "1/1 [==============================] - 0s 15ms/step\n",
      "1/1 [==============================] - 0s 19ms/step\n",
      "1/1 [==============================] - 0s 15ms/step\n",
      "1/1 [==============================] - 0s 16ms/step\n",
      "1/1 [==============================] - 0s 15ms/step\n",
      "1/1 [==============================] - 0s 16ms/step\n"
     ]
    },
    {
     "name": "stderr",
     "output_type": "stream",
     "text": [
      "\r",
      "[*********************100%***********************]  1 of 1 completed"
     ]
    },
    {
     "name": "stdout",
     "output_type": "stream",
     "text": [
      "1/1 [==============================] - 0s 22ms/step\n",
      "1/1 [==============================] - 0s 16ms/step\n",
      "1/1 [==============================] - 0s 21ms/step\n",
      "1/1 [==============================] - 0s 16ms/step\n"
     ]
    },
    {
     "name": "stderr",
     "output_type": "stream",
     "text": [
      "\n"
     ]
    },
    {
     "name": "stdout",
     "output_type": "stream",
     "text": [
      "1/1 [==============================] - 0s 17ms/step\n",
      "1/1 [==============================] - 0s 15ms/step\n",
      "1/1 [==============================] - 0s 14ms/step\n",
      "1/1 [==============================] - 0s 15ms/step\n",
      "1/1 [==============================] - 0s 16ms/step\n",
      "1/1 [==============================] - 0s 15ms/step\n"
     ]
    },
    {
     "name": "stderr",
     "output_type": "stream",
     "text": [
      "\r",
      "[*********************100%***********************]  1 of 1 completed"
     ]
    },
    {
     "name": "stdout",
     "output_type": "stream",
     "text": [
      "1/1 [==============================] - 0s 15ms/step\n",
      "1/1 [==============================] - 0s 15ms/step\n",
      "1/1 [==============================] - 0s 15ms/step\n",
      "1/1 [==============================] - 0s 16ms/step\n",
      "1/1 [==============================] - 0s 16ms/step\n"
     ]
    },
    {
     "name": "stderr",
     "output_type": "stream",
     "text": [
      "\n"
     ]
    },
    {
     "name": "stdout",
     "output_type": "stream",
     "text": [
      "1/1 [==============================] - 0s 15ms/step\n",
      "1/1 [==============================] - 0s 16ms/step\n",
      "1/1 [==============================] - 0s 18ms/step\n",
      "1/1 [==============================] - 0s 14ms/step\n",
      "1/1 [==============================] - 0s 15ms/step\n"
     ]
    },
    {
     "name": "stderr",
     "output_type": "stream",
     "text": [
      "[*********************100%***********************]  1 of 1 completed\n"
     ]
    },
    {
     "name": "stdout",
     "output_type": "stream",
     "text": [
      "1/1 [==============================] - 0s 384ms/step\n",
      "1/1 [==============================] - 0s 16ms/step\n",
      "1/1 [==============================] - 0s 15ms/step\n",
      "1/1 [==============================] - 0s 16ms/step\n",
      "1/1 [==============================] - 0s 16ms/step\n",
      "1/1 [==============================] - 0s 15ms/step\n",
      "1/1 [==============================] - 0s 16ms/step\n",
      "1/1 [==============================] - 0s 14ms/step\n",
      "1/1 [==============================] - 0s 16ms/step\n",
      "1/1 [==============================] - 0s 15ms/step\n"
     ]
    },
    {
     "name": "stderr",
     "output_type": "stream",
     "text": [
      "\r",
      "[*********************100%***********************]  1 of 1 completed"
     ]
    },
    {
     "name": "stdout",
     "output_type": "stream",
     "text": [
      "1/1 [==============================] - 0s 15ms/step\n",
      "1/1 [==============================] - 0s 16ms/step\n",
      "1/1 [==============================] - 0s 15ms/step\n",
      "1/1 [==============================] - 0s 16ms/step\n",
      "1/1 [==============================] - 0s 15ms/step\n"
     ]
    },
    {
     "name": "stderr",
     "output_type": "stream",
     "text": [
      "\n"
     ]
    },
    {
     "name": "stdout",
     "output_type": "stream",
     "text": [
      "1/1 [==============================] - 0s 15ms/step\n",
      "1/1 [==============================] - 0s 16ms/step\n",
      "1/1 [==============================] - 0s 15ms/step\n",
      "1/1 [==============================] - 0s 16ms/step\n",
      "1/1 [==============================] - 0s 19ms/step\n"
     ]
    },
    {
     "name": "stderr",
     "output_type": "stream",
     "text": [
      "\r",
      "[*********************100%***********************]  1 of 1 completed"
     ]
    },
    {
     "name": "stdout",
     "output_type": "stream",
     "text": [
      "1/1 [==============================] - 0s 16ms/step\n",
      "1/1 [==============================] - 0s 16ms/step\n",
      "1/1 [==============================] - 0s 16ms/step\n",
      "1/1 [==============================] - 0s 16ms/step\n",
      "1/1 [==============================] - ETA: 0s"
     ]
    },
    {
     "name": "stderr",
     "output_type": "stream",
     "text": [
      "\n"
     ]
    },
    {
     "name": "stdout",
     "output_type": "stream",
     "text": [
      "1/1 [==============================] - 0s 16ms/step\n",
      "1/1 [==============================] - 0s 16ms/step\n",
      "1/1 [==============================] - 0s 15ms/step\n",
      "1/1 [==============================] - 0s 17ms/step\n",
      "1/1 [==============================] - 0s 15ms/step\n",
      "1/1 [==============================] - 0s 16ms/step\n"
     ]
    },
    {
     "name": "stderr",
     "output_type": "stream",
     "text": [
      "[*********************100%***********************]  1 of 1 completed\n"
     ]
    },
    {
     "name": "stdout",
     "output_type": "stream",
     "text": [
      "1/1 [==============================] - 1s 519ms/step\n",
      "1/1 [==============================] - 0s 16ms/step\n",
      "1/1 [==============================] - 0s 15ms/step\n",
      "1/1 [==============================] - 0s 15ms/step\n",
      "1/1 [==============================] - 0s 17ms/step\n",
      "1/1 [==============================] - 0s 20ms/step\n",
      "1/1 [==============================] - 0s 19ms/step\n",
      "1/1 [==============================] - 0s 18ms/step\n",
      "1/1 [==============================] - 0s 16ms/step\n",
      "1/1 [==============================] - 0s 17ms/step\n"
     ]
    },
    {
     "name": "stderr",
     "output_type": "stream",
     "text": [
      "\r",
      "[*********************100%***********************]  1 of 1 completed"
     ]
    },
    {
     "name": "stdout",
     "output_type": "stream",
     "text": [
      "1/1 [==============================] - 0s 15ms/step\n",
      "1/1 [==============================] - 0s 16ms/step\n",
      "1/1 [==============================] - 0s 15ms/step\n",
      "1/1 [==============================] - 0s 16ms/step\n",
      "1/1 [==============================] - ETA: 0s"
     ]
    },
    {
     "name": "stderr",
     "output_type": "stream",
     "text": [
      "\n"
     ]
    },
    {
     "name": "stdout",
     "output_type": "stream",
     "text": [
      "1/1 [==============================] - 0s 15ms/step\n",
      "1/1 [==============================] - 0s 16ms/step\n",
      "1/1 [==============================] - 0s 16ms/step\n",
      "1/1 [==============================] - 0s 15ms/step\n",
      "1/1 [==============================] - 0s 15ms/step\n",
      "1/1 [==============================] - 0s 15ms/step\n"
     ]
    },
    {
     "name": "stderr",
     "output_type": "stream",
     "text": [
      "\r",
      "[*********************100%***********************]  1 of 1 completed"
     ]
    },
    {
     "name": "stdout",
     "output_type": "stream",
     "text": [
      "1/1 [==============================] - 0s 16ms/step\n",
      "1/1 [==============================] - 0s 15ms/step\n",
      "1/1 [==============================] - 0s 15ms/step\n",
      "1/1 [==============================] - 0s 16ms/step\n",
      "1/1 [==============================] - 0s 16ms/step\n",
      "1/1 [==============================] - ETA: 0s"
     ]
    },
    {
     "name": "stderr",
     "output_type": "stream",
     "text": [
      "\n"
     ]
    },
    {
     "name": "stdout",
     "output_type": "stream",
     "text": [
      "1/1 [==============================] - 0s 16ms/step\n",
      "1/1 [==============================] - 0s 16ms/step\n",
      "1/1 [==============================] - 0s 20ms/step\n",
      "1/1 [==============================] - 0s 16ms/step\n",
      "1/1 [==============================] - 0s 16ms/step\n"
     ]
    },
    {
     "name": "stderr",
     "output_type": "stream",
     "text": [
      "[*********************100%***********************]  1 of 1 completed\n"
     ]
    },
    {
     "name": "stdout",
     "output_type": "stream",
     "text": [
      "1/1 [==============================] - 0s 384ms/step\n",
      "1/1 [==============================] - 0s 15ms/step\n",
      "1/1 [==============================] - 0s 15ms/step\n",
      "1/1 [==============================] - 0s 15ms/step\n",
      "1/1 [==============================] - 0s 16ms/step\n",
      "1/1 [==============================] - 0s 16ms/step\n",
      "1/1 [==============================] - 0s 16ms/step\n",
      "1/1 [==============================] - 0s 16ms/step\n",
      "1/1 [==============================] - 0s 19ms/step\n",
      "1/1 [==============================] - 0s 17ms/step\n"
     ]
    },
    {
     "name": "stderr",
     "output_type": "stream",
     "text": [
      "\r",
      "[*********************100%***********************]  1 of 1 completed"
     ]
    },
    {
     "name": "stdout",
     "output_type": "stream",
     "text": [
      "1/1 [==============================] - 0s 14ms/step\n",
      "1/1 [==============================] - 0s 16ms/step\n",
      "1/1 [==============================] - 0s 16ms/step\n",
      "1/1 [==============================] - 0s 15ms/step\n",
      "1/1 [==============================] - 0s 16ms/step\n"
     ]
    },
    {
     "name": "stderr",
     "output_type": "stream",
     "text": [
      "\n"
     ]
    },
    {
     "name": "stdout",
     "output_type": "stream",
     "text": [
      "1/1 [==============================] - 0s 16ms/step\n",
      "1/1 [==============================] - 0s 16ms/step\n",
      "1/1 [==============================] - 0s 15ms/step\n",
      "1/1 [==============================] - 0s 16ms/step\n",
      "1/1 [==============================] - 0s 15ms/step\n"
     ]
    },
    {
     "name": "stderr",
     "output_type": "stream",
     "text": [
      "\r",
      "[*********************100%***********************]  1 of 1 completed"
     ]
    },
    {
     "name": "stdout",
     "output_type": "stream",
     "text": [
      "1/1 [==============================] - 0s 15ms/step\n",
      "1/1 [==============================] - 0s 15ms/step\n",
      "1/1 [==============================] - 0s 18ms/step\n",
      "1/1 [==============================] - 0s 15ms/step\n",
      "1/1 [==============================] - ETA: 0s"
     ]
    },
    {
     "name": "stderr",
     "output_type": "stream",
     "text": [
      "\n"
     ]
    },
    {
     "name": "stdout",
     "output_type": "stream",
     "text": [
      "1/1 [==============================] - 0s 15ms/step\n",
      "1/1 [==============================] - 0s 16ms/step\n",
      "1/1 [==============================] - 0s 17ms/step\n",
      "1/1 [==============================] - 0s 15ms/step\n",
      "1/1 [==============================] - 0s 15ms/step\n",
      "1/1 [==============================] - 0s 15ms/step\n"
     ]
    },
    {
     "name": "stderr",
     "output_type": "stream",
     "text": [
      "[*********************100%***********************]  1 of 1 completed\n"
     ]
    },
    {
     "name": "stdout",
     "output_type": "stream",
     "text": [
      "1/1 [==============================] - 0s 401ms/step\n",
      "1/1 [==============================] - 0s 16ms/step\n",
      "1/1 [==============================] - 0s 15ms/step\n",
      "1/1 [==============================] - 0s 15ms/step\n",
      "1/1 [==============================] - 0s 16ms/step\n",
      "1/1 [==============================] - 0s 15ms/step\n",
      "1/1 [==============================] - 0s 15ms/step\n",
      "1/1 [==============================] - 0s 16ms/step\n",
      "1/1 [==============================] - 0s 15ms/step\n",
      "1/1 [==============================] - 0s 16ms/step\n"
     ]
    },
    {
     "name": "stderr",
     "output_type": "stream",
     "text": [
      "\r",
      "[*********************100%***********************]  1 of 1 completed"
     ]
    },
    {
     "name": "stdout",
     "output_type": "stream",
     "text": [
      "1/1 [==============================] - 0s 15ms/step\n",
      "1/1 [==============================] - 0s 15ms/step\n",
      "1/1 [==============================] - 0s 15ms/step\n",
      "1/1 [==============================] - 0s 15ms/step\n",
      "1/1 [==============================] - 0s 17ms/step\n",
      "1/1 [==============================] - ETA: 0s"
     ]
    },
    {
     "name": "stderr",
     "output_type": "stream",
     "text": [
      "\n"
     ]
    },
    {
     "name": "stdout",
     "output_type": "stream",
     "text": [
      "1/1 [==============================] - 0s 15ms/step\n",
      "1/1 [==============================] - 0s 16ms/step\n",
      "1/1 [==============================] - 0s 15ms/step\n",
      "1/1 [==============================] - 0s 15ms/step\n",
      "1/1 [==============================] - 0s 15ms/step\n"
     ]
    },
    {
     "name": "stderr",
     "output_type": "stream",
     "text": [
      "\r",
      "[*********************100%***********************]  1 of 1 completed"
     ]
    },
    {
     "name": "stdout",
     "output_type": "stream",
     "text": [
      "1/1 [==============================] - 0s 15ms/step\n",
      "1/1 [==============================] - 0s 16ms/step\n",
      "1/1 [==============================] - 0s 15ms/step\n",
      "1/1 [==============================] - 0s 15ms/step\n",
      "1/1 [==============================] - 0s 16ms/step\n",
      "1/1 [==============================] - ETA: 0s"
     ]
    },
    {
     "name": "stderr",
     "output_type": "stream",
     "text": [
      "\n"
     ]
    },
    {
     "name": "stdout",
     "output_type": "stream",
     "text": [
      "1/1 [==============================] - 0s 16ms/step\n",
      "1/1 [==============================] - 0s 16ms/step\n",
      "1/1 [==============================] - 0s 16ms/step\n",
      "1/1 [==============================] - 0s 16ms/step\n",
      "1/1 [==============================] - 0s 16ms/step\n"
     ]
    },
    {
     "name": "stderr",
     "output_type": "stream",
     "text": [
      "[*********************100%***********************]  1 of 1 completed\n"
     ]
    },
    {
     "name": "stdout",
     "output_type": "stream",
     "text": [
      "1/1 [==============================] - 0s 382ms/step\n",
      "1/1 [==============================] - 0s 16ms/step\n",
      "1/1 [==============================] - 0s 15ms/step\n",
      "1/1 [==============================] - 0s 15ms/step\n",
      "1/1 [==============================] - 0s 15ms/step\n",
      "1/1 [==============================] - 0s 15ms/step\n",
      "1/1 [==============================] - 0s 15ms/step\n",
      "1/1 [==============================] - 0s 15ms/step\n",
      "1/1 [==============================] - 0s 16ms/step\n",
      "1/1 [==============================] - 0s 16ms/step\n"
     ]
    },
    {
     "name": "stderr",
     "output_type": "stream",
     "text": [
      "\r",
      "[*********************100%***********************]  1 of 1 completed"
     ]
    },
    {
     "name": "stdout",
     "output_type": "stream",
     "text": [
      "1/1 [==============================] - 0s 16ms/step\n",
      "1/1 [==============================] - 0s 16ms/step\n",
      "1/1 [==============================] - 0s 15ms/step\n",
      "1/1 [==============================] - 0s 17ms/step\n",
      "1/1 [==============================] - ETA: 0s"
     ]
    },
    {
     "name": "stderr",
     "output_type": "stream",
     "text": [
      "\n"
     ]
    },
    {
     "name": "stdout",
     "output_type": "stream",
     "text": [
      "1/1 [==============================] - 0s 16ms/step\n",
      "1/1 [==============================] - 0s 15ms/step\n",
      "1/1 [==============================] - 0s 17ms/step\n",
      "1/1 [==============================] - 0s 15ms/step\n",
      "1/1 [==============================] - 0s 16ms/step\n",
      "1/1 [==============================] - 0s 15ms/step\n"
     ]
    },
    {
     "name": "stderr",
     "output_type": "stream",
     "text": [
      "\r",
      "[*********************100%***********************]  1 of 1 completed"
     ]
    },
    {
     "name": "stdout",
     "output_type": "stream",
     "text": [
      "1/1 [==============================] - 0s 16ms/step\n",
      "1/1 [==============================] - 0s 16ms/step\n",
      "1/1 [==============================] - 0s 16ms/step\n",
      "1/1 [==============================] - 0s 16ms/step\n",
      "1/1 [==============================] - 0s 16ms/step\n",
      "1/1 [==============================] - ETA: 0s"
     ]
    },
    {
     "name": "stderr",
     "output_type": "stream",
     "text": [
      "\n"
     ]
    },
    {
     "name": "stdout",
     "output_type": "stream",
     "text": [
      "1/1 [==============================] - 0s 15ms/step\n",
      "1/1 [==============================] - 0s 16ms/step\n",
      "1/1 [==============================] - 0s 16ms/step\n",
      "1/1 [==============================] - 0s 16ms/step\n",
      "1/1 [==============================] - 0s 15ms/step\n"
     ]
    },
    {
     "name": "stderr",
     "output_type": "stream",
     "text": [
      "[*********************100%***********************]  1 of 1 completed\n"
     ]
    },
    {
     "name": "stdout",
     "output_type": "stream",
     "text": [
      "1/1 [==============================] - 0s 415ms/step\n",
      "1/1 [==============================] - 0s 15ms/step\n",
      "1/1 [==============================] - 0s 16ms/step\n",
      "1/1 [==============================] - 0s 17ms/step\n",
      "1/1 [==============================] - 0s 15ms/step\n",
      "1/1 [==============================] - 0s 16ms/step\n",
      "1/1 [==============================] - 0s 16ms/step\n",
      "1/1 [==============================] - 0s 17ms/step\n",
      "1/1 [==============================] - 0s 17ms/step\n",
      "1/1 [==============================] - 0s 16ms/step\n"
     ]
    },
    {
     "name": "stderr",
     "output_type": "stream",
     "text": [
      "\r",
      "[*********************100%***********************]  1 of 1 completed"
     ]
    },
    {
     "name": "stdout",
     "output_type": "stream",
     "text": [
      "1/1 [==============================] - 0s 16ms/step\n",
      "1/1 [==============================] - 0s 16ms/step\n",
      "1/1 [==============================] - 0s 15ms/step\n",
      "1/1 [==============================] - 0s 16ms/step\n",
      "1/1 [==============================] - 0s 15ms/step\n"
     ]
    },
    {
     "name": "stderr",
     "output_type": "stream",
     "text": [
      "\n"
     ]
    },
    {
     "name": "stdout",
     "output_type": "stream",
     "text": [
      "1/1 [==============================] - 0s 16ms/step\n",
      "1/1 [==============================] - 0s 15ms/step\n",
      "1/1 [==============================] - 0s 16ms/step\n",
      "1/1 [==============================] - 0s 15ms/step\n",
      "1/1 [==============================] - 0s 15ms/step\n"
     ]
    },
    {
     "name": "stderr",
     "output_type": "stream",
     "text": [
      "\r",
      "[*********************100%***********************]  1 of 1 completed"
     ]
    },
    {
     "name": "stdout",
     "output_type": "stream",
     "text": [
      "1/1 [==============================] - 0s 17ms/step\n",
      "1/1 [==============================] - 0s 15ms/step\n",
      "1/1 [==============================] - 0s 16ms/step\n",
      "1/1 [==============================] - 0s 16ms/step\n",
      "1/1 [==============================] - 0s 15ms/step\n"
     ]
    },
    {
     "name": "stderr",
     "output_type": "stream",
     "text": [
      "\n"
     ]
    },
    {
     "name": "stdout",
     "output_type": "stream",
     "text": [
      "1/1 [==============================] - 0s 21ms/step\n",
      "1/1 [==============================] - 0s 14ms/step\n",
      "1/1 [==============================] - 0s 16ms/step\n",
      "1/1 [==============================] - 0s 16ms/step\n",
      "1/1 [==============================] - 0s 17ms/step\n"
     ]
    },
    {
     "name": "stderr",
     "output_type": "stream",
     "text": [
      "[*********************100%***********************]  1 of 1 completed\n"
     ]
    },
    {
     "name": "stdout",
     "output_type": "stream",
     "text": [
      "1/1 [==============================] - 0s 404ms/step\n",
      "1/1 [==============================] - 0s 16ms/step\n",
      "1/1 [==============================] - 0s 15ms/step\n",
      "1/1 [==============================] - 0s 15ms/step\n",
      "1/1 [==============================] - 0s 14ms/step\n",
      "1/1 [==============================] - 0s 15ms/step\n",
      "1/1 [==============================] - 0s 15ms/step\n",
      "1/1 [==============================] - 0s 16ms/step\n",
      "1/1 [==============================] - 0s 15ms/step\n",
      "1/1 [==============================] - 0s 16ms/step\n"
     ]
    },
    {
     "name": "stderr",
     "output_type": "stream",
     "text": [
      "\r",
      "[*********************100%***********************]  1 of 1 completed"
     ]
    },
    {
     "name": "stdout",
     "output_type": "stream",
     "text": [
      "1/1 [==============================] - 0s 16ms/step\n",
      "1/1 [==============================] - 0s 16ms/step\n",
      "1/1 [==============================] - 0s 16ms/step\n",
      "1/1 [==============================] - 0s 16ms/step\n",
      "1/1 [==============================] - ETA: 0s"
     ]
    },
    {
     "name": "stderr",
     "output_type": "stream",
     "text": [
      "\n"
     ]
    },
    {
     "name": "stdout",
     "output_type": "stream",
     "text": [
      "1/1 [==============================] - 0s 15ms/step\n",
      "1/1 [==============================] - 0s 16ms/step\n",
      "1/1 [==============================] - 0s 15ms/step\n",
      "1/1 [==============================] - 0s 15ms/step\n",
      "1/1 [==============================] - 0s 16ms/step\n",
      "1/1 [==============================] - 0s 16ms/step\n"
     ]
    },
    {
     "name": "stderr",
     "output_type": "stream",
     "text": [
      "\r",
      "[*********************100%***********************]  1 of 1 completed"
     ]
    },
    {
     "name": "stdout",
     "output_type": "stream",
     "text": [
      "1/1 [==============================] - 0s 16ms/step\n",
      "1/1 [==============================] - 0s 15ms/step\n",
      "1/1 [==============================] - 0s 17ms/step\n",
      "1/1 [==============================] - 0s 16ms/step\n",
      "1/1 [==============================] - 0s 15ms/step\n",
      "1/1 [==============================] - ETA: 0s"
     ]
    },
    {
     "name": "stderr",
     "output_type": "stream",
     "text": [
      "\n"
     ]
    },
    {
     "name": "stdout",
     "output_type": "stream",
     "text": [
      "1/1 [==============================] - 0s 16ms/step\n",
      "1/1 [==============================] - 0s 15ms/step\n",
      "1/1 [==============================] - 0s 15ms/step\n",
      "1/1 [==============================] - 0s 15ms/step\n",
      "1/1 [==============================] - 0s 16ms/step\n"
     ]
    },
    {
     "name": "stderr",
     "output_type": "stream",
     "text": [
      "[*********************100%***********************]  1 of 1 completed\n"
     ]
    },
    {
     "name": "stdout",
     "output_type": "stream",
     "text": [
      "1/1 [==============================] - 0s 387ms/step\n",
      "1/1 [==============================] - 0s 16ms/step\n",
      "1/1 [==============================] - 0s 15ms/step\n",
      "1/1 [==============================] - 0s 16ms/step\n",
      "1/1 [==============================] - 0s 16ms/step\n",
      "1/1 [==============================] - 0s 16ms/step\n",
      "1/1 [==============================] - 0s 16ms/step\n",
      "1/1 [==============================] - 0s 15ms/step\n",
      "1/1 [==============================] - 0s 16ms/step\n",
      "1/1 [==============================] - 0s 15ms/step\n"
     ]
    },
    {
     "name": "stderr",
     "output_type": "stream",
     "text": [
      "\r",
      "[*********************100%***********************]  1 of 1 completed"
     ]
    },
    {
     "name": "stdout",
     "output_type": "stream",
     "text": [
      "1/1 [==============================] - 0s 17ms/step\n",
      "1/1 [==============================] - 0s 15ms/step\n",
      "1/1 [==============================] - 0s 16ms/step\n",
      "1/1 [==============================] - 0s 15ms/step\n",
      "1/1 [==============================] - ETA: 0s"
     ]
    },
    {
     "name": "stderr",
     "output_type": "stream",
     "text": [
      "\n"
     ]
    },
    {
     "name": "stdout",
     "output_type": "stream",
     "text": [
      "1/1 [==============================] - 0s 14ms/step\n",
      "1/1 [==============================] - 0s 14ms/step\n",
      "1/1 [==============================] - 0s 16ms/step\n",
      "1/1 [==============================] - 0s 19ms/step\n",
      "1/1 [==============================] - 0s 16ms/step\n",
      "1/1 [==============================] - 0s 16ms/step\n"
     ]
    },
    {
     "name": "stderr",
     "output_type": "stream",
     "text": [
      "\r",
      "[*********************100%***********************]  1 of 1 completed"
     ]
    },
    {
     "name": "stdout",
     "output_type": "stream",
     "text": [
      "1/1 [==============================] - 0s 15ms/step\n",
      "1/1 [==============================] - 0s 15ms/step\n",
      "1/1 [==============================] - 0s 15ms/step\n",
      "1/1 [==============================] - 0s 16ms/step\n",
      "1/1 [==============================] - 0s 16ms/step\n"
     ]
    },
    {
     "name": "stderr",
     "output_type": "stream",
     "text": [
      "\n"
     ]
    },
    {
     "name": "stdout",
     "output_type": "stream",
     "text": [
      "1/1 [==============================] - 0s 16ms/step\n",
      "1/1 [==============================] - 0s 15ms/step\n",
      "1/1 [==============================] - 0s 15ms/step\n",
      "1/1 [==============================] - 0s 15ms/step\n",
      "1/1 [==============================] - 0s 15ms/step\n"
     ]
    },
    {
     "name": "stderr",
     "output_type": "stream",
     "text": [
      "[*********************100%***********************]  1 of 1 completed\n"
     ]
    },
    {
     "name": "stdout",
     "output_type": "stream",
     "text": [
      "1/1 [==============================] - 0s 379ms/step\n",
      "1/1 [==============================] - 0s 15ms/step\n",
      "1/1 [==============================] - 0s 15ms/step\n",
      "1/1 [==============================] - 0s 15ms/step\n",
      "1/1 [==============================] - 0s 16ms/step\n",
      "1/1 [==============================] - 0s 15ms/step\n",
      "1/1 [==============================] - 0s 15ms/step\n",
      "1/1 [==============================] - 0s 15ms/step\n",
      "1/1 [==============================] - 0s 16ms/step\n",
      "1/1 [==============================] - 0s 15ms/step\n"
     ]
    },
    {
     "name": "stderr",
     "output_type": "stream",
     "text": [
      "\r",
      "[*********************100%***********************]  1 of 1 completed"
     ]
    },
    {
     "name": "stdout",
     "output_type": "stream",
     "text": [
      "1/1 [==============================] - 0s 15ms/step\n",
      "1/1 [==============================] - 0s 16ms/step\n",
      "1/1 [==============================] - 0s 14ms/step\n",
      "1/1 [==============================] - 0s 15ms/step\n",
      "1/1 [==============================] - 0s 15ms/step\n"
     ]
    },
    {
     "name": "stderr",
     "output_type": "stream",
     "text": [
      "\n"
     ]
    },
    {
     "name": "stdout",
     "output_type": "stream",
     "text": [
      "1/1 [==============================] - 0s 16ms/step\n",
      "1/1 [==============================] - 0s 16ms/step\n",
      "1/1 [==============================] - 0s 16ms/step\n",
      "1/1 [==============================] - 0s 15ms/step\n",
      "1/1 [==============================] - 0s 16ms/step\n"
     ]
    },
    {
     "name": "stderr",
     "output_type": "stream",
     "text": [
      "\r",
      "[*********************100%***********************]  1 of 1 completed"
     ]
    },
    {
     "name": "stdout",
     "output_type": "stream",
     "text": [
      "1/1 [==============================] - 0s 16ms/step\n",
      "1/1 [==============================] - 0s 17ms/step\n",
      "1/1 [==============================] - 0s 15ms/step\n",
      "1/1 [==============================] - 0s 15ms/step\n",
      "1/1 [==============================] - ETA: 0s"
     ]
    },
    {
     "name": "stderr",
     "output_type": "stream",
     "text": [
      "\n"
     ]
    },
    {
     "name": "stdout",
     "output_type": "stream",
     "text": [
      "1/1 [==============================] - 0s 17ms/step\n",
      "1/1 [==============================] - 0s 14ms/step\n",
      "1/1 [==============================] - 0s 16ms/step\n",
      "1/1 [==============================] - 0s 15ms/step\n",
      "1/1 [==============================] - 0s 15ms/step\n",
      "1/1 [==============================] - 0s 16ms/step\n"
     ]
    },
    {
     "name": "stderr",
     "output_type": "stream",
     "text": [
      "[*********************100%***********************]  1 of 1 completed\n"
     ]
    },
    {
     "name": "stdout",
     "output_type": "stream",
     "text": [
      "1/1 [==============================] - 0s 376ms/step\n",
      "1/1 [==============================] - 0s 15ms/step\n",
      "1/1 [==============================] - 0s 16ms/step\n",
      "1/1 [==============================] - 0s 15ms/step\n",
      "1/1 [==============================] - 0s 15ms/step\n",
      "1/1 [==============================] - 0s 16ms/step\n",
      "1/1 [==============================] - 0s 16ms/step\n",
      "1/1 [==============================] - 0s 16ms/step\n",
      "1/1 [==============================] - 0s 16ms/step\n",
      "1/1 [==============================] - 0s 17ms/step\n"
     ]
    },
    {
     "name": "stderr",
     "output_type": "stream",
     "text": [
      "\r",
      "[*********************100%***********************]  1 of 1 completed"
     ]
    },
    {
     "name": "stdout",
     "output_type": "stream",
     "text": [
      "1/1 [==============================] - 0s 16ms/step\n",
      "1/1 [==============================] - 0s 16ms/step\n",
      "1/1 [==============================] - 0s 15ms/step\n",
      "1/1 [==============================] - 0s 16ms/step\n",
      "1/1 [==============================] - 0s 15ms/step\n"
     ]
    },
    {
     "name": "stderr",
     "output_type": "stream",
     "text": [
      "\n"
     ]
    },
    {
     "name": "stdout",
     "output_type": "stream",
     "text": [
      "1/1 [==============================] - 0s 17ms/step\n",
      "1/1 [==============================] - 0s 15ms/step\n",
      "1/1 [==============================] - 0s 16ms/step\n",
      "1/1 [==============================] - 0s 15ms/step\n",
      "1/1 [==============================] - 0s 15ms/step\n"
     ]
    },
    {
     "name": "stderr",
     "output_type": "stream",
     "text": [
      "\r",
      "[*********************100%***********************]  1 of 1 completed"
     ]
    },
    {
     "name": "stdout",
     "output_type": "stream",
     "text": [
      "1/1 [==============================] - 0s 17ms/step\n",
      "1/1 [==============================] - 0s 16ms/step\n",
      "1/1 [==============================] - 0s 15ms/step\n",
      "1/1 [==============================] - 0s 15ms/step\n",
      "1/1 [==============================] - ETA: 0s"
     ]
    },
    {
     "name": "stderr",
     "output_type": "stream",
     "text": [
      "\n"
     ]
    },
    {
     "name": "stdout",
     "output_type": "stream",
     "text": [
      "1/1 [==============================] - 0s 15ms/step\n",
      "1/1 [==============================] - 0s 16ms/step\n",
      "1/1 [==============================] - 0s 15ms/step\n",
      "1/1 [==============================] - 0s 18ms/step\n",
      "1/1 [==============================] - 0s 16ms/step\n",
      "1/1 [==============================] - 0s 15ms/step\n"
     ]
    },
    {
     "name": "stderr",
     "output_type": "stream",
     "text": [
      "[*********************100%***********************]  1 of 1 completed\n"
     ]
    },
    {
     "name": "stdout",
     "output_type": "stream",
     "text": [
      "1/1 [==============================] - 0s 387ms/step\n",
      "1/1 [==============================] - 0s 16ms/step\n",
      "1/1 [==============================] - 0s 16ms/step\n",
      "1/1 [==============================] - 0s 16ms/step\n",
      "1/1 [==============================] - 0s 16ms/step\n",
      "1/1 [==============================] - 0s 14ms/step\n",
      "1/1 [==============================] - 0s 15ms/step\n",
      "1/1 [==============================] - 0s 16ms/step\n",
      "1/1 [==============================] - 0s 15ms/step\n",
      "1/1 [==============================] - 0s 15ms/step\n"
     ]
    },
    {
     "name": "stderr",
     "output_type": "stream",
     "text": [
      "\r",
      "[*********************100%***********************]  1 of 1 completed"
     ]
    },
    {
     "name": "stdout",
     "output_type": "stream",
     "text": [
      "1/1 [==============================] - 0s 16ms/step\n",
      "1/1 [==============================] - 0s 15ms/step\n",
      "1/1 [==============================] - 0s 16ms/step\n",
      "1/1 [==============================] - 0s 15ms/step\n",
      "1/1 [==============================] - 0s 15ms/step\n"
     ]
    },
    {
     "name": "stderr",
     "output_type": "stream",
     "text": [
      "\n"
     ]
    },
    {
     "name": "stdout",
     "output_type": "stream",
     "text": [
      "1/1 [==============================] - 0s 18ms/step\n",
      "1/1 [==============================] - 0s 16ms/step\n",
      "1/1 [==============================] - 0s 14ms/step\n",
      "1/1 [==============================] - 0s 15ms/step\n",
      "1/1 [==============================] - 0s 16ms/step\n"
     ]
    },
    {
     "name": "stderr",
     "output_type": "stream",
     "text": [
      "\r",
      "[*********************100%***********************]  1 of 1 completed"
     ]
    },
    {
     "name": "stdout",
     "output_type": "stream",
     "text": [
      "1/1 [==============================] - 0s 15ms/step\n",
      "1/1 [==============================] - 0s 18ms/step\n",
      "1/1 [==============================] - 0s 15ms/step\n",
      "1/1 [==============================] - 0s 15ms/step\n",
      "1/1 [==============================] - ETA: 0s"
     ]
    },
    {
     "name": "stderr",
     "output_type": "stream",
     "text": [
      "\n"
     ]
    },
    {
     "name": "stdout",
     "output_type": "stream",
     "text": [
      "1/1 [==============================] - 0s 17ms/step\n",
      "1/1 [==============================] - 0s 16ms/step\n",
      "1/1 [==============================] - 0s 16ms/step\n",
      "1/1 [==============================] - 0s 15ms/step\n",
      "1/1 [==============================] - 0s 14ms/step\n",
      "1/1 [==============================] - 0s 15ms/step\n"
     ]
    },
    {
     "name": "stderr",
     "output_type": "stream",
     "text": [
      "[*********************100%***********************]  1 of 1 completed\n"
     ]
    },
    {
     "name": "stdout",
     "output_type": "stream",
     "text": [
      "1/1 [==============================] - 0s 384ms/step\n",
      "1/1 [==============================] - 0s 15ms/step\n",
      "1/1 [==============================] - 0s 15ms/step\n",
      "1/1 [==============================] - 0s 16ms/step\n",
      "1/1 [==============================] - 0s 15ms/step\n",
      "1/1 [==============================] - 0s 16ms/step\n",
      "1/1 [==============================] - 0s 15ms/step\n",
      "1/1 [==============================] - 0s 16ms/step\n",
      "1/1 [==============================] - 0s 15ms/step\n",
      "1/1 [==============================] - 0s 16ms/step\n"
     ]
    },
    {
     "name": "stderr",
     "output_type": "stream",
     "text": [
      "\r",
      "[*********************100%***********************]  1 of 1 completed"
     ]
    },
    {
     "name": "stdout",
     "output_type": "stream",
     "text": [
      "1/1 [==============================] - 0s 15ms/step\n",
      "1/1 [==============================] - 0s 15ms/step\n",
      "1/1 [==============================] - 0s 16ms/step\n",
      "1/1 [==============================] - 0s 15ms/step\n",
      "1/1 [==============================] - 0s 15ms/step\n"
     ]
    },
    {
     "name": "stderr",
     "output_type": "stream",
     "text": [
      "\n"
     ]
    },
    {
     "name": "stdout",
     "output_type": "stream",
     "text": [
      "1/1 [==============================] - 0s 17ms/step\n",
      "1/1 [==============================] - 0s 15ms/step\n",
      "1/1 [==============================] - 0s 15ms/step\n",
      "1/1 [==============================] - 0s 15ms/step\n",
      "1/1 [==============================] - 0s 15ms/step\n"
     ]
    },
    {
     "name": "stderr",
     "output_type": "stream",
     "text": [
      "\r",
      "[*********************100%***********************]  1 of 1 completed"
     ]
    },
    {
     "name": "stdout",
     "output_type": "stream",
     "text": [
      "1/1 [==============================] - 0s 15ms/step\n",
      "1/1 [==============================] - 0s 15ms/step\n",
      "1/1 [==============================] - 0s 16ms/step\n",
      "1/1 [==============================] - 0s 16ms/step\n",
      "1/1 [==============================] - 0s 15ms/step\n",
      "1/1 [==============================] - ETA: 0s"
     ]
    },
    {
     "name": "stderr",
     "output_type": "stream",
     "text": [
      "\n"
     ]
    },
    {
     "name": "stdout",
     "output_type": "stream",
     "text": [
      "1/1 [==============================] - 0s 16ms/step\n",
      "1/1 [==============================] - 0s 16ms/step\n",
      "1/1 [==============================] - 0s 15ms/step\n",
      "1/1 [==============================] - 0s 16ms/step\n",
      "1/1 [==============================] - 0s 16ms/step\n"
     ]
    },
    {
     "name": "stderr",
     "output_type": "stream",
     "text": [
      "[*********************100%***********************]  1 of 1 completed\n"
     ]
    },
    {
     "name": "stdout",
     "output_type": "stream",
     "text": [
      "1/1 [==============================] - 0s 378ms/step\n",
      "1/1 [==============================] - 0s 15ms/step\n",
      "1/1 [==============================] - 0s 16ms/step\n",
      "1/1 [==============================] - 0s 15ms/step\n",
      "1/1 [==============================] - 0s 16ms/step\n",
      "1/1 [==============================] - 0s 16ms/step\n",
      "1/1 [==============================] - 0s 14ms/step\n",
      "1/1 [==============================] - 0s 16ms/step\n",
      "1/1 [==============================] - 0s 15ms/step\n",
      "1/1 [==============================] - 0s 16ms/step\n"
     ]
    },
    {
     "name": "stderr",
     "output_type": "stream",
     "text": [
      "\r",
      "[*********************100%***********************]  1 of 1 completed"
     ]
    },
    {
     "name": "stdout",
     "output_type": "stream",
     "text": [
      "1/1 [==============================] - 0s 15ms/step\n",
      "1/1 [==============================] - 0s 15ms/step\n",
      "1/1 [==============================] - 0s 16ms/step\n",
      "1/1 [==============================] - 0s 15ms/step\n",
      "1/1 [==============================] - 0s 15ms/step\n",
      "1/1 [==============================] - ETA: 0s"
     ]
    },
    {
     "name": "stderr",
     "output_type": "stream",
     "text": [
      "\n"
     ]
    },
    {
     "name": "stdout",
     "output_type": "stream",
     "text": [
      "1/1 [==============================] - 0s 16ms/step\n",
      "1/1 [==============================] - 0s 15ms/step\n",
      "1/1 [==============================] - 0s 16ms/step\n",
      "1/1 [==============================] - 0s 15ms/step\n",
      "1/1 [==============================] - 0s 15ms/step\n"
     ]
    },
    {
     "name": "stderr",
     "output_type": "stream",
     "text": [
      "\r",
      "[*********************100%***********************]  1 of 1 completed"
     ]
    },
    {
     "name": "stdout",
     "output_type": "stream",
     "text": [
      "1/1 [==============================] - 0s 15ms/step\n",
      "1/1 [==============================] - 0s 16ms/step\n",
      "1/1 [==============================] - 0s 23ms/step\n",
      "1/1 [==============================] - 0s 16ms/step\n",
      "1/1 [==============================] - ETA: 0s"
     ]
    },
    {
     "name": "stderr",
     "output_type": "stream",
     "text": [
      "\n"
     ]
    },
    {
     "name": "stdout",
     "output_type": "stream",
     "text": [
      "1/1 [==============================] - 0s 15ms/step\n",
      "1/1 [==============================] - 0s 19ms/step\n",
      "1/1 [==============================] - 0s 15ms/step\n",
      "1/1 [==============================] - 0s 15ms/step\n",
      "1/1 [==============================] - 0s 16ms/step\n",
      "1/1 [==============================] - 0s 16ms/step\n"
     ]
    },
    {
     "name": "stderr",
     "output_type": "stream",
     "text": [
      "[*********************100%***********************]  1 of 1 completed\n"
     ]
    },
    {
     "name": "stdout",
     "output_type": "stream",
     "text": [
      "1/1 [==============================] - 0s 376ms/step\n",
      "1/1 [==============================] - 0s 15ms/step\n",
      "1/1 [==============================] - 0s 15ms/step\n",
      "1/1 [==============================] - 0s 15ms/step\n",
      "1/1 [==============================] - 0s 15ms/step\n",
      "1/1 [==============================] - 0s 15ms/step\n",
      "1/1 [==============================] - 0s 15ms/step\n",
      "1/1 [==============================] - 0s 16ms/step\n",
      "1/1 [==============================] - 0s 15ms/step\n",
      "1/1 [==============================] - 0s 15ms/step\n"
     ]
    },
    {
     "name": "stderr",
     "output_type": "stream",
     "text": [
      "\r",
      "[*********************100%***********************]  1 of 1 completed"
     ]
    },
    {
     "name": "stdout",
     "output_type": "stream",
     "text": [
      "1/1 [==============================] - 0s 14ms/step\n",
      "1/1 [==============================] - 0s 16ms/step\n",
      "1/1 [==============================] - 0s 16ms/step\n",
      "1/1 [==============================] - 0s 15ms/step\n",
      "1/1 [==============================] - ETA: 0s"
     ]
    },
    {
     "name": "stderr",
     "output_type": "stream",
     "text": [
      "\n"
     ]
    },
    {
     "name": "stdout",
     "output_type": "stream",
     "text": [
      "1/1 [==============================] - 0s 15ms/step\n",
      "1/1 [==============================] - 0s 16ms/step\n",
      "1/1 [==============================] - 0s 15ms/step\n",
      "1/1 [==============================] - 0s 15ms/step\n",
      "1/1 [==============================] - 0s 16ms/step\n",
      "1/1 [==============================] - 0s 16ms/step\n"
     ]
    },
    {
     "name": "stderr",
     "output_type": "stream",
     "text": [
      "\r",
      "[*********************100%***********************]  1 of 1 completed"
     ]
    },
    {
     "name": "stdout",
     "output_type": "stream",
     "text": [
      "1/1 [==============================] - 0s 15ms/step\n",
      "1/1 [==============================] - 0s 16ms/step\n",
      "1/1 [==============================] - 0s 15ms/step\n",
      "1/1 [==============================] - 0s 16ms/step\n",
      "1/1 [==============================] - 0s 16ms/step\n",
      "1/1 [==============================] - ETA: 0s"
     ]
    },
    {
     "name": "stderr",
     "output_type": "stream",
     "text": [
      "\n"
     ]
    },
    {
     "name": "stdout",
     "output_type": "stream",
     "text": [
      "1/1 [==============================] - 0s 15ms/step\n",
      "1/1 [==============================] - 0s 15ms/step\n",
      "1/1 [==============================] - 0s 15ms/step\n",
      "1/1 [==============================] - 0s 15ms/step\n",
      "1/1 [==============================] - 0s 16ms/step\n"
     ]
    },
    {
     "name": "stderr",
     "output_type": "stream",
     "text": [
      "[*********************100%***********************]  1 of 1 completed\n"
     ]
    },
    {
     "name": "stdout",
     "output_type": "stream",
     "text": [
      "1/1 [==============================] - 0s 386ms/step\n",
      "1/1 [==============================] - 0s 15ms/step\n",
      "1/1 [==============================] - 0s 15ms/step\n",
      "1/1 [==============================] - 0s 15ms/step\n",
      "1/1 [==============================] - 0s 15ms/step\n",
      "1/1 [==============================] - 0s 14ms/step\n",
      "1/1 [==============================] - 0s 15ms/step\n",
      "1/1 [==============================] - 0s 15ms/step\n",
      "1/1 [==============================] - 0s 15ms/step\n",
      "1/1 [==============================] - 0s 15ms/step\n"
     ]
    },
    {
     "name": "stderr",
     "output_type": "stream",
     "text": [
      "\r",
      "[*********************100%***********************]  1 of 1 completed"
     ]
    },
    {
     "name": "stdout",
     "output_type": "stream",
     "text": [
      "1/1 [==============================] - 0s 14ms/step\n",
      "1/1 [==============================] - 0s 17ms/step\n",
      "1/1 [==============================] - 0s 15ms/step\n",
      "1/1 [==============================] - 0s 15ms/step\n",
      "1/1 [==============================] - 0s 15ms/step\n",
      "1/1 [==============================] - ETA: 0s"
     ]
    },
    {
     "name": "stderr",
     "output_type": "stream",
     "text": [
      "\n"
     ]
    },
    {
     "name": "stdout",
     "output_type": "stream",
     "text": [
      "1/1 [==============================] - 0s 16ms/step\n",
      "1/1 [==============================] - 0s 16ms/step\n",
      "1/1 [==============================] - 0s 16ms/step\n",
      "1/1 [==============================] - 0s 15ms/step\n",
      "1/1 [==============================] - 0s 16ms/step\n"
     ]
    },
    {
     "name": "stderr",
     "output_type": "stream",
     "text": [
      "\r",
      "[*********************100%***********************]  1 of 1 completed"
     ]
    },
    {
     "name": "stdout",
     "output_type": "stream",
     "text": [
      "1/1 [==============================] - 0s 16ms/step\n",
      "1/1 [==============================] - 0s 15ms/step\n",
      "1/1 [==============================] - 0s 16ms/step\n",
      "1/1 [==============================] - 0s 16ms/step\n",
      "1/1 [==============================] - ETA: 0s"
     ]
    },
    {
     "name": "stderr",
     "output_type": "stream",
     "text": [
      "\n"
     ]
    },
    {
     "name": "stdout",
     "output_type": "stream",
     "text": [
      "1/1 [==============================] - 0s 15ms/step\n",
      "1/1 [==============================] - 0s 15ms/step\n",
      "1/1 [==============================] - 0s 15ms/step\n",
      "1/1 [==============================] - 0s 14ms/step\n",
      "1/1 [==============================] - 0s 16ms/step\n",
      "1/1 [==============================] - 0s 16ms/step\n"
     ]
    },
    {
     "name": "stderr",
     "output_type": "stream",
     "text": [
      "[*********************100%***********************]  1 of 1 completed\n"
     ]
    },
    {
     "name": "stdout",
     "output_type": "stream",
     "text": [
      "1/1 [==============================] - 0s 391ms/step\n",
      "1/1 [==============================] - 0s 15ms/step\n",
      "1/1 [==============================] - 0s 16ms/step\n",
      "1/1 [==============================] - 0s 15ms/step\n",
      "1/1 [==============================] - 0s 15ms/step\n",
      "1/1 [==============================] - 0s 16ms/step\n",
      "1/1 [==============================] - 0s 15ms/step\n",
      "1/1 [==============================] - 0s 16ms/step\n",
      "1/1 [==============================] - 0s 18ms/step\n",
      "1/1 [==============================] - 0s 15ms/step\n"
     ]
    },
    {
     "name": "stderr",
     "output_type": "stream",
     "text": [
      "\r",
      "[*********************100%***********************]  1 of 1 completed"
     ]
    },
    {
     "name": "stdout",
     "output_type": "stream",
     "text": [
      "1/1 [==============================] - 0s 15ms/step\n",
      "1/1 [==============================] - 0s 15ms/step\n",
      "1/1 [==============================] - 0s 14ms/step\n",
      "1/1 [==============================] - 0s 15ms/step\n",
      "1/1 [==============================] - 0s 15ms/step\n"
     ]
    },
    {
     "name": "stderr",
     "output_type": "stream",
     "text": [
      "\n"
     ]
    },
    {
     "name": "stdout",
     "output_type": "stream",
     "text": [
      "1/1 [==============================] - 0s 14ms/step\n",
      "1/1 [==============================] - 0s 15ms/step\n",
      "1/1 [==============================] - 0s 16ms/step\n",
      "1/1 [==============================] - 0s 16ms/step\n",
      "1/1 [==============================] - 0s 17ms/step\n"
     ]
    },
    {
     "name": "stderr",
     "output_type": "stream",
     "text": [
      "\r",
      "[*********************100%***********************]  1 of 1 completed"
     ]
    },
    {
     "name": "stdout",
     "output_type": "stream",
     "text": [
      "1/1 [==============================] - 0s 15ms/step\n",
      "1/1 [==============================] - 0s 17ms/step\n",
      "1/1 [==============================] - 0s 16ms/step\n",
      "1/1 [==============================] - 0s 14ms/step\n",
      "1/1 [==============================] - ETA: 0s"
     ]
    },
    {
     "name": "stderr",
     "output_type": "stream",
     "text": [
      "\n"
     ]
    },
    {
     "name": "stdout",
     "output_type": "stream",
     "text": [
      "1/1 [==============================] - 0s 15ms/step\n",
      "1/1 [==============================] - 0s 15ms/step\n",
      "1/1 [==============================] - 0s 16ms/step\n",
      "1/1 [==============================] - 0s 16ms/step\n",
      "1/1 [==============================] - 0s 16ms/step\n",
      "1/1 [==============================] - 0s 14ms/step\n"
     ]
    },
    {
     "name": "stderr",
     "output_type": "stream",
     "text": [
      "[*********************100%***********************]  1 of 1 completed\n"
     ]
    },
    {
     "name": "stdout",
     "output_type": "stream",
     "text": [
      "1/1 [==============================] - 0s 390ms/step\n",
      "1/1 [==============================] - 0s 16ms/step\n",
      "1/1 [==============================] - 0s 17ms/step\n",
      "1/1 [==============================] - 0s 15ms/step\n",
      "1/1 [==============================] - 0s 16ms/step\n",
      "1/1 [==============================] - 0s 16ms/step\n",
      "1/1 [==============================] - 0s 16ms/step\n",
      "1/1 [==============================] - 0s 15ms/step\n",
      "1/1 [==============================] - 0s 16ms/step\n",
      "1/1 [==============================] - 0s 16ms/step\n"
     ]
    },
    {
     "name": "stderr",
     "output_type": "stream",
     "text": [
      "\r",
      "[*********************100%***********************]  1 of 1 completed"
     ]
    },
    {
     "name": "stdout",
     "output_type": "stream",
     "text": [
      "1/1 [==============================] - 0s 16ms/step\n",
      "1/1 [==============================] - 0s 16ms/step\n",
      "1/1 [==============================] - 0s 15ms/step\n",
      "1/1 [==============================] - 0s 15ms/step\n",
      "1/1 [==============================] - ETA: 0s"
     ]
    },
    {
     "name": "stderr",
     "output_type": "stream",
     "text": [
      "\n"
     ]
    },
    {
     "name": "stdout",
     "output_type": "stream",
     "text": [
      "1/1 [==============================] - 0s 16ms/step\n",
      "1/1 [==============================] - 0s 16ms/step\n",
      "1/1 [==============================] - 0s 16ms/step\n",
      "1/1 [==============================] - 0s 14ms/step\n",
      "1/1 [==============================] - 0s 14ms/step\n",
      "1/1 [==============================] - 0s 15ms/step\n"
     ]
    },
    {
     "name": "stderr",
     "output_type": "stream",
     "text": [
      "\r",
      "[*********************100%***********************]  1 of 1 completed"
     ]
    },
    {
     "name": "stdout",
     "output_type": "stream",
     "text": [
      "1/1 [==============================] - 0s 16ms/step\n",
      "1/1 [==============================] - 0s 15ms/step\n",
      "1/1 [==============================] - 0s 15ms/step\n",
      "1/1 [==============================] - 0s 15ms/step\n",
      "1/1 [==============================] - 0s 16ms/step\n",
      "1/1 [==============================] - ETA: 0s"
     ]
    },
    {
     "name": "stderr",
     "output_type": "stream",
     "text": [
      "\n"
     ]
    },
    {
     "name": "stdout",
     "output_type": "stream",
     "text": [
      "1/1 [==============================] - 0s 16ms/step\n",
      "1/1 [==============================] - 0s 15ms/step\n",
      "1/1 [==============================] - 0s 23ms/step\n",
      "1/1 [==============================] - 0s 16ms/step\n",
      "1/1 [==============================] - 0s 16ms/step\n"
     ]
    },
    {
     "name": "stderr",
     "output_type": "stream",
     "text": [
      "[*********************100%***********************]  1 of 1 completed\n"
     ]
    },
    {
     "name": "stdout",
     "output_type": "stream",
     "text": [
      "1/1 [==============================] - 0s 380ms/step\n",
      "1/1 [==============================] - 0s 16ms/step\n",
      "1/1 [==============================] - 0s 15ms/step\n",
      "1/1 [==============================] - 0s 15ms/step\n",
      "1/1 [==============================] - 0s 16ms/step\n",
      "1/1 [==============================] - 0s 16ms/step\n",
      "1/1 [==============================] - 0s 16ms/step\n",
      "1/1 [==============================] - 0s 16ms/step\n",
      "1/1 [==============================] - 0s 16ms/step\n",
      "1/1 [==============================] - 0s 16ms/step\n"
     ]
    },
    {
     "name": "stderr",
     "output_type": "stream",
     "text": [
      "\r",
      "[*********************100%***********************]  1 of 1 completed"
     ]
    },
    {
     "name": "stdout",
     "output_type": "stream",
     "text": [
      "1/1 [==============================] - 0s 16ms/step\n",
      "1/1 [==============================] - 0s 15ms/step\n",
      "1/1 [==============================] - 0s 15ms/step\n",
      "1/1 [==============================] - 0s 16ms/step\n",
      "1/1 [==============================] - ETA: 0s"
     ]
    },
    {
     "name": "stderr",
     "output_type": "stream",
     "text": [
      "\n"
     ]
    },
    {
     "name": "stdout",
     "output_type": "stream",
     "text": [
      "1/1 [==============================] - 0s 15ms/step\n",
      "1/1 [==============================] - 0s 19ms/step\n",
      "1/1 [==============================] - 0s 15ms/step\n",
      "1/1 [==============================] - 0s 15ms/step\n",
      "1/1 [==============================] - 0s 15ms/step\n",
      "1/1 [==============================] - 0s 15ms/step\n"
     ]
    },
    {
     "name": "stderr",
     "output_type": "stream",
     "text": [
      "\r",
      "[*********************100%***********************]  1 of 1 completed"
     ]
    },
    {
     "name": "stdout",
     "output_type": "stream",
     "text": [
      "1/1 [==============================] - 0s 16ms/step\n",
      "1/1 [==============================] - 0s 16ms/step\n",
      "1/1 [==============================] - 0s 16ms/step\n",
      "1/1 [==============================] - 0s 15ms/step\n",
      "1/1 [==============================] - 0s 16ms/step\n"
     ]
    },
    {
     "name": "stderr",
     "output_type": "stream",
     "text": [
      "\n"
     ]
    },
    {
     "name": "stdout",
     "output_type": "stream",
     "text": [
      "1/1 [==============================] - 0s 16ms/step\n",
      "1/1 [==============================] - 0s 14ms/step\n",
      "1/1 [==============================] - 0s 16ms/step\n",
      "1/1 [==============================] - 0s 16ms/step\n",
      "1/1 [==============================] - 0s 15ms/step\n"
     ]
    },
    {
     "name": "stderr",
     "output_type": "stream",
     "text": [
      "[*********************100%***********************]  1 of 1 completed\n"
     ]
    },
    {
     "name": "stdout",
     "output_type": "stream",
     "text": [
      "1/1 [==============================] - 0s 386ms/step\n",
      "1/1 [==============================] - 0s 16ms/step\n",
      "1/1 [==============================] - 0s 15ms/step\n",
      "1/1 [==============================] - 0s 15ms/step\n",
      "1/1 [==============================] - 0s 16ms/step\n",
      "1/1 [==============================] - 0s 15ms/step\n",
      "1/1 [==============================] - 0s 16ms/step\n",
      "1/1 [==============================] - 0s 16ms/step\n",
      "1/1 [==============================] - 0s 15ms/step\n",
      "1/1 [==============================] - 0s 15ms/step\n"
     ]
    },
    {
     "name": "stderr",
     "output_type": "stream",
     "text": [
      "\r",
      "[*********************100%***********************]  1 of 1 completed"
     ]
    },
    {
     "name": "stdout",
     "output_type": "stream",
     "text": [
      "1/1 [==============================] - 0s 15ms/step\n",
      "1/1 [==============================] - 0s 15ms/step\n",
      "1/1 [==============================] - 0s 15ms/step\n",
      "1/1 [==============================] - 0s 15ms/step\n",
      "1/1 [==============================] - 0s 15ms/step\n"
     ]
    },
    {
     "name": "stderr",
     "output_type": "stream",
     "text": [
      "\n"
     ]
    },
    {
     "name": "stdout",
     "output_type": "stream",
     "text": [
      "1/1 [==============================] - 0s 16ms/step\n",
      "1/1 [==============================] - 0s 16ms/step\n",
      "1/1 [==============================] - 0s 16ms/step\n",
      "1/1 [==============================] - 0s 16ms/step\n",
      "1/1 [==============================] - 0s 16ms/step\n"
     ]
    },
    {
     "name": "stderr",
     "output_type": "stream",
     "text": [
      "\r",
      "[*********************100%***********************]  1 of 1 completed"
     ]
    },
    {
     "name": "stdout",
     "output_type": "stream",
     "text": [
      "1/1 [==============================] - 0s 15ms/step\n",
      "1/1 [==============================] - 0s 15ms/step\n",
      "1/1 [==============================] - 0s 16ms/step\n",
      "1/1 [==============================] - 0s 15ms/step\n",
      "1/1 [==============================] - ETA: 0s"
     ]
    },
    {
     "name": "stderr",
     "output_type": "stream",
     "text": [
      "\n"
     ]
    },
    {
     "name": "stdout",
     "output_type": "stream",
     "text": [
      "1/1 [==============================] - 0s 15ms/step\n",
      "1/1 [==============================] - 0s 16ms/step\n",
      "1/1 [==============================] - 0s 16ms/step\n",
      "1/1 [==============================] - 0s 15ms/step\n",
      "1/1 [==============================] - 0s 16ms/step\n",
      "1/1 [==============================] - 0s 16ms/step\n"
     ]
    },
    {
     "name": "stderr",
     "output_type": "stream",
     "text": [
      "[*********************100%***********************]  1 of 1 completed\n"
     ]
    },
    {
     "name": "stdout",
     "output_type": "stream",
     "text": [
      "1/1 [==============================] - 0s 380ms/step\n",
      "1/1 [==============================] - 0s 22ms/step\n",
      "1/1 [==============================] - 0s 19ms/step\n",
      "1/1 [==============================] - 0s 15ms/step\n",
      "1/1 [==============================] - 0s 20ms/step\n",
      "1/1 [==============================] - 0s 15ms/step\n",
      "1/1 [==============================] - 0s 15ms/step\n",
      "1/1 [==============================] - 0s 14ms/step\n",
      "1/1 [==============================] - 0s 15ms/step\n",
      "1/1 [==============================] - 0s 16ms/step\n"
     ]
    }
   ],
   "source": [
    "m = main_function(tickers, days_to_predict, investment_budget, biggest_allowable_net_loss, allowable_stock_risk)"
   ]
  },
  {
   "cell_type": "code",
   "execution_count": 105,
   "id": "2dfd1109",
   "metadata": {
    "scrolled": true
   },
   "outputs": [
    {
     "name": "stdout",
     "output_type": "stream",
     "text": [
      "([0, 0, 0, 92.0, 0, 0, 0], 9990054.727844238, 8, ['AAPL', 'MSFT', 'BRK-B', 'XOM', 'ASML', 'PG', 'COST'], [9990073.468231201, 9990083.120513916, 9990274.983383179, 9999125.734924316, 9990190.085830688, 9995997.02406311, 9990054.727844238, 9990520.253051758, 9990520.253051758], [9926.531768798828, 10186.236572265625, 9933.784530639648, 10442.368103027344, 10676.589965820312, 9916.879486083984, 10098.972129821777, 10275.531677246094, 9725.016616821289, 907.8621826171875, 924.003662109375, 874.2650756835938, 9851.179496765137, 10095.200408935547, 9809.914169311523, 4168.845886230469, 4234.715026855469, 4002.9759368896484, 10348.907135009766, 10257.208251953125, 9945.272155761719, 9988.43701171875, 10214.588134765625, 9479.746948242188, 9988.43701171875, 10214.588134765625, 9479.746948242188], [[226.96554565429688, 9699.566223144531, 0.0, 0.0, 0.0, 0.0, 0.0], [231.00091552734375, 9955.235656738281, 0.0, 0.0, 0.0, 0.0, 0.0], [218.56626892089844, 9715.21826171875, 0.0, 0.0, 0.0, 0.0, 0.0], [453.93109130859375, 0.0, 0.0, 0.0, 9988.43701171875, 0.0, 0.0], [462.0018310546875, 0.0, 0.0, 0.0, 10214.588134765625, 0.0, 0.0], [437.1325378417969, 0.0, 0.0, 0.0, 9479.746948242188, 0.0, 0.0], [9986.484008789062, 0.0, 0.0, 112.48812103271484, 0.0, 0.0, 0.0], [10164.040283203125, 0.0, 0.0, 111.49139404296875, 0.0, 0.0, 0.0], [9616.915832519531, 0.0, 0.0, 108.10078430175781, 0.0, 0.0, 0.0], [907.8621826171875, 0.0, 0.0, 0.0, 0.0, 0.0, 0.0], [924.003662109375, 0.0, 0.0, 0.0, 0.0, 0.0, 0.0], [874.2650756835938, 0.0, 0.0, 0.0, 0.0, 0.0, 0.0], [1361.7932739257812, 8376.89810180664, 0.0, 112.48812103271484, 0.0, 0.0, 0.0], [1386.0054931640625, 8597.703521728516, 0.0, 111.49139404296875, 0.0, 0.0, 0.0], [1311.3976135253906, 8390.415771484375, 0.0, 108.10078430175781, 0.0, 0.0, 0.0], [2950.5520935058594, 0.0, 0.0, 449.9524841308594, 768.34130859375, 0.0, 0.0], [3003.0119018554688, 0.0, 0.0, 445.965576171875, 785.737548828125, 0.0, 0.0], [2841.3614959716797, 0.0, 0.0, 432.40313720703125, 729.2113037109375, 0.0, 0.0], [0.0, 0.0, 0.0, 10348.907135009766, 0.0, 0.0, 0.0], [0.0, 0.0, 0.0, 10257.208251953125, 0.0, 0.0, 0.0], [0.0, 0.0, 0.0, 9945.272155761719, 0.0, 0.0, 0.0], [0.0, 0.0, 0.0, 0.0, 9988.43701171875, 0.0, 0.0], [0.0, 0.0, 0.0, 0.0, 10214.588134765625, 0.0, 0.0], [0.0, 0.0, 0.0, 0.0, 9479.746948242188, 0.0, 0.0], [0.0, 0.0, 0.0, 0.0, 9988.43701171875, 0.0, 0.0], [0.0, 0.0, 0.0, 0.0, 10214.588134765625, 0.0, 0.0], [0.0, 0.0, 0.0, 0.0, 9479.746948242188, 0.0, 0.0]])\n"
     ]
    }
   ],
   "source": [
    "print(m)"
   ]
  },
  {
   "cell_type": "code",
   "execution_count": 106,
   "id": "f6944ce6",
   "metadata": {
    "scrolled": true
   },
   "outputs": [
    {
     "name": "stderr",
     "output_type": "stream",
     "text": [
      "[*********************100%***********************]  1 of 1 completed\n"
     ]
    },
    {
     "name": "stdout",
     "output_type": "stream",
     "text": [
      "1/1 [==============================] - 0s 379ms/step\n",
      "1/1 [==============================] - 0s 16ms/step\n",
      "1/1 [==============================] - 0s 16ms/step\n",
      "1/1 [==============================] - 0s 15ms/step\n",
      "1/1 [==============================] - 0s 15ms/step\n",
      "1/1 [==============================] - 0s 15ms/step\n",
      "1/1 [==============================] - 0s 16ms/step\n",
      "1/1 [==============================] - 0s 15ms/step\n",
      "1/1 [==============================] - 0s 16ms/step\n",
      "1/1 [==============================] - 0s 16ms/step\n",
      "Predicted prices for the next 10 days:  [[226.44012]\n",
      " [225.90189]\n",
      " [225.73853]\n",
      " [225.72386]\n",
      " [225.80942]\n",
      " [225.96873]\n",
      " [226.18037]\n",
      " [226.42654]\n",
      " [226.69234]\n",
      " [226.96555]]\n"
     ]
    },
    {
     "name": "stderr",
     "output_type": "stream",
     "text": [
      "\r",
      "[*********************100%***********************]  1 of 1 completed"
     ]
    },
    {
     "name": "stdout",
     "output_type": "stream",
     "text": [
      "1/1 [==============================] - 0s 15ms/step\n",
      "1/1 [==============================] - 0s 16ms/step\n",
      "1/1 [==============================] - 0s 15ms/step\n",
      "1/1 [==============================] - 0s 15ms/step\n",
      "1/1 [==============================] - 0s 16ms/step\n",
      "1/1 [==============================] - ETA: 0s"
     ]
    },
    {
     "name": "stderr",
     "output_type": "stream",
     "text": [
      "\n"
     ]
    },
    {
     "name": "stdout",
     "output_type": "stream",
     "text": [
      "1/1 [==============================] - 0s 17ms/step\n",
      "1/1 [==============================] - 0s 15ms/step\n",
      "1/1 [==============================] - 0s 15ms/step\n",
      "1/1 [==============================] - 0s 15ms/step\n",
      "1/1 [==============================] - 0s 16ms/step\n",
      "Bullish predicted prices for the next 10 days:  [[224.35287]\n",
      " [224.916  ]\n",
      " [225.41035]\n",
      " [225.68057]\n",
      " [226.55957]\n",
      " [226.73575]\n",
      " [227.18484]\n",
      " [228.0402 ]\n",
      " [228.89146]\n",
      " [229.29114]]\n"
     ]
    },
    {
     "name": "stderr",
     "output_type": "stream",
     "text": [
      "\r",
      "[*********************100%***********************]  1 of 1 completed"
     ]
    },
    {
     "name": "stdout",
     "output_type": "stream",
     "text": [
      "1/1 [==============================] - 0s 16ms/step\n",
      "1/1 [==============================] - 0s 17ms/step\n",
      "1/1 [==============================] - 0s 16ms/step\n",
      "1/1 [==============================] - 0s 15ms/step\n",
      "1/1 [==============================] - 0s 15ms/step\n"
     ]
    },
    {
     "name": "stderr",
     "output_type": "stream",
     "text": [
      "\n"
     ]
    },
    {
     "name": "stdout",
     "output_type": "stream",
     "text": [
      "1/1 [==============================] - 0s 16ms/step\n",
      "1/1 [==============================] - 0s 16ms/step\n",
      "1/1 [==============================] - 0s 16ms/step\n",
      "1/1 [==============================] - 0s 15ms/step\n",
      "1/1 [==============================] - 0s 16ms/step\n",
      "Bearish predicted prices for the next 10 days:  [[222.81282]\n",
      " [222.3872 ]\n",
      " [222.04424]\n",
      " [222.0026 ]\n",
      " [221.21097]\n",
      " [220.56635]\n",
      " [219.9507 ]\n",
      " [219.78603]\n",
      " [219.09108]\n",
      " [219.00441]]\n"
     ]
    }
   ],
   "source": [
    "predicted_prices = predict_stock_price('AAPL', 10)\n",
    "print(\"Predicted prices for the next 10 days: \", predicted_prices)\n",
    "\n",
    "predicted_prices_bullish = predict_stock_price_bullish('AAPL', 10)\n",
    "print(\"Bullish predicted prices for the next 10 days: \", predicted_prices_bullish)\n",
    "\n",
    "predicted_prices_bearish = predict_stock_price_bearish('AAPL', 10)\n",
    "print(\"Bearish predicted prices for the next 10 days: \", predicted_prices_bearish)\n",
    "\n"
   ]
  },
  {
   "cell_type": "code",
   "execution_count": 107,
   "id": "5e171153",
   "metadata": {
    "scrolled": true
   },
   "outputs": [
    {
     "name": "stderr",
     "output_type": "stream",
     "text": [
      "\r",
      "[*********************100%***********************]  1 of 1 completed"
     ]
    },
    {
     "name": "stdout",
     "output_type": "stream",
     "text": [
      "1/1 [==============================] - 0s 16ms/step\n",
      "1/1 [==============================] - 0s 16ms/step\n",
      "1/1 [==============================] - 0s 16ms/step\n",
      "1/1 [==============================] - 0s 15ms/step\n",
      "1/1 [==============================] - ETA: 0s"
     ]
    },
    {
     "name": "stderr",
     "output_type": "stream",
     "text": [
      "\n"
     ]
    },
    {
     "name": "stdout",
     "output_type": "stream",
     "text": [
      "1/1 [==============================] - 0s 15ms/step\n",
      "1/1 [==============================] - 0s 15ms/step\n",
      "1/1 [==============================] - 0s 16ms/step\n",
      "1/1 [==============================] - 0s 16ms/step\n",
      "1/1 [==============================] - 0s 16ms/step\n",
      "1/1 [==============================] - 0s 16ms/step\n"
     ]
    },
    {
     "name": "stderr",
     "output_type": "stream",
     "text": [
      "\r",
      "[*********************100%***********************]  1 of 1 completed"
     ]
    },
    {
     "name": "stdout",
     "output_type": "stream",
     "text": [
      "1/1 [==============================] - 0s 16ms/step\n",
      "1/1 [==============================] - 0s 16ms/step\n",
      "1/1 [==============================] - 0s 15ms/step\n",
      "1/1 [==============================] - 0s 15ms/step\n",
      "1/1 [==============================] - 0s 16ms/step\n",
      "1/1 [==============================] - ETA: 0s"
     ]
    },
    {
     "name": "stderr",
     "output_type": "stream",
     "text": [
      "\n"
     ]
    },
    {
     "name": "stdout",
     "output_type": "stream",
     "text": [
      "1/1 [==============================] - 0s 16ms/step\n",
      "1/1 [==============================] - 0s 16ms/step\n",
      "1/1 [==============================] - 0s 16ms/step\n",
      "1/1 [==============================] - 0s 15ms/step\n",
      "1/1 [==============================] - 0s 16ms/step\n"
     ]
    },
    {
     "name": "stderr",
     "output_type": "stream",
     "text": [
      "[*********************100%***********************]  1 of 1 completed\n"
     ]
    },
    {
     "name": "stdout",
     "output_type": "stream",
     "text": [
      "1/1 [==============================] - 0s 385ms/step\n",
      "1/1 [==============================] - 0s 16ms/step\n",
      "1/1 [==============================] - 0s 16ms/step\n",
      "1/1 [==============================] - 0s 14ms/step\n",
      "1/1 [==============================] - 0s 15ms/step\n",
      "1/1 [==============================] - 0s 16ms/step\n",
      "1/1 [==============================] - 0s 15ms/step\n",
      "1/1 [==============================] - 0s 15ms/step\n",
      "1/1 [==============================] - 0s 17ms/step\n",
      "1/1 [==============================] - 0s 15ms/step\n"
     ]
    },
    {
     "name": "stderr",
     "output_type": "stream",
     "text": [
      "\r",
      "[*********************100%***********************]  1 of 1 completed"
     ]
    },
    {
     "name": "stdout",
     "output_type": "stream",
     "text": [
      "1/1 [==============================] - 0s 16ms/step\n",
      "1/1 [==============================] - 0s 16ms/step\n",
      "1/1 [==============================] - 0s 14ms/step\n",
      "1/1 [==============================] - 0s 15ms/step\n",
      "1/1 [==============================] - ETA: 0s"
     ]
    },
    {
     "name": "stderr",
     "output_type": "stream",
     "text": [
      "\n"
     ]
    },
    {
     "name": "stdout",
     "output_type": "stream",
     "text": [
      "1/1 [==============================] - 0s 15ms/step\n",
      "1/1 [==============================] - 0s 15ms/step\n",
      "1/1 [==============================] - 0s 17ms/step\n",
      "1/1 [==============================] - 0s 16ms/step\n",
      "1/1 [==============================] - 0s 15ms/step\n",
      "1/1 [==============================] - 0s 16ms/step\n"
     ]
    },
    {
     "name": "stderr",
     "output_type": "stream",
     "text": [
      "\r",
      "[*********************100%***********************]  1 of 1 completed"
     ]
    },
    {
     "name": "stdout",
     "output_type": "stream",
     "text": [
      "1/1 [==============================] - 0s 15ms/step\n",
      "1/1 [==============================] - 0s 15ms/step\n",
      "1/1 [==============================] - 0s 15ms/step\n",
      "1/1 [==============================] - 0s 15ms/step\n",
      "1/1 [==============================] - 0s 15ms/step\n"
     ]
    },
    {
     "name": "stderr",
     "output_type": "stream",
     "text": [
      "\n"
     ]
    },
    {
     "name": "stdout",
     "output_type": "stream",
     "text": [
      "1/1 [==============================] - 0s 15ms/step\n",
      "1/1 [==============================] - 0s 15ms/step\n",
      "1/1 [==============================] - 0s 15ms/step\n",
      "1/1 [==============================] - 0s 15ms/step\n",
      "1/1 [==============================] - 0s 15ms/step\n"
     ]
    },
    {
     "name": "stderr",
     "output_type": "stream",
     "text": [
      "[*********************100%***********************]  1 of 1 completed\n"
     ]
    },
    {
     "name": "stdout",
     "output_type": "stream",
     "text": [
      "1/1 [==============================] - 0s 388ms/step\n",
      "1/1 [==============================] - 0s 15ms/step\n",
      "1/1 [==============================] - 0s 16ms/step\n",
      "1/1 [==============================] - 0s 16ms/step\n",
      "1/1 [==============================] - 0s 16ms/step\n",
      "1/1 [==============================] - 0s 16ms/step\n",
      "1/1 [==============================] - 0s 15ms/step\n",
      "1/1 [==============================] - 0s 15ms/step\n",
      "1/1 [==============================] - 0s 15ms/step\n",
      "1/1 [==============================] - 0s 16ms/step\n"
     ]
    },
    {
     "name": "stderr",
     "output_type": "stream",
     "text": [
      "\r",
      "[*********************100%***********************]  1 of 1 completed"
     ]
    },
    {
     "name": "stdout",
     "output_type": "stream",
     "text": [
      "1/1 [==============================] - 0s 15ms/step\n",
      "1/1 [==============================] - 0s 15ms/step\n",
      "1/1 [==============================] - 0s 15ms/step\n",
      "1/1 [==============================] - 0s 16ms/step\n",
      "1/1 [==============================] - 0s 16ms/step\n"
     ]
    },
    {
     "name": "stderr",
     "output_type": "stream",
     "text": [
      "\n"
     ]
    },
    {
     "name": "stdout",
     "output_type": "stream",
     "text": [
      "1/1 [==============================] - 0s 15ms/step\n",
      "1/1 [==============================] - 0s 15ms/step\n",
      "1/1 [==============================] - 0s 16ms/step\n",
      "1/1 [==============================] - 0s 16ms/step\n",
      "1/1 [==============================] - 0s 16ms/step\n"
     ]
    },
    {
     "name": "stderr",
     "output_type": "stream",
     "text": [
      "\r",
      "[*********************100%***********************]  1 of 1 completed"
     ]
    },
    {
     "name": "stdout",
     "output_type": "stream",
     "text": [
      "1/1 [==============================] - 0s 15ms/step\n",
      "1/1 [==============================] - 0s 15ms/step\n",
      "1/1 [==============================] - 0s 16ms/step\n",
      "1/1 [==============================] - 0s 15ms/step\n",
      "1/1 [==============================] - 0s 15ms/step\n",
      "1/1 [==============================] - ETA: 0s"
     ]
    },
    {
     "name": "stderr",
     "output_type": "stream",
     "text": [
      "\n"
     ]
    },
    {
     "name": "stdout",
     "output_type": "stream",
     "text": [
      "1/1 [==============================] - 0s 14ms/step\n",
      "1/1 [==============================] - 0s 15ms/step\n",
      "1/1 [==============================] - 0s 16ms/step\n",
      "1/1 [==============================] - 0s 23ms/step\n",
      "1/1 [==============================] - 0s 17ms/step\n"
     ]
    },
    {
     "name": "stderr",
     "output_type": "stream",
     "text": [
      "[*********************100%***********************]  1 of 1 completed\n"
     ]
    },
    {
     "name": "stdout",
     "output_type": "stream",
     "text": [
      "1/1 [==============================] - 0s 390ms/step\n",
      "1/1 [==============================] - 0s 17ms/step\n",
      "1/1 [==============================] - 0s 16ms/step\n",
      "1/1 [==============================] - 0s 18ms/step\n",
      "1/1 [==============================] - 0s 17ms/step\n",
      "1/1 [==============================] - 0s 16ms/step\n",
      "1/1 [==============================] - 0s 15ms/step\n",
      "1/1 [==============================] - 0s 15ms/step\n",
      "1/1 [==============================] - 0s 16ms/step\n",
      "1/1 [==============================] - 0s 16ms/step\n"
     ]
    },
    {
     "name": "stderr",
     "output_type": "stream",
     "text": [
      "\r",
      "[*********************100%***********************]  1 of 1 completed"
     ]
    },
    {
     "name": "stdout",
     "output_type": "stream",
     "text": [
      "1/1 [==============================] - 0s 16ms/step\n",
      "1/1 [==============================] - 0s 15ms/step\n",
      "1/1 [==============================] - 0s 16ms/step\n",
      "1/1 [==============================] - 0s 15ms/step\n",
      "1/1 [==============================] - ETA: 0s"
     ]
    },
    {
     "name": "stderr",
     "output_type": "stream",
     "text": [
      "\n"
     ]
    },
    {
     "name": "stdout",
     "output_type": "stream",
     "text": [
      "1/1 [==============================] - 0s 17ms/step\n",
      "1/1 [==============================] - 0s 19ms/step\n",
      "1/1 [==============================] - 0s 18ms/step\n",
      "1/1 [==============================] - 0s 19ms/step\n",
      "1/1 [==============================] - 0s 16ms/step\n",
      "1/1 [==============================] - 0s 16ms/step\n"
     ]
    },
    {
     "name": "stderr",
     "output_type": "stream",
     "text": [
      "\r",
      "[*********************100%***********************]  1 of 1 completed"
     ]
    },
    {
     "name": "stdout",
     "output_type": "stream",
     "text": [
      "1/1 [==============================] - 0s 16ms/step\n",
      "1/1 [==============================] - 0s 16ms/step\n",
      "1/1 [==============================] - 0s 16ms/step\n",
      "1/1 [==============================] - 0s 16ms/step\n",
      "1/1 [==============================] - 0s 16ms/step\n",
      "1/1 [==============================] - ETA: 0s"
     ]
    },
    {
     "name": "stderr",
     "output_type": "stream",
     "text": [
      "\n"
     ]
    },
    {
     "name": "stdout",
     "output_type": "stream",
     "text": [
      "1/1 [==============================] - 0s 16ms/step\n",
      "1/1 [==============================] - 0s 16ms/step\n",
      "1/1 [==============================] - 0s 16ms/step\n",
      "1/1 [==============================] - 0s 15ms/step\n",
      "1/1 [==============================] - 0s 15ms/step\n"
     ]
    },
    {
     "name": "stderr",
     "output_type": "stream",
     "text": [
      "[*********************100%***********************]  1 of 1 completed\n"
     ]
    },
    {
     "name": "stdout",
     "output_type": "stream",
     "text": [
      "1/1 [==============================] - 0s 389ms/step\n",
      "1/1 [==============================] - 0s 16ms/step\n",
      "1/1 [==============================] - 0s 16ms/step\n",
      "1/1 [==============================] - 0s 16ms/step\n",
      "1/1 [==============================] - 0s 17ms/step\n",
      "1/1 [==============================] - 0s 16ms/step\n",
      "1/1 [==============================] - 0s 15ms/step\n",
      "1/1 [==============================] - 0s 16ms/step\n",
      "1/1 [==============================] - 0s 16ms/step\n",
      "1/1 [==============================] - 0s 15ms/step\n"
     ]
    },
    {
     "name": "stderr",
     "output_type": "stream",
     "text": [
      "\r",
      "[*********************100%***********************]  1 of 1 completed"
     ]
    },
    {
     "name": "stdout",
     "output_type": "stream",
     "text": [
      "1/1 [==============================] - 0s 15ms/step\n",
      "1/1 [==============================] - 0s 15ms/step\n",
      "1/1 [==============================] - 0s 17ms/step\n",
      "1/1 [==============================] - 0s 16ms/step\n",
      "1/1 [==============================] - 0s 16ms/step\n",
      "1/1 [==============================] - ETA: 0s"
     ]
    },
    {
     "name": "stderr",
     "output_type": "stream",
     "text": [
      "\n"
     ]
    },
    {
     "name": "stdout",
     "output_type": "stream",
     "text": [
      "1/1 [==============================] - 0s 15ms/step\n",
      "1/1 [==============================] - 0s 23ms/step\n",
      "1/1 [==============================] - 0s 16ms/step\n",
      "1/1 [==============================] - 0s 15ms/step\n",
      "1/1 [==============================] - 0s 16ms/step\n"
     ]
    },
    {
     "name": "stderr",
     "output_type": "stream",
     "text": [
      "\r",
      "[*********************100%***********************]  1 of 1 completed"
     ]
    },
    {
     "name": "stdout",
     "output_type": "stream",
     "text": [
      "1/1 [==============================] - 0s 14ms/step\n",
      "1/1 [==============================] - 0s 16ms/step\n",
      "1/1 [==============================] - 0s 15ms/step\n",
      "1/1 [==============================] - 0s 15ms/step\n",
      "1/1 [==============================] - 0s 16ms/step\n"
     ]
    },
    {
     "name": "stderr",
     "output_type": "stream",
     "text": [
      "\n"
     ]
    },
    {
     "name": "stdout",
     "output_type": "stream",
     "text": [
      "1/1 [==============================] - 0s 16ms/step\n",
      "1/1 [==============================] - 0s 15ms/step\n",
      "1/1 [==============================] - 0s 16ms/step\n",
      "1/1 [==============================] - 0s 15ms/step\n",
      "1/1 [==============================] - 0s 15ms/step\n"
     ]
    },
    {
     "name": "stderr",
     "output_type": "stream",
     "text": [
      "[*********************100%***********************]  1 of 1 completed\n"
     ]
    },
    {
     "name": "stdout",
     "output_type": "stream",
     "text": [
      "1/1 [==============================] - 0s 377ms/step\n",
      "1/1 [==============================] - 0s 15ms/step\n",
      "1/1 [==============================] - 0s 15ms/step\n",
      "1/1 [==============================] - 0s 16ms/step\n",
      "1/1 [==============================] - 0s 15ms/step\n",
      "1/1 [==============================] - 0s 16ms/step\n",
      "1/1 [==============================] - 0s 16ms/step\n",
      "1/1 [==============================] - 0s 15ms/step\n",
      "1/1 [==============================] - 0s 15ms/step\n",
      "1/1 [==============================] - 0s 15ms/step\n"
     ]
    },
    {
     "name": "stderr",
     "output_type": "stream",
     "text": [
      "\r",
      "[*********************100%***********************]  1 of 1 completed"
     ]
    },
    {
     "name": "stdout",
     "output_type": "stream",
     "text": [
      "1/1 [==============================] - 0s 15ms/step\n",
      "1/1 [==============================] - 0s 16ms/step\n",
      "1/1 [==============================] - 0s 16ms/step\n",
      "1/1 [==============================] - 0s 15ms/step\n",
      "1/1 [==============================] - 0s 14ms/step\n",
      "1/1 [==============================] - ETA: 0s"
     ]
    },
    {
     "name": "stderr",
     "output_type": "stream",
     "text": [
      "\n"
     ]
    },
    {
     "name": "stdout",
     "output_type": "stream",
     "text": [
      "1/1 [==============================] - 0s 16ms/step\n",
      "1/1 [==============================] - 0s 15ms/step\n",
      "1/1 [==============================] - 0s 16ms/step\n",
      "1/1 [==============================] - 0s 16ms/step\n",
      "1/1 [==============================] - 0s 14ms/step\n"
     ]
    },
    {
     "name": "stderr",
     "output_type": "stream",
     "text": [
      "\r",
      "[*********************100%***********************]  1 of 1 completed"
     ]
    },
    {
     "name": "stdout",
     "output_type": "stream",
     "text": [
      "1/1 [==============================] - 0s 14ms/step\n",
      "1/1 [==============================] - 0s 16ms/step\n",
      "1/1 [==============================] - 0s 15ms/step\n",
      "1/1 [==============================] - 0s 16ms/step\n",
      "1/1 [==============================] - 0s 15ms/step\n",
      "1/1 [==============================] - ETA: 0s"
     ]
    },
    {
     "name": "stderr",
     "output_type": "stream",
     "text": [
      "\n"
     ]
    },
    {
     "name": "stdout",
     "output_type": "stream",
     "text": [
      "1/1 [==============================] - 0s 15ms/step\n",
      "1/1 [==============================] - 0s 16ms/step\n",
      "1/1 [==============================] - 0s 15ms/step\n",
      "1/1 [==============================] - 0s 16ms/step\n",
      "1/1 [==============================] - 0s 15ms/step\n"
     ]
    },
    {
     "name": "stderr",
     "output_type": "stream",
     "text": [
      "[*********************100%***********************]  1 of 1 completed\n"
     ]
    },
    {
     "name": "stdout",
     "output_type": "stream",
     "text": [
      "1/1 [==============================] - 0s 373ms/step\n",
      "1/1 [==============================] - 0s 15ms/step\n",
      "1/1 [==============================] - 0s 15ms/step\n",
      "1/1 [==============================] - 0s 16ms/step\n",
      "1/1 [==============================] - 0s 15ms/step\n",
      "1/1 [==============================] - 0s 16ms/step\n",
      "1/1 [==============================] - 0s 17ms/step\n",
      "1/1 [==============================] - 0s 16ms/step\n",
      "1/1 [==============================] - 0s 15ms/step\n",
      "1/1 [==============================] - 0s 15ms/step\n"
     ]
    },
    {
     "name": "stderr",
     "output_type": "stream",
     "text": [
      "\r",
      "[*********************100%***********************]  1 of 1 completed"
     ]
    },
    {
     "name": "stdout",
     "output_type": "stream",
     "text": [
      "1/1 [==============================] - 0s 16ms/step\n",
      "1/1 [==============================] - 0s 14ms/step\n",
      "1/1 [==============================] - 0s 15ms/step\n",
      "1/1 [==============================] - 0s 15ms/step\n",
      "1/1 [==============================] - 0s 16ms/step\n"
     ]
    },
    {
     "name": "stderr",
     "output_type": "stream",
     "text": [
      "\n"
     ]
    },
    {
     "name": "stdout",
     "output_type": "stream",
     "text": [
      "1/1 [==============================] - 0s 15ms/step\n",
      "1/1 [==============================] - 0s 15ms/step\n",
      "1/1 [==============================] - 0s 16ms/step\n",
      "1/1 [==============================] - 0s 15ms/step\n",
      "1/1 [==============================] - 0s 15ms/step\n"
     ]
    },
    {
     "name": "stderr",
     "output_type": "stream",
     "text": [
      "\r",
      "[*********************100%***********************]  1 of 1 completed"
     ]
    },
    {
     "name": "stdout",
     "output_type": "stream",
     "text": [
      "1/1 [==============================] - 0s 16ms/step\n",
      "1/1 [==============================] - 0s 16ms/step\n",
      "1/1 [==============================] - 0s 16ms/step\n",
      "1/1 [==============================] - 0s 16ms/step\n",
      "1/1 [==============================] - 0s 15ms/step\n"
     ]
    },
    {
     "name": "stderr",
     "output_type": "stream",
     "text": [
      "\n"
     ]
    },
    {
     "name": "stdout",
     "output_type": "stream",
     "text": [
      "1/1 [==============================] - 0s 15ms/step\n",
      "1/1 [==============================] - 0s 16ms/step\n",
      "1/1 [==============================] - 0s 15ms/step\n",
      "1/1 [==============================] - 0s 19ms/step\n",
      "1/1 [==============================] - 0s 14ms/step\n"
     ]
    },
    {
     "name": "stderr",
     "output_type": "stream",
     "text": [
      "[*********************100%***********************]  1 of 1 completed\n"
     ]
    },
    {
     "name": "stdout",
     "output_type": "stream",
     "text": [
      "1/1 [==============================] - 0s 399ms/step\n",
      "1/1 [==============================] - 0s 16ms/step\n",
      "1/1 [==============================] - 0s 16ms/step\n",
      "1/1 [==============================] - 0s 16ms/step\n",
      "1/1 [==============================] - 0s 17ms/step\n",
      "1/1 [==============================] - 0s 17ms/step\n",
      "1/1 [==============================] - 0s 16ms/step\n",
      "1/1 [==============================] - 0s 17ms/step\n",
      "1/1 [==============================] - 0s 21ms/step\n",
      "1/1 [==============================] - 0s 18ms/step\n"
     ]
    },
    {
     "name": "stderr",
     "output_type": "stream",
     "text": [
      "\r",
      "[*********************100%***********************]  1 of 1 completed"
     ]
    },
    {
     "name": "stdout",
     "output_type": "stream",
     "text": [
      "1/1 [==============================] - 0s 15ms/step\n",
      "1/1 [==============================] - 0s 16ms/step\n",
      "1/1 [==============================] - 0s 17ms/step\n",
      "1/1 [==============================] - 0s 17ms/step\n",
      "1/1 [==============================] - ETA: 0s"
     ]
    },
    {
     "name": "stderr",
     "output_type": "stream",
     "text": [
      "\n"
     ]
    },
    {
     "name": "stdout",
     "output_type": "stream",
     "text": [
      "1/1 [==============================] - 0s 15ms/step\n",
      "1/1 [==============================] - 0s 15ms/step\n",
      "1/1 [==============================] - 0s 17ms/step\n",
      "1/1 [==============================] - 0s 15ms/step\n",
      "1/1 [==============================] - 0s 16ms/step\n",
      "1/1 [==============================] - 0s 16ms/step\n"
     ]
    },
    {
     "name": "stderr",
     "output_type": "stream",
     "text": [
      "\r",
      "[*********************100%***********************]  1 of 1 completed"
     ]
    },
    {
     "name": "stdout",
     "output_type": "stream",
     "text": [
      "1/1 [==============================] - 0s 17ms/step\n",
      "1/1 [==============================] - 0s 17ms/step\n",
      "1/1 [==============================] - 0s 16ms/step\n",
      "1/1 [==============================] - 0s 17ms/step\n",
      "1/1 [==============================] - ETA: 0s"
     ]
    },
    {
     "name": "stderr",
     "output_type": "stream",
     "text": [
      "\n"
     ]
    },
    {
     "name": "stdout",
     "output_type": "stream",
     "text": [
      "1/1 [==============================] - 0s 17ms/step\n",
      "1/1 [==============================] - 0s 17ms/step\n",
      "1/1 [==============================] - 0s 17ms/step\n",
      "1/1 [==============================] - 0s 16ms/step\n",
      "1/1 [==============================] - 0s 17ms/step\n",
      "1/1 [==============================] - 0s 17ms/step\n"
     ]
    },
    {
     "name": "stderr",
     "output_type": "stream",
     "text": [
      "[*********************100%***********************]  1 of 1 completed\n"
     ]
    },
    {
     "name": "stdout",
     "output_type": "stream",
     "text": [
      "1/1 [==============================] - 0s 411ms/step\n",
      "1/1 [==============================] - 0s 16ms/step\n",
      "1/1 [==============================] - 0s 16ms/step\n",
      "1/1 [==============================] - 0s 15ms/step\n",
      "1/1 [==============================] - 0s 15ms/step\n",
      "1/1 [==============================] - 0s 15ms/step\n",
      "1/1 [==============================] - 0s 16ms/step\n",
      "1/1 [==============================] - 0s 16ms/step\n",
      "1/1 [==============================] - 0s 15ms/step\n",
      "1/1 [==============================] - 0s 15ms/step\n"
     ]
    },
    {
     "name": "stderr",
     "output_type": "stream",
     "text": [
      "\r",
      "[*********************100%***********************]  1 of 1 completed"
     ]
    },
    {
     "name": "stdout",
     "output_type": "stream",
     "text": [
      "1/1 [==============================] - 0s 15ms/step\n",
      "1/1 [==============================] - 0s 16ms/step\n",
      "1/1 [==============================] - 0s 16ms/step\n",
      "1/1 [==============================] - 0s 15ms/step\n",
      "1/1 [==============================] - ETA: 0s"
     ]
    },
    {
     "name": "stderr",
     "output_type": "stream",
     "text": [
      "\n"
     ]
    },
    {
     "name": "stdout",
     "output_type": "stream",
     "text": [
      "1/1 [==============================] - 0s 16ms/step\n",
      "1/1 [==============================] - 0s 17ms/step\n",
      "1/1 [==============================] - 0s 15ms/step\n",
      "1/1 [==============================] - 0s 15ms/step\n",
      "1/1 [==============================] - 0s 15ms/step\n",
      "1/1 [==============================] - 0s 15ms/step\n"
     ]
    },
    {
     "name": "stderr",
     "output_type": "stream",
     "text": [
      "\r",
      "[*********************100%***********************]  1 of 1 completed"
     ]
    },
    {
     "name": "stdout",
     "output_type": "stream",
     "text": [
      "1/1 [==============================] - 0s 17ms/step\n",
      "1/1 [==============================] - 0s 16ms/step\n",
      "1/1 [==============================] - 0s 17ms/step\n",
      "1/1 [==============================] - 0s 18ms/step\n",
      "1/1 [==============================] - ETA: 0s"
     ]
    },
    {
     "name": "stderr",
     "output_type": "stream",
     "text": [
      "\n"
     ]
    },
    {
     "name": "stdout",
     "output_type": "stream",
     "text": [
      "1/1 [==============================] - 0s 19ms/step\n",
      "1/1 [==============================] - 0s 17ms/step\n",
      "1/1 [==============================] - 0s 16ms/step\n",
      "1/1 [==============================] - 0s 16ms/step\n",
      "1/1 [==============================] - 0s 16ms/step\n",
      "1/1 [==============================] - 0s 16ms/step\n"
     ]
    },
    {
     "name": "stderr",
     "output_type": "stream",
     "text": [
      "[*********************100%***********************]  1 of 1 completed\n"
     ]
    },
    {
     "name": "stdout",
     "output_type": "stream",
     "text": [
      "1/1 [==============================] - 0s 434ms/step\n",
      "1/1 [==============================] - 0s 16ms/step\n",
      "1/1 [==============================] - 0s 16ms/step\n",
      "1/1 [==============================] - 0s 15ms/step\n",
      "1/1 [==============================] - 0s 15ms/step\n",
      "1/1 [==============================] - 0s 16ms/step\n",
      "1/1 [==============================] - 0s 16ms/step\n",
      "1/1 [==============================] - 0s 16ms/step\n",
      "1/1 [==============================] - 0s 16ms/step\n",
      "1/1 [==============================] - 0s 15ms/step\n"
     ]
    },
    {
     "name": "stderr",
     "output_type": "stream",
     "text": [
      "\r",
      "[*********************100%***********************]  1 of 1 completed"
     ]
    },
    {
     "name": "stdout",
     "output_type": "stream",
     "text": [
      "1/1 [==============================] - 0s 16ms/step\n",
      "1/1 [==============================] - 0s 16ms/step\n",
      "1/1 [==============================] - 0s 16ms/step\n",
      "1/1 [==============================] - 0s 17ms/step\n",
      "1/1 [==============================] - 0s 17ms/step\n"
     ]
    },
    {
     "name": "stderr",
     "output_type": "stream",
     "text": [
      "\n"
     ]
    },
    {
     "name": "stdout",
     "output_type": "stream",
     "text": [
      "1/1 [==============================] - 0s 17ms/step\n",
      "1/1 [==============================] - 0s 15ms/step\n",
      "1/1 [==============================] - 0s 16ms/step\n",
      "1/1 [==============================] - 0s 16ms/step\n",
      "1/1 [==============================] - 0s 16ms/step\n"
     ]
    },
    {
     "name": "stderr",
     "output_type": "stream",
     "text": [
      "\r",
      "[*********************100%***********************]  1 of 1 completed"
     ]
    },
    {
     "name": "stdout",
     "output_type": "stream",
     "text": [
      "1/1 [==============================] - 0s 16ms/step\n",
      "1/1 [==============================] - 0s 16ms/step\n",
      "1/1 [==============================] - 0s 16ms/step\n",
      "1/1 [==============================] - 0s 16ms/step\n",
      "1/1 [==============================] - 0s 15ms/step\n",
      "1/1 [==============================] - ETA: 0s"
     ]
    },
    {
     "name": "stderr",
     "output_type": "stream",
     "text": [
      "\n"
     ]
    },
    {
     "name": "stdout",
     "output_type": "stream",
     "text": [
      "1/1 [==============================] - 0s 17ms/step\n",
      "1/1 [==============================] - 0s 16ms/step\n",
      "1/1 [==============================] - 0s 20ms/step\n",
      "1/1 [==============================] - 0s 16ms/step\n",
      "1/1 [==============================] - 0s 17ms/step\n"
     ]
    },
    {
     "name": "stderr",
     "output_type": "stream",
     "text": [
      "[*********************100%***********************]  1 of 1 completed\n"
     ]
    },
    {
     "name": "stdout",
     "output_type": "stream",
     "text": [
      "1/1 [==============================] - 0s 396ms/step\n",
      "1/1 [==============================] - 0s 16ms/step\n",
      "1/1 [==============================] - 0s 15ms/step\n",
      "1/1 [==============================] - 0s 15ms/step\n",
      "1/1 [==============================] - 0s 17ms/step\n",
      "1/1 [==============================] - 0s 17ms/step\n",
      "1/1 [==============================] - 0s 18ms/step\n",
      "1/1 [==============================] - 0s 16ms/step\n",
      "1/1 [==============================] - 0s 17ms/step\n",
      "1/1 [==============================] - 0s 17ms/step\n"
     ]
    },
    {
     "name": "stderr",
     "output_type": "stream",
     "text": [
      "\r",
      "[*********************100%***********************]  1 of 1 completed"
     ]
    },
    {
     "name": "stdout",
     "output_type": "stream",
     "text": [
      "1/1 [==============================] - 0s 17ms/step\n",
      "1/1 [==============================] - 0s 22ms/step\n",
      "1/1 [==============================] - 0s 20ms/step\n",
      "1/1 [==============================] - 0s 16ms/step\n"
     ]
    },
    {
     "name": "stderr",
     "output_type": "stream",
     "text": [
      "\n"
     ]
    },
    {
     "name": "stdout",
     "output_type": "stream",
     "text": [
      "1/1 [==============================] - 0s 18ms/step\n",
      "1/1 [==============================] - 0s 17ms/step\n",
      "1/1 [==============================] - 0s 16ms/step\n",
      "1/1 [==============================] - 0s 16ms/step\n",
      "1/1 [==============================] - 0s 16ms/step\n",
      "1/1 [==============================] - 0s 17ms/step\n"
     ]
    },
    {
     "name": "stderr",
     "output_type": "stream",
     "text": [
      "\r",
      "[*********************100%***********************]  1 of 1 completed"
     ]
    },
    {
     "name": "stdout",
     "output_type": "stream",
     "text": [
      "1/1 [==============================] - 0s 20ms/step\n",
      "1/1 [==============================] - 0s 18ms/step\n",
      "1/1 [==============================] - 0s 17ms/step\n",
      "1/1 [==============================] - 0s 18ms/step\n",
      "1/1 [==============================] - ETA: 0s"
     ]
    },
    {
     "name": "stderr",
     "output_type": "stream",
     "text": [
      "\n"
     ]
    },
    {
     "name": "stdout",
     "output_type": "stream",
     "text": [
      "1/1 [==============================] - 0s 17ms/step\n",
      "1/1 [==============================] - 0s 17ms/step\n",
      "1/1 [==============================] - 0s 19ms/step\n",
      "1/1 [==============================] - 0s 17ms/step\n",
      "1/1 [==============================] - 0s 17ms/step\n",
      "1/1 [==============================] - 0s 17ms/step\n"
     ]
    },
    {
     "name": "stderr",
     "output_type": "stream",
     "text": [
      "[*********************100%***********************]  1 of 1 completed\n"
     ]
    },
    {
     "name": "stdout",
     "output_type": "stream",
     "text": [
      "1/1 [==============================] - 0s 410ms/step\n",
      "1/1 [==============================] - 0s 16ms/step\n",
      "1/1 [==============================] - 0s 17ms/step\n",
      "1/1 [==============================] - 0s 17ms/step\n",
      "1/1 [==============================] - 0s 16ms/step\n",
      "1/1 [==============================] - 0s 16ms/step\n",
      "1/1 [==============================] - 0s 16ms/step\n",
      "1/1 [==============================] - 0s 17ms/step\n",
      "1/1 [==============================] - 0s 16ms/step\n",
      "1/1 [==============================] - 0s 17ms/step\n"
     ]
    },
    {
     "name": "stderr",
     "output_type": "stream",
     "text": [
      "\r",
      "[*********************100%***********************]  1 of 1 completed"
     ]
    },
    {
     "name": "stdout",
     "output_type": "stream",
     "text": [
      "1/1 [==============================] - 0s 16ms/step\n",
      "1/1 [==============================] - 0s 17ms/step\n",
      "1/1 [==============================] - 0s 17ms/step\n",
      "1/1 [==============================] - 0s 15ms/step\n",
      "1/1 [==============================] - ETA: 0s"
     ]
    },
    {
     "name": "stderr",
     "output_type": "stream",
     "text": [
      "\n"
     ]
    },
    {
     "name": "stdout",
     "output_type": "stream",
     "text": [
      "1/1 [==============================] - 0s 16ms/step\n",
      "1/1 [==============================] - 0s 17ms/step\n",
      "1/1 [==============================] - 0s 15ms/step\n",
      "1/1 [==============================] - 0s 16ms/step\n",
      "1/1 [==============================] - 0s 16ms/step\n",
      "1/1 [==============================] - 0s 16ms/step\n"
     ]
    },
    {
     "name": "stderr",
     "output_type": "stream",
     "text": [
      "\r",
      "[*********************100%***********************]  1 of 1 completed"
     ]
    },
    {
     "name": "stdout",
     "output_type": "stream",
     "text": [
      "1/1 [==============================] - 0s 17ms/step\n",
      "1/1 [==============================] - 0s 17ms/step\n",
      "1/1 [==============================] - 0s 17ms/step\n",
      "1/1 [==============================] - 0s 17ms/step\n",
      "1/1 [==============================] - ETA: 0s"
     ]
    },
    {
     "name": "stderr",
     "output_type": "stream",
     "text": [
      "\n"
     ]
    },
    {
     "name": "stdout",
     "output_type": "stream",
     "text": [
      "1/1 [==============================] - 0s 17ms/step\n",
      "1/1 [==============================] - 0s 16ms/step\n",
      "1/1 [==============================] - 0s 17ms/step\n",
      "1/1 [==============================] - 0s 16ms/step\n",
      "1/1 [==============================] - 0s 17ms/step\n",
      "1/1 [==============================] - 0s 17ms/step\n"
     ]
    },
    {
     "name": "stderr",
     "output_type": "stream",
     "text": [
      "[*********************100%***********************]  1 of 1 completed\n"
     ]
    },
    {
     "name": "stdout",
     "output_type": "stream",
     "text": [
      "1/1 [==============================] - 0s 389ms/step\n",
      "1/1 [==============================] - 0s 16ms/step\n",
      "1/1 [==============================] - 0s 17ms/step\n",
      "1/1 [==============================] - 0s 17ms/step\n",
      "1/1 [==============================] - 0s 16ms/step\n",
      "1/1 [==============================] - 0s 17ms/step\n",
      "1/1 [==============================] - 0s 17ms/step\n",
      "1/1 [==============================] - 0s 16ms/step\n",
      "1/1 [==============================] - 0s 16ms/step\n",
      "1/1 [==============================] - 0s 16ms/step\n"
     ]
    },
    {
     "name": "stderr",
     "output_type": "stream",
     "text": [
      "\r",
      "[*********************100%***********************]  1 of 1 completed"
     ]
    },
    {
     "name": "stdout",
     "output_type": "stream",
     "text": [
      "1/1 [==============================] - 0s 16ms/step\n",
      "1/1 [==============================] - 0s 16ms/step\n",
      "1/1 [==============================] - 0s 15ms/step\n",
      "1/1 [==============================] - 0s 15ms/step\n",
      "1/1 [==============================] - ETA: 0s"
     ]
    },
    {
     "name": "stderr",
     "output_type": "stream",
     "text": [
      "\n"
     ]
    },
    {
     "name": "stdout",
     "output_type": "stream",
     "text": [
      "1/1 [==============================] - 0s 16ms/step\n",
      "1/1 [==============================] - 0s 15ms/step\n",
      "1/1 [==============================] - 0s 16ms/step\n",
      "1/1 [==============================] - 0s 17ms/step\n",
      "1/1 [==============================] - 0s 16ms/step\n",
      "1/1 [==============================] - 0s 15ms/step\n"
     ]
    },
    {
     "name": "stderr",
     "output_type": "stream",
     "text": [
      "\r",
      "[*********************100%***********************]  1 of 1 completed"
     ]
    },
    {
     "name": "stdout",
     "output_type": "stream",
     "text": [
      "1/1 [==============================] - 0s 17ms/step\n",
      "1/1 [==============================] - 0s 15ms/step\n",
      "1/1 [==============================] - 0s 16ms/step\n",
      "1/1 [==============================] - 0s 15ms/step\n",
      "1/1 [==============================] - 0s 16ms/step\n",
      "1/1 [==============================] - ETA: 0s"
     ]
    },
    {
     "name": "stderr",
     "output_type": "stream",
     "text": [
      "\n"
     ]
    },
    {
     "name": "stdout",
     "output_type": "stream",
     "text": [
      "1/1 [==============================] - 0s 16ms/step\n",
      "1/1 [==============================] - 0s 16ms/step\n",
      "1/1 [==============================] - 0s 17ms/step\n",
      "1/1 [==============================] - 0s 17ms/step\n",
      "1/1 [==============================] - 0s 16ms/step\n"
     ]
    },
    {
     "name": "stderr",
     "output_type": "stream",
     "text": [
      "[*********************100%***********************]  1 of 1 completed\n"
     ]
    },
    {
     "name": "stdout",
     "output_type": "stream",
     "text": [
      "1/1 [==============================] - 0s 386ms/step\n",
      "1/1 [==============================] - 0s 16ms/step\n",
      "1/1 [==============================] - 0s 16ms/step\n",
      "1/1 [==============================] - 0s 16ms/step\n",
      "1/1 [==============================] - 0s 16ms/step\n",
      "1/1 [==============================] - 0s 16ms/step\n",
      "1/1 [==============================] - 0s 16ms/step\n",
      "1/1 [==============================] - 0s 16ms/step\n",
      "1/1 [==============================] - 0s 16ms/step\n",
      "1/1 [==============================] - 0s 17ms/step\n"
     ]
    },
    {
     "name": "stderr",
     "output_type": "stream",
     "text": [
      "\r",
      "[*********************100%***********************]  1 of 1 completed"
     ]
    },
    {
     "name": "stdout",
     "output_type": "stream",
     "text": [
      "1/1 [==============================] - 0s 15ms/step\n",
      "1/1 [==============================] - 0s 15ms/step\n",
      "1/1 [==============================] - 0s 15ms/step\n",
      "1/1 [==============================] - 0s 16ms/step\n",
      "1/1 [==============================] - 0s 15ms/step\n",
      "1/1 [==============================] - ETA: 0s"
     ]
    },
    {
     "name": "stderr",
     "output_type": "stream",
     "text": [
      "\n"
     ]
    },
    {
     "name": "stdout",
     "output_type": "stream",
     "text": [
      "1/1 [==============================] - 0s 17ms/step\n",
      "1/1 [==============================] - 0s 16ms/step\n",
      "1/1 [==============================] - 0s 16ms/step\n",
      "1/1 [==============================] - 0s 17ms/step\n",
      "1/1 [==============================] - 0s 16ms/step\n"
     ]
    },
    {
     "name": "stderr",
     "output_type": "stream",
     "text": [
      "\r",
      "[*********************100%***********************]  1 of 1 completed"
     ]
    },
    {
     "name": "stdout",
     "output_type": "stream",
     "text": [
      "1/1 [==============================] - 0s 17ms/step\n",
      "1/1 [==============================] - 0s 15ms/step\n",
      "1/1 [==============================] - 0s 16ms/step\n",
      "1/1 [==============================] - 0s 16ms/step\n",
      "1/1 [==============================] - ETA: 0s"
     ]
    },
    {
     "name": "stderr",
     "output_type": "stream",
     "text": [
      "\n"
     ]
    },
    {
     "name": "stdout",
     "output_type": "stream",
     "text": [
      "1/1 [==============================] - 0s 17ms/step\n",
      "1/1 [==============================] - 0s 16ms/step\n",
      "1/1 [==============================] - 0s 16ms/step\n",
      "1/1 [==============================] - 0s 16ms/step\n",
      "1/1 [==============================] - 0s 17ms/step\n",
      "1/1 [==============================] - 0s 16ms/step\n"
     ]
    },
    {
     "name": "stderr",
     "output_type": "stream",
     "text": [
      "[*********************100%***********************]  1 of 1 completed\n"
     ]
    },
    {
     "name": "stdout",
     "output_type": "stream",
     "text": [
      "1/1 [==============================] - 0s 402ms/step\n",
      "1/1 [==============================] - 0s 16ms/step\n",
      "1/1 [==============================] - 0s 16ms/step\n",
      "1/1 [==============================] - 0s 17ms/step\n",
      "1/1 [==============================] - 0s 16ms/step\n",
      "1/1 [==============================] - 0s 16ms/step\n",
      "1/1 [==============================] - 0s 16ms/step\n",
      "1/1 [==============================] - 0s 16ms/step\n",
      "1/1 [==============================] - 0s 15ms/step\n",
      "1/1 [==============================] - 0s 17ms/step\n"
     ]
    },
    {
     "name": "stderr",
     "output_type": "stream",
     "text": [
      "\r",
      "[*********************100%***********************]  1 of 1 completed"
     ]
    },
    {
     "name": "stdout",
     "output_type": "stream",
     "text": [
      "1/1 [==============================] - 0s 15ms/step\n",
      "1/1 [==============================] - 0s 15ms/step\n",
      "1/1 [==============================] - 0s 15ms/step\n",
      "1/1 [==============================] - 0s 15ms/step\n",
      "1/1 [==============================] - 0s 16ms/step\n",
      "1/1 [==============================] - ETA: 0s"
     ]
    },
    {
     "name": "stderr",
     "output_type": "stream",
     "text": [
      "\n"
     ]
    },
    {
     "name": "stdout",
     "output_type": "stream",
     "text": [
      "1/1 [==============================] - 0s 15ms/step\n",
      "1/1 [==============================] - 0s 15ms/step\n",
      "1/1 [==============================] - 0s 15ms/step\n",
      "1/1 [==============================] - 0s 17ms/step\n",
      "1/1 [==============================] - 0s 16ms/step\n"
     ]
    },
    {
     "name": "stderr",
     "output_type": "stream",
     "text": [
      "\r",
      "[*********************100%***********************]  1 of 1 completed"
     ]
    },
    {
     "name": "stdout",
     "output_type": "stream",
     "text": [
      "1/1 [==============================] - 0s 16ms/step\n",
      "1/1 [==============================] - 0s 16ms/step\n",
      "1/1 [==============================] - 0s 16ms/step\n",
      "1/1 [==============================] - 0s 20ms/step\n",
      "1/1 [==============================] - ETA: 0s"
     ]
    },
    {
     "name": "stderr",
     "output_type": "stream",
     "text": [
      "\n"
     ]
    },
    {
     "name": "stdout",
     "output_type": "stream",
     "text": [
      "1/1 [==============================] - 0s 16ms/step\n",
      "1/1 [==============================] - 0s 18ms/step\n",
      "1/1 [==============================] - 0s 17ms/step\n",
      "1/1 [==============================] - 0s 17ms/step\n",
      "1/1 [==============================] - 0s 16ms/step\n",
      "1/1 [==============================] - 0s 17ms/step\n"
     ]
    },
    {
     "name": "stderr",
     "output_type": "stream",
     "text": [
      "[*********************100%***********************]  1 of 1 completed\n"
     ]
    },
    {
     "name": "stdout",
     "output_type": "stream",
     "text": [
      "1/1 [==============================] - 0s 411ms/step\n",
      "1/1 [==============================] - 0s 16ms/step\n",
      "1/1 [==============================] - 0s 16ms/step\n",
      "1/1 [==============================] - 0s 17ms/step\n",
      "1/1 [==============================] - 0s 15ms/step\n",
      "1/1 [==============================] - 0s 16ms/step\n",
      "1/1 [==============================] - 0s 17ms/step\n",
      "1/1 [==============================] - 0s 18ms/step\n",
      "1/1 [==============================] - 0s 16ms/step\n",
      "1/1 [==============================] - 0s 16ms/step\n"
     ]
    },
    {
     "name": "stderr",
     "output_type": "stream",
     "text": [
      "\r",
      "[*********************100%***********************]  1 of 1 completed"
     ]
    },
    {
     "name": "stdout",
     "output_type": "stream",
     "text": [
      "1/1 [==============================] - 0s 16ms/step\n",
      "1/1 [==============================] - 0s 17ms/step\n",
      "1/1 [==============================] - 0s 16ms/step\n",
      "1/1 [==============================] - 0s 15ms/step\n",
      "1/1 [==============================] - ETA: 0s"
     ]
    },
    {
     "name": "stderr",
     "output_type": "stream",
     "text": [
      "\n"
     ]
    },
    {
     "name": "stdout",
     "output_type": "stream",
     "text": [
      "1/1 [==============================] - 0s 22ms/step\n",
      "1/1 [==============================] - 0s 21ms/step\n",
      "1/1 [==============================] - 0s 18ms/step\n",
      "1/1 [==============================] - 0s 16ms/step\n",
      "1/1 [==============================] - 0s 17ms/step\n",
      "1/1 [==============================] - 0s 16ms/step\n"
     ]
    },
    {
     "name": "stderr",
     "output_type": "stream",
     "text": [
      "\r",
      "[*********************100%***********************]  1 of 1 completed"
     ]
    },
    {
     "name": "stdout",
     "output_type": "stream",
     "text": [
      "1/1 [==============================] - 0s 16ms/step\n",
      "1/1 [==============================] - 0s 15ms/step\n",
      "1/1 [==============================] - 0s 17ms/step\n",
      "1/1 [==============================] - 0s 16ms/step\n",
      "1/1 [==============================] - 0s 17ms/step\n",
      "1/1 [==============================] - ETA: 0s"
     ]
    },
    {
     "name": "stderr",
     "output_type": "stream",
     "text": [
      "\n"
     ]
    },
    {
     "name": "stdout",
     "output_type": "stream",
     "text": [
      "1/1 [==============================] - 0s 15ms/step\n",
      "1/1 [==============================] - 0s 17ms/step\n",
      "1/1 [==============================] - 0s 16ms/step\n",
      "1/1 [==============================] - 0s 15ms/step\n",
      "1/1 [==============================] - 0s 16ms/step\n"
     ]
    },
    {
     "name": "stderr",
     "output_type": "stream",
     "text": [
      "[*********************100%***********************]  1 of 1 completed\n"
     ]
    },
    {
     "name": "stdout",
     "output_type": "stream",
     "text": [
      "1/1 [==============================] - 0s 397ms/step\n",
      "1/1 [==============================] - 0s 16ms/step\n",
      "1/1 [==============================] - 0s 16ms/step\n",
      "1/1 [==============================] - 0s 16ms/step\n",
      "1/1 [==============================] - 0s 16ms/step\n",
      "1/1 [==============================] - 0s 17ms/step\n",
      "1/1 [==============================] - 0s 17ms/step\n",
      "1/1 [==============================] - 0s 16ms/step\n",
      "1/1 [==============================] - 0s 16ms/step\n",
      "1/1 [==============================] - 0s 17ms/step\n"
     ]
    },
    {
     "name": "stderr",
     "output_type": "stream",
     "text": [
      "\r",
      "[*********************100%***********************]  1 of 1 completed"
     ]
    },
    {
     "name": "stdout",
     "output_type": "stream",
     "text": [
      "1/1 [==============================] - 0s 17ms/step\n",
      "1/1 [==============================] - 0s 16ms/step\n",
      "1/1 [==============================] - 0s 15ms/step\n",
      "1/1 [==============================] - 0s 16ms/step\n",
      "1/1 [==============================] - 0s 16ms/step\n"
     ]
    },
    {
     "name": "stderr",
     "output_type": "stream",
     "text": [
      "\n"
     ]
    },
    {
     "name": "stdout",
     "output_type": "stream",
     "text": [
      "1/1 [==============================] - 0s 19ms/step\n",
      "1/1 [==============================] - 0s 16ms/step\n",
      "1/1 [==============================] - 0s 16ms/step\n",
      "1/1 [==============================] - 0s 18ms/step\n",
      "1/1 [==============================] - 0s 17ms/step\n"
     ]
    },
    {
     "name": "stderr",
     "output_type": "stream",
     "text": [
      "\r",
      "[*********************100%***********************]  1 of 1 completed"
     ]
    },
    {
     "name": "stdout",
     "output_type": "stream",
     "text": [
      "1/1 [==============================] - 0s 16ms/step\n",
      "1/1 [==============================] - 0s 15ms/step\n",
      "1/1 [==============================] - 0s 16ms/step\n",
      "1/1 [==============================] - 0s 16ms/step\n",
      "1/1 [==============================] - ETA: 0s"
     ]
    },
    {
     "name": "stderr",
     "output_type": "stream",
     "text": [
      "\n"
     ]
    },
    {
     "name": "stdout",
     "output_type": "stream",
     "text": [
      "1/1 [==============================] - 0s 16ms/step\n",
      "1/1 [==============================] - 0s 15ms/step\n",
      "1/1 [==============================] - 0s 17ms/step\n",
      "1/1 [==============================] - 0s 16ms/step\n",
      "1/1 [==============================] - 0s 16ms/step\n",
      "1/1 [==============================] - 0s 16ms/step\n"
     ]
    },
    {
     "name": "stderr",
     "output_type": "stream",
     "text": [
      "[*********************100%***********************]  1 of 1 completed\n"
     ]
    },
    {
     "name": "stdout",
     "output_type": "stream",
     "text": [
      "1/1 [==============================] - 0s 405ms/step\n",
      "1/1 [==============================] - 0s 18ms/step\n",
      "1/1 [==============================] - 0s 16ms/step\n",
      "1/1 [==============================] - 0s 15ms/step\n",
      "1/1 [==============================] - 0s 17ms/step\n",
      "1/1 [==============================] - 0s 16ms/step\n",
      "1/1 [==============================] - 0s 17ms/step\n",
      "1/1 [==============================] - 0s 17ms/step\n",
      "1/1 [==============================] - 0s 17ms/step\n",
      "1/1 [==============================] - 0s 17ms/step\n"
     ]
    },
    {
     "name": "stderr",
     "output_type": "stream",
     "text": [
      "\r",
      "[*********************100%***********************]  1 of 1 completed"
     ]
    },
    {
     "name": "stdout",
     "output_type": "stream",
     "text": [
      "1/1 [==============================] - 0s 17ms/step\n",
      "1/1 [==============================] - 0s 17ms/step\n",
      "1/1 [==============================] - 0s 17ms/step\n",
      "1/1 [==============================] - 0s 19ms/step\n"
     ]
    },
    {
     "name": "stderr",
     "output_type": "stream",
     "text": [
      "\n"
     ]
    },
    {
     "name": "stdout",
     "output_type": "stream",
     "text": [
      "1/1 [==============================] - 0s 17ms/step\n",
      "1/1 [==============================] - 0s 16ms/step\n",
      "1/1 [==============================] - 0s 17ms/step\n",
      "1/1 [==============================] - 0s 17ms/step\n",
      "1/1 [==============================] - 0s 26ms/step\n",
      "1/1 [==============================] - 0s 18ms/step\n"
     ]
    },
    {
     "name": "stderr",
     "output_type": "stream",
     "text": [
      "\r",
      "[*********************100%***********************]  1 of 1 completed"
     ]
    },
    {
     "name": "stdout",
     "output_type": "stream",
     "text": [
      "1/1 [==============================] - 0s 18ms/step\n",
      "1/1 [==============================] - 0s 17ms/step\n",
      "1/1 [==============================] - 0s 17ms/step\n",
      "1/1 [==============================] - 0s 17ms/step\n",
      "1/1 [==============================] - ETA: 0s"
     ]
    },
    {
     "name": "stderr",
     "output_type": "stream",
     "text": [
      "\n"
     ]
    },
    {
     "name": "stdout",
     "output_type": "stream",
     "text": [
      "1/1 [==============================] - 0s 16ms/step\n",
      "1/1 [==============================] - 0s 17ms/step\n",
      "1/1 [==============================] - 0s 16ms/step\n",
      "1/1 [==============================] - 0s 17ms/step\n",
      "1/1 [==============================] - 0s 17ms/step\n",
      "1/1 [==============================] - 0s 18ms/step\n"
     ]
    },
    {
     "name": "stderr",
     "output_type": "stream",
     "text": [
      "[*********************100%***********************]  1 of 1 completed\n"
     ]
    },
    {
     "name": "stdout",
     "output_type": "stream",
     "text": [
      "1/1 [==============================] - 0s 395ms/step\n",
      "1/1 [==============================] - 0s 18ms/step\n",
      "1/1 [==============================] - 0s 16ms/step\n",
      "1/1 [==============================] - 0s 16ms/step\n",
      "1/1 [==============================] - 0s 17ms/step\n",
      "1/1 [==============================] - 0s 16ms/step\n",
      "1/1 [==============================] - 0s 15ms/step\n",
      "1/1 [==============================] - 0s 16ms/step\n",
      "1/1 [==============================] - 0s 16ms/step\n",
      "1/1 [==============================] - 0s 16ms/step\n"
     ]
    },
    {
     "name": "stderr",
     "output_type": "stream",
     "text": [
      "\r",
      "[*********************100%***********************]  1 of 1 completed"
     ]
    },
    {
     "name": "stdout",
     "output_type": "stream",
     "text": [
      "1/1 [==============================] - 0s 16ms/step\n",
      "1/1 [==============================] - 0s 17ms/step\n",
      "1/1 [==============================] - 0s 15ms/step\n",
      "1/1 [==============================] - 0s 17ms/step\n",
      "1/1 [==============================] - ETA: 0s"
     ]
    },
    {
     "name": "stderr",
     "output_type": "stream",
     "text": [
      "\n"
     ]
    },
    {
     "name": "stdout",
     "output_type": "stream",
     "text": [
      "1/1 [==============================] - 0s 17ms/step\n",
      "1/1 [==============================] - 0s 16ms/step\n",
      "1/1 [==============================] - 0s 16ms/step\n",
      "1/1 [==============================] - 0s 17ms/step\n",
      "1/1 [==============================] - 0s 16ms/step\n",
      "1/1 [==============================] - 0s 17ms/step\n"
     ]
    },
    {
     "name": "stderr",
     "output_type": "stream",
     "text": [
      "\r",
      "[*********************100%***********************]  1 of 1 completed"
     ]
    },
    {
     "name": "stdout",
     "output_type": "stream",
     "text": [
      "1/1 [==============================] - 0s 16ms/step\n",
      "1/1 [==============================] - 0s 17ms/step\n",
      "1/1 [==============================] - 0s 16ms/step\n",
      "1/1 [==============================] - 0s 15ms/step\n",
      "1/1 [==============================] - ETA: 0s"
     ]
    },
    {
     "name": "stderr",
     "output_type": "stream",
     "text": [
      "\n"
     ]
    },
    {
     "name": "stdout",
     "output_type": "stream",
     "text": [
      "1/1 [==============================] - 0s 16ms/step\n",
      "1/1 [==============================] - 0s 16ms/step\n",
      "1/1 [==============================] - 0s 16ms/step\n",
      "1/1 [==============================] - 0s 16ms/step\n",
      "1/1 [==============================] - 0s 16ms/step\n",
      "1/1 [==============================] - 0s 16ms/step\n"
     ]
    },
    {
     "name": "stderr",
     "output_type": "stream",
     "text": [
      "[*********************100%***********************]  1 of 1 completed\n"
     ]
    },
    {
     "name": "stdout",
     "output_type": "stream",
     "text": [
      "1/1 [==============================] - 0s 391ms/step\n",
      "1/1 [==============================] - 0s 16ms/step\n",
      "1/1 [==============================] - 0s 18ms/step\n",
      "1/1 [==============================] - 0s 18ms/step\n",
      "1/1 [==============================] - 0s 16ms/step\n",
      "1/1 [==============================] - 0s 16ms/step\n",
      "1/1 [==============================] - 0s 17ms/step\n",
      "1/1 [==============================] - 0s 17ms/step\n",
      "1/1 [==============================] - 0s 16ms/step\n",
      "1/1 [==============================] - 0s 16ms/step\n"
     ]
    },
    {
     "name": "stderr",
     "output_type": "stream",
     "text": [
      "\r",
      "[*********************100%***********************]  1 of 1 completed"
     ]
    },
    {
     "name": "stdout",
     "output_type": "stream",
     "text": [
      "1/1 [==============================] - 0s 16ms/step\n",
      "1/1 [==============================] - 0s 16ms/step\n"
     ]
    },
    {
     "name": "stderr",
     "output_type": "stream",
     "text": [
      "\n"
     ]
    },
    {
     "name": "stdout",
     "output_type": "stream",
     "text": [
      "1/1 [==============================] - 0s 16ms/step\n",
      "1/1 [==============================] - 0s 16ms/step\n",
      "1/1 [==============================] - 0s 16ms/step\n",
      "1/1 [==============================] - 0s 16ms/step\n",
      "1/1 [==============================] - 0s 16ms/step\n",
      "1/1 [==============================] - 0s 17ms/step\n",
      "1/1 [==============================] - 0s 16ms/step\n",
      "1/1 [==============================] - 0s 16ms/step\n"
     ]
    },
    {
     "name": "stderr",
     "output_type": "stream",
     "text": [
      "\r",
      "[*********************100%***********************]  1 of 1 completed"
     ]
    },
    {
     "name": "stdout",
     "output_type": "stream",
     "text": [
      "1/1 [==============================] - 0s 17ms/step\n",
      "1/1 [==============================] - 0s 15ms/step\n",
      "1/1 [==============================] - 0s 14ms/step\n",
      "1/1 [==============================] - 0s 15ms/step\n",
      "1/1 [==============================] - 0s 16ms/step\n",
      "1/1 [==============================] - ETA: 0s"
     ]
    },
    {
     "name": "stderr",
     "output_type": "stream",
     "text": [
      "\n"
     ]
    },
    {
     "name": "stdout",
     "output_type": "stream",
     "text": [
      "1/1 [==============================] - 0s 16ms/step\n",
      "1/1 [==============================] - 0s 15ms/step\n",
      "1/1 [==============================] - 0s 16ms/step\n",
      "1/1 [==============================] - 0s 16ms/step\n",
      "1/1 [==============================] - 0s 16ms/step\n"
     ]
    },
    {
     "name": "stderr",
     "output_type": "stream",
     "text": [
      "[*********************100%***********************]  1 of 1 completed\n"
     ]
    },
    {
     "name": "stdout",
     "output_type": "stream",
     "text": [
      "1/1 [==============================] - 0s 391ms/step\n",
      "1/1 [==============================] - 0s 15ms/step\n",
      "1/1 [==============================] - 0s 16ms/step\n",
      "1/1 [==============================] - 0s 17ms/step\n",
      "1/1 [==============================] - 0s 16ms/step\n",
      "1/1 [==============================] - 0s 16ms/step\n",
      "1/1 [==============================] - 0s 15ms/step\n",
      "1/1 [==============================] - 0s 16ms/step\n",
      "1/1 [==============================] - 0s 17ms/step\n",
      "1/1 [==============================] - 0s 16ms/step\n"
     ]
    },
    {
     "name": "stderr",
     "output_type": "stream",
     "text": [
      "\r",
      "[*********************100%***********************]  1 of 1 completed"
     ]
    },
    {
     "name": "stdout",
     "output_type": "stream",
     "text": [
      "1/1 [==============================] - 0s 16ms/step\n",
      "1/1 [==============================] - 0s 16ms/step\n",
      "1/1 [==============================] - 0s 15ms/step\n",
      "1/1 [==============================] - 0s 14ms/step\n",
      "1/1 [==============================] - ETA: 0s"
     ]
    },
    {
     "name": "stderr",
     "output_type": "stream",
     "text": [
      "\n"
     ]
    },
    {
     "name": "stdout",
     "output_type": "stream",
     "text": [
      "1/1 [==============================] - 0s 15ms/step\n",
      "1/1 [==============================] - 0s 17ms/step\n",
      "1/1 [==============================] - 0s 16ms/step\n",
      "1/1 [==============================] - 0s 16ms/step\n",
      "1/1 [==============================] - 0s 15ms/step\n",
      "1/1 [==============================] - 0s 16ms/step\n"
     ]
    },
    {
     "name": "stderr",
     "output_type": "stream",
     "text": [
      "\r",
      "[*********************100%***********************]  1 of 1 completed"
     ]
    },
    {
     "name": "stdout",
     "output_type": "stream",
     "text": [
      "1/1 [==============================] - 0s 16ms/step\n",
      "1/1 [==============================] - 0s 16ms/step\n",
      "1/1 [==============================] - 0s 15ms/step\n",
      "1/1 [==============================] - 0s 16ms/step\n",
      "1/1 [==============================] - ETA: 0s"
     ]
    },
    {
     "name": "stderr",
     "output_type": "stream",
     "text": [
      "\n"
     ]
    },
    {
     "name": "stdout",
     "output_type": "stream",
     "text": [
      "1/1 [==============================] - 0s 16ms/step\n",
      "1/1 [==============================] - 0s 14ms/step\n",
      "1/1 [==============================] - 0s 16ms/step\n",
      "1/1 [==============================] - 0s 16ms/step\n",
      "1/1 [==============================] - 0s 16ms/step\n",
      "1/1 [==============================] - 0s 17ms/step\n"
     ]
    },
    {
     "name": "stderr",
     "output_type": "stream",
     "text": [
      "[*********************100%***********************]  1 of 1 completed\n"
     ]
    },
    {
     "name": "stdout",
     "output_type": "stream",
     "text": [
      "1/1 [==============================] - 0s 392ms/step\n",
      "1/1 [==============================] - 0s 15ms/step\n",
      "1/1 [==============================] - 0s 16ms/step\n",
      "1/1 [==============================] - 0s 15ms/step\n",
      "1/1 [==============================] - 0s 15ms/step\n",
      "1/1 [==============================] - 0s 16ms/step\n",
      "1/1 [==============================] - 0s 16ms/step\n",
      "1/1 [==============================] - 0s 17ms/step\n",
      "1/1 [==============================] - 0s 16ms/step\n",
      "1/1 [==============================] - 0s 15ms/step\n"
     ]
    },
    {
     "name": "stderr",
     "output_type": "stream",
     "text": [
      "\r",
      "[*********************100%***********************]  1 of 1 completed"
     ]
    },
    {
     "name": "stdout",
     "output_type": "stream",
     "text": [
      "1/1 [==============================] - 0s 17ms/step\n",
      "1/1 [==============================] - 0s 16ms/step\n",
      "1/1 [==============================] - 0s 15ms/step\n",
      "1/1 [==============================] - 0s 15ms/step\n",
      "1/1 [==============================] - ETA: 0s"
     ]
    },
    {
     "name": "stderr",
     "output_type": "stream",
     "text": [
      "\n"
     ]
    },
    {
     "name": "stdout",
     "output_type": "stream",
     "text": [
      "1/1 [==============================] - 0s 16ms/step\n",
      "1/1 [==============================] - 0s 16ms/step\n",
      "1/1 [==============================] - 0s 16ms/step\n",
      "1/1 [==============================] - 0s 16ms/step\n",
      "1/1 [==============================] - 0s 16ms/step\n",
      "1/1 [==============================] - 0s 16ms/step\n"
     ]
    },
    {
     "name": "stderr",
     "output_type": "stream",
     "text": [
      "\r",
      "[*********************100%***********************]  1 of 1 completed"
     ]
    },
    {
     "name": "stdout",
     "output_type": "stream",
     "text": [
      "1/1 [==============================] - 0s 15ms/step\n",
      "1/1 [==============================] - 0s 16ms/step\n",
      "1/1 [==============================] - 0s 18ms/step\n",
      "1/1 [==============================] - 0s 16ms/step\n",
      "1/1 [==============================] - ETA: 0s"
     ]
    },
    {
     "name": "stderr",
     "output_type": "stream",
     "text": [
      "\n"
     ]
    },
    {
     "name": "stdout",
     "output_type": "stream",
     "text": [
      "1/1 [==============================] - 0s 16ms/step\n",
      "1/1 [==============================] - 0s 16ms/step\n",
      "1/1 [==============================] - 0s 17ms/step\n",
      "1/1 [==============================] - 0s 15ms/step\n",
      "1/1 [==============================] - 0s 17ms/step\n",
      "1/1 [==============================] - 0s 16ms/step\n"
     ]
    },
    {
     "name": "stderr",
     "output_type": "stream",
     "text": [
      "[*********************100%***********************]  1 of 1 completed\n"
     ]
    },
    {
     "name": "stdout",
     "output_type": "stream",
     "text": [
      "1/1 [==============================] - 0s 390ms/step\n",
      "1/1 [==============================] - 0s 16ms/step\n",
      "1/1 [==============================] - 0s 17ms/step\n",
      "1/1 [==============================] - 0s 15ms/step\n",
      "1/1 [==============================] - 0s 17ms/step\n",
      "1/1 [==============================] - 0s 15ms/step\n",
      "1/1 [==============================] - 0s 16ms/step\n",
      "1/1 [==============================] - 0s 17ms/step\n",
      "1/1 [==============================] - 0s 15ms/step\n",
      "1/1 [==============================] - 0s 15ms/step\n"
     ]
    },
    {
     "name": "stderr",
     "output_type": "stream",
     "text": [
      "\r",
      "[*********************100%***********************]  1 of 1 completed"
     ]
    },
    {
     "name": "stdout",
     "output_type": "stream",
     "text": [
      "1/1 [==============================] - 0s 16ms/step\n",
      "1/1 [==============================] - 0s 16ms/step\n",
      "1/1 [==============================] - 0s 16ms/step\n",
      "1/1 [==============================] - 0s 16ms/step\n",
      "1/1 [==============================] - ETA: 0s"
     ]
    },
    {
     "name": "stderr",
     "output_type": "stream",
     "text": [
      "\n"
     ]
    },
    {
     "name": "stdout",
     "output_type": "stream",
     "text": [
      "1/1 [==============================] - 0s 16ms/step\n",
      "1/1 [==============================] - 0s 15ms/step\n",
      "1/1 [==============================] - 0s 15ms/step\n",
      "1/1 [==============================] - 0s 16ms/step\n",
      "1/1 [==============================] - 0s 16ms/step\n",
      "1/1 [==============================] - 0s 15ms/step\n"
     ]
    },
    {
     "name": "stderr",
     "output_type": "stream",
     "text": [
      "\r",
      "[*********************100%***********************]  1 of 1 completed"
     ]
    },
    {
     "name": "stdout",
     "output_type": "stream",
     "text": [
      "1/1 [==============================] - 0s 16ms/step\n",
      "1/1 [==============================] - 0s 16ms/step\n",
      "1/1 [==============================] - 0s 15ms/step\n",
      "1/1 [==============================] - 0s 16ms/step\n",
      "1/1 [==============================] - 0s 17ms/step\n",
      "1/1 [==============================] - ETA: 0s"
     ]
    },
    {
     "name": "stderr",
     "output_type": "stream",
     "text": [
      "\n"
     ]
    },
    {
     "name": "stdout",
     "output_type": "stream",
     "text": [
      "1/1 [==============================] - 0s 17ms/step\n",
      "1/1 [==============================] - 0s 16ms/step\n",
      "1/1 [==============================] - 0s 15ms/step\n",
      "1/1 [==============================] - 0s 16ms/step\n",
      "1/1 [==============================] - 0s 16ms/step\n"
     ]
    },
    {
     "name": "stderr",
     "output_type": "stream",
     "text": [
      "[*********************100%***********************]  1 of 1 completed\n"
     ]
    },
    {
     "name": "stdout",
     "output_type": "stream",
     "text": [
      "1/1 [==============================] - 0s 381ms/step\n",
      "1/1 [==============================] - 0s 16ms/step\n",
      "1/1 [==============================] - 0s 15ms/step\n",
      "1/1 [==============================] - 0s 18ms/step\n",
      "1/1 [==============================] - 0s 17ms/step\n",
      "1/1 [==============================] - 0s 16ms/step\n",
      "1/1 [==============================] - 0s 16ms/step\n",
      "1/1 [==============================] - 0s 17ms/step\n",
      "1/1 [==============================] - 0s 16ms/step\n",
      "1/1 [==============================] - 0s 16ms/step\n",
      "{'AAPL': [230.44377, 216.37898, 222.77999877929688, 226.96555], 'MSFT': [452.97726, 440.35202, 444.05999755859375, 440.88937], 'GOOGL': [201.00499, 191.14682, 200.2100067138672, 194.56746], 'NVDA': [148.52077, 138.15211, 142.6199951171875, 139.73355], 'AMZN': [237.18456, 227.15804, 234.85000610351562, 228.44652], 'META': [632.0686, 598.63043, 647.489990234375, 610.8239], 'TSM': [225.87029, 210.23297, 221.8800048828125, 214.10652], 'BRK-B': [469.03406, 454.2659, 463.19000244140625, 464.14282], 'LLY': [773.45514, 726.9374, 785.4099731445312, 741.9866], 'AVGO': [245.63766, 226.25993, 244.6999969482422, 235.1433], 'NVO': [86.30296, 77.84243, 87.97000122070312, 81.51884], 'TSLA': [444.9163, 397.2465, 406.5799865722656, 418.0942], 'JPM': [264.2612, 253.50986, 264.8399963378906, 257.17966], 'V': [326.97882, 317.96027, 330.20001220703125, 320.9505], 'WMT': [94.08826, 89.08013, 94.76000213623047, 91.34659], 'XOM': [111.45815, 107.8334, 108.66000366210938, 112.48814], 'UNH': [535.7805, 508.49234, 532.510009765625, 522.4873], 'TCEHY': [51.306587, 47.100754, 50.349998474121094, 50.2363], 'MA': [533.02277, 520.1554, 533.489990234375, 525.0396], 'ASML': [802.8926, 732.877, 732.25, 768.3413], 'PG': [165.2742, 161.81824, 164.1199951171875, 161.94745], 'ORCL': [186.87839, 175.67784, 183.60000610351562, 175.81558], 'COST': [966.1566, 914.9015, 939.6799926757812, 939.98456]}\n"
     ]
    }
   ],
   "source": [
    "tickers = ['AAPL', 'MSFT', 'GOOGL', 'NVDA', 'AMZN', 'META', 'TSM', 'BRK-B', 'LLY', 'AVGO', 'NVO', 'TSLA', 'JPM', 'V', 'WMT', 'XOM', 'UNH', 'TCEHY', 'MA', 'ASML', 'PG', 'ORCL', 'COST' ]\n",
    "days_to_predict = 10\n",
    "randomness = 0.015\n",
    "predicted_prices = generate_predictions(tickers, days_to_predict, randomness)\n",
    "print(predicted_prices)"
   ]
  },
  {
   "cell_type": "code",
   "execution_count": null,
   "id": "85fe661a",
   "metadata": {},
   "outputs": [],
   "source": []
  },
  {
   "cell_type": "code",
   "execution_count": 108,
   "id": "4764610a",
   "metadata": {},
   "outputs": [
    {
     "name": "stdout",
     "output_type": "stream",
     "text": [
      "{'AAPL': [3.4400631228120884, -2.8732454755477868, 1.8787803653534119], 'MSFT': [2.008122076910675, -0.8350171858100339, -0.7140079711590124], 'GOOGL': [0.39707451350941236, -4.526839988802651, -2.818314478899148], 'NVDA': [4.137408706176183, -3.1327165909326284, -2.0238705585602856], 'AMZN': [0.9940595654769988, -3.2752695870933457, -2.7266289089884888], 'META': [-2.381718165738415, -7.5459943539486725, -5.662802083918557], 'TSM': [1.7983955577586554, -5.2492488890820574, -3.5034627299890353], 'BRK-B': [1.2616971750206385, -1.9266613562826256, 0.20570820164437426], 'LLY': [-1.5221138504915661, -7.444850105574559, -5.528755982694336], 'AVGO': [0.38319078805629025, -7.535784105654426, -3.9054768203277255], 'NVO': [-1.8950073215127587, -11.512528095286168, -7.333368371134263], 'TSLA': [9.42896969281187, -2.295611294701802, 2.83196949473058], 'JPM': [-0.21854568596969193, -4.278107278668335, -2.8924405155539517], 'V': [-0.9755273431759758, -3.7067673050465646, -2.801184547791801], 'WMT': [-0.7088911831462846, -5.99395364861132, -3.6021675015979784], 'XOM': [2.575141739906324, -0.7607277035059825, 3.523037456632658], 'UNH': [0.6141683259511792, -4.510275720132535, -1.882162756440263], 'TCEHY': [1.8998783994181356, -6.453316362286395, -0.22581341697635038], 'MA': [-0.08757879803677052, -2.4995023281888176, -1.58398068804558], 'ASML': [9.6473305735746, 0.08562842747097986, 4.92882329720041], 'PG': [0.7032691668321592, -1.4024846947237986, -1.3237548448423209], 'ORCL': [1.7856106964440208, -4.314904495441894, -4.239882118378612], 'COST': [2.817621290388749, -2.6369086935022255, 0.03241161161899767]}\n"
     ]
    }
   ],
   "source": [
    "percent_changes = calculate_percent_change(predicted_prices)\n",
    "print(percent_changes)"
   ]
  },
  {
   "cell_type": "code",
   "execution_count": 109,
   "id": "df5c776d",
   "metadata": {
    "scrolled": true
   },
   "outputs": [
    {
     "name": "stdout",
     "output_type": "stream",
     "text": [
      "{'ASML': [9.6473305735746, 0.08562842747097986, 4.92882329720041]}\n"
     ]
    }
   ],
   "source": [
    "selected_stocks = stock_selection(percent_changes, -0.5)\n",
    "print(selected_stocks)"
   ]
  },
  {
   "cell_type": "code",
   "execution_count": null,
   "id": "befb6035",
   "metadata": {},
   "outputs": [],
   "source": []
  },
  {
   "cell_type": "code",
   "execution_count": 110,
   "id": "ac8e540d",
   "metadata": {},
   "outputs": [],
   "source": [
    "investment_budget = 10000 #in usd\n",
    "biggest_allowable_net_loss = 2000 # in usd"
   ]
  },
  {
   "cell_type": "code",
   "execution_count": 111,
   "id": "56a87b8b",
   "metadata": {},
   "outputs": [],
   "source": [
    "#bierzemy pod uwagę 3 scenariusze\n",
    "sc_predicted = []\n",
    "sc_bullish = []\n",
    "sc_bearish = []"
   ]
  },
  {
   "cell_type": "code",
   "execution_count": 112,
   "id": "ed8cd3ba",
   "metadata": {},
   "outputs": [],
   "source": [
    "current_prices = []"
   ]
  },
  {
   "cell_type": "code",
   "execution_count": 113,
   "id": "bfbc19b3",
   "metadata": {},
   "outputs": [],
   "source": [
    "for ticker in tickers:\n",
    "    if ticker in predicted_prices:\n",
    "        sc_bullish.append(predicted_prices[ticker][0])\n",
    "        sc_bearish.append(predicted_prices[ticker][1])\n",
    "        sc_predicted.append(predicted_prices[ticker][3])\n",
    "        current_prices.append(predicted_prices[ticker][2])"
   ]
  },
  {
   "cell_type": "code",
   "execution_count": 114,
   "id": "694dfef2",
   "metadata": {},
   "outputs": [
    {
     "name": "stdout",
     "output_type": "stream",
     "text": [
      "sc_predicted: [226.96555, 440.88937, 194.56746, 139.73355, 228.44652, 610.8239, 214.10652, 464.14282, 741.9866, 235.1433, 81.51884, 418.0942, 257.17966, 320.9505, 91.34659, 112.48814, 522.4873, 50.2363, 525.0396, 768.3413, 161.94745, 175.81558, 939.98456]\n",
      "sc_bullish: [230.44377, 452.97726, 201.00499, 148.52077, 237.18456, 632.0686, 225.87029, 469.03406, 773.45514, 245.63766, 86.30296, 444.9163, 264.2612, 326.97882, 94.08826, 111.45815, 535.7805, 51.306587, 533.02277, 802.8926, 165.2742, 186.87839, 966.1566]\n",
      "sc_bearish: [216.37898, 440.35202, 191.14682, 138.15211, 227.15804, 598.63043, 210.23297, 454.2659, 726.9374, 226.25993, 77.84243, 397.2465, 253.50986, 317.96027, 89.08013, 107.8334, 508.49234, 47.100754, 520.1554, 732.877, 161.81824, 175.67784, 914.9015]\n"
     ]
    }
   ],
   "source": [
    "print(\"sc_predicted:\", sc_predicted)\n",
    "print(\"sc_bullish:\", sc_bullish)\n",
    "print(\"sc_bearish:\", sc_bearish)\n"
   ]
  },
  {
   "cell_type": "code",
   "execution_count": null,
   "id": "8955ad8a",
   "metadata": {},
   "outputs": [],
   "source": []
  },
  {
   "cell_type": "code",
   "execution_count": 115,
   "id": "a0104ca1",
   "metadata": {},
   "outputs": [],
   "source": [
    "portfolio = greedy(sc_predicted, tickers, current_prices, investment_budget, biggest_allowable_net_loss)"
   ]
  },
  {
   "cell_type": "code",
   "execution_count": 116,
   "id": "f7d0078f",
   "metadata": {},
   "outputs": [
    {
     "name": "stdout",
     "output_type": "stream",
     "text": [
      "([0, 0, 0, 0, 0, 0, 0, 0, 0, 0, 0, 0, 0, 0, 0, 0, 0, 0, 0, 13.0, 0, 0, 0], 9519.25, 0)\n"
     ]
    }
   ],
   "source": [
    "print(portfolio)"
   ]
  },
  {
   "cell_type": "code",
   "execution_count": 117,
   "id": "511c611c",
   "metadata": {},
   "outputs": [],
   "source": [
    "portfolio = simulated_annealing(sc_predicted, tickers, current_prices, investment_budget, biggest_allowable_net_loss, 40, 0.1, 200)"
   ]
  },
  {
   "cell_type": "code",
   "execution_count": 118,
   "id": "7e2abff3",
   "metadata": {},
   "outputs": [
    {
     "name": "stdout",
     "output_type": "stream",
     "text": [
      "([0, 0, 5, 1, 0, 0, 0, 1, 0, 0, 0, 0, 0, 0, 0, 1, 0, 0, 0, 0, 0, 0, 0], 1715.520034790039, 31.09918212890625)\n"
     ]
    }
   ],
   "source": [
    "print(portfolio)"
   ]
  },
  {
   "cell_type": "code",
   "execution_count": 119,
   "id": "4459866e",
   "metadata": {},
   "outputs": [],
   "source": [
    "portfolio = simulated_annealing(sc_bullish, tickers, current_prices, investment_budget, biggest_allowable_net_loss, 40, 0.1, 200)"
   ]
  },
  {
   "cell_type": "code",
   "execution_count": 120,
   "id": "22012d87",
   "metadata": {},
   "outputs": [
    {
     "name": "stdout",
     "output_type": "stream",
     "text": [
      "([35, 3, 0, 0, 0, 0, 1, 0, 0, 0, 0, 0, 0, 0, 0, 0, 0, 0, 0, 0, 0, 0, 0], 9351.359954833984, 0.0)\n"
     ]
    }
   ],
   "source": [
    "print(portfolio)"
   ]
  },
  {
   "cell_type": "code",
   "execution_count": 121,
   "id": "6e14afef",
   "metadata": {},
   "outputs": [],
   "source": [
    "portfolio = simulated_annealing(sc_bearish, tickers, current_prices, investment_budget, biggest_allowable_net_loss, 40, 0.1, 200)"
   ]
  },
  {
   "cell_type": "code",
   "execution_count": 122,
   "id": "ed1436fa",
   "metadata": {},
   "outputs": [
    {
     "name": "stdout",
     "output_type": "stream",
     "text": [
      "([19, 0, 0, 10, 0, 0, 0, 0, 0, 0, 0, 0, 0, 0, 0, 0, 0, 0, 0, 1, 0, 0, 0], 6391.269927978516, 166.29811096191406)\n"
     ]
    }
   ],
   "source": [
    "print(portfolio)"
   ]
  },
  {
   "cell_type": "code",
   "execution_count": 123,
   "id": "aa492357",
   "metadata": {},
   "outputs": [],
   "source": [
    "portfolio = ant_colony_optimization(sc_bearish, tickers, current_prices, investment_budget, biggest_allowable_net_loss)"
   ]
  },
  {
   "cell_type": "code",
   "execution_count": 124,
   "id": "4f1dc349",
   "metadata": {},
   "outputs": [
    {
     "name": "stdout",
     "output_type": "stream",
     "text": [
      "([0, 0, 0, 0, 42.0, 0, 0, 0, 0, 0, 1.0, 0, 0, 0, 0, 0, 0, 0, 0, 0, 0, 0, 0], 9951.67025756836, 333.19034576416016)\n"
     ]
    }
   ],
   "source": [
    "print(portfolio)"
   ]
  },
  {
   "cell_type": "code",
   "execution_count": 125,
   "id": "c1a7ef02",
   "metadata": {},
   "outputs": [],
   "source": [
    "portfolio_aco_bearish = ant_colony_optimization(sc_bearish, tickers, current_prices, investment_budget, biggest_allowable_net_loss)\n",
    "portfolio_aco_bullish = ant_colony_optimization(sc_bullish, tickers, current_prices, investment_budget, biggest_allowable_net_loss)\n",
    "portfolio_aco_predicted = ant_colony_optimization(sc_predicted, tickers, current_prices, investment_budget, biggest_allowable_net_loss)\n",
    "portfolio_sa_bearish = simulated_annealing(sc_bearish, tickers, current_prices, investment_budget, biggest_allowable_net_loss, 40, 0.01, 100)\n",
    "portfolio_sa_bullish = simulated_annealing(sc_bullish, tickers, current_prices, investment_budget, biggest_allowable_net_loss, 40, 0.01, 100)\n",
    "portfolio_sa_predicted = simulated_annealing(sc_predicted, tickers, current_prices, investment_budget, biggest_allowable_net_loss, 40, 0.01, 100)\n",
    "portfolio_greedy_bearish = greedy(sc_bearish, tickers, current_prices, investment_budget, biggest_allowable_net_loss)\n",
    "portfolio_greedy_bullish = greedy(sc_bullish, tickers, current_prices, investment_budget, biggest_allowable_net_loss)\n",
    "portfolio_greedy_predicted = greedy(sc_predicted, tickers, current_prices, investment_budget, biggest_allowable_net_loss)\n"
   ]
  },
  {
   "cell_type": "code",
   "execution_count": 126,
   "id": "339ea7ad",
   "metadata": {},
   "outputs": [
    {
     "name": "stdout",
     "output_type": "stream",
     "text": [
      "ACO Bearish Portfolio: ([0, 0, 0, 0, 1.0, 0, 0, 21.0, 0, 0, 0, 0, 0, 0, 0, 0, 0, 0, 0, 0, 0, 0, 0], 9961.840057373047, 195.09812927246094)\n",
      "ACO Bullish Portfolio: ([0, 0, 0, 0, 0, 0, 1.0, 0, 0, 0, 0, 24.0, 0, 0, 0, 0, 0, 0, 0, 0, 0, 0, 0], 9979.799682617188, 0.0)\n",
      "ACO Predicted Portfolio: ([0, 0, 0, 0, 0, 0, 1.0, 0, 0, 0, 0, 24.0, 0, 0, 0, 0, 0, 0, 0, 0, 0, 0, 0], 9979.799682617188, 7.7734832763671875)\n",
      "SA Bearish Portfolio: ([3, 0, 16, 0, 0, 0, 0, 0, 0, 0, 0, 0, 0, 0, 0, 0, 0, 0, 0, 1, 0, 0, 0], 4603.950103759766, 164.2140350341797)\n",
      "SA Bullish Portfolio: ([42, 0, 3, 0, 0, 0, 0, 0, 0, 0, 0, 0, 0, 0, 0, 0, 0, 0, 0, 0, 0, 0, 0], 9957.38996887207, 0.0)\n",
      "SA Predicted Portfolio: ([21, 2, 4, 7, 0, 0, 0, 0, 0, 0, 0, 1, 0, 0, 0, 0, 0, 0, 0, 0, 0, 0, 0], 7772.259948730469, 49.116546630859375)\n",
      "Greedy Bearish Portfolio: ([0, 0, 0, 0, 0, 0, 0, 0, 0, 0, 0, 0, 0, 0, 0, 0, 0, 0, 0, 13.0, 0, 0, 0], 9519.25, 0)\n",
      "Greedy Bullish Portfolio: ([0, 0, 0, 0, 0, 0, 0, 0, 0, 0, 0, 0, 0, 0, 0, 0, 0, 0, 0, 13.0, 0, 0, 0], 9519.25, 0)\n",
      "Greedy Predicted Portfolio: ([0, 0, 0, 0, 0, 0, 0, 0, 0, 0, 0, 0, 0, 0, 0, 0, 0, 0, 0, 13.0, 0, 0, 0], 9519.25, 0)\n"
     ]
    }
   ],
   "source": [
    "print(\"ACO Bearish Portfolio:\", portfolio_aco_bearish)\n",
    "print(\"ACO Bullish Portfolio:\", portfolio_aco_bullish)\n",
    "print(\"ACO Predicted Portfolio:\", portfolio_aco_predicted)\n",
    "\n",
    "print(\"SA Bearish Portfolio:\", portfolio_sa_bearish)\n",
    "print(\"SA Bullish Portfolio:\", portfolio_sa_bullish)\n",
    "print(\"SA Predicted Portfolio:\", portfolio_sa_predicted)\n",
    "\n",
    "print(\"Greedy Bearish Portfolio:\", portfolio_greedy_bearish)\n",
    "print(\"Greedy Bullish Portfolio:\", portfolio_greedy_bullish)\n",
    "print(\"Greedy Predicted Portfolio:\", portfolio_greedy_predicted)"
   ]
  },
  {
   "cell_type": "code",
   "execution_count": null,
   "id": "8f58f6f7",
   "metadata": {},
   "outputs": [],
   "source": []
  },
  {
   "cell_type": "code",
   "execution_count": null,
   "id": "aa28871e",
   "metadata": {},
   "outputs": [],
   "source": []
  },
  {
   "cell_type": "code",
   "execution_count": 127,
   "id": "01348040",
   "metadata": {},
   "outputs": [],
   "source": [
    "scenarios = [sc_predicted, sc_bullish, sc_bearish]"
   ]
  },
  {
   "cell_type": "code",
   "execution_count": 128,
   "id": "7936782d",
   "metadata": {},
   "outputs": [],
   "source": [
    "portfolio_decisions = [portfolio_aco_bearish[0], portfolio_aco_bullish[0], portfolio_aco_predicted[0], \n",
    "                       portfolio_sa_bearish[0], portfolio_sa_bullish[0], portfolio_sa_predicted[0],\n",
    "                       portfolio_greedy_bearish[0], portfolio_greedy_bullish[0], portfolio_greedy_predicted[0]]"
   ]
  },
  {
   "cell_type": "code",
   "execution_count": 129,
   "id": "6b542357",
   "metadata": {},
   "outputs": [],
   "source": [
    "l = scenarios_for_portfolios(portfolio_decisions, scenarios)"
   ]
  },
  {
   "cell_type": "code",
   "execution_count": 130,
   "id": "72eaa6b5",
   "metadata": {},
   "outputs": [],
   "source": [
    "results = result_decision(l)\n",
    "                        "
   ]
  },
  {
   "cell_type": "code",
   "execution_count": 131,
   "id": "98f2d06b",
   "metadata": {},
   "outputs": [
    {
     "name": "stdout",
     "output_type": "stream",
     "text": [
      "[9975.445785522461, 10086.899765014648, 9766.741928100586, 10248.36750793457, 10903.861251831055, 9744.148742675781, 10248.36750793457, 10903.861251831055, 9744.148742675781, 4562.317291259766, 4710.303726196289, 4440.363082885742, 10116.255294799805, 10281.653366088867, 9661.357727050781, 7822.554107666016, 8033.8553466796875, 7553.561248779297, 9988.43701171875, 10437.603515625, 9527.401184082031, 9988.43701171875, 10437.603515625, 9527.401184082031, 9988.43701171875, 10437.603515625, 9527.401184082031]\n"
     ]
    }
   ],
   "source": [
    "print(result_decision(l))"
   ]
  },
  {
   "cell_type": "code",
   "execution_count": 132,
   "id": "7e7493de",
   "metadata": {},
   "outputs": [],
   "source": [
    "regrets = maximum_regret_decision(portfolio_decisions, results)"
   ]
  },
  {
   "cell_type": "code",
   "execution_count": 133,
   "id": "1d65c97b",
   "metadata": {},
   "outputs": [
    {
     "name": "stdout",
     "output_type": "stream",
     "text": [
      "[9990233.2580719, 9990255.851257324, 9990255.851257324, 9995559.636917114, 9990338.64227295, 9992446.43875122, 9990472.598815918, 9990472.598815918, 9990472.598815918]\n"
     ]
    }
   ],
   "source": [
    "print(regrets)"
   ]
  },
  {
   "cell_type": "code",
   "execution_count": 134,
   "id": "1be72b41",
   "metadata": {},
   "outputs": [],
   "source": [
    "best_decision, regret, i  = best_decision_minmax_regret(portfolio_decisions, regrets)\n"
   ]
  },
  {
   "cell_type": "code",
   "execution_count": 135,
   "id": "05402e5c",
   "metadata": {},
   "outputs": [
    {
     "name": "stdout",
     "output_type": "stream",
     "text": [
      "[0, 0, 0, 0, 1.0, 0, 0, 21.0, 0, 0, 0, 0, 0, 0, 0, 0, 0, 0, 0, 0, 0, 0, 0] 9990233.2580719\n"
     ]
    }
   ],
   "source": [
    "print(best_decision, regret)"
   ]
  },
  {
   "cell_type": "code",
   "execution_count": null,
   "id": "f644d6fc",
   "metadata": {},
   "outputs": [],
   "source": []
  },
  {
   "cell_type": "code",
   "execution_count": null,
   "id": "bf8416c4",
   "metadata": {},
   "outputs": [],
   "source": []
  },
  {
   "cell_type": "code",
   "execution_count": null,
   "id": "eccb6064",
   "metadata": {},
   "outputs": [],
   "source": []
  },
  {
   "cell_type": "code",
   "execution_count": null,
   "id": "dda31d22",
   "metadata": {},
   "outputs": [],
   "source": []
  },
  {
   "cell_type": "code",
   "execution_count": null,
   "id": "d1628e2d",
   "metadata": {},
   "outputs": [],
   "source": []
  }
 ],
 "metadata": {
  "kernelspec": {
   "display_name": "Python 3 (ipykernel)",
   "language": "python",
   "name": "python3"
  },
  "language_info": {
   "codemirror_mode": {
    "name": "ipython",
    "version": 3
   },
   "file_extension": ".py",
   "mimetype": "text/x-python",
   "name": "python",
   "nbconvert_exporter": "python",
   "pygments_lexer": "ipython3",
   "version": "3.9.13"
  }
 },
 "nbformat": 4,
 "nbformat_minor": 5
}
