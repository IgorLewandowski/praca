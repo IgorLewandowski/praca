{
 "cells": [
  {
   "cell_type": "code",
   "execution_count": 9,
   "id": "ce1bdd3c",
   "metadata": {},
   "outputs": [
    {
     "name": "stdout",
     "output_type": "stream",
     "text": [
      "Collecting yfinance\n",
      "  Downloading yfinance-0.2.40-py2.py3-none-any.whl (73 kB)\n",
      "     ---------------------------------------- 73.5/73.5 kB 1.0 MB/s eta 0:00:00\n",
      "Requirement already satisfied: beautifulsoup4>=4.11.1 in c:\\users\\pocot\\anaconda3\\lib\\site-packages (from yfinance) (4.11.1)\n",
      "Requirement already satisfied: numpy>=1.16.5 in c:\\users\\pocot\\anaconda3\\lib\\site-packages (from yfinance) (1.21.5)\n",
      "Collecting frozendict>=2.3.4\n",
      "  Downloading frozendict-2.4.4-cp39-cp39-win_amd64.whl (37 kB)\n",
      "Requirement already satisfied: pandas>=1.3.0 in c:\\users\\pocot\\anaconda3\\lib\\site-packages (from yfinance) (1.4.4)\n",
      "Collecting multitasking>=0.0.7\n",
      "  Downloading multitasking-0.0.11-py3-none-any.whl (8.5 kB)\n",
      "Collecting html5lib>=1.1\n",
      "  Downloading html5lib-1.1-py2.py3-none-any.whl (112 kB)\n",
      "     -------------------------------------- 112.2/112.2 kB 6.4 MB/s eta 0:00:00\n",
      "Collecting pytz>=2022.5\n",
      "  Downloading pytz-2024.1-py2.py3-none-any.whl (505 kB)\n",
      "     -------------------------------------- 505.5/505.5 kB 6.3 MB/s eta 0:00:00\n",
      "Requirement already satisfied: platformdirs>=2.0.0 in c:\\users\\pocot\\anaconda3\\lib\\site-packages (from yfinance) (2.5.2)\n",
      "Collecting requests>=2.31\n",
      "  Downloading requests-2.32.3-py3-none-any.whl (64 kB)\n",
      "     ---------------------------------------- 64.9/64.9 kB ? eta 0:00:00\n",
      "Requirement already satisfied: lxml>=4.9.1 in c:\\users\\pocot\\anaconda3\\lib\\site-packages (from yfinance) (4.9.1)\n",
      "Collecting peewee>=3.16.2\n",
      "  Downloading peewee-3.17.5.tar.gz (3.0 MB)\n",
      "     ---------------------------------------- 3.0/3.0 MB 15.7 MB/s eta 0:00:00\n",
      "  Installing build dependencies: started\n",
      "  Installing build dependencies: finished with status 'done'\n",
      "  Getting requirements to build wheel: started\n",
      "  Getting requirements to build wheel: finished with status 'done'\n",
      "  Preparing metadata (pyproject.toml): started\n",
      "  Preparing metadata (pyproject.toml): finished with status 'done'\n",
      "Requirement already satisfied: soupsieve>1.2 in c:\\users\\pocot\\anaconda3\\lib\\site-packages (from beautifulsoup4>=4.11.1->yfinance) (2.3.1)\n",
      "Requirement already satisfied: webencodings in c:\\users\\pocot\\anaconda3\\lib\\site-packages (from html5lib>=1.1->yfinance) (0.5.1)\n",
      "Requirement already satisfied: six>=1.9 in c:\\users\\pocot\\anaconda3\\lib\\site-packages (from html5lib>=1.1->yfinance) (1.16.0)\n",
      "Requirement already satisfied: python-dateutil>=2.8.1 in c:\\users\\pocot\\anaconda3\\lib\\site-packages (from pandas>=1.3.0->yfinance) (2.8.2)\n",
      "Requirement already satisfied: idna<4,>=2.5 in c:\\users\\pocot\\anaconda3\\lib\\site-packages (from requests>=2.31->yfinance) (3.3)\n",
      "Requirement already satisfied: certifi>=2017.4.17 in c:\\users\\pocot\\anaconda3\\lib\\site-packages (from requests>=2.31->yfinance) (2022.9.14)\n",
      "Requirement already satisfied: urllib3<3,>=1.21.1 in c:\\users\\pocot\\anaconda3\\lib\\site-packages (from requests>=2.31->yfinance) (1.26.11)\n",
      "Requirement already satisfied: charset-normalizer<4,>=2 in c:\\users\\pocot\\anaconda3\\lib\\site-packages (from requests>=2.31->yfinance) (2.0.4)\n",
      "Building wheels for collected packages: peewee\n",
      "  Building wheel for peewee (pyproject.toml): started\n",
      "  Building wheel for peewee (pyproject.toml): finished with status 'done'\n",
      "  Created wheel for peewee: filename=peewee-3.17.5-py3-none-any.whl size=138681 sha256=a666a266e52dc14740960f050b79dd5b4cd0b392b058757ceb1d0488fd6769f2\n",
      "  Stored in directory: C:\\Users\\pocot\\AppData\\Local\\Temp\\pip-ephem-wheel-cache-txwa6m9f\\wheels\\95\\bd\\4e\\15d1893c245357e4d2353e77456c0be9561d1942ed9fe664ca\n",
      "Successfully built peewee\n",
      "Installing collected packages: pytz, peewee, multitasking, requests, html5lib, frozendict, yfinance\n",
      "  Attempting uninstall: pytz\n",
      "    Found existing installation: pytz 2022.1\n",
      "    Uninstalling pytz-2022.1:\n",
      "      Successfully uninstalled pytz-2022.1\n",
      "  Attempting uninstall: requests\n",
      "    Found existing installation: requests 2.28.1\n",
      "    Uninstalling requests-2.28.1:\n",
      "      Successfully uninstalled requests-2.28.1\n",
      "Successfully installed frozendict-2.4.4 html5lib-1.1 multitasking-0.0.11 peewee-3.17.5 pytz-2024.1 requests-2.32.3 yfinance-0.2.40\n",
      "Note: you may need to restart the kernel to use updated packages.\n"
     ]
    },
    {
     "name": "stderr",
     "output_type": "stream",
     "text": [
      "ERROR: pip's dependency resolver does not currently take into account all the packages that are installed. This behaviour is the source of the following dependency conflicts.\n",
      "conda-repo-cli 1.0.20 requires clyent==1.2.1, but you have clyent 1.2.2 which is incompatible.\n",
      "conda-repo-cli 1.0.20 requires nbformat==5.4.0, but you have nbformat 5.5.0 which is incompatible.\n",
      "conda-repo-cli 1.0.20 requires requests==2.28.1, but you have requests 2.32.3 which is incompatible.\n"
     ]
    }
   ],
   "source": [
    "pip install yfinance --upgrade --no-cache-dir"
   ]
  },
  {
   "cell_type": "code",
   "execution_count": 290,
   "id": "76718b48",
   "metadata": {},
   "outputs": [
    {
     "name": "stdout",
     "output_type": "stream",
     "text": [
      "Fetching data for AAPL...\n"
     ]
    },
    {
     "name": "stderr",
     "output_type": "stream",
     "text": [
      "[*********************100%%**********************]  1 of 1 completed\n"
     ]
    }
   ],
   "source": [
    "import yfinance as yf\n",
    "import pandas as pd\n",
    "import json\n",
    "\n",
    "\n",
    "\n",
    "def load_tickers_and_dates(json_file_path):\n",
    "    with open(json_file_path, 'r') as file:\n",
    "        data = json.load(file)\n",
    "        tickers = [stock['symbol'] for stock in data['stocks']]\n",
    "        start_date = data['start_date']\n",
    "        end_date = data['end_date']\n",
    "    return tickers, start_date, end_date\n",
    "\n",
    "\n",
    "\n",
    "def fetch_and_prepare_stock_data(symbol, start_date, end_date):\n",
    "    stock_data = yf.download(symbol, start=start_date, end=end_date)\n",
    "    if stock_data.isnull().values.any():\n",
    "        stock_data = stock_data.fillna(method='ffill')\n",
    "    features = ['Open', 'High', 'Low', 'Close', 'Adj Close', 'Volume']\n",
    "    stock_data['Daily Return'] = stock_data['Adj Close'].pct_change()\n",
    "    stock_data['Ticker'] = symbol  \n",
    "    return stock_data.dropna()\n",
    "\n",
    "\n",
    "\n",
    "if __name__ == \"__main__\":\n",
    "    json_file_path = 'tickers.json'  \n",
    "    tickers, start_date, end_date = load_tickers_and_dates(json_file_path)\n",
    "\n",
    "    all_stocks_data = pd.DataFrame()  \n",
    "\n",
    "    for symbol in tickers:\n",
    "        print(f\"Fetching data for {symbol}...\")\n",
    "        stock_data = fetch_and_prepare_stock_data(symbol, start_date, end_date)\n",
    "        all_stocks_data = pd.concat([all_stocks_data, stock_data])  \n",
    "\n",
    "\n",
    "    all_stocks_data.to_csv('all_stocks_data.csv', index=True)"
   ]
  },
  {
   "cell_type": "code",
   "execution_count": 291,
   "id": "52c8518d",
   "metadata": {},
   "outputs": [],
   "source": [
    "import numpy as np\n",
    "import pandas as pd\n",
    "from sklearn.model_selection import train_test_split\n",
    "from sklearn.preprocessing import MinMaxScaler\n",
    "import tensorflow as tf\n",
    "import yfinance as yf\n",
    "from itertools import product"
   ]
  },
  {
   "cell_type": "code",
   "execution_count": null,
   "id": "5bd93c1a",
   "metadata": {},
   "outputs": [],
   "source": []
  },
  {
   "cell_type": "code",
   "execution_count": 404,
   "id": "22da3cb6",
   "metadata": {},
   "outputs": [
    {
     "name": "stdout",
     "output_type": "stream",
     "text": [
      "Epoch 1/100\n",
      "12/12 [==============================] - 4s 103ms/step - loss: 0.0819 - val_loss: 0.0070\n",
      "Epoch 2/100\n",
      "12/12 [==============================] - 1s 65ms/step - loss: 0.0135 - val_loss: 0.0059\n",
      "Epoch 3/100\n",
      "12/12 [==============================] - 1s 65ms/step - loss: 0.0057 - val_loss: 0.0038\n",
      "Epoch 4/100\n",
      "12/12 [==============================] - 1s 64ms/step - loss: 0.0030 - val_loss: 0.0022\n",
      "Epoch 5/100\n",
      "12/12 [==============================] - 1s 64ms/step - loss: 0.0018 - val_loss: 0.0017\n",
      "Epoch 6/100\n",
      "12/12 [==============================] - 1s 62ms/step - loss: 0.0015 - val_loss: 0.0017\n",
      "Epoch 7/100\n",
      "12/12 [==============================] - 1s 61ms/step - loss: 0.0014 - val_loss: 0.0016\n",
      "Epoch 8/100\n",
      "12/12 [==============================] - 1s 61ms/step - loss: 0.0014 - val_loss: 0.0016\n",
      "Epoch 9/100\n",
      "12/12 [==============================] - 1s 60ms/step - loss: 0.0014 - val_loss: 0.0016\n",
      "Epoch 10/100\n",
      "12/12 [==============================] - 1s 60ms/step - loss: 0.0014 - val_loss: 0.0016\n",
      "Epoch 11/100\n",
      "12/12 [==============================] - 1s 61ms/step - loss: 0.0014 - val_loss: 0.0017\n",
      "Epoch 12/100\n",
      "12/12 [==============================] - 1s 62ms/step - loss: 0.0014 - val_loss: 0.0015\n",
      "Epoch 13/100\n",
      "12/12 [==============================] - 1s 60ms/step - loss: 0.0013 - val_loss: 0.0015\n",
      "Epoch 14/100\n",
      "12/12 [==============================] - 1s 62ms/step - loss: 0.0013 - val_loss: 0.0015\n",
      "Epoch 15/100\n",
      "12/12 [==============================] - 1s 59ms/step - loss: 0.0013 - val_loss: 0.0015\n",
      "Epoch 16/100\n",
      "12/12 [==============================] - 1s 59ms/step - loss: 0.0013 - val_loss: 0.0015\n",
      "Epoch 17/100\n",
      "12/12 [==============================] - 1s 61ms/step - loss: 0.0013 - val_loss: 0.0016\n",
      "Epoch 18/100\n",
      "12/12 [==============================] - 1s 61ms/step - loss: 0.0013 - val_loss: 0.0016\n",
      "Epoch 19/100\n",
      "12/12 [==============================] - 1s 61ms/step - loss: 0.0014 - val_loss: 0.0015\n",
      "Epoch 20/100\n",
      "12/12 [==============================] - 1s 60ms/step - loss: 0.0012 - val_loss: 0.0014\n",
      "Epoch 21/100\n",
      "12/12 [==============================] - 1s 60ms/step - loss: 0.0012 - val_loss: 0.0014\n",
      "Epoch 22/100\n",
      "12/12 [==============================] - 1s 59ms/step - loss: 0.0012 - val_loss: 0.0014\n",
      "Epoch 23/100\n",
      "12/12 [==============================] - 1s 60ms/step - loss: 0.0012 - val_loss: 0.0014\n",
      "Epoch 24/100\n",
      "12/12 [==============================] - 1s 59ms/step - loss: 0.0012 - val_loss: 0.0013\n",
      "Epoch 25/100\n",
      "12/12 [==============================] - 1s 59ms/step - loss: 0.0013 - val_loss: 0.0015\n",
      "Epoch 26/100\n",
      "12/12 [==============================] - 1s 59ms/step - loss: 0.0012 - val_loss: 0.0015\n",
      "Epoch 27/100\n",
      "12/12 [==============================] - 1s 59ms/step - loss: 0.0012 - val_loss: 0.0017\n",
      "Epoch 28/100\n",
      "12/12 [==============================] - 1s 60ms/step - loss: 0.0012 - val_loss: 0.0014\n",
      "Epoch 29/100\n",
      "12/12 [==============================] - 1s 60ms/step - loss: 0.0011 - val_loss: 0.0014\n",
      "Epoch 30/100\n",
      "12/12 [==============================] - 1s 60ms/step - loss: 0.0010 - val_loss: 0.0012\n",
      "Epoch 31/100\n",
      "12/12 [==============================] - 1s 60ms/step - loss: 0.0011 - val_loss: 0.0013\n",
      "Epoch 32/100\n",
      "12/12 [==============================] - 1s 59ms/step - loss: 0.0011 - val_loss: 0.0012\n",
      "Epoch 33/100\n",
      "12/12 [==============================] - 1s 60ms/step - loss: 0.0011 - val_loss: 0.0015\n",
      "Epoch 34/100\n",
      "12/12 [==============================] - 1s 61ms/step - loss: 0.0011 - val_loss: 0.0012\n",
      "Epoch 35/100\n",
      "12/12 [==============================] - 1s 60ms/step - loss: 9.5833e-04 - val_loss: 0.0011\n",
      "Epoch 36/100\n",
      "12/12 [==============================] - 1s 59ms/step - loss: 8.9277e-04 - val_loss: 0.0011\n",
      "Epoch 37/100\n",
      "12/12 [==============================] - 1s 59ms/step - loss: 9.0561e-04 - val_loss: 0.0011\n",
      "Epoch 38/100\n",
      "12/12 [==============================] - 1s 59ms/step - loss: 9.1419e-04 - val_loss: 0.0011\n",
      "Epoch 39/100\n",
      "12/12 [==============================] - 1s 59ms/step - loss: 8.6691e-04 - val_loss: 0.0011\n",
      "Epoch 40/100\n",
      "12/12 [==============================] - 1s 59ms/step - loss: 9.1922e-04 - val_loss: 0.0011\n",
      "Epoch 41/100\n",
      "12/12 [==============================] - 1s 60ms/step - loss: 8.7968e-04 - val_loss: 0.0011\n",
      "Epoch 42/100\n",
      "12/12 [==============================] - 1s 59ms/step - loss: 8.6956e-04 - val_loss: 0.0010\n",
      "Epoch 43/100\n",
      "12/12 [==============================] - 1s 59ms/step - loss: 8.5147e-04 - val_loss: 9.9432e-04\n",
      "Epoch 44/100\n",
      "12/12 [==============================] - 1s 59ms/step - loss: 8.6535e-04 - val_loss: 9.9588e-04\n",
      "Epoch 45/100\n",
      "12/12 [==============================] - 1s 59ms/step - loss: 8.1243e-04 - val_loss: 0.0011\n",
      "Epoch 46/100\n",
      "12/12 [==============================] - 1s 59ms/step - loss: 8.9411e-04 - val_loss: 9.5472e-04\n",
      "Epoch 47/100\n",
      "12/12 [==============================] - 1s 59ms/step - loss: 8.1488e-04 - val_loss: 9.7815e-04\n",
      "Epoch 48/100\n",
      "12/12 [==============================] - 1s 59ms/step - loss: 8.1467e-04 - val_loss: 9.6474e-04\n",
      "Epoch 49/100\n",
      "12/12 [==============================] - 1s 59ms/step - loss: 8.9097e-04 - val_loss: 9.3048e-04\n",
      "Epoch 50/100\n",
      "12/12 [==============================] - 1s 59ms/step - loss: 7.7665e-04 - val_loss: 9.2483e-04\n",
      "Epoch 51/100\n",
      "12/12 [==============================] - 1s 59ms/step - loss: 7.5872e-04 - val_loss: 9.1934e-04\n",
      "Epoch 52/100\n",
      "12/12 [==============================] - 1s 60ms/step - loss: 7.8021e-04 - val_loss: 0.0013\n",
      "Epoch 53/100\n",
      "12/12 [==============================] - 1s 59ms/step - loss: 9.1046e-04 - val_loss: 8.9308e-04\n",
      "Epoch 54/100\n",
      "12/12 [==============================] - 1s 59ms/step - loss: 7.4522e-04 - val_loss: 9.0126e-04\n",
      "Epoch 55/100\n",
      "12/12 [==============================] - 1s 59ms/step - loss: 8.4578e-04 - val_loss: 9.5319e-04\n",
      "Epoch 56/100\n",
      "12/12 [==============================] - 1s 61ms/step - loss: 7.7789e-04 - val_loss: 8.9160e-04\n",
      "Epoch 57/100\n",
      "12/12 [==============================] - 1s 61ms/step - loss: 7.4443e-04 - val_loss: 8.4400e-04\n",
      "Epoch 58/100\n",
      "12/12 [==============================] - 1s 60ms/step - loss: 7.2678e-04 - val_loss: 8.3497e-04\n",
      "Epoch 59/100\n",
      "12/12 [==============================] - 1s 59ms/step - loss: 8.1077e-04 - val_loss: 8.2278e-04\n",
      "Epoch 60/100\n",
      "12/12 [==============================] - 1s 59ms/step - loss: 7.6555e-04 - val_loss: 8.1109e-04\n",
      "Epoch 61/100\n",
      "12/12 [==============================] - 1s 59ms/step - loss: 7.5567e-04 - val_loss: 8.1019e-04\n",
      "Epoch 62/100\n",
      "12/12 [==============================] - 1s 59ms/step - loss: 7.1207e-04 - val_loss: 8.0732e-04\n",
      "Epoch 63/100\n",
      "12/12 [==============================] - 1s 59ms/step - loss: 6.7392e-04 - val_loss: 7.9454e-04\n",
      "Epoch 64/100\n",
      "12/12 [==============================] - 1s 59ms/step - loss: 6.9374e-04 - val_loss: 9.2137e-04\n",
      "Epoch 65/100\n",
      "12/12 [==============================] - 1s 59ms/step - loss: 7.6102e-04 - val_loss: 9.7497e-04\n",
      "Epoch 66/100\n",
      "12/12 [==============================] - 1s 60ms/step - loss: 8.0966e-04 - val_loss: 7.5579e-04\n",
      "Epoch 67/100\n",
      "12/12 [==============================] - 1s 61ms/step - loss: 6.6911e-04 - val_loss: 7.6805e-04\n",
      "Epoch 68/100\n",
      "12/12 [==============================] - 1s 62ms/step - loss: 6.4720e-04 - val_loss: 7.4248e-04\n",
      "Epoch 69/100\n",
      "12/12 [==============================] - 1s 59ms/step - loss: 6.3903e-04 - val_loss: 7.5805e-04\n",
      "Epoch 70/100\n",
      "12/12 [==============================] - 1s 60ms/step - loss: 6.9457e-04 - val_loss: 8.4422e-04\n",
      "Epoch 71/100\n",
      "12/12 [==============================] - 1s 59ms/step - loss: 7.6907e-04 - val_loss: 7.8184e-04\n",
      "Epoch 72/100\n",
      "12/12 [==============================] - 1s 59ms/step - loss: 6.1987e-04 - val_loss: 7.0940e-04\n",
      "Epoch 73/100\n",
      "12/12 [==============================] - 1s 60ms/step - loss: 6.6093e-04 - val_loss: 7.5385e-04\n",
      "Epoch 74/100\n",
      "12/12 [==============================] - 1s 61ms/step - loss: 6.8865e-04 - val_loss: 0.0012\n",
      "Epoch 75/100\n",
      "12/12 [==============================] - 1s 61ms/step - loss: 6.9618e-04 - val_loss: 7.2116e-04\n",
      "Epoch 76/100\n",
      "12/12 [==============================] - 1s 60ms/step - loss: 6.1050e-04 - val_loss: 7.1799e-04\n",
      "Epoch 77/100\n",
      "12/12 [==============================] - 1s 60ms/step - loss: 6.2094e-04 - val_loss: 6.7500e-04\n",
      "Epoch 78/100\n",
      "12/12 [==============================] - 1s 61ms/step - loss: 5.9073e-04 - val_loss: 6.8567e-04\n",
      "Epoch 79/100\n"
     ]
    },
    {
     "name": "stdout",
     "output_type": "stream",
     "text": [
      "12/12 [==============================] - 1s 62ms/step - loss: 6.3597e-04 - val_loss: 6.7292e-04\n",
      "Epoch 80/100\n",
      "12/12 [==============================] - 1s 59ms/step - loss: 6.8680e-04 - val_loss: 7.4934e-04\n",
      "Epoch 81/100\n",
      "12/12 [==============================] - 1s 60ms/step - loss: 6.1733e-04 - val_loss: 7.1929e-04\n",
      "Epoch 82/100\n",
      "12/12 [==============================] - 1s 59ms/step - loss: 6.4515e-04 - val_loss: 6.3627e-04\n",
      "Epoch 83/100\n",
      "12/12 [==============================] - 1s 59ms/step - loss: 5.6154e-04 - val_loss: 6.5093e-04\n",
      "Epoch 84/100\n",
      "12/12 [==============================] - 1s 59ms/step - loss: 5.5505e-04 - val_loss: 6.3266e-04\n",
      "Epoch 85/100\n",
      "12/12 [==============================] - 1s 59ms/step - loss: 5.5464e-04 - val_loss: 7.0120e-04\n",
      "Epoch 86/100\n",
      "12/12 [==============================] - 1s 59ms/step - loss: 5.6486e-04 - val_loss: 6.3998e-04\n",
      "Epoch 87/100\n",
      "12/12 [==============================] - 1s 60ms/step - loss: 5.7038e-04 - val_loss: 6.1539e-04\n",
      "Epoch 88/100\n",
      "12/12 [==============================] - 1s 59ms/step - loss: 5.3173e-04 - val_loss: 6.6226e-04\n",
      "Epoch 89/100\n",
      "12/12 [==============================] - 1s 60ms/step - loss: 5.3905e-04 - val_loss: 5.9848e-04\n",
      "Epoch 90/100\n",
      "12/12 [==============================] - 1s 59ms/step - loss: 5.3974e-04 - val_loss: 5.9069e-04\n",
      "Epoch 91/100\n",
      "12/12 [==============================] - 1s 59ms/step - loss: 5.5622e-04 - val_loss: 5.8203e-04\n",
      "Epoch 92/100\n",
      "12/12 [==============================] - 1s 59ms/step - loss: 5.5311e-04 - val_loss: 5.9616e-04\n",
      "Epoch 93/100\n",
      "12/12 [==============================] - 1s 59ms/step - loss: 5.9627e-04 - val_loss: 5.8116e-04\n",
      "Epoch 94/100\n",
      "12/12 [==============================] - 1s 59ms/step - loss: 5.4433e-04 - val_loss: 5.7954e-04\n",
      "Epoch 95/100\n",
      "12/12 [==============================] - 1s 59ms/step - loss: 5.0224e-04 - val_loss: 5.6782e-04\n",
      "Epoch 96/100\n",
      "12/12 [==============================] - 1s 60ms/step - loss: 4.8264e-04 - val_loss: 5.7385e-04\n",
      "Epoch 97/100\n",
      "12/12 [==============================] - 1s 59ms/step - loss: 5.0786e-04 - val_loss: 5.6759e-04\n",
      "Epoch 98/100\n",
      "12/12 [==============================] - 1s 59ms/step - loss: 5.4663e-04 - val_loss: 5.7755e-04\n",
      "Epoch 99/100\n",
      "12/12 [==============================] - 1s 60ms/step - loss: 5.1333e-04 - val_loss: 6.3950e-04\n",
      "Epoch 100/100\n",
      "12/12 [==============================] - 1s 61ms/step - loss: 5.0711e-04 - val_loss: 5.3515e-04\n"
     ]
    }
   ],
   "source": [
    "def create_dataset(data, time_step=1):\n",
    "    X, y = [], []\n",
    "    for i in range(len(data)-time_step-1):\n",
    "        a = data[i:(i+time_step), 0]\n",
    "        X.append(a)\n",
    "        y.append(data[i + time_step, 0])\n",
    "    return np.array(X), np.array(y)\n",
    "\n",
    "\n",
    "stock_data = pd.read_csv('all_stocks_data.csv')\n",
    "\n",
    "\n",
    "data = stock_data['Close'].values.reshape(-1, 1)\n",
    "\n",
    "\n",
    "scaler = MinMaxScaler(feature_range=(0, 1))\n",
    "data_scaled = scaler.fit_transform(data)\n",
    "\n",
    "\n",
    "time_step = 100\n",
    "X, y = create_dataset(data_scaled, time_step)\n",
    "X = X.reshape(X.shape[0],X.shape[1] , 1)\n",
    "\n",
    "\n",
    "X_train, X_test, y_train, y_test = train_test_split(X, y, test_size=0.2, random_state=42)\n",
    "\n",
    "\n",
    "model = tf.keras.Sequential([\n",
    "    tf.keras.layers.LSTM(50, return_sequences=True, input_shape=(100, 1)),\n",
    "    tf.keras.layers.LSTM(50, return_sequences=False),\n",
    "    tf.keras.layers.Dense(25),\n",
    "    tf.keras.layers.Dense(1)\n",
    "])\n",
    "\n",
    "model.compile(optimizer='adam', loss='mean_squared_error')\n",
    "\n",
    "\n",
    "model.fit(X_train, y_train, validation_data=(X_test, y_test), epochs=100, batch_size=64, verbose=1)\n",
    "\n",
    "\n",
    "model.save('model.h5')\n"
   ]
  },
  {
   "cell_type": "code",
   "execution_count": 405,
   "id": "0cd65abe",
   "metadata": {
    "scrolled": false
   },
   "outputs": [
    {
     "name": "stdout",
     "output_type": "stream",
     "text": [
      "Model: \"sequential_3\"\n",
      "_________________________________________________________________\n",
      " Layer (type)                Output Shape              Param #   \n",
      "=================================================================\n",
      " lstm_6 (LSTM)               (None, 100, 50)           10400     \n",
      "                                                                 \n",
      " lstm_7 (LSTM)               (None, 50)                20200     \n",
      "                                                                 \n",
      " dense_6 (Dense)             (None, 25)                1275      \n",
      "                                                                 \n",
      " dense_7 (Dense)             (None, 1)                 26        \n",
      "                                                                 \n",
      "=================================================================\n",
      "Total params: 31,901\n",
      "Trainable params: 31,901\n",
      "Non-trainable params: 0\n",
      "_________________________________________________________________\n"
     ]
    }
   ],
   "source": [
    "model.summary()"
   ]
  },
  {
   "cell_type": "code",
   "execution_count": 406,
   "id": "90cf3f53",
   "metadata": {},
   "outputs": [
    {
     "name": "stdout",
     "output_type": "stream",
     "text": [
      "Requirement already satisfied: matplotlib in c:\\users\\pocot\\anaconda3\\lib\\site-packages (3.5.2)\n",
      "Requirement already satisfied: pyparsing>=2.2.1 in c:\\users\\pocot\\anaconda3\\lib\\site-packages (from matplotlib) (3.0.9)\n",
      "Requirement already satisfied: fonttools>=4.22.0 in c:\\users\\pocot\\anaconda3\\lib\\site-packages (from matplotlib) (4.25.0)\n",
      "Requirement already satisfied: numpy>=1.17 in c:\\users\\pocot\\anaconda3\\lib\\site-packages (from matplotlib) (1.21.5)\n",
      "Requirement already satisfied: cycler>=0.10 in c:\\users\\pocot\\anaconda3\\lib\\site-packages (from matplotlib) (0.11.0)\n",
      "Requirement already satisfied: packaging>=20.0 in c:\\users\\pocot\\anaconda3\\lib\\site-packages (from matplotlib) (21.3)\n",
      "Requirement already satisfied: kiwisolver>=1.0.1 in c:\\users\\pocot\\anaconda3\\lib\\site-packages (from matplotlib) (1.4.2)\n",
      "Requirement already satisfied: python-dateutil>=2.7 in c:\\users\\pocot\\anaconda3\\lib\\site-packages (from matplotlib) (2.8.2)\n",
      "Requirement already satisfied: pillow>=6.2.0 in c:\\users\\pocot\\anaconda3\\lib\\site-packages (from matplotlib) (9.2.0)\n",
      "Requirement already satisfied: six>=1.5 in c:\\users\\pocot\\anaconda3\\lib\\site-packages (from python-dateutil>=2.7->matplotlib) (1.16.0)\n",
      "Note: you may need to restart the kernel to use updated packages.\n"
     ]
    }
   ],
   "source": [
    "pip install matplotlib"
   ]
  },
  {
   "cell_type": "code",
   "execution_count": 407,
   "id": "c5a61a2e",
   "metadata": {},
   "outputs": [],
   "source": [
    "import tensorflow as tf\n",
    "import matplotlib.pyplot as plt\n",
    "from matplotlib.patches import Rectangle\n",
    "\n",
    "def visualize_model(model):\n",
    "\n",
    "    fig, ax = plt.subplots(figsize=(12, 8))\n",
    "\n",
    "\n",
    "    layer_colors = {\n",
    "        'LSTM': 'skyblue',\n",
    "        'Dense': 'lightgreen'\n",
    "    }\n",
    "\n",
    "\n",
    "    layer_x = 0\n",
    "    layer_width = 1.5\n",
    "    layer_gap = 1.0\n",
    "    y_center = 5\n",
    "\n",
    "\n",
    "    for layer in model.layers:\n",
    "        layer_type = layer.__class__.__name__\n",
    "        layer_color = layer_colors.get(layer_type, 'lightgrey')\n",
    "        \n",
    "\n",
    "        output_shape = layer.output_shape\n",
    "        if isinstance(output_shape, tuple) and len(output_shape) > 0:\n",
    "            layer_height = output_shape[-1] / 10.0  \n",
    "        else:\n",
    "            layer_height = 1  \n",
    "\n",
    "\n",
    "        ax.add_patch(Rectangle((layer_x, y_center - layer_height / 2), layer_width, layer_height, edgecolor='black', facecolor=layer_color))\n",
    "\n",
    "\n",
    "        ax.text(layer_x + layer_width / 2, y_center + layer_height / 2 + 0.1, layer_type, ha='center', va='bottom', fontsize=12, fontweight='bold')\n",
    "        ax.text(layer_x + layer_width / 2, y_center - layer_height / 2 - 0.1, f\"Output: {output_shape}\", ha='center', va='top', fontsize=10)\n",
    "\n",
    "\n",
    "        layer_x += layer_width + layer_gap\n",
    "\n",
    "\n",
    "    ax.set_xlim(-1, layer_x)\n",
    "    ax.set_ylim(y_center - 10, y_center + 10)\n",
    "    ax.axis('off')\n",
    "    plt.title(\"Model Architecture\")\n",
    "    plt.show()"
   ]
  },
  {
   "cell_type": "code",
   "execution_count": 408,
   "id": "da2b08e9",
   "metadata": {
    "scrolled": true
   },
   "outputs": [
    {
     "data": {
      "image/png": "[encoded data removed]",
      "text/plain": [
       "<Figure size 1200x800 with 1 Axes>"
      ]
     },
     "metadata": {},
     "output_type": "display_data"
    }
   ],
   "source": [
    "visualize_model(model)"
   ]
  },
  {
   "cell_type": "code",
   "execution_count": 409,
   "id": "eafa2dec",
   "metadata": {},
   "outputs": [],
   "source": [
    "\n",
    "def predict_stock_price(ticker, days_to_predict):\n",
    "\n",
    "    model = tf.keras.models.load_model('model.h5')\n",
    "\n",
    "\n",
    "    stock_data = yf.download(ticker, period=\"1y\")\n",
    "    data = stock_data['Close'].values.reshape(-1, 1)\n",
    "\n",
    "\n",
    "    scaler = MinMaxScaler(feature_range=(0, 1))\n",
    "    data_scaled = scaler.fit_transform(data)\n",
    "\n",
    "\n",
    "    time_step = 100\n",
    "    X, y = create_dataset(data_scaled, time_step)\n",
    "    X = X.reshape(X.shape[0], X.shape[1], 1)\n",
    "\n",
    "\n",
    "    predictions = []\n",
    "    last_sequence = X[-1]\n",
    "\n",
    "    for _ in range(days_to_predict):\n",
    "        prediction = model.predict(last_sequence.reshape(1, time_step, 1))\n",
    "        predictions.append(prediction[0, 0])\n",
    "        last_sequence = np.append(last_sequence[1:], prediction).reshape(time_step, 1)\n",
    "\n",
    "\n",
    "    predictions = np.array(predictions).reshape(-1, 1)\n",
    "    predictions_original_scale = scaler.inverse_transform(predictions)\n",
    "\n",
    "    return predictions_original_scale\n",
    "\n"
   ]
  },
  {
   "cell_type": "code",
   "execution_count": 410,
   "id": "b352740d",
   "metadata": {},
   "outputs": [],
   "source": [
    "def predict_stock_price_bullish(ticker, days_to_predict, randomness=0.01):\n",
    "    # Fetch historical stock data\n",
    "    stock_data = yf.download(ticker, period=\"1y\")\n",
    "    data = stock_data['Close'].values.reshape(-1, 1)\n",
    "\n",
    "\n",
    "    scaler = MinMaxScaler(feature_range=(0, 1))\n",
    "    data_scaled = scaler.fit_transform(data)\n",
    "\n",
    "\n",
    "    time_step = 100\n",
    "    X, y = create_dataset(data_scaled, time_step)\n",
    "    X = X.reshape(X.shape[0], X.shape[1], 1)\n",
    "\n",
    "\n",
    "    predictions = []\n",
    "    last_sequence = X[-1]\n",
    "\n",
    "    for _ in range(days_to_predict):\n",
    "        prediction = model.predict(last_sequence.reshape(1, time_step, 1))\n",
    "\n",
    "        prediction = prediction + (np.random.rand() * randomness)\n",
    "        predictions.append(prediction[0, 0])\n",
    "        last_sequence = np.append(last_sequence[1:], prediction).reshape(time_step, 1)\n",
    "\n",
    "\n",
    "    predictions = np.array(predictions).reshape(-1, 1)\n",
    "    predictions_original_scale = scaler.inverse_transform(predictions)\n",
    "\n",
    "    return predictions_original_scale"
   ]
  },
  {
   "cell_type": "code",
   "execution_count": 413,
   "id": "802b3b58",
   "metadata": {},
   "outputs": [],
   "source": [
    "def predict_stock_price_bearish(ticker, days_to_predict, randomness=0.01):\n",
    "\n",
    "    stock_data = yf.download(ticker, period=\"1y\")\n",
    "    data = stock_data['Close'].values.reshape(-1, 1)\n",
    "\n",
    "\n",
    "    scaler = MinMaxScaler(feature_range=(0, 1))\n",
    "    data_scaled = scaler.fit_transform(data)\n",
    "\n",
    "\n",
    "    time_step = 100\n",
    "    X, y = create_dataset(data_scaled, time_step)\n",
    "    X = X.reshape(X.shape[0], X.shape[1], 1)\n",
    "\n",
    "\n",
    "    predictions = []\n",
    "    last_sequence = X[-1]\n",
    "\n",
    "    for _ in range(days_to_predict):\n",
    "        prediction = model.predict(last_sequence.reshape(1, time_step, 1))\n",
    "\n",
    "        prediction = prediction - (np.random.rand() * randomness)\n",
    "        predictions.append(prediction[0, 0])\n",
    "        last_sequence = np.append(last_sequence[1:], prediction).reshape(time_step, 1)\n",
    "\n",
    "\n",
    "    predictions = np.array(predictions).reshape(-1, 1)\n",
    "    predictions_original_scale = scaler.inverse_transform(predictions)\n",
    "\n",
    "    return predictions_original_scale"
   ]
  },
  {
   "cell_type": "code",
   "execution_count": null,
   "id": "6f6fe30a",
   "metadata": {},
   "outputs": [],
   "source": [
    "def generate_predictions(tickers, days_to_predict, randomness=0.01):\n",
    "    predictions = {}\n",
    "    for ticker in tickers:\n",
    "        bullish_price = predict_stock_price_bullish(ticker, days_to_predict, randomness)[-1, 0]\n",
    "        bearish_price = predict_stock_price_bearish(ticker, days_to_predict, randomness)[-1, 0]\n",
    "        current_price = yf.Ticker(ticker).history(period='1d')['Close'][0]\n",
    "        predicted_price = predict_stock_price(ticker, days_to_predict)[-1, 0]\n",
    "        predictions[ticker] = [bullish_price, bearish_price, current_price, predicted_price]\n",
    "    return predictions"
   ]
  },
  {
   "cell_type": "code",
   "execution_count": null,
   "id": "9d8e71c8",
   "metadata": {},
   "outputs": [],
   "source": [
    "def calculate_percent_change(predictions):\n",
    "    percent_changes = {}\n",
    "    for ticker, prices in predictions.items():\n",
    "        bullish_price, bearish_price, current_price, predicted_price = prices\n",
    "        bullish_change = ((bullish_price - current_price) / current_price) * 100\n",
    "        bearish_change = ((bearish_price - current_price) / current_price) * 100\n",
    "        predicted_change = ((predicted_price - current_price) / current_price) * 100\n",
    "        percent_changes[ticker] = [bullish_change, bearish_change, predicted_change]\n",
    "    return percent_changes"
   ]
  },
  {
   "cell_type": "code",
   "execution_count": null,
   "id": "7db7016f",
   "metadata": {},
   "outputs": [],
   "source": [
    "def stock_selection(percent_changes, allowable_change):\n",
    "    selected_stocks = {}\n",
    "    for ticker, changes in percent_changes.items():\n",
    "        bullish_change, bearish_change, predicted_change = changes\n",
    "        if bullish_change >= allowable_change and bearish_change >= allowable_change and predicted_change >= allowable_change:\n",
    "            selected_stocks[ticker] = changes\n",
    "    return selected_stocks"
   ]
  },
  {
   "cell_type": "code",
   "execution_count": null,
   "id": "72598e33",
   "metadata": {},
   "outputs": [],
   "source": [
    "#heurystyki wybierania portfolio:"
   ]
  },
  {
   "cell_type": "code",
   "execution_count": null,
   "id": "864afc71",
   "metadata": {},
   "outputs": [],
   "source": [
    "def greedy(scenario, tickers, current_prices, investment_budget, biggest_allowable_net_loss):\n",
    "    num_shares = [0] * len(tickers)\n",
    "    remaining_budget = investment_budget\n",
    "    remaining_allowable_loss = biggest_allowable_net_loss\n",
    "    total_invested = 0\n",
    "    total_loss = 0\n",
    "\n",
    "\n",
    "    potential_gains = {tickers[i]: scenario[i] - current_prices[i] for i in range(len(tickers))}\n",
    "\n",
    "\n",
    "    sorted_stocks = sorted(potential_gains.items(), key=lambda item: item[1], reverse=True)\n",
    "\n",
    "    for ticker, gain in sorted_stocks:\n",
    "        index = tickers.index(ticker)\n",
    "        current_price = current_prices[index]\n",
    "        predicted_price = scenario[index]\n",
    "\n",
    "\n",
    "        max_shares_by_budget = remaining_budget // current_price\n",
    "        max_shares_by_loss = remaining_allowable_loss // max(1, current_price - predicted_price)\n",
    "        max_shares = min(max_shares_by_budget, max_shares_by_loss)\n",
    "\n",
    "        if max_shares > 0:\n",
    "            num_shares[index] = max_shares\n",
    "            invested_amount = max_shares * current_price\n",
    "            total_invested += invested_amount\n",
    "            if predicted_price < current_price:\n",
    "                total_loss += max_shares * (current_price - predicted_price)\n",
    "            remaining_budget -= invested_amount\n",
    "            remaining_allowable_loss -= invested_amount\n",
    "\n",
    "    return num_shares, total_invested, total_loss"
   ]
  },
  {
   "cell_type": "code",
   "execution_count": null,
   "id": "14bc6eca",
   "metadata": {},
   "outputs": [],
   "source": [
    "import random\n",
    "import math\n",
    "\n",
    "def simulated_annealing(scenario, tickers, current_prices, investment_budget, biggest_allowable_net_loss, initial_temperature, cooling_rate, num_iterations):\n",
    "    num_shares = [0] * len(tickers)\n",
    "    best_shares = list(num_shares)\n",
    "    remaining_budget = investment_budget\n",
    "    remaining_allowable_loss = biggest_allowable_net_loss\n",
    "    total_invested = 0\n",
    "    total_loss = 0\n",
    "\n",
    "\n",
    "    def calculate_investment_and_loss(num_shares):\n",
    "        total_invested = 0\n",
    "        total_loss = 0\n",
    "        for i, shares in enumerate(num_shares):\n",
    "            current_price = current_prices[i]\n",
    "            predicted_price = scenario[i]\n",
    "            total_invested += shares * current_price\n",
    "            if predicted_price < current_price:\n",
    "                total_loss += shares * (current_price - predicted_price)\n",
    "        return total_invested, total_loss\n",
    "\n",
    "\n",
    "    for i in range(len(tickers)):\n",
    "        if remaining_budget >= current_prices[i]:\n",
    "            max_shares_by_budget = remaining_budget // current_prices[i]\n",
    "            max_shares_by_loss = remaining_allowable_loss // max(1, current_prices[i] - scenario[i])\n",
    "            max_shares = min(max_shares_by_budget, max_shares_by_loss)\n",
    "            num_shares[i] = random.randint(0, max_shares)\n",
    "            invested_amount = num_shares[i] * current_prices[i]\n",
    "            total_invested += invested_amount\n",
    "            remaining_budget -= invested_amount\n",
    "            if scenario[i] < current_prices[i]:\n",
    "                total_loss += num_shares[i] * (current_prices[i] - scenario[i])\n",
    "                remaining_allowable_loss -= num_shares[i] * (current_prices[i] - scenario[i])\n",
    "    \n",
    "    best_shares = list(num_shares)\n",
    "    best_invested, best_loss = calculate_investment_and_loss(best_shares)\n",
    "\n",
    "    temperature = initial_temperature\n",
    "\n",
    "    for iteration in range(num_iterations):\n",
    "\n",
    "        new_shares = list(num_shares)\n",
    "        i = random.randint(0, len(tickers) - 1)\n",
    "        if new_shares[i] > 0:\n",
    "            new_shares[i] -= 1\n",
    "        else:\n",
    "            new_shares[i] += 1\n",
    "\n",
    "        new_invested, new_loss = calculate_investment_and_loss(new_shares)\n",
    "        if new_invested <= investment_budget and new_loss <= biggest_allowable_net_loss:\n",
    "\n",
    "            delta = new_loss - total_loss\n",
    "            if delta < 0 or random.random() < math.exp(-delta / temperature):\n",
    "                num_shares = new_shares\n",
    "                total_invested, total_loss = new_invested, new_loss\n",
    "\n",
    "\n",
    "                if total_loss < best_loss:\n",
    "                    best_shares = list(num_shares)\n",
    "                    best_invested, best_loss = total_invested, total_loss\n",
    "\n",
    "\n",
    "        temperature *= cooling_rate\n",
    "\n",
    "    return best_shares, best_invested, best_loss"
   ]
  },
  {
   "cell_type": "code",
   "execution_count": null,
   "id": "796c4669",
   "metadata": {},
   "outputs": [],
   "source": [
    "import numpy as np\n",
    "\n",
    "def ant_colony_optimization(scenario, tickers, current_prices, investment_budget, biggest_allowable_net_loss):\n",
    "    num_ants=10\n",
    "    num_iterations=100\n",
    "    alpha=1.0\n",
    "    beta=2.0\n",
    "    evaporation_rate=0.5\n",
    "    Q=100\n",
    "    \n",
    "    num_stocks = len(tickers)\n",
    "    pheromone = np.ones(num_stocks)\n",
    "    best_solution = None\n",
    "    best_invested = 0\n",
    "    best_loss = float('inf')\n",
    "    \n",
    "    def fitness(shares):\n",
    "        total_invested = sum(shares[i] * current_prices[i] for i in range(num_stocks))\n",
    "        total_loss = sum(shares[i] * max(0, current_prices[i] - scenario[i]) for i in range(num_stocks))\n",
    "        return total_invested, total_loss\n",
    "\n",
    "    for _ in range(num_iterations):\n",
    "        solutions = []\n",
    "        investments = []\n",
    "        losses = []\n",
    "\n",
    "        for _ in range(num_ants):\n",
    "            remaining_budget = investment_budget\n",
    "            remaining_allowable_loss = biggest_allowable_net_loss\n",
    "            shares = [0] * num_stocks\n",
    "            for _ in range(num_stocks):\n",
    "                probabilities = [\n",
    "                    (pheromone[i] ** alpha) * ((scenario[i] - current_prices[i]) ** beta)\n",
    "                    if remaining_budget >= current_prices[i] and remaining_allowable_loss >= (current_prices[i] - scenario[i])\n",
    "                    else 0\n",
    "                    for i in range(num_stocks)\n",
    "                ]\n",
    "                probabilities_sum = sum(probabilities)\n",
    "                if probabilities_sum == 0:\n",
    "                    break\n",
    "                probabilities = [p / probabilities_sum for p in probabilities]\n",
    "                chosen_stock = np.random.choice(num_stocks, p=probabilities)\n",
    "                max_shares_by_budget = remaining_budget // current_prices[chosen_stock]\n",
    "                max_shares_by_loss = remaining_allowable_loss // max(1, current_prices[chosen_stock] - scenario[chosen_stock])\n",
    "                max_shares = min(max_shares_by_budget, max_shares_by_loss)\n",
    "                if max_shares > 0:\n",
    "                    shares[chosen_stock] += max_shares\n",
    "                    remaining_budget -= max_shares * current_prices[chosen_stock]\n",
    "                    remaining_allowable_loss -= max_shares * (current_prices[chosen_stock] - scenario[chosen_stock])\n",
    "            \n",
    "            total_invested, total_loss = fitness(shares)\n",
    "            solutions.append(shares)\n",
    "            investments.append(total_invested)\n",
    "            losses.append(total_loss)\n",
    "\n",
    "            if total_loss < best_loss and total_invested <= investment_budget:\n",
    "                best_solution = shares\n",
    "                best_invested = total_invested\n",
    "                best_loss = total_loss\n",
    "\n",
    "        pheromone *= (1 - evaporation_rate)\n",
    "        for i in range(num_ants):\n",
    "            for j in range(num_stocks):\n",
    "                pheromone[j] += Q / (1 + losses[i]) if solutions[i][j] > 0 else 0\n",
    "\n",
    "    return best_solution, best_invested, best_loss\n",
    "\n"
   ]
  },
  {
   "cell_type": "code",
   "execution_count": null,
   "id": "986b865c",
   "metadata": {},
   "outputs": [],
   "source": [
    "def scenario_for_portfolio(portfolio_decision, scenario):\n",
    "    resulting_values = [portfolio_decision[i] * scenario[i] for i in range(len(portfolio_decision))]\n",
    "    return resulting_values\n",
    "    "
   ]
  },
  {
   "cell_type": "code",
   "execution_count": null,
   "id": "b006f319",
   "metadata": {},
   "outputs": [],
   "source": [
    "def scenarios_for_portfolios(portfolio_decisions, scenarios):\n",
    "\n",
    "    \n",
    "    all_results = []\n",
    "    for portfolio_decision in portfolio_decisions:\n",
    "        for scenario in scenarios:\n",
    "            result = scenario_for_portfolio(portfolio_decision, scenario)\n",
    "            all_results.append(result)\n",
    "    \n",
    "    return all_results"
   ]
  },
  {
   "cell_type": "code",
   "execution_count": null,
   "id": "3614b9e7",
   "metadata": {},
   "outputs": [],
   "source": [
    "def result_decision(all_results):\n",
    "    results = []\n",
    "    for result in all_results:\n",
    "        sum = 0\n",
    "        for value in result:\n",
    "            sum+=value\n",
    "        results.append(sum)\n",
    "    return results"
   ]
  },
  {
   "cell_type": "code",
   "execution_count": null,
   "id": "ef9357ea",
   "metadata": {},
   "outputs": [],
   "source": [
    "def maximum_regret_decision(decisions, results):\n",
    "    #najlepszy wynik dla najlepszej decyzji, nie znamy wiec zakładamy bardzo wysoki\n",
    "    best_val_best_dec = 1000*investment_budget\n",
    "    regrets=[]\n",
    "    result = 0\n",
    "    r = 0\n",
    "    for decision in decisions:\n",
    "        max_regret = 0\n",
    "        for i in range(3):\n",
    "            regret = best_val_best_dec - results[r]\n",
    "            if regret >= max_regret:\n",
    "                max_regret = regret\n",
    "            i+=1\n",
    "            r+=1\n",
    "        regrets.append(max_regret)\n",
    "    return regrets\n",
    "        \n",
    "    "
   ]
  },
  {
   "cell_type": "code",
   "execution_count": null,
   "id": "1fab0af1",
   "metadata": {},
   "outputs": [],
   "source": [
    "def best_decision_minmax_regret(decisions, regrets):\n",
    "    min_max_regret = math.inf\n",
    "    best_decision = 0\n",
    "    no_best_decision = 0\n",
    "    for i in range(len(regrets)):\n",
    "        if regrets[i] < min_max_regret:\n",
    "            min_max_regret = regrets[i]\n",
    "            best_decision = decisions[i]\n",
    "            \n",
    "    return best_decision, min_max_regret, i"
   ]
  },
  {
   "cell_type": "code",
   "execution_count": null,
   "id": "2284f933",
   "metadata": {},
   "outputs": [],
   "source": [
    "def select_tickers(selected_stocks, tickers):\n",
    "    selected_tickers = [ticker for ticker in tickers if ticker in selected_stocks.keys()]\n",
    "    return selected_tickers"
   ]
  },
  {
   "cell_type": "code",
   "execution_count": null,
   "id": "5a9255fd",
   "metadata": {},
   "outputs": [],
   "source": [
    "def main_function(tickers, days_to_predict, investment_budget, biggest_allowable_net_loss, allowable_stock_risk):\n",
    "    randomness = 0.015\n",
    "    predicted_prices = generate_predictions(tickers, days_to_predict, randomness)\n",
    "    percent_changes = calculate_percent_change(predicted_prices)\n",
    "    selected_stocks = stock_selection(percent_changes, allowable_stock_risk)\n",
    "    selected_tickers = select_tickers(selected_stocks,tickers)\n",
    "    sc_predicted = []\n",
    "    sc_bullish = []\n",
    "    sc_bearish = []\n",
    "    current_prices = []\n",
    "    for ticker in selected_tickers:\n",
    "        if ticker in predicted_prices:\n",
    "            sc_bullish.append(predicted_prices[ticker][0])\n",
    "            sc_bearish.append(predicted_prices[ticker][1])\n",
    "            sc_predicted.append(predicted_prices[ticker][3])\n",
    "            current_prices.append(predicted_prices[ticker][2])\n",
    "    portfolio_aco_bearish = ant_colony_optimization(sc_bearish, selected_tickers, current_prices, investment_budget, biggest_allowable_net_loss)\n",
    "    portfolio_aco_bullish = ant_colony_optimization(sc_bullish, selected_tickers, current_prices, investment_budget, biggest_allowable_net_loss)\n",
    "    portfolio_aco_predicted = ant_colony_optimization(sc_predicted, selected_tickers, current_prices, investment_budget, biggest_allowable_net_loss)\n",
    "    portfolio_sa_bearish = simulated_annealing(sc_bearish, selected_tickers, current_prices, investment_budget, biggest_allowable_net_loss, 40, 0.01, 100)\n",
    "    portfolio_sa_bullish = simulated_annealing(sc_bullish, selected_tickers, current_prices, investment_budget, biggest_allowable_net_loss, 40, 0.01, 100)\n",
    "    portfolio_sa_predicted = simulated_annealing(sc_predicted, selected_tickers, current_prices, investment_budget, biggest_allowable_net_loss, 40, 0.01, 100)\n",
    "    portfolio_greedy_bearish = greedy(sc_bearish, selected_tickers, current_prices, investment_budget, biggest_allowable_net_loss)\n",
    "    portfolio_greedy_bullish = greedy(sc_bullish, selected_tickers, current_prices, investment_budget, biggest_allowable_net_loss)\n",
    "    portfolio_greedy_predicted = greedy(sc_predicted, selected_tickers, current_prices, investment_budget, biggest_allowable_net_loss)\n",
    "    scenarios = [sc_predicted, sc_bullish, sc_bearish]\n",
    "    portfolio_decisions = [portfolio_aco_bearish[0], portfolio_aco_bullish[0], portfolio_aco_predicted[0], \n",
    "                       portfolio_sa_bearish[0], portfolio_sa_bullish[0], portfolio_sa_predicted[0],\n",
    "                       portfolio_greedy_bearish[0], portfolio_greedy_bullish[0], portfolio_greedy_predicted[0]]\n",
    "    l = scenarios_for_portfolios(portfolio_decisions, scenarios)\n",
    "    results = result_decision(l)\n",
    "    regrets = maximum_regret_decision(portfolio_decisions, results)\n",
    "    best_decision, regret, i  = best_decision_minmax_regret(portfolio_decisions, regrets)      \n",
    "    return best_decision, regret, i, selected_tickers, regrets, results, l\n"
   ]
  },
  {
   "cell_type": "code",
   "execution_count": null,
   "id": "48d8030b",
   "metadata": {},
   "outputs": [],
   "source": [
    "tickers = ['AAPL', 'MSFT', 'GOOGL', 'NVDA', 'AMZN', 'META', 'TSM', 'BRK-B', 'LLY', 'AVGO', 'NVO', 'TSLA', 'JPM', 'V', 'WMT', 'XOM', 'UNH', 'TCEHY', 'MA', 'ASML', 'PG', 'ORCL', 'COST' ]\n",
    "days_to_predict = 10\n",
    "investment_budget = 10000 #in usd\n",
    "biggest_allowable_net_loss = 1000 # in usd\n",
    "allowable_stock_risk = -2"
   ]
  },
  {
   "cell_type": "code",
   "execution_count": null,
   "id": "0d828de8",
   "metadata": {},
   "outputs": [],
   "source": [
    "m = main_function(tickers, days_to_predict, investment_budget, biggest_allowable_net_loss, allowable_stock_risk)"
   ]
  },
  {
   "cell_type": "code",
   "execution_count": 412,
   "id": "2dfd1109",
   "metadata": {
    "scrolled": true
   },
   "outputs": [
    {
     "name": "stdout",
     "output_type": "stream",
     "text": [
      "([0, 2.0, 0, 0, 0, 0, 20.0, 0], 9989702.616516113, 6, ['AAPL', 'AMZN', 'META', 'BRK-B', 'V', 'XOM', 'UNH', 'MA'], [9990177.61126709, 10000000.0, 10000000.0, 9995250.364959717, 9992462.968963623, 9993947.334564209, 9989702.616516113, 9989855.526657104, 9989795.058959961], [9894.99819946289, 9970.775024414062, 9822.388732910156, 0.0, 0.0, 0.0, 0.0, 0.0, 0.0, 4773.043190002441, 4799.354064941406, 4749.635040283203, 7573.549766540527, 7616.465667724609, 7537.031036376953, 6084.985076904297, 6124.085662841797, 6052.665435791016, 10328.101287841797, 10402.426391601562, 10297.383483886719, 10173.538360595703, 10246.219497680664, 10144.473342895508, 10234.078338623047, 10306.865325927734, 10204.941040039062], [[0.0, 9894.99819946289, 0.0, 0.0, 0.0, 0.0, 0.0, 0.0], [0.0, 9970.775024414062, 0.0, 0.0, 0.0, 0.0, 0.0, 0.0], [0.0, 9822.388732910156, 0.0, 0.0, 0.0, 0.0, 0.0, 0.0], [0.0, 0.0, 0.0, 0.0, 0.0, 0.0, 0.0, 0.0], [0.0, 0.0, 0.0, 0.0, 0.0, 0.0, 0.0, 0.0], [0.0, 0.0, 0.0, 0.0, 0.0, 0.0, 0.0, 0.0], [0.0, 0.0, 0.0, 0.0, 0.0, 0.0, 0.0, 0.0], [0.0, 0.0, 0.0, 0.0, 0.0, 0.0, 0.0, 0.0], [0.0, 0.0, 0.0, 0.0, 0.0, 0.0, 0.0, 0.0], [4662.206726074219, 0.0, 0.0, 0.0, 0.0, 110.83646392822266, 0.0, 0.0], [4687.783538818359, 0.0, 0.0, 0.0, 0.0, 111.57052612304688, 0.0, 0.0], [4639.404754638672, 0.0, 0.0, 0.0, 0.0, 110.23028564453125, 0.0, 0.0], [6781.3916015625, 183.24070739746094, 0.0, 0.0, 0.0, 110.83646392822266, 498.08099365234375, 0.0], [6818.59423828125, 184.64398193359375, 0.0, 0.0, 0.0, 111.57052612304688, 501.65692138671875, 0.0], [6748.22509765625, 181.89608764648438, 0.0, 0.0, 0.0, 110.23028564453125, 496.6795654296875, 0.0], [5086.043701171875, 0.0, 500.8603820800781, 0.0, 0.0, 0.0, 498.08099365234375, 0.0], [5113.9456787109375, 0.0, 508.4830627441406, 0.0, 0.0, 0.0, 501.65692138671875, 0.0], [5061.1688232421875, 0.0, 494.8170471191406, 0.0, 0.0, 0.0, 496.6795654296875, 0.0], [0.0, 366.4814147949219, 0.0, 0.0, 0.0, 0.0, 9961.619873046875, 0.0], [0.0, 369.2879638671875, 0.0, 0.0, 0.0, 0.0, 10033.138427734375, 0.0], [0.0, 363.79217529296875, 0.0, 0.0, 0.0, 0.0, 9933.59130859375, 0.0], [211.91848754882812, 0.0, 0.0, 0.0, 0.0, 0.0, 9961.619873046875, 0.0], [213.08106994628906, 0.0, 0.0, 0.0, 0.0, 0.0, 10033.138427734375, 0.0], [210.8820343017578, 0.0, 0.0, 0.0, 0.0, 0.0, 9933.59130859375, 0.0], [0.0, 0.0, 0.0, 0.0, 272.4584655761719, 0.0, 9961.619873046875, 0.0], [0.0, 0.0, 0.0, 0.0, 273.7268981933594, 0.0, 10033.138427734375, 0.0], [0.0, 0.0, 0.0, 0.0, 271.3497314453125, 0.0, 9933.59130859375, 0.0]])\n"
     ]
    }
   ],
   "source": [
    "print(m)"
   ]
  },
  {
   "cell_type": "code",
   "execution_count": 20,
   "id": "f6944ce6",
   "metadata": {
    "scrolled": true
   },
   "outputs": [
    {
     "name": "stderr",
     "output_type": "stream",
     "text": [
      "[*********************100%%**********************]  1 of 1 completed\n"
     ]
    },
    {
     "name": "stdout",
     "output_type": "stream",
     "text": [
      "1/1 [==============================] - 0s 361ms/step\n",
      "1/1 [==============================] - 0s 15ms/step\n",
      "1/1 [==============================] - 0s 15ms/step\n",
      "1/1 [==============================] - 0s 13ms/step\n",
      "1/1 [==============================] - 0s 13ms/step\n",
      "1/1 [==============================] - 0s 14ms/step\n",
      "1/1 [==============================] - 0s 14ms/step\n",
      "1/1 [==============================] - 0s 14ms/step\n",
      "1/1 [==============================] - 0s 15ms/step\n",
      "1/1 [==============================] - 0s 15ms/step\n",
      "Predicted prices for the next 10 days:  [[201.64145]\n",
      " [203.66263]\n",
      " [204.85011]\n",
      " [205.58028]\n",
      " [206.04456]\n",
      " [206.3441 ]\n",
      " [206.53458]\n",
      " [206.64864]\n",
      " [206.70726]\n",
      " [206.72525]]\n"
     ]
    },
    {
     "name": "stderr",
     "output_type": "stream",
     "text": [
      "\r",
      "[*********************100%%**********************]  1 of 1 completed"
     ]
    },
    {
     "name": "stdout",
     "output_type": "stream",
     "text": [
      "1/1 [==============================] - 0s 15ms/step\n",
      "1/1 [==============================] - 0s 15ms/step\n",
      "1/1 [==============================] - 0s 14ms/step\n",
      "1/1 [==============================] - 0s 14ms/step\n",
      "1/1 [==============================] - 0s 14ms/step\n",
      "1/1 [==============================] - ETA: 0s"
     ]
    },
    {
     "name": "stderr",
     "output_type": "stream",
     "text": [
      "\n"
     ]
    },
    {
     "name": "stdout",
     "output_type": "stream",
     "text": [
      "1/1 [==============================] - 0s 15ms/step\n",
      "1/1 [==============================] - 0s 15ms/step\n",
      "1/1 [==============================] - 0s 14ms/step\n",
      "1/1 [==============================] - 0s 14ms/step\n",
      "1/1 [==============================] - 0s 14ms/step\n",
      "Bullish predicted prices for the next 10 days:  [[202.03212]\n",
      " [203.87245]\n",
      " [205.07312]\n",
      " [206.21953]\n",
      " [206.76314]\n",
      " [206.91682]\n",
      " [207.28305]\n",
      " [207.43663]\n",
      " [207.51056]\n",
      " [207.71947]]\n"
     ]
    },
    {
     "name": "stderr",
     "output_type": "stream",
     "text": [
      "\r",
      "[*********************100%%**********************]  1 of 1 completed"
     ]
    },
    {
     "name": "stdout",
     "output_type": "stream",
     "text": [
      "1/1 [==============================] - 0s 14ms/step\n",
      "1/1 [==============================] - 0s 14ms/step\n",
      "1/1 [==============================] - 0s 14ms/step\n",
      "1/1 [==============================] - 0s 15ms/step\n",
      "1/1 [==============================] - 0s 14ms/step\n"
     ]
    },
    {
     "name": "stderr",
     "output_type": "stream",
     "text": [
      "\n"
     ]
    },
    {
     "name": "stdout",
     "output_type": "stream",
     "text": [
      "1/1 [==============================] - 0s 14ms/step\n",
      "1/1 [==============================] - 0s 14ms/step\n",
      "1/1 [==============================] - 0s 15ms/step\n",
      "1/1 [==============================] - 0s 17ms/step\n",
      "1/1 [==============================] - 0s 14ms/step\n",
      "Bearish predicted prices for the next 10 days:  [[201.36942]\n",
      " [203.54143]\n",
      " [204.66467]\n",
      " [205.37454]\n",
      " [205.79703]\n",
      " [205.71915]\n",
      " [206.06076]\n",
      " [206.26508]\n",
      " [206.02328]\n",
      " [205.81673]]\n"
     ]
    }
   ],
   "source": [
    "predicted_prices = predict_stock_price('AAPL', 10)\n",
    "print(\"Predicted prices for the next 10 days: \", predicted_prices)\n",
    "\n",
    "predicted_prices_bullish = predict_stock_price_bullish('AAPL', 10)\n",
    "print(\"Bullish predicted prices for the next 10 days: \", predicted_prices_bullish)\n",
    "\n",
    "predicted_prices_bearish = predict_stock_price_bearish('AAPL', 10)\n",
    "print(\"Bearish predicted prices for the next 10 days: \", predicted_prices_bearish)\n",
    "\n"
   ]
  },
  {
   "cell_type": "code",
   "execution_count": 416,
   "id": "5e171153",
   "metadata": {
    "scrolled": true
   },
   "outputs": [
    {
     "name": "stderr",
     "output_type": "stream",
     "text": [
      "[*********************100%%**********************]  1 of 1 completed\n"
     ]
    },
    {
     "name": "stdout",
     "output_type": "stream",
     "text": [
      "1/1 [==============================] - 1s 516ms/step\n",
      "1/1 [==============================] - 0s 15ms/step\n",
      "1/1 [==============================] - 0s 18ms/step\n",
      "1/1 [==============================] - 0s 18ms/step\n",
      "1/1 [==============================] - 0s 16ms/step\n",
      "1/1 [==============================] - 0s 17ms/step\n",
      "1/1 [==============================] - 0s 16ms/step\n",
      "1/1 [==============================] - 0s 16ms/step\n",
      "1/1 [==============================] - 0s 15ms/step\n",
      "1/1 [==============================] - 0s 18ms/step\n"
     ]
    },
    {
     "name": "stderr",
     "output_type": "stream",
     "text": [
      "\r",
      "[*********************100%%**********************]  1 of 1 completed"
     ]
    },
    {
     "name": "stdout",
     "output_type": "stream",
     "text": [
      "1/1 [==============================] - 0s 16ms/step\n",
      "1/1 [==============================] - 0s 15ms/step\n",
      "1/1 [==============================] - 0s 18ms/step\n",
      "1/1 [==============================] - 0s 18ms/step\n",
      "1/1 [==============================] - ETA: 0s"
     ]
    },
    {
     "name": "stderr",
     "output_type": "stream",
     "text": [
      "\n"
     ]
    },
    {
     "name": "stdout",
     "output_type": "stream",
     "text": [
      "1/1 [==============================] - 0s 15ms/step\n",
      "1/1 [==============================] - 0s 16ms/step\n",
      "1/1 [==============================] - 0s 16ms/step\n",
      "1/1 [==============================] - 0s 16ms/step\n",
      "1/1 [==============================] - 0s 15ms/step\n",
      "1/1 [==============================] - 0s 17ms/step\n"
     ]
    },
    {
     "name": "stderr",
     "output_type": "stream",
     "text": [
      "[*********************100%%**********************]  1 of 1 completed\n"
     ]
    },
    {
     "name": "stdout",
     "output_type": "stream",
     "text": [
      "1/1 [==============================] - 0s 432ms/step\n",
      "1/1 [==============================] - 0s 15ms/step\n",
      "1/1 [==============================] - 0s 15ms/step\n",
      "1/1 [==============================] - 0s 15ms/step\n",
      "1/1 [==============================] - 0s 15ms/step\n",
      "1/1 [==============================] - 0s 15ms/step\n",
      "1/1 [==============================] - 0s 16ms/step\n",
      "1/1 [==============================] - 0s 16ms/step\n",
      "1/1 [==============================] - 0s 16ms/step\n",
      "1/1 [==============================] - 0s 16ms/step\n"
     ]
    },
    {
     "name": "stderr",
     "output_type": "stream",
     "text": [
      "\r",
      "[*********************100%%**********************]  1 of 1 completed"
     ]
    },
    {
     "name": "stdout",
     "output_type": "stream",
     "text": [
      "1/1 [==============================] - 0s 15ms/step\n",
      "1/1 [==============================] - 0s 15ms/step\n",
      "1/1 [==============================] - 0s 15ms/step\n",
      "1/1 [==============================] - 0s 15ms/step\n",
      "1/1 [==============================] - 0s 14ms/step\n"
     ]
    },
    {
     "name": "stderr",
     "output_type": "stream",
     "text": [
      "\n"
     ]
    },
    {
     "name": "stdout",
     "output_type": "stream",
     "text": [
      "1/1 [==============================] - 0s 15ms/step\n",
      "1/1 [==============================] - 0s 16ms/step\n",
      "1/1 [==============================] - 0s 16ms/step\n",
      "1/1 [==============================] - 0s 14ms/step\n",
      "1/1 [==============================] - 0s 16ms/step\n"
     ]
    },
    {
     "name": "stderr",
     "output_type": "stream",
     "text": [
      "\r",
      "[*********************100%%**********************]  1 of 1 completed"
     ]
    },
    {
     "name": "stdout",
     "output_type": "stream",
     "text": [
      "1/1 [==============================] - 0s 16ms/step\n",
      "1/1 [==============================] - 0s 14ms/step\n",
      "1/1 [==============================] - 0s 15ms/step\n",
      "1/1 [==============================] - 0s 14ms/step\n",
      "1/1 [==============================] - 0s 17ms/step\n"
     ]
    },
    {
     "name": "stderr",
     "output_type": "stream",
     "text": [
      "\n"
     ]
    },
    {
     "name": "stdout",
     "output_type": "stream",
     "text": [
      "1/1 [==============================] - 0s 15ms/step\n",
      "1/1 [==============================] - 0s 15ms/step\n",
      "1/1 [==============================] - 0s 15ms/step\n",
      "1/1 [==============================] - 0s 16ms/step\n",
      "1/1 [==============================] - 0s 16ms/step\n"
     ]
    },
    {
     "name": "stderr",
     "output_type": "stream",
     "text": [
      "[*********************100%%**********************]  1 of 1 completed\n"
     ]
    },
    {
     "name": "stdout",
     "output_type": "stream",
     "text": [
      "1/1 [==============================] - 0s 424ms/step\n",
      "1/1 [==============================] - 0s 13ms/step\n",
      "1/1 [==============================] - 0s 16ms/step\n",
      "1/1 [==============================] - 0s 15ms/step\n",
      "1/1 [==============================] - 0s 15ms/step\n",
      "1/1 [==============================] - 0s 15ms/step\n",
      "1/1 [==============================] - 0s 14ms/step\n",
      "1/1 [==============================] - 0s 15ms/step\n",
      "1/1 [==============================] - 0s 15ms/step\n",
      "1/1 [==============================] - 0s 14ms/step\n"
     ]
    },
    {
     "name": "stderr",
     "output_type": "stream",
     "text": [
      "\r",
      "[*********************100%%**********************]  1 of 1 completed"
     ]
    },
    {
     "name": "stdout",
     "output_type": "stream",
     "text": [
      "1/1 [==============================] - 0s 16ms/step\n",
      "1/1 [==============================] - 0s 16ms/step\n",
      "1/1 [==============================] - 0s 16ms/step\n",
      "1/1 [==============================] - 0s 16ms/step\n",
      "1/1 [==============================] - 0s 16ms/step\n",
      "1/1 [==============================] - ETA: 0s"
     ]
    },
    {
     "name": "stderr",
     "output_type": "stream",
     "text": [
      "\n"
     ]
    },
    {
     "name": "stdout",
     "output_type": "stream",
     "text": [
      "1/1 [==============================] - 0s 16ms/step\n",
      "1/1 [==============================] - 0s 17ms/step\n",
      "1/1 [==============================] - 0s 22ms/step\n",
      "1/1 [==============================] - 0s 21ms/step\n",
      "1/1 [==============================] - 0s 15ms/step\n"
     ]
    },
    {
     "name": "stderr",
     "output_type": "stream",
     "text": [
      "\r",
      "[*********************100%%**********************]  1 of 1 completed"
     ]
    },
    {
     "name": "stdout",
     "output_type": "stream",
     "text": [
      "1/1 [==============================] - 0s 15ms/step\n",
      "1/1 [==============================] - 0s 15ms/step\n",
      "1/1 [==============================] - 0s 16ms/step\n",
      "1/1 [==============================] - 0s 15ms/step\n",
      "1/1 [==============================] - ETA: 0s"
     ]
    },
    {
     "name": "stderr",
     "output_type": "stream",
     "text": [
      "\n"
     ]
    },
    {
     "name": "stdout",
     "output_type": "stream",
     "text": [
      "1/1 [==============================] - 0s 23ms/step\n",
      "1/1 [==============================] - 0s 20ms/step\n",
      "1/1 [==============================] - 0s 21ms/step\n",
      "1/1 [==============================] - 0s 16ms/step\n",
      "1/1 [==============================] - 0s 17ms/step\n",
      "1/1 [==============================] - 0s 16ms/step\n"
     ]
    },
    {
     "name": "stderr",
     "output_type": "stream",
     "text": [
      "[*********************100%%**********************]  1 of 1 completed\n"
     ]
    },
    {
     "name": "stdout",
     "output_type": "stream",
     "text": [
      "1/1 [==============================] - 0s 434ms/step\n",
      "1/1 [==============================] - 0s 16ms/step\n",
      "1/1 [==============================] - 0s 14ms/step\n",
      "1/1 [==============================] - 0s 15ms/step\n",
      "1/1 [==============================] - 0s 15ms/step\n",
      "1/1 [==============================] - 0s 15ms/step\n",
      "1/1 [==============================] - 0s 15ms/step\n",
      "1/1 [==============================] - 0s 15ms/step\n",
      "1/1 [==============================] - 0s 15ms/step\n",
      "1/1 [==============================] - 0s 16ms/step\n"
     ]
    },
    {
     "name": "stderr",
     "output_type": "stream",
     "text": [
      "\r",
      "[*********************100%%**********************]  1 of 1 completed"
     ]
    },
    {
     "name": "stdout",
     "output_type": "stream",
     "text": [
      "1/1 [==============================] - 0s 14ms/step\n",
      "1/1 [==============================] - 0s 15ms/step\n",
      "1/1 [==============================] - 0s 14ms/step\n",
      "1/1 [==============================] - 0s 14ms/step\n",
      "1/1 [==============================] - 0s 16ms/step\n"
     ]
    },
    {
     "name": "stderr",
     "output_type": "stream",
     "text": [
      "\n"
     ]
    },
    {
     "name": "stdout",
     "output_type": "stream",
     "text": [
      "1/1 [==============================] - 0s 15ms/step\n",
      "1/1 [==============================] - 0s 14ms/step\n",
      "1/1 [==============================] - 0s 16ms/step\n",
      "1/1 [==============================] - 0s 16ms/step\n",
      "1/1 [==============================] - 0s 14ms/step\n"
     ]
    },
    {
     "name": "stderr",
     "output_type": "stream",
     "text": [
      "\r",
      "[*********************100%%**********************]  1 of 1 completed"
     ]
    },
    {
     "name": "stdout",
     "output_type": "stream",
     "text": [
      "1/1 [==============================] - 0s 14ms/step\n",
      "1/1 [==============================] - 0s 15ms/step\n",
      "1/1 [==============================] - 0s 14ms/step\n",
      "1/1 [==============================] - 0s 15ms/step\n",
      "1/1 [==============================] - ETA: 0s"
     ]
    },
    {
     "name": "stderr",
     "output_type": "stream",
     "text": [
      "\n"
     ]
    },
    {
     "name": "stdout",
     "output_type": "stream",
     "text": [
      "1/1 [==============================] - 0s 15ms/step\n",
      "1/1 [==============================] - 0s 16ms/step\n",
      "1/1 [==============================] - 0s 16ms/step\n",
      "1/1 [==============================] - 0s 14ms/step\n",
      "1/1 [==============================] - 0s 16ms/step\n",
      "1/1 [==============================] - 0s 15ms/step\n"
     ]
    },
    {
     "name": "stderr",
     "output_type": "stream",
     "text": [
      "[*********************100%%**********************]  1 of 1 completed\n"
     ]
    },
    {
     "name": "stdout",
     "output_type": "stream",
     "text": [
      "1/1 [==============================] - 0s 406ms/step\n",
      "1/1 [==============================] - 0s 14ms/step\n",
      "1/1 [==============================] - 0s 14ms/step\n",
      "1/1 [==============================] - 0s 13ms/step\n",
      "1/1 [==============================] - 0s 14ms/step\n",
      "1/1 [==============================] - 0s 16ms/step\n",
      "1/1 [==============================] - 0s 15ms/step\n",
      "1/1 [==============================] - 0s 14ms/step\n",
      "1/1 [==============================] - 0s 15ms/step\n",
      "1/1 [==============================] - 0s 15ms/step\n"
     ]
    },
    {
     "name": "stderr",
     "output_type": "stream",
     "text": [
      "\r",
      "[*********************100%%**********************]  1 of 1 completed"
     ]
    },
    {
     "name": "stdout",
     "output_type": "stream",
     "text": [
      "1/1 [==============================] - 0s 15ms/step\n",
      "1/1 [==============================] - 0s 14ms/step\n",
      "1/1 [==============================] - 0s 15ms/step\n",
      "1/1 [==============================] - 0s 15ms/step\n",
      "1/1 [==============================] - 0s 15ms/step\n",
      "1/1 [==============================] - ETA: 0s"
     ]
    },
    {
     "name": "stderr",
     "output_type": "stream",
     "text": [
      "\n"
     ]
    },
    {
     "name": "stdout",
     "output_type": "stream",
     "text": [
      "1/1 [==============================] - 0s 15ms/step\n",
      "1/1 [==============================] - 0s 16ms/step\n",
      "1/1 [==============================] - 0s 15ms/step\n",
      "1/1 [==============================] - 0s 15ms/step\n",
      "1/1 [==============================] - 0s 15ms/step\n"
     ]
    },
    {
     "name": "stderr",
     "output_type": "stream",
     "text": [
      "\r",
      "[*********************100%%**********************]  1 of 1 completed"
     ]
    },
    {
     "name": "stdout",
     "output_type": "stream",
     "text": [
      "1/1 [==============================] - 0s 14ms/step\n",
      "1/1 [==============================] - 0s 16ms/step\n",
      "1/1 [==============================] - 0s 15ms/step\n",
      "1/1 [==============================] - 0s 15ms/step\n",
      "1/1 [==============================] - 0s 15ms/step\n"
     ]
    },
    {
     "name": "stderr",
     "output_type": "stream",
     "text": [
      "\n"
     ]
    },
    {
     "name": "stdout",
     "output_type": "stream",
     "text": [
      "1/1 [==============================] - 0s 15ms/step\n",
      "1/1 [==============================] - 0s 16ms/step\n",
      "1/1 [==============================] - 0s 15ms/step\n",
      "1/1 [==============================] - 0s 15ms/step\n",
      "1/1 [==============================] - 0s 15ms/step\n"
     ]
    },
    {
     "name": "stderr",
     "output_type": "stream",
     "text": [
      "[*********************100%%**********************]  1 of 1 completed\n"
     ]
    },
    {
     "name": "stdout",
     "output_type": "stream",
     "text": [
      "1/1 [==============================] - 0s 387ms/step\n",
      "1/1 [==============================] - 0s 15ms/step\n",
      "1/1 [==============================] - 0s 16ms/step\n",
      "1/1 [==============================] - 0s 15ms/step\n",
      "1/1 [==============================] - 0s 15ms/step\n",
      "1/1 [==============================] - 0s 15ms/step\n",
      "1/1 [==============================] - 0s 15ms/step\n",
      "1/1 [==============================] - 0s 15ms/step\n",
      "1/1 [==============================] - 0s 16ms/step\n",
      "1/1 [==============================] - 0s 15ms/step\n"
     ]
    },
    {
     "name": "stderr",
     "output_type": "stream",
     "text": [
      "[*********************100%%**********************]  1 of 1 completed\n"
     ]
    },
    {
     "name": "stdout",
     "output_type": "stream",
     "text": [
      "1/1 [==============================] - 0s 15ms/step\n",
      "1/1 [==============================] - 0s 14ms/step\n",
      "1/1 [==============================] - 0s 14ms/step\n",
      "1/1 [==============================] - 0s 14ms/step\n",
      "1/1 [==============================] - 0s 15ms/step\n",
      "1/1 [==============================] - 0s 13ms/step\n",
      "1/1 [==============================] - 0s 14ms/step\n",
      "1/1 [==============================] - 0s 15ms/step\n",
      "1/1 [==============================] - 0s 14ms/step\n",
      "1/1 [==============================] - 0s 14ms/step\n"
     ]
    },
    {
     "name": "stderr",
     "output_type": "stream",
     "text": [
      "\r",
      "[*********************100%%**********************]  1 of 1 completed"
     ]
    },
    {
     "name": "stdout",
     "output_type": "stream",
     "text": [
      "1/1 [==============================] - 0s 14ms/step\n",
      "1/1 [==============================] - 0s 14ms/step\n",
      "1/1 [==============================] - 0s 14ms/step\n",
      "1/1 [==============================] - 0s 15ms/step\n",
      "1/1 [==============================] - 0s 15ms/step\n",
      "1/1 [==============================] - ETA: 0s"
     ]
    },
    {
     "name": "stderr",
     "output_type": "stream",
     "text": [
      "\n"
     ]
    },
    {
     "name": "stdout",
     "output_type": "stream",
     "text": [
      "1/1 [==============================] - 0s 15ms/step\n",
      "1/1 [==============================] - 0s 14ms/step\n",
      "1/1 [==============================] - 0s 14ms/step\n",
      "1/1 [==============================] - 0s 16ms/step\n",
      "1/1 [==============================] - 0s 14ms/step\n"
     ]
    },
    {
     "name": "stderr",
     "output_type": "stream",
     "text": [
      "[*********************100%%**********************]  1 of 1 completed\n"
     ]
    },
    {
     "name": "stdout",
     "output_type": "stream",
     "text": [
      "1/1 [==============================] - 0s 391ms/step\n",
      "1/1 [==============================] - 0s 14ms/step\n",
      "1/1 [==============================] - 0s 15ms/step\n",
      "1/1 [==============================] - 0s 13ms/step\n",
      "1/1 [==============================] - 0s 15ms/step\n",
      "1/1 [==============================] - 0s 14ms/step\n",
      "1/1 [==============================] - 0s 15ms/step\n",
      "1/1 [==============================] - 0s 16ms/step\n",
      "1/1 [==============================] - 0s 15ms/step\n",
      "1/1 [==============================] - 0s 16ms/step\n"
     ]
    },
    {
     "name": "stderr",
     "output_type": "stream",
     "text": [
      "\r",
      "[*********************100%%**********************]  1 of 1 completed"
     ]
    },
    {
     "name": "stdout",
     "output_type": "stream",
     "text": [
      "1/1 [==============================] - 0s 15ms/step\n",
      "1/1 [==============================] - 0s 15ms/step\n",
      "1/1 [==============================] - 0s 15ms/step\n",
      "1/1 [==============================] - 0s 15ms/step\n",
      "1/1 [==============================] - 0s 15ms/step\n",
      "1/1 [==============================] - ETA: 0s"
     ]
    },
    {
     "name": "stderr",
     "output_type": "stream",
     "text": [
      "\n"
     ]
    },
    {
     "name": "stdout",
     "output_type": "stream",
     "text": [
      "1/1 [==============================] - 0s 15ms/step\n",
      "1/1 [==============================] - 0s 15ms/step\n",
      "1/1 [==============================] - 0s 15ms/step\n",
      "1/1 [==============================] - 0s 15ms/step\n",
      "1/1 [==============================] - 0s 14ms/step\n"
     ]
    },
    {
     "name": "stderr",
     "output_type": "stream",
     "text": [
      "\r",
      "[*********************100%%**********************]  1 of 1 completed"
     ]
    },
    {
     "name": "stdout",
     "output_type": "stream",
     "text": [
      "1/1 [==============================] - 0s 14ms/step\n",
      "1/1 [==============================] - 0s 14ms/step\n",
      "1/1 [==============================] - 0s 14ms/step\n",
      "1/1 [==============================] - 0s 15ms/step\n",
      "1/1 [==============================] - 0s 14ms/step\n",
      "1/1 [==============================] - ETA: 0s"
     ]
    },
    {
     "name": "stderr",
     "output_type": "stream",
     "text": [
      "\n"
     ]
    },
    {
     "name": "stdout",
     "output_type": "stream",
     "text": [
      "1/1 [==============================] - 0s 15ms/step\n",
      "1/1 [==============================] - 0s 15ms/step\n",
      "1/1 [==============================] - 0s 15ms/step\n",
      "1/1 [==============================] - 0s 15ms/step\n",
      "1/1 [==============================] - 0s 16ms/step\n"
     ]
    },
    {
     "name": "stderr",
     "output_type": "stream",
     "text": [
      "[*********************100%%**********************]  1 of 1 completed\n"
     ]
    },
    {
     "name": "stdout",
     "output_type": "stream",
     "text": [
      "1/1 [==============================] - 0s 387ms/step\n",
      "1/1 [==============================] - 0s 21ms/step\n",
      "1/1 [==============================] - 0s 19ms/step\n",
      "1/1 [==============================] - 0s 15ms/step\n",
      "1/1 [==============================] - 0s 15ms/step\n",
      "1/1 [==============================] - 0s 17ms/step\n",
      "1/1 [==============================] - 0s 17ms/step\n",
      "1/1 [==============================] - 0s 14ms/step\n",
      "1/1 [==============================] - 0s 15ms/step\n",
      "1/1 [==============================] - 0s 15ms/step\n"
     ]
    },
    {
     "name": "stderr",
     "output_type": "stream",
     "text": [
      "\r",
      "[*********************100%%**********************]  1 of 1 completed"
     ]
    },
    {
     "name": "stdout",
     "output_type": "stream",
     "text": [
      "1/1 [==============================] - 0s 15ms/step\n",
      "1/1 [==============================] - 0s 15ms/step\n",
      "1/1 [==============================] - 0s 16ms/step\n",
      "1/1 [==============================] - 0s 15ms/step\n",
      "1/1 [==============================] - 0s 15ms/step\n"
     ]
    },
    {
     "name": "stderr",
     "output_type": "stream",
     "text": [
      "\n"
     ]
    },
    {
     "name": "stdout",
     "output_type": "stream",
     "text": [
      "1/1 [==============================] - 0s 15ms/step\n",
      "1/1 [==============================] - 0s 15ms/step\n",
      "1/1 [==============================] - 0s 15ms/step\n",
      "1/1 [==============================] - 0s 16ms/step\n",
      "1/1 [==============================] - 0s 15ms/step\n"
     ]
    },
    {
     "name": "stderr",
     "output_type": "stream",
     "text": [
      "\r",
      "[*********************100%%**********************]  1 of 1 completed"
     ]
    },
    {
     "name": "stdout",
     "output_type": "stream",
     "text": [
      "1/1 [==============================] - 0s 14ms/step\n",
      "1/1 [==============================] - 0s 14ms/step\n",
      "1/1 [==============================] - 0s 14ms/step\n",
      "1/1 [==============================] - 0s 15ms/step\n",
      "1/1 [==============================] - 0s 14ms/step\n",
      "1/1 [==============================] - ETA: 0s"
     ]
    },
    {
     "name": "stderr",
     "output_type": "stream",
     "text": [
      "\n"
     ]
    },
    {
     "name": "stdout",
     "output_type": "stream",
     "text": [
      "1/1 [==============================] - 0s 16ms/step\n",
      "1/1 [==============================] - 0s 16ms/step\n",
      "1/1 [==============================] - 0s 16ms/step\n",
      "1/1 [==============================] - 0s 15ms/step\n",
      "1/1 [==============================] - 0s 16ms/step\n"
     ]
    },
    {
     "name": "stderr",
     "output_type": "stream",
     "text": [
      "[*********************100%%**********************]  1 of 1 completed\n"
     ]
    },
    {
     "name": "stdout",
     "output_type": "stream",
     "text": [
      "1/1 [==============================] - 0s 395ms/step\n",
      "1/1 [==============================] - 0s 17ms/step\n",
      "1/1 [==============================] - 0s 15ms/step\n",
      "1/1 [==============================] - 0s 14ms/step\n",
      "1/1 [==============================] - 0s 14ms/step\n",
      "1/1 [==============================] - 0s 15ms/step\n",
      "1/1 [==============================] - 0s 14ms/step\n",
      "1/1 [==============================] - 0s 15ms/step\n",
      "1/1 [==============================] - 0s 15ms/step\n",
      "1/1 [==============================] - 0s 15ms/step\n"
     ]
    },
    {
     "name": "stderr",
     "output_type": "stream",
     "text": [
      "\r",
      "[*********************100%%**********************]  1 of 1 completed"
     ]
    },
    {
     "name": "stdout",
     "output_type": "stream",
     "text": [
      "1/1 [==============================] - 0s 15ms/step\n",
      "1/1 [==============================] - 0s 17ms/step\n",
      "1/1 [==============================] - 0s 15ms/step\n",
      "1/1 [==============================] - 0s 16ms/step\n",
      "1/1 [==============================] - ETA: 0s"
     ]
    },
    {
     "name": "stderr",
     "output_type": "stream",
     "text": [
      "\n"
     ]
    },
    {
     "name": "stdout",
     "output_type": "stream",
     "text": [
      "1/1 [==============================] - 0s 14ms/step\n",
      "1/1 [==============================] - 0s 15ms/step\n",
      "1/1 [==============================] - 0s 14ms/step\n",
      "1/1 [==============================] - 0s 15ms/step\n",
      "1/1 [==============================] - 0s 15ms/step\n",
      "1/1 [==============================] - 0s 16ms/step\n"
     ]
    },
    {
     "name": "stderr",
     "output_type": "stream",
     "text": [
      "\r",
      "[*********************100%%**********************]  1 of 1 completed"
     ]
    },
    {
     "name": "stdout",
     "output_type": "stream",
     "text": [
      "1/1 [==============================] - 0s 14ms/step\n",
      "1/1 [==============================] - 0s 15ms/step\n",
      "1/1 [==============================] - 0s 15ms/step\n",
      "1/1 [==============================] - 0s 14ms/step\n",
      "1/1 [==============================] - 0s 15ms/step\n",
      "1/1 [==============================] - ETA: 0s"
     ]
    },
    {
     "name": "stderr",
     "output_type": "stream",
     "text": [
      "\n"
     ]
    },
    {
     "name": "stdout",
     "output_type": "stream",
     "text": [
      "1/1 [==============================] - 0s 15ms/step\n",
      "1/1 [==============================] - 0s 14ms/step\n",
      "1/1 [==============================] - 0s 15ms/step\n",
      "1/1 [==============================] - 0s 15ms/step\n",
      "1/1 [==============================] - 0s 14ms/step\n"
     ]
    },
    {
     "name": "stderr",
     "output_type": "stream",
     "text": [
      "[*********************100%%**********************]  1 of 1 completed\n"
     ]
    },
    {
     "name": "stdout",
     "output_type": "stream",
     "text": [
      "1/1 [==============================] - 0s 381ms/step\n",
      "1/1 [==============================] - 0s 16ms/step\n",
      "1/1 [==============================] - 0s 15ms/step\n",
      "1/1 [==============================] - 0s 15ms/step\n",
      "1/1 [==============================] - 0s 15ms/step\n",
      "1/1 [==============================] - 0s 15ms/step\n",
      "1/1 [==============================] - 0s 15ms/step\n",
      "1/1 [==============================] - 0s 16ms/step\n",
      "1/1 [==============================] - 0s 14ms/step\n",
      "1/1 [==============================] - 0s 15ms/step\n"
     ]
    },
    {
     "name": "stderr",
     "output_type": "stream",
     "text": [
      "\r",
      "[*********************100%%**********************]  1 of 1 completed"
     ]
    },
    {
     "name": "stdout",
     "output_type": "stream",
     "text": [
      "1/1 [==============================] - 0s 15ms/step\n",
      "1/1 [==============================] - 0s 15ms/step\n",
      "1/1 [==============================] - 0s 14ms/step\n",
      "1/1 [==============================] - 0s 14ms/step\n",
      "1/1 [==============================] - 0s 15ms/step\n",
      "1/1 [==============================] - ETA: 0s"
     ]
    },
    {
     "name": "stderr",
     "output_type": "stream",
     "text": [
      "\n"
     ]
    },
    {
     "name": "stdout",
     "output_type": "stream",
     "text": [
      "1/1 [==============================] - 0s 15ms/step\n",
      "1/1 [==============================] - 0s 14ms/step\n",
      "1/1 [==============================] - 0s 15ms/step\n",
      "1/1 [==============================] - 0s 16ms/step\n",
      "1/1 [==============================] - 0s 14ms/step\n"
     ]
    },
    {
     "name": "stderr",
     "output_type": "stream",
     "text": [
      "\r",
      "[*********************100%%**********************]  1 of 1 completed"
     ]
    },
    {
     "name": "stdout",
     "output_type": "stream",
     "text": [
      "1/1 [==============================] - 0s 14ms/step\n",
      "1/1 [==============================] - 0s 15ms/step\n",
      "1/1 [==============================] - 0s 15ms/step\n",
      "1/1 [==============================] - 0s 15ms/step\n",
      "1/1 [==============================] - 0s 14ms/step\n",
      "1/1 [==============================] - ETA: 0s"
     ]
    },
    {
     "name": "stderr",
     "output_type": "stream",
     "text": [
      "\n"
     ]
    },
    {
     "name": "stdout",
     "output_type": "stream",
     "text": [
      "1/1 [==============================] - 0s 15ms/step\n",
      "1/1 [==============================] - 0s 15ms/step\n",
      "1/1 [==============================] - 0s 15ms/step\n",
      "1/1 [==============================] - 0s 14ms/step\n",
      "1/1 [==============================] - 0s 15ms/step\n"
     ]
    },
    {
     "name": "stderr",
     "output_type": "stream",
     "text": [
      "[*********************100%%**********************]  1 of 1 completed\n"
     ]
    },
    {
     "name": "stdout",
     "output_type": "stream",
     "text": [
      "1/1 [==============================] - 0s 377ms/step\n",
      "1/1 [==============================] - 0s 15ms/step\n",
      "1/1 [==============================] - 0s 15ms/step\n",
      "1/1 [==============================] - 0s 15ms/step\n",
      "1/1 [==============================] - 0s 14ms/step\n",
      "1/1 [==============================] - 0s 15ms/step\n",
      "1/1 [==============================] - 0s 17ms/step\n",
      "1/1 [==============================] - 0s 15ms/step\n",
      "1/1 [==============================] - 0s 14ms/step\n",
      "1/1 [==============================] - 0s 15ms/step\n"
     ]
    },
    {
     "name": "stderr",
     "output_type": "stream",
     "text": [
      "\r",
      "[*********************100%%**********************]  1 of 1 completed"
     ]
    },
    {
     "name": "stdout",
     "output_type": "stream",
     "text": [
      "1/1 [==============================] - 0s 15ms/step\n",
      "1/1 [==============================] - 0s 15ms/step\n",
      "1/1 [==============================] - 0s 15ms/step\n",
      "1/1 [==============================] - 0s 14ms/step\n",
      "1/1 [==============================] - 0s 14ms/step\n",
      "1/1 [==============================] - ETA: 0s"
     ]
    },
    {
     "name": "stderr",
     "output_type": "stream",
     "text": [
      "\n"
     ]
    },
    {
     "name": "stdout",
     "output_type": "stream",
     "text": [
      "1/1 [==============================] - 0s 15ms/step\n",
      "1/1 [==============================] - 0s 14ms/step\n",
      "1/1 [==============================] - 0s 14ms/step\n",
      "1/1 [==============================] - 0s 14ms/step\n",
      "1/1 [==============================] - 0s 16ms/step\n"
     ]
    },
    {
     "name": "stderr",
     "output_type": "stream",
     "text": [
      "\r",
      "[*********************100%%**********************]  1 of 1 completed"
     ]
    },
    {
     "name": "stdout",
     "output_type": "stream",
     "text": [
      "1/1 [==============================] - 0s 13ms/step\n",
      "1/1 [==============================] - 0s 15ms/step\n",
      "1/1 [==============================] - 0s 15ms/step\n",
      "1/1 [==============================] - 0s 15ms/step\n",
      "1/1 [==============================] - 0s 15ms/step\n",
      "1/1 [==============================] - ETA: 0s"
     ]
    },
    {
     "name": "stderr",
     "output_type": "stream",
     "text": [
      "\n"
     ]
    },
    {
     "name": "stdout",
     "output_type": "stream",
     "text": [
      "1/1 [==============================] - 0s 15ms/step\n",
      "1/1 [==============================] - 0s 15ms/step\n",
      "1/1 [==============================] - 0s 14ms/step\n",
      "1/1 [==============================] - 0s 15ms/step\n",
      "1/1 [==============================] - 0s 15ms/step\n"
     ]
    },
    {
     "name": "stderr",
     "output_type": "stream",
     "text": [
      "[*********************100%%**********************]  1 of 1 completed\n"
     ]
    },
    {
     "name": "stdout",
     "output_type": "stream",
     "text": [
      "1/1 [==============================] - 0s 381ms/step\n",
      "1/1 [==============================] - 0s 15ms/step\n",
      "1/1 [==============================] - 0s 14ms/step\n",
      "1/1 [==============================] - 0s 15ms/step\n",
      "1/1 [==============================] - 0s 15ms/step\n",
      "1/1 [==============================] - 0s 15ms/step\n",
      "1/1 [==============================] - 0s 14ms/step\n",
      "1/1 [==============================] - 0s 14ms/step\n",
      "1/1 [==============================] - 0s 15ms/step\n",
      "1/1 [==============================] - 0s 14ms/step\n"
     ]
    },
    {
     "name": "stderr",
     "output_type": "stream",
     "text": [
      "[*********************100%%**********************]  1 of 1 completed\n"
     ]
    },
    {
     "name": "stdout",
     "output_type": "stream",
     "text": [
      "1/1 [==============================] - 0s 14ms/step\n",
      "1/1 [==============================] - 0s 14ms/step\n",
      "1/1 [==============================] - 0s 14ms/step\n",
      "1/1 [==============================] - 0s 15ms/step\n",
      "1/1 [==============================] - 0s 14ms/step\n",
      "1/1 [==============================] - 0s 15ms/step\n",
      "1/1 [==============================] - 0s 15ms/step\n",
      "1/1 [==============================] - 0s 15ms/step\n",
      "1/1 [==============================] - 0s 14ms/step\n",
      "1/1 [==============================] - 0s 13ms/step\n"
     ]
    },
    {
     "name": "stderr",
     "output_type": "stream",
     "text": [
      "\r",
      "[*********************100%%**********************]  1 of 1 completed"
     ]
    },
    {
     "name": "stdout",
     "output_type": "stream",
     "text": [
      "1/1 [==============================] - 0s 14ms/step\n",
      "1/1 [==============================] - 0s 14ms/step\n",
      "1/1 [==============================] - 0s 14ms/step\n",
      "1/1 [==============================] - 0s 15ms/step\n",
      "1/1 [==============================] - 0s 14ms/step\n",
      "1/1 [==============================] - ETA: 0s"
     ]
    },
    {
     "name": "stderr",
     "output_type": "stream",
     "text": [
      "\n"
     ]
    },
    {
     "name": "stdout",
     "output_type": "stream",
     "text": [
      "1/1 [==============================] - 0s 15ms/step\n",
      "1/1 [==============================] - 0s 13ms/step\n",
      "1/1 [==============================] - 0s 14ms/step\n",
      "1/1 [==============================] - 0s 14ms/step\n",
      "1/1 [==============================] - 0s 15ms/step\n"
     ]
    },
    {
     "name": "stderr",
     "output_type": "stream",
     "text": [
      "[*********************100%%**********************]  1 of 1 completed\n"
     ]
    },
    {
     "name": "stdout",
     "output_type": "stream",
     "text": [
      "1/1 [==============================] - 0s 388ms/step\n",
      "1/1 [==============================] - 0s 15ms/step\n",
      "1/1 [==============================] - 0s 15ms/step\n",
      "1/1 [==============================] - 0s 14ms/step\n",
      "1/1 [==============================] - 0s 14ms/step\n",
      "1/1 [==============================] - 0s 14ms/step\n",
      "1/1 [==============================] - 0s 15ms/step\n",
      "1/1 [==============================] - 0s 14ms/step\n",
      "1/1 [==============================] - 0s 15ms/step\n",
      "1/1 [==============================] - 0s 14ms/step\n"
     ]
    },
    {
     "name": "stderr",
     "output_type": "stream",
     "text": [
      "\r",
      "[*********************100%%**********************]  1 of 1 completed"
     ]
    },
    {
     "name": "stdout",
     "output_type": "stream",
     "text": [
      "1/1 [==============================] - 0s 14ms/step\n",
      "1/1 [==============================] - 0s 15ms/step\n",
      "1/1 [==============================] - 0s 14ms/step\n",
      "1/1 [==============================] - 0s 13ms/step\n",
      "1/1 [==============================] - 0s 15ms/step\n",
      "1/1 [==============================] - ETA: 0s"
     ]
    },
    {
     "name": "stderr",
     "output_type": "stream",
     "text": [
      "\n"
     ]
    },
    {
     "name": "stdout",
     "output_type": "stream",
     "text": [
      "1/1 [==============================] - 0s 15ms/step\n",
      "1/1 [==============================] - 0s 14ms/step\n",
      "1/1 [==============================] - 0s 14ms/step\n",
      "1/1 [==============================] - 0s 15ms/step\n",
      "1/1 [==============================] - 0s 15ms/step\n"
     ]
    },
    {
     "name": "stderr",
     "output_type": "stream",
     "text": [
      "\r",
      "[*********************100%%**********************]  1 of 1 completed"
     ]
    },
    {
     "name": "stdout",
     "output_type": "stream",
     "text": [
      "1/1 [==============================] - 0s 14ms/step\n",
      "1/1 [==============================] - 0s 14ms/step\n",
      "1/1 [==============================] - 0s 15ms/step\n",
      "1/1 [==============================] - 0s 14ms/step\n",
      "1/1 [==============================] - 0s 15ms/step\n",
      "1/1 [==============================] - ETA: 0s"
     ]
    },
    {
     "name": "stderr",
     "output_type": "stream",
     "text": [
      "\n"
     ]
    },
    {
     "name": "stdout",
     "output_type": "stream",
     "text": [
      "1/1 [==============================] - 0s 15ms/step\n",
      "1/1 [==============================] - 0s 15ms/step\n",
      "1/1 [==============================] - 0s 14ms/step\n",
      "1/1 [==============================] - 0s 14ms/step\n",
      "1/1 [==============================] - 0s 14ms/step\n"
     ]
    },
    {
     "name": "stderr",
     "output_type": "stream",
     "text": [
      "[*********************100%%**********************]  1 of 1 completed\n"
     ]
    },
    {
     "name": "stdout",
     "output_type": "stream",
     "text": [
      "1/1 [==============================] - 0s 383ms/step\n",
      "1/1 [==============================] - 0s 15ms/step\n",
      "1/1 [==============================] - 0s 15ms/step\n",
      "1/1 [==============================] - 0s 14ms/step\n",
      "1/1 [==============================] - 0s 15ms/step\n",
      "1/1 [==============================] - 0s 14ms/step\n",
      "1/1 [==============================] - 0s 14ms/step\n",
      "1/1 [==============================] - 0s 15ms/step\n",
      "1/1 [==============================] - 0s 15ms/step\n",
      "1/1 [==============================] - 0s 14ms/step\n"
     ]
    },
    {
     "name": "stderr",
     "output_type": "stream",
     "text": [
      "\r",
      "[*********************100%%**********************]  1 of 1 completed"
     ]
    },
    {
     "name": "stdout",
     "output_type": "stream",
     "text": [
      "1/1 [==============================] - 0s 16ms/step\n",
      "1/1 [==============================] - 0s 15ms/step\n",
      "1/1 [==============================] - 0s 15ms/step\n",
      "1/1 [==============================] - 0s 14ms/step\n",
      "1/1 [==============================] - 0s 15ms/step\n",
      "1/1 [==============================] - ETA: 0s"
     ]
    },
    {
     "name": "stderr",
     "output_type": "stream",
     "text": [
      "\n"
     ]
    },
    {
     "name": "stdout",
     "output_type": "stream",
     "text": [
      "1/1 [==============================] - 0s 14ms/step\n",
      "1/1 [==============================] - 0s 13ms/step\n",
      "1/1 [==============================] - 0s 15ms/step\n",
      "1/1 [==============================] - 0s 15ms/step\n",
      "1/1 [==============================] - 0s 15ms/step\n"
     ]
    },
    {
     "name": "stderr",
     "output_type": "stream",
     "text": [
      "\r",
      "[*********************100%%**********************]  1 of 1 completed"
     ]
    },
    {
     "name": "stdout",
     "output_type": "stream",
     "text": [
      "1/1 [==============================] - 0s 14ms/step\n",
      "1/1 [==============================] - 0s 14ms/step\n",
      "1/1 [==============================] - 0s 15ms/step\n",
      "1/1 [==============================] - 0s 14ms/step\n",
      "1/1 [==============================] - 0s 14ms/step\n",
      "1/1 [==============================] - ETA: 0s"
     ]
    },
    {
     "name": "stderr",
     "output_type": "stream",
     "text": [
      "\n"
     ]
    },
    {
     "name": "stdout",
     "output_type": "stream",
     "text": [
      "1/1 [==============================] - 0s 15ms/step\n",
      "1/1 [==============================] - 0s 15ms/step\n",
      "1/1 [==============================] - 0s 14ms/step\n",
      "1/1 [==============================] - 0s 15ms/step\n",
      "1/1 [==============================] - 0s 14ms/step\n"
     ]
    },
    {
     "name": "stderr",
     "output_type": "stream",
     "text": [
      "[*********************100%%**********************]  1 of 1 completed\n"
     ]
    },
    {
     "name": "stdout",
     "output_type": "stream",
     "text": [
      "1/1 [==============================] - 0s 383ms/step\n",
      "1/1 [==============================] - 0s 14ms/step\n",
      "1/1 [==============================] - 0s 15ms/step\n",
      "1/1 [==============================] - 0s 15ms/step\n",
      "1/1 [==============================] - 0s 15ms/step\n",
      "1/1 [==============================] - 0s 14ms/step\n",
      "1/1 [==============================] - 0s 15ms/step\n",
      "1/1 [==============================] - 0s 15ms/step\n",
      "1/1 [==============================] - 0s 15ms/step\n",
      "1/1 [==============================] - 0s 15ms/step\n"
     ]
    },
    {
     "name": "stderr",
     "output_type": "stream",
     "text": [
      "\r",
      "[*********************100%%**********************]  1 of 1 completed"
     ]
    },
    {
     "name": "stdout",
     "output_type": "stream",
     "text": [
      "1/1 [==============================] - 0s 15ms/step\n",
      "1/1 [==============================] - 0s 15ms/step\n",
      "1/1 [==============================] - 0s 15ms/step\n",
      "1/1 [==============================] - 0s 15ms/step\n",
      "1/1 [==============================] - 0s 14ms/step\n",
      "1/1 [==============================] - ETA: 0s"
     ]
    },
    {
     "name": "stderr",
     "output_type": "stream",
     "text": [
      "\n"
     ]
    },
    {
     "name": "stdout",
     "output_type": "stream",
     "text": [
      "1/1 [==============================] - 0s 14ms/step\n",
      "1/1 [==============================] - 0s 16ms/step\n",
      "1/1 [==============================] - 0s 15ms/step\n",
      "1/1 [==============================] - 0s 15ms/step\n",
      "1/1 [==============================] - 0s 15ms/step\n"
     ]
    },
    {
     "name": "stderr",
     "output_type": "stream",
     "text": [
      "\r",
      "[*********************100%%**********************]  1 of 1 completed"
     ]
    },
    {
     "name": "stdout",
     "output_type": "stream",
     "text": [
      "1/1 [==============================] - 0s 14ms/step\n",
      "1/1 [==============================] - 0s 14ms/step\n",
      "1/1 [==============================] - 0s 14ms/step\n",
      "1/1 [==============================] - 0s 15ms/step\n",
      "1/1 [==============================] - 0s 15ms/step\n",
      "1/1 [==============================] - ETA: 0s"
     ]
    },
    {
     "name": "stderr",
     "output_type": "stream",
     "text": [
      "\n"
     ]
    },
    {
     "name": "stdout",
     "output_type": "stream",
     "text": [
      "1/1 [==============================] - 0s 15ms/step\n",
      "1/1 [==============================] - 0s 14ms/step\n",
      "1/1 [==============================] - 0s 15ms/step\n",
      "1/1 [==============================] - 0s 15ms/step\n",
      "1/1 [==============================] - 0s 15ms/step\n"
     ]
    },
    {
     "name": "stderr",
     "output_type": "stream",
     "text": [
      "[*********************100%%**********************]  1 of 1 completed\n"
     ]
    },
    {
     "name": "stdout",
     "output_type": "stream",
     "text": [
      "1/1 [==============================] - 0s 383ms/step\n",
      "1/1 [==============================] - 0s 15ms/step\n",
      "1/1 [==============================] - 0s 14ms/step\n",
      "1/1 [==============================] - 0s 15ms/step\n",
      "1/1 [==============================] - 0s 14ms/step\n",
      "1/1 [==============================] - 0s 14ms/step\n",
      "1/1 [==============================] - 0s 15ms/step\n",
      "1/1 [==============================] - 0s 14ms/step\n",
      "1/1 [==============================] - 0s 15ms/step\n",
      "1/1 [==============================] - 0s 14ms/step\n"
     ]
    },
    {
     "name": "stderr",
     "output_type": "stream",
     "text": [
      "\r",
      "[*********************100%%**********************]  1 of 1 completed"
     ]
    },
    {
     "name": "stdout",
     "output_type": "stream",
     "text": [
      "1/1 [==============================] - 0s 14ms/step\n",
      "1/1 [==============================] - 0s 15ms/step\n",
      "1/1 [==============================] - 0s 15ms/step\n",
      "1/1 [==============================] - 0s 16ms/step\n",
      "1/1 [==============================] - 0s 13ms/step\n",
      "1/1 [==============================] - ETA: 0s"
     ]
    },
    {
     "name": "stderr",
     "output_type": "stream",
     "text": [
      "\n"
     ]
    },
    {
     "name": "stdout",
     "output_type": "stream",
     "text": [
      "1/1 [==============================] - 0s 15ms/step\n",
      "1/1 [==============================] - 0s 14ms/step\n",
      "1/1 [==============================] - 0s 15ms/step\n",
      "1/1 [==============================] - 0s 13ms/step\n",
      "1/1 [==============================] - 0s 14ms/step\n"
     ]
    },
    {
     "name": "stderr",
     "output_type": "stream",
     "text": [
      "\r",
      "[*********************100%%**********************]  1 of 1 completed"
     ]
    },
    {
     "name": "stdout",
     "output_type": "stream",
     "text": [
      "1/1 [==============================] - 0s 15ms/step\n",
      "1/1 [==============================] - 0s 15ms/step\n",
      "1/1 [==============================] - 0s 15ms/step\n",
      "1/1 [==============================] - 0s 14ms/step\n",
      "1/1 [==============================] - 0s 15ms/step\n",
      "1/1 [==============================] - ETA: 0s"
     ]
    },
    {
     "name": "stderr",
     "output_type": "stream",
     "text": [
      "\n"
     ]
    },
    {
     "name": "stdout",
     "output_type": "stream",
     "text": [
      "1/1 [==============================] - 0s 15ms/step\n",
      "1/1 [==============================] - 0s 14ms/step\n",
      "1/1 [==============================] - 0s 14ms/step\n",
      "1/1 [==============================] - 0s 14ms/step\n",
      "1/1 [==============================] - 0s 14ms/step\n"
     ]
    },
    {
     "name": "stderr",
     "output_type": "stream",
     "text": [
      "[*********************100%%**********************]  1 of 1 completed\n"
     ]
    },
    {
     "name": "stdout",
     "output_type": "stream",
     "text": [
      "1/1 [==============================] - 0s 403ms/step\n",
      "1/1 [==============================] - 0s 14ms/step\n",
      "1/1 [==============================] - 0s 14ms/step\n",
      "1/1 [==============================] - 0s 15ms/step\n",
      "1/1 [==============================] - 0s 15ms/step\n",
      "1/1 [==============================] - 0s 14ms/step\n",
      "1/1 [==============================] - 0s 15ms/step\n",
      "1/1 [==============================] - 0s 16ms/step\n",
      "1/1 [==============================] - 0s 15ms/step\n",
      "1/1 [==============================] - 0s 15ms/step\n"
     ]
    },
    {
     "name": "stderr",
     "output_type": "stream",
     "text": [
      "\r",
      "[*********************100%%**********************]  1 of 1 completed"
     ]
    },
    {
     "name": "stdout",
     "output_type": "stream",
     "text": [
      "1/1 [==============================] - 0s 15ms/step\n",
      "1/1 [==============================] - 0s 14ms/step\n",
      "1/1 [==============================] - 0s 15ms/step\n",
      "1/1 [==============================] - 0s 14ms/step\n",
      "1/1 [==============================] - 0s 15ms/step\n",
      "1/1 [==============================] - ETA: 0s"
     ]
    },
    {
     "name": "stderr",
     "output_type": "stream",
     "text": [
      "\n"
     ]
    },
    {
     "name": "stdout",
     "output_type": "stream",
     "text": [
      "1/1 [==============================] - 0s 15ms/step\n",
      "1/1 [==============================] - 0s 14ms/step\n",
      "1/1 [==============================] - 0s 15ms/step\n",
      "1/1 [==============================] - 0s 14ms/step\n",
      "1/1 [==============================] - 0s 14ms/step\n"
     ]
    },
    {
     "name": "stderr",
     "output_type": "stream",
     "text": [
      "\r",
      "[*********************100%%**********************]  1 of 1 completed"
     ]
    },
    {
     "name": "stdout",
     "output_type": "stream",
     "text": [
      "1/1 [==============================] - 0s 15ms/step\n",
      "1/1 [==============================] - 0s 15ms/step\n",
      "1/1 [==============================] - 0s 14ms/step\n",
      "1/1 [==============================] - 0s 15ms/step\n",
      "1/1 [==============================] - 0s 14ms/step\n",
      "1/1 [==============================] - ETA: 0s"
     ]
    },
    {
     "name": "stderr",
     "output_type": "stream",
     "text": [
      "\n"
     ]
    },
    {
     "name": "stdout",
     "output_type": "stream",
     "text": [
      "1/1 [==============================] - 0s 15ms/step\n",
      "1/1 [==============================] - 0s 15ms/step\n",
      "1/1 [==============================] - 0s 14ms/step\n",
      "1/1 [==============================] - 0s 14ms/step\n",
      "1/1 [==============================] - 0s 15ms/step\n"
     ]
    },
    {
     "name": "stderr",
     "output_type": "stream",
     "text": [
      "[*********************100%%**********************]  1 of 1 completed\n"
     ]
    },
    {
     "name": "stdout",
     "output_type": "stream",
     "text": [
      "1/1 [==============================] - 0s 380ms/step\n",
      "1/1 [==============================] - 0s 14ms/step\n",
      "1/1 [==============================] - 0s 14ms/step\n",
      "1/1 [==============================] - 0s 14ms/step\n",
      "1/1 [==============================] - 0s 15ms/step\n",
      "1/1 [==============================] - 0s 15ms/step\n",
      "1/1 [==============================] - 0s 14ms/step\n",
      "1/1 [==============================] - 0s 14ms/step\n",
      "1/1 [==============================] - 0s 15ms/step\n",
      "1/1 [==============================] - 0s 14ms/step\n"
     ]
    },
    {
     "name": "stderr",
     "output_type": "stream",
     "text": [
      "[*********************100%%**********************]  1 of 1 completed\n"
     ]
    },
    {
     "name": "stdout",
     "output_type": "stream",
     "text": [
      "1/1 [==============================] - 0s 14ms/step\n",
      "1/1 [==============================] - 0s 14ms/step\n",
      "1/1 [==============================] - 0s 14ms/step\n",
      "1/1 [==============================] - 0s 14ms/step\n",
      "1/1 [==============================] - 0s 15ms/step\n",
      "1/1 [==============================] - 0s 15ms/step\n",
      "1/1 [==============================] - 0s 15ms/step\n",
      "1/1 [==============================] - 0s 14ms/step\n",
      "1/1 [==============================] - 0s 17ms/step\n",
      "1/1 [==============================] - 0s 15ms/step\n"
     ]
    },
    {
     "name": "stderr",
     "output_type": "stream",
     "text": [
      "\r",
      "[*********************100%%**********************]  1 of 1 completed"
     ]
    },
    {
     "name": "stdout",
     "output_type": "stream",
     "text": [
      "1/1 [==============================] - 0s 14ms/step\n",
      "1/1 [==============================] - 0s 15ms/step\n",
      "1/1 [==============================] - 0s 14ms/step\n",
      "1/1 [==============================] - 0s 15ms/step\n",
      "1/1 [==============================] - 0s 13ms/step\n",
      "1/1 [==============================] - ETA: 0s"
     ]
    },
    {
     "name": "stderr",
     "output_type": "stream",
     "text": [
      "\n"
     ]
    },
    {
     "name": "stdout",
     "output_type": "stream",
     "text": [
      "1/1 [==============================] - 0s 15ms/step\n",
      "1/1 [==============================] - 0s 14ms/step\n",
      "1/1 [==============================] - 0s 15ms/step\n",
      "1/1 [==============================] - 0s 15ms/step\n",
      "1/1 [==============================] - 0s 15ms/step\n"
     ]
    },
    {
     "name": "stderr",
     "output_type": "stream",
     "text": [
      "[*********************100%%**********************]  1 of 1 completed\n"
     ]
    },
    {
     "name": "stdout",
     "output_type": "stream",
     "text": [
      "1/1 [==============================] - 0s 384ms/step\n",
      "1/1 [==============================] - 0s 15ms/step\n",
      "1/1 [==============================] - 0s 14ms/step\n",
      "1/1 [==============================] - 0s 15ms/step\n",
      "1/1 [==============================] - 0s 15ms/step\n",
      "1/1 [==============================] - 0s 15ms/step\n",
      "1/1 [==============================] - 0s 15ms/step\n",
      "1/1 [==============================] - 0s 15ms/step\n",
      "1/1 [==============================] - 0s 15ms/step\n",
      "1/1 [==============================] - 0s 15ms/step\n"
     ]
    },
    {
     "name": "stderr",
     "output_type": "stream",
     "text": [
      "\r",
      "[*********************100%%**********************]  1 of 1 completed"
     ]
    },
    {
     "name": "stdout",
     "output_type": "stream",
     "text": [
      "1/1 [==============================] - 0s 14ms/step\n",
      "1/1 [==============================] - 0s 14ms/step\n",
      "1/1 [==============================] - 0s 15ms/step\n",
      "1/1 [==============================] - 0s 15ms/step\n",
      "1/1 [==============================] - 0s 14ms/step\n",
      "1/1 [==============================] - ETA: 0s"
     ]
    },
    {
     "name": "stderr",
     "output_type": "stream",
     "text": [
      "\n"
     ]
    },
    {
     "name": "stdout",
     "output_type": "stream",
     "text": [
      "1/1 [==============================] - 0s 14ms/step\n",
      "1/1 [==============================] - 0s 14ms/step\n",
      "1/1 [==============================] - 0s 16ms/step\n",
      "1/1 [==============================] - 0s 15ms/step\n",
      "1/1 [==============================] - 0s 15ms/step\n"
     ]
    },
    {
     "name": "stderr",
     "output_type": "stream",
     "text": [
      "\r",
      "[*********************100%%**********************]  1 of 1 completed"
     ]
    },
    {
     "name": "stdout",
     "output_type": "stream",
     "text": [
      "1/1 [==============================] - 0s 14ms/step\n",
      "1/1 [==============================] - 0s 15ms/step\n",
      "1/1 [==============================] - 0s 14ms/step\n",
      "1/1 [==============================] - 0s 15ms/step\n",
      "1/1 [==============================] - 0s 15ms/step\n",
      "1/1 [==============================] - ETA: 0s"
     ]
    },
    {
     "name": "stderr",
     "output_type": "stream",
     "text": [
      "\n"
     ]
    },
    {
     "name": "stdout",
     "output_type": "stream",
     "text": [
      "1/1 [==============================] - 0s 15ms/step\n",
      "1/1 [==============================] - 0s 16ms/step\n",
      "1/1 [==============================] - 0s 15ms/step\n",
      "1/1 [==============================] - 0s 14ms/step\n",
      "1/1 [==============================] - 0s 15ms/step\n"
     ]
    },
    {
     "name": "stderr",
     "output_type": "stream",
     "text": [
      "[*********************100%%**********************]  1 of 1 completed\n"
     ]
    },
    {
     "name": "stdout",
     "output_type": "stream",
     "text": [
      "1/1 [==============================] - 0s 386ms/step\n",
      "1/1 [==============================] - 0s 15ms/step\n",
      "1/1 [==============================] - 0s 14ms/step\n",
      "1/1 [==============================] - 0s 15ms/step\n",
      "1/1 [==============================] - 0s 15ms/step\n",
      "1/1 [==============================] - 0s 14ms/step\n",
      "1/1 [==============================] - 0s 14ms/step\n",
      "1/1 [==============================] - 0s 14ms/step\n",
      "1/1 [==============================] - 0s 15ms/step\n",
      "1/1 [==============================] - 0s 15ms/step\n"
     ]
    },
    {
     "name": "stderr",
     "output_type": "stream",
     "text": [
      "\r",
      "[*********************100%%**********************]  1 of 1 completed"
     ]
    },
    {
     "name": "stdout",
     "output_type": "stream",
     "text": [
      "1/1 [==============================] - 0s 14ms/step\n",
      "1/1 [==============================] - 0s 14ms/step\n",
      "1/1 [==============================] - 0s 14ms/step\n",
      "1/1 [==============================] - 0s 14ms/step\n",
      "1/1 [==============================] - 0s 14ms/step\n"
     ]
    },
    {
     "name": "stderr",
     "output_type": "stream",
     "text": [
      "\n"
     ]
    },
    {
     "name": "stdout",
     "output_type": "stream",
     "text": [
      "1/1 [==============================] - 0s 14ms/step\n",
      "1/1 [==============================] - 0s 15ms/step\n",
      "1/1 [==============================] - 0s 14ms/step\n",
      "1/1 [==============================] - 0s 14ms/step\n",
      "1/1 [==============================] - 0s 15ms/step\n"
     ]
    },
    {
     "name": "stderr",
     "output_type": "stream",
     "text": [
      "\r",
      "[*********************100%%**********************]  1 of 1 completed"
     ]
    },
    {
     "name": "stdout",
     "output_type": "stream",
     "text": [
      "1/1 [==============================] - 0s 15ms/step\n",
      "1/1 [==============================] - 0s 15ms/step\n",
      "1/1 [==============================] - 0s 15ms/step\n",
      "1/1 [==============================] - 0s 15ms/step\n",
      "1/1 [==============================] - 0s 15ms/step\n",
      "1/1 [==============================] - ETA: 0s"
     ]
    },
    {
     "name": "stderr",
     "output_type": "stream",
     "text": [
      "\n"
     ]
    },
    {
     "name": "stdout",
     "output_type": "stream",
     "text": [
      "1/1 [==============================] - 0s 15ms/step\n",
      "1/1 [==============================] - 0s 15ms/step\n",
      "1/1 [==============================] - 0s 16ms/step\n",
      "1/1 [==============================] - 0s 15ms/step\n",
      "1/1 [==============================] - 0s 16ms/step\n"
     ]
    },
    {
     "name": "stderr",
     "output_type": "stream",
     "text": [
      "[*********************100%%**********************]  1 of 1 completed\n"
     ]
    },
    {
     "name": "stdout",
     "output_type": "stream",
     "text": [
      "1/1 [==============================] - 0s 384ms/step\n",
      "1/1 [==============================] - 0s 14ms/step\n",
      "1/1 [==============================] - 0s 14ms/step\n",
      "1/1 [==============================] - 0s 15ms/step\n",
      "1/1 [==============================] - 0s 15ms/step\n",
      "1/1 [==============================] - 0s 14ms/step\n",
      "1/1 [==============================] - 0s 14ms/step\n",
      "1/1 [==============================] - 0s 15ms/step\n",
      "1/1 [==============================] - 0s 15ms/step\n",
      "1/1 [==============================] - 0s 15ms/step\n"
     ]
    },
    {
     "name": "stderr",
     "output_type": "stream",
     "text": [
      "\r",
      "[*********************100%%**********************]  1 of 1 completed"
     ]
    },
    {
     "name": "stdout",
     "output_type": "stream",
     "text": [
      "1/1 [==============================] - 0s 13ms/step\n",
      "1/1 [==============================] - 0s 15ms/step\n",
      "1/1 [==============================] - 0s 15ms/step\n",
      "1/1 [==============================] - 0s 14ms/step\n",
      "1/1 [==============================] - 0s 15ms/step\n",
      "1/1 [==============================] - ETA: 0s"
     ]
    },
    {
     "name": "stderr",
     "output_type": "stream",
     "text": [
      "\n"
     ]
    },
    {
     "name": "stdout",
     "output_type": "stream",
     "text": [
      "1/1 [==============================] - 0s 15ms/step\n",
      "1/1 [==============================] - 0s 15ms/step\n",
      "1/1 [==============================] - 0s 14ms/step\n",
      "1/1 [==============================] - 0s 15ms/step\n",
      "1/1 [==============================] - 0s 15ms/step\n"
     ]
    },
    {
     "name": "stderr",
     "output_type": "stream",
     "text": [
      "\r",
      "[*********************100%%**********************]  1 of 1 completed"
     ]
    },
    {
     "name": "stdout",
     "output_type": "stream",
     "text": [
      "1/1 [==============================] - 0s 15ms/step\n",
      "1/1 [==============================] - 0s 14ms/step\n",
      "1/1 [==============================] - 0s 13ms/step\n",
      "1/1 [==============================] - 0s 14ms/step\n",
      "1/1 [==============================] - 0s 14ms/step\n",
      "1/1 [==============================] - ETA: 0s"
     ]
    },
    {
     "name": "stderr",
     "output_type": "stream",
     "text": [
      "\n"
     ]
    },
    {
     "name": "stdout",
     "output_type": "stream",
     "text": [
      "1/1 [==============================] - 0s 14ms/step\n",
      "1/1 [==============================] - 0s 16ms/step\n",
      "1/1 [==============================] - 0s 14ms/step\n",
      "1/1 [==============================] - 0s 14ms/step\n",
      "1/1 [==============================] - 0s 14ms/step\n"
     ]
    },
    {
     "name": "stderr",
     "output_type": "stream",
     "text": [
      "[*********************100%%**********************]  1 of 1 completed\n"
     ]
    },
    {
     "name": "stdout",
     "output_type": "stream",
     "text": [
      "1/1 [==============================] - 0s 378ms/step\n",
      "1/1 [==============================] - 0s 14ms/step\n",
      "1/1 [==============================] - 0s 15ms/step\n",
      "1/1 [==============================] - 0s 15ms/step\n",
      "1/1 [==============================] - 0s 15ms/step\n",
      "1/1 [==============================] - 0s 15ms/step\n",
      "1/1 [==============================] - 0s 15ms/step\n",
      "1/1 [==============================] - 0s 15ms/step\n",
      "1/1 [==============================] - 0s 15ms/step\n",
      "1/1 [==============================] - 0s 15ms/step\n"
     ]
    },
    {
     "name": "stderr",
     "output_type": "stream",
     "text": [
      "\r",
      "[*********************100%%**********************]  1 of 1 completed"
     ]
    },
    {
     "name": "stdout",
     "output_type": "stream",
     "text": [
      "1/1 [==============================] - 0s 14ms/step\n",
      "1/1 [==============================] - 0s 15ms/step\n",
      "1/1 [==============================] - 0s 14ms/step\n",
      "1/1 [==============================] - 0s 15ms/step\n",
      "1/1 [==============================] - 0s 15ms/step\n",
      "1/1 [==============================] - ETA: 0s"
     ]
    },
    {
     "name": "stderr",
     "output_type": "stream",
     "text": [
      "\n"
     ]
    },
    {
     "name": "stdout",
     "output_type": "stream",
     "text": [
      "1/1 [==============================] - 0s 14ms/step\n",
      "1/1 [==============================] - 0s 15ms/step\n",
      "1/1 [==============================] - 0s 15ms/step\n",
      "1/1 [==============================] - 0s 15ms/step\n",
      "1/1 [==============================] - 0s 15ms/step\n"
     ]
    },
    {
     "name": "stderr",
     "output_type": "stream",
     "text": [
      "\r",
      "[*********************100%%**********************]  1 of 1 completed"
     ]
    },
    {
     "name": "stdout",
     "output_type": "stream",
     "text": [
      "1/1 [==============================] - 0s 16ms/step\n",
      "1/1 [==============================] - 0s 16ms/step\n",
      "1/1 [==============================] - 0s 20ms/step\n",
      "1/1 [==============================] - 0s 18ms/step\n",
      "1/1 [==============================] - ETA: 0s"
     ]
    },
    {
     "name": "stderr",
     "output_type": "stream",
     "text": [
      "\n"
     ]
    },
    {
     "name": "stdout",
     "output_type": "stream",
     "text": [
      "1/1 [==============================] - 0s 17ms/step\n",
      "1/1 [==============================] - 0s 15ms/step\n",
      "1/1 [==============================] - 0s 16ms/step\n",
      "1/1 [==============================] - 0s 15ms/step\n",
      "1/1 [==============================] - 0s 15ms/step\n",
      "1/1 [==============================] - 0s 14ms/step\n"
     ]
    },
    {
     "name": "stderr",
     "output_type": "stream",
     "text": [
      "[*********************100%%**********************]  1 of 1 completed\n"
     ]
    },
    {
     "name": "stdout",
     "output_type": "stream",
     "text": [
      "1/1 [==============================] - 0s 383ms/step\n",
      "1/1 [==============================] - 0s 14ms/step\n",
      "1/1 [==============================] - 0s 15ms/step\n",
      "1/1 [==============================] - 0s 14ms/step\n",
      "1/1 [==============================] - 0s 15ms/step\n",
      "1/1 [==============================] - 0s 15ms/step\n",
      "1/1 [==============================] - 0s 14ms/step\n",
      "1/1 [==============================] - 0s 15ms/step\n",
      "1/1 [==============================] - 0s 15ms/step\n",
      "1/1 [==============================] - 0s 15ms/step\n"
     ]
    },
    {
     "name": "stderr",
     "output_type": "stream",
     "text": [
      "\r",
      "[*********************100%%**********************]  1 of 1 completed"
     ]
    },
    {
     "name": "stdout",
     "output_type": "stream",
     "text": [
      "1/1 [==============================] - 0s 15ms/step\n",
      "1/1 [==============================] - 0s 14ms/step\n",
      "1/1 [==============================] - 0s 15ms/step\n",
      "1/1 [==============================] - 0s 15ms/step\n",
      "1/1 [==============================] - 0s 14ms/step\n",
      "1/1 [==============================] - ETA: 0s"
     ]
    },
    {
     "name": "stderr",
     "output_type": "stream",
     "text": [
      "\n"
     ]
    },
    {
     "name": "stdout",
     "output_type": "stream",
     "text": [
      "1/1 [==============================] - 0s 15ms/step\n",
      "1/1 [==============================] - 0s 15ms/step\n",
      "1/1 [==============================] - 0s 16ms/step\n",
      "1/1 [==============================] - 0s 15ms/step\n",
      "1/1 [==============================] - 0s 14ms/step\n"
     ]
    },
    {
     "name": "stderr",
     "output_type": "stream",
     "text": [
      "\r",
      "[*********************100%%**********************]  1 of 1 completed"
     ]
    },
    {
     "name": "stdout",
     "output_type": "stream",
     "text": [
      "1/1 [==============================] - 0s 16ms/step\n",
      "1/1 [==============================] - 0s 16ms/step\n",
      "1/1 [==============================] - 0s 15ms/step\n",
      "1/1 [==============================] - 0s 15ms/step\n",
      "1/1 [==============================] - 0s 15ms/step\n"
     ]
    },
    {
     "name": "stderr",
     "output_type": "stream",
     "text": [
      "\n"
     ]
    },
    {
     "name": "stdout",
     "output_type": "stream",
     "text": [
      "1/1 [==============================] - 0s 15ms/step\n",
      "1/1 [==============================] - 0s 14ms/step\n",
      "1/1 [==============================] - 0s 16ms/step\n",
      "1/1 [==============================] - 0s 15ms/step\n",
      "1/1 [==============================] - 0s 15ms/step\n"
     ]
    },
    {
     "name": "stderr",
     "output_type": "stream",
     "text": [
      "[*********************100%%**********************]  1 of 1 completed\n"
     ]
    },
    {
     "name": "stdout",
     "output_type": "stream",
     "text": [
      "1/1 [==============================] - 0s 383ms/step\n",
      "1/1 [==============================] - 0s 13ms/step\n",
      "1/1 [==============================] - 0s 15ms/step\n",
      "1/1 [==============================] - 0s 15ms/step\n",
      "1/1 [==============================] - 0s 15ms/step\n",
      "1/1 [==============================] - 0s 15ms/step\n",
      "1/1 [==============================] - 0s 15ms/step\n",
      "1/1 [==============================] - 0s 15ms/step\n",
      "1/1 [==============================] - 0s 15ms/step\n",
      "1/1 [==============================] - 0s 14ms/step\n",
      "{'AAPL': [213.95032, 210.20804, 214.2899932861328, 211.80746], 'MSFT': [440.94522, 432.50864, 446.3399963378906, 436.17966], 'GOOGL': [175.90591, 171.45625, 175.08999633789062, 173.68323], 'NVDA': [126.243484, 121.62074, 135.5800018310547, 123.76856], 'AMZN': [184.9979, 180.79022, 182.80999755859375, 182.19814], 'META': [507.17828, 486.3136, 499.489990234375, 495.60736], 'TSM': [171.49036, 165.15002, 179.69000244140625, 168.4936], 'BRK-B': [408.94794, 401.44803, 407.95001220703125, 404.82532], 'LLY': [869.94885, 839.6802, 891.4600219726562, 852.73474], 'AVGO': [1695.8003, 1627.4497, 1802.52001953125, 1664.8906], 'NVO': [141.53638, 136.24359, 140.8000030517578, 138.79095], 'TSLA': [182.40918, 174.08609, 184.86000061035156, 179.35393], 'JPM': [194.86636, 190.63614, 197.0, 192.55011], 'V': [273.91522, 269.54764, 273.6199951171875, 271.37753], 'WMT': [66.26916, 65.18217, 67.5999984741211, 65.84828], 'XOM': [111.07707, 109.450714, 109.37999725341797, 110.329384], 'UNH': [503.9722, 494.87772, 481.04998779296875, 499.47076], 'TCEHY': [48.449764, 47.46022, 48.709999084472656, 47.947388], 'MA': [450.39655, 442.3317, 450.1099853515625, 446.69138], 'ASML': [1036.8928, 998.54724, 1061.3800048828125, 1015.9991], 'PG': [166.32727, 164.98651, 168.55999755859375, 165.57744], 'ORCL': [140.2487, 137.38965, 144.63999938964844, 139.23184], 'COST': [844.28265, 816.8898, 870.75, 833.9155]}\n"
     ]
    }
   ],
   "source": [
    "tickers = ['AAPL', 'MSFT', 'GOOGL', 'NVDA', 'AMZN', 'META', 'TSM', 'BRK-B', 'LLY', 'AVGO', 'NVO', 'TSLA', 'JPM', 'V', 'WMT', 'XOM', 'UNH', 'TCEHY', 'MA', 'ASML', 'PG', 'ORCL', 'COST' ]\n",
    "days_to_predict = 10\n",
    "randomness = 0.015\n",
    "predicted_prices = generate_predictions(tickers, days_to_predict, randomness)\n",
    "print(predicted_prices)"
   ]
  },
  {
   "cell_type": "code",
   "execution_count": null,
   "id": "85fe661a",
   "metadata": {},
   "outputs": [],
   "source": []
  },
  {
   "cell_type": "code",
   "execution_count": 417,
   "id": "4764610a",
   "metadata": {},
   "outputs": [
    {
     "name": "stdout",
     "output_type": "stream",
     "text": [
      "{'AAPL': [-0.15851225627076151, -1.9048742750223606, -1.1584902535362989], 'MSFT': [-1.2086694974431595, -3.0988394445409644, -2.276367665643192], 'GOOGL': [0.4659991923098978, -2.075357451673238, -0.8034546965854786], 'NVDA': [-6.886352860223845, -10.29595725378265, -8.711785923176421], 'AMZN': [1.1968145931484773, -1.1048495255176771, -0.3346984250251823], 'META': [1.5392287347787854, -2.637969100317658, -0.7773187592226641], 'TSM': [-4.563217699753502, -8.091701168563889, -6.230950927653521], 'BRK-B': [0.24461938346040826, -1.5938187150435534, -0.7659504181196085], 'LLY': [-2.413026821549779, -5.808431664364024, -4.344028874791938], 'AVGO': [-5.920584814933303, -9.712530823681364, -7.635387848121702], 'NVO': [0.5229928163399953, -3.2360878156296167, -1.4268809789553343], 'TSLA': [-1.3257713484581286, -5.828145887097673, -2.978509672112677], 'JPM': [-1.0830642003093274, -3.230386337047906, -2.2588274805678936], 'V': [0.10789673856064813, -1.4883258717953867, -0.8195534676633229], 'WMT': [-1.9686998439247052, -3.576673780287202, -2.59129682442246], 'XOM': [1.5515404395237244, 0.06465245902897154, 0.8679709458029088], 'UNH': [4.765037163502536, 2.8744888519642715, 3.8292852790000103], 'TCEHY': [-0.5342534133748881, -2.56575399517301, -1.5656156918369863], 'MA': [0.06366445267147977, -1.7280864784296155, -0.759505394325009], 'ASML': [-2.307107963645042, -5.919912131641522, -4.2756524714413455], 'PG': [-1.3245889197436205, -2.1200085310174543, -1.7694347694000079], 'ORCL': [-3.036017979292819, -5.012687349794976, -3.739046855264203], 'COST': [-3.0396033524440136, -6.185498649691358, -4.230200707005455]}\n"
     ]
    }
   ],
   "source": [
    "percent_changes = calculate_percent_change(predicted_prices)\n",
    "print(percent_changes)"
   ]
  },
  {
   "cell_type": "code",
   "execution_count": 418,
   "id": "df5c776d",
   "metadata": {
    "scrolled": true
   },
   "outputs": [
    {
     "name": "stdout",
     "output_type": "stream",
     "text": [
      "{'XOM': [1.5515404395237244, 0.06465245902897154, 0.8679709458029088], 'UNH': [4.765037163502536, 2.8744888519642715, 3.8292852790000103]}\n"
     ]
    }
   ],
   "source": [
    "selected_stocks = stock_selection(percent_changes, -0.5)\n",
    "print(selected_stocks)"
   ]
  },
  {
   "cell_type": "code",
   "execution_count": null,
   "id": "befb6035",
   "metadata": {},
   "outputs": [],
   "source": []
  },
  {
   "cell_type": "code",
   "execution_count": 419,
   "id": "ac8e540d",
   "metadata": {},
   "outputs": [],
   "source": [
    "investment_budget = 10000 #in usd\n",
    "biggest_allowable_net_loss = 2000 # in usd"
   ]
  },
  {
   "cell_type": "code",
   "execution_count": 420,
   "id": "56a87b8b",
   "metadata": {},
   "outputs": [],
   "source": [
    "#bierzemy pod uwagę 3 scenariusze\n",
    "sc_predicted = []\n",
    "sc_bullish = []\n",
    "sc_bearish = []"
   ]
  },
  {
   "cell_type": "code",
   "execution_count": 421,
   "id": "ed8cd3ba",
   "metadata": {},
   "outputs": [],
   "source": [
    "current_prices = []"
   ]
  },
  {
   "cell_type": "code",
   "execution_count": 422,
   "id": "bfbc19b3",
   "metadata": {},
   "outputs": [],
   "source": [
    "for ticker in tickers:\n",
    "    if ticker in predicted_prices:\n",
    "        sc_bullish.append(predicted_prices[ticker][0])\n",
    "        sc_bearish.append(predicted_prices[ticker][1])\n",
    "        sc_predicted.append(predicted_prices[ticker][3])\n",
    "        current_prices.append(predicted_prices[ticker][2])"
   ]
  },
  {
   "cell_type": "code",
   "execution_count": 423,
   "id": "694dfef2",
   "metadata": {},
   "outputs": [
    {
     "name": "stdout",
     "output_type": "stream",
     "text": [
      "sc_predicted: [211.80746, 436.17966, 173.68323, 123.76856, 182.19814, 495.60736, 168.4936, 404.82532, 852.73474, 1664.8906, 138.79095, 179.35393, 192.55011, 271.37753, 65.84828, 110.329384, 499.47076, 47.947388, 446.69138, 1015.9991, 165.57744, 139.23184, 833.9155]\n",
      "sc_bullish: [213.95032, 440.94522, 175.90591, 126.243484, 184.9979, 507.17828, 171.49036, 408.94794, 869.94885, 1695.8003, 141.53638, 182.40918, 194.86636, 273.91522, 66.26916, 111.07707, 503.9722, 48.449764, 450.39655, 1036.8928, 166.32727, 140.2487, 844.28265]\n",
      "sc_bearish: [210.20804, 432.50864, 171.45625, 121.62074, 180.79022, 486.3136, 165.15002, 401.44803, 839.6802, 1627.4497, 136.24359, 174.08609, 190.63614, 269.54764, 65.18217, 109.450714, 494.87772, 47.46022, 442.3317, 998.54724, 164.98651, 137.38965, 816.8898]\n"
     ]
    }
   ],
   "source": [
    "print(\"sc_predicted:\", sc_predicted)\n",
    "print(\"sc_bullish:\", sc_bullish)\n",
    "print(\"sc_bearish:\", sc_bearish)\n"
   ]
  },
  {
   "cell_type": "code",
   "execution_count": null,
   "id": "8955ad8a",
   "metadata": {},
   "outputs": [],
   "source": []
  },
  {
   "cell_type": "code",
   "execution_count": 424,
   "id": "a0104ca1",
   "metadata": {},
   "outputs": [],
   "source": [
    "portfolio = greedy(sc_predicted, tickers, current_prices, investment_budget, biggest_allowable_net_loss)"
   ]
  },
  {
   "cell_type": "code",
   "execution_count": 425,
   "id": "f7d0078f",
   "metadata": {},
   "outputs": [
    {
     "name": "stdout",
     "output_type": "stream",
     "text": [
      "([0, 0, 0, 0, 2.0, 0, 0, 0, 0, 0, 0, 0, 0, 0, 0, 0, 20.0, 0, 0, 0, 0, 0, 0], 9986.619750976562, 1.223724365234375)\n"
     ]
    }
   ],
   "source": [
    "print(portfolio)"
   ]
  },
  {
   "cell_type": "code",
   "execution_count": 426,
   "id": "511c611c",
   "metadata": {},
   "outputs": [],
   "source": [
    "portfolio = simulated_annealing(sc_predicted, tickers, current_prices, investment_budget, biggest_allowable_net_loss, 40, 0.1, 200)"
   ]
  },
  {
   "cell_type": "code",
   "execution_count": 427,
   "id": "7e2abff3",
   "metadata": {},
   "outputs": [
    {
     "name": "stdout",
     "output_type": "stream",
     "text": [
      "([30, 0, 0, 0, 0, 0, 0, 0, 0, 0, 0, 0, 0, 0, 0, 0, 0, 0, 0, 0, 0, 0, 0], 6428.699798583984, 74.47586059570312)\n"
     ]
    }
   ],
   "source": [
    "print(portfolio)"
   ]
  },
  {
   "cell_type": "code",
   "execution_count": 428,
   "id": "4459866e",
   "metadata": {},
   "outputs": [],
   "source": [
    "portfolio = simulated_annealing(sc_bullish, tickers, current_prices, investment_budget, biggest_allowable_net_loss, 40, 0.1, 200)"
   ]
  },
  {
   "cell_type": "code",
   "execution_count": 429,
   "id": "22012d87",
   "metadata": {},
   "outputs": [
    {
     "name": "stdout",
     "output_type": "stream",
     "text": [
      "([22, 0, 1, 0, 1, 1, 0, 0, 0, 0, 1, 0, 0, 1, 0, 0, 0, 0, 0, 0, 0, 0, 0], 5986.189834594727, 7.472869873046875)\n"
     ]
    }
   ],
   "source": [
    "print(portfolio)"
   ]
  },
  {
   "cell_type": "code",
   "execution_count": 430,
   "id": "6e14afef",
   "metadata": {},
   "outputs": [],
   "source": [
    "portfolio = simulated_annealing(sc_bearish, tickers, current_prices, investment_budget, biggest_allowable_net_loss, 40, 0.1, 200)"
   ]
  },
  {
   "cell_type": "code",
   "execution_count": 431,
   "id": "ed1436fa",
   "metadata": {},
   "outputs": [
    {
     "name": "stdout",
     "output_type": "stream",
     "text": [
      "([28, 0, 0, 0, 0, 0, 0, 0, 0, 0, 0, 0, 0, 0, 0, 0, 1, 0, 0, 0, 0, 0, 0], 6481.1697998046875, 114.29473876953125)\n"
     ]
    }
   ],
   "source": [
    "print(portfolio)"
   ]
  },
  {
   "cell_type": "code",
   "execution_count": 432,
   "id": "aa492357",
   "metadata": {},
   "outputs": [],
   "source": [
    "portfolio = ant_colony_optimization(sc_bearish, tickers, current_prices, investment_budget, biggest_allowable_net_loss)"
   ]
  },
  {
   "cell_type": "code",
   "execution_count": 433,
   "id": "4f1dc349",
   "metadata": {},
   "outputs": [
    {
     "name": "stdout",
     "output_type": "stream",
     "text": [
      "([0, 0, 0, 0, 0, 0, 0, 0, 11.0, 0, 1.0, 0, 0, 0, 0, 0, 0, 1.0, 0, 0, 0, 0, 0], 9995.57024383545, 575.3844985961914)\n"
     ]
    }
   ],
   "source": [
    "print(portfolio)"
   ]
  },
  {
   "cell_type": "code",
   "execution_count": 434,
   "id": "c1a7ef02",
   "metadata": {},
   "outputs": [],
   "source": [
    "portfolio_aco_bearish = ant_colony_optimization(sc_bearish, tickers, current_prices, investment_budget, biggest_allowable_net_loss)\n",
    "portfolio_aco_bullish = ant_colony_optimization(sc_bullish, tickers, current_prices, investment_budget, biggest_allowable_net_loss)\n",
    "portfolio_aco_predicted = ant_colony_optimization(sc_predicted, tickers, current_prices, investment_budget, biggest_allowable_net_loss)\n",
    "portfolio_sa_bearish = simulated_annealing(sc_bearish, tickers, current_prices, investment_budget, biggest_allowable_net_loss, 40, 0.01, 100)\n",
    "portfolio_sa_bullish = simulated_annealing(sc_bullish, tickers, current_prices, investment_budget, biggest_allowable_net_loss, 40, 0.01, 100)\n",
    "portfolio_sa_predicted = simulated_annealing(sc_predicted, tickers, current_prices, investment_budget, biggest_allowable_net_loss, 40, 0.01, 100)\n",
    "portfolio_greedy_bearish = greedy(sc_bearish, tickers, current_prices, investment_budget, biggest_allowable_net_loss)\n",
    "portfolio_greedy_bullish = greedy(sc_bullish, tickers, current_prices, investment_budget, biggest_allowable_net_loss)\n",
    "portfolio_greedy_predicted = greedy(sc_predicted, tickers, current_prices, investment_budget, biggest_allowable_net_loss)\n"
   ]
  },
  {
   "cell_type": "code",
   "execution_count": 435,
   "id": "339ea7ad",
   "metadata": {},
   "outputs": [
    {
     "name": "stdout",
     "output_type": "stream",
     "text": [
      "ACO Bearish Portfolio: ([0, 0, 0, 0, 0, 0, 0, 0, 0, 0, 0, 0, 0, 0, 147.0, 0, 0, 1.0, 0, 0, 0, 0, 0], 9985.909774780273, 356.6709976196289)\n",
      "ACO Bullish Portfolio: ([0, 0, 0, 0, 0, 0, 2.0, 0, 0, 0, 0, 0, 0, 0, 1.0, 0, 0, 0, 0, 9.0, 0, 0, 0], 9979.400047302246, 238.11477661132812)\n",
      "ACO Predicted Portfolio: ([0, 0, 0, 0, 0, 0, 2.0, 0, 0, 0, 0, 0, 0, 0, 0, 0, 0, 1.0, 0, 0, 0, 0, 11.0], 9986.340003967285, 428.33460235595703)\n",
      "SA Bearish Portfolio: ([40, 0, 3, 0, 0, 0, 0, 0, 0, 0, 0, 0, 0, 0, 0, 1, 0, 0, 0, 0, 0, 0, 0], 9206.249717712402, 174.17942810058594)\n",
      "SA Bullish Portfolio: ([32, 1, 0, 0, 1, 1, 0, 0, 0, 0, 0, 0, 0, 0, 0, 1, 1, 0, 0, 0, 0, 0, 0], 8576.349754333496, 16.264404296875)\n",
      "SA Predicted Portfolio: ([10, 0, 27, 0, 0, 0, 0, 0, 0, 0, 0, 0, 0, 0, 0, 0, 1, 0, 0, 0, 0, 0, 0], 7351.379821777344, 62.80804443359375)\n",
      "Greedy Bearish Portfolio: ([0, 0, 0, 0, 0, 0, 0, 0, 0, 0, 0, 0, 0, 0, 0, 0, 20.0, 7.0, 0, 0, 0, 0, 0], 9961.969749450684, 8.748451232910156)\n",
      "Greedy Bullish Portfolio: ([0, 0, 0, 0, 0, 0, 0, 0, 0, 0, 0, 0, 0, 0, 0, 0, 20.0, 7.0, 0, 0, 0, 0, 0], 9961.969749450684, 1.8216438293457031)\n",
      "Greedy Predicted Portfolio: ([0, 0, 0, 0, 2.0, 0, 0, 0, 0, 0, 0, 0, 0, 0, 0, 0, 20.0, 0, 0, 0, 0, 0, 0], 9986.619750976562, 1.223724365234375)\n"
     ]
    }
   ],
   "source": [
    "print(\"ACO Bearish Portfolio:\", portfolio_aco_bearish)\n",
    "print(\"ACO Bullish Portfolio:\", portfolio_aco_bullish)\n",
    "print(\"ACO Predicted Portfolio:\", portfolio_aco_predicted)\n",
    "\n",
    "print(\"SA Bearish Portfolio:\", portfolio_sa_bearish)\n",
    "print(\"SA Bullish Portfolio:\", portfolio_sa_bullish)\n",
    "print(\"SA Predicted Portfolio:\", portfolio_sa_predicted)\n",
    "\n",
    "print(\"Greedy Bearish Portfolio:\", portfolio_greedy_bearish)\n",
    "print(\"Greedy Bullish Portfolio:\", portfolio_greedy_bullish)\n",
    "print(\"Greedy Predicted Portfolio:\", portfolio_greedy_predicted)"
   ]
  },
  {
   "cell_type": "code",
   "execution_count": null,
   "id": "8f58f6f7",
   "metadata": {},
   "outputs": [],
   "source": []
  },
  {
   "cell_type": "code",
   "execution_count": null,
   "id": "aa28871e",
   "metadata": {},
   "outputs": [],
   "source": []
  },
  {
   "cell_type": "code",
   "execution_count": 436,
   "id": "01348040",
   "metadata": {},
   "outputs": [],
   "source": [
    "scenarios = [sc_predicted, sc_bullish, sc_bearish]"
   ]
  },
  {
   "cell_type": "code",
   "execution_count": 437,
   "id": "7936782d",
   "metadata": {},
   "outputs": [],
   "source": [
    "portfolio_decisions = [portfolio_aco_bearish[0], portfolio_aco_bullish[0], portfolio_aco_predicted[0], \n",
    "                       portfolio_sa_bearish[0], portfolio_sa_bullish[0], portfolio_sa_predicted[0],\n",
    "                       portfolio_greedy_bearish[0], portfolio_greedy_bullish[0], portfolio_greedy_predicted[0]]"
   ]
  },
  {
   "cell_type": "code",
   "execution_count": 438,
   "id": "6b542357",
   "metadata": {},
   "outputs": [],
   "source": [
    "l = scenarios_for_portfolios(portfolio_decisions, scenarios)"
   ]
  },
  {
   "cell_type": "code",
   "execution_count": 439,
   "id": "72eaa6b5",
   "metadata": {},
   "outputs": [],
   "source": [
    "results = result_decision(l)\n",
    "                        "
   ]
  },
  {
   "cell_type": "code",
   "execution_count": 440,
   "id": "98f2d06b",
   "metadata": {},
   "outputs": [
    {
     "name": "stdout",
     "output_type": "stream",
     "text": [
      "[9727.644821166992, 9790.0159034729, 9629.238777160645, 9546.827255249023, 9741.285270690918, 9382.407386779785, 9558.005401611328, 9678.539669036865, 9363.547744750977, 9103.67765045166, 9196.807510375977, 9032.141006469727, 8501.624168395996, 8594.580825805664, 8430.598114013672, 7306.9925537109375, 7392.93505859375, 7226.276931762695, 10325.046997070312, 10418.592319488525, 10229.775863647461, 10325.046997070312, 10418.592319488525, 10229.775863647461, 10353.811553955078, 10449.439758300781, 10259.134765625]\n"
     ]
    }
   ],
   "source": [
    "print(result_decision(l))"
   ]
  },
  {
   "cell_type": "code",
   "execution_count": 441,
   "id": "7e7493de",
   "metadata": {},
   "outputs": [],
   "source": [
    "regrets = maximum_regret_decision(portfolio_decisions, results)"
   ]
  },
  {
   "cell_type": "code",
   "execution_count": 442,
   "id": "1d65c97b",
   "metadata": {},
   "outputs": [
    {
     "name": "stdout",
     "output_type": "stream",
     "text": [
      "[9990370.76122284, 9990617.59261322, 9990636.452255249, 9990967.85899353, 9991569.401885986, 9992773.723068237, 9989770.224136353, 9989770.224136353, 9989740.865234375]\n"
     ]
    }
   ],
   "source": [
    "print(regrets)"
   ]
  },
  {
   "cell_type": "code",
   "execution_count": 443,
   "id": "1be72b41",
   "metadata": {},
   "outputs": [],
   "source": [
    "best_decision, regret, i  = best_decision_minmax_regret(portfolio_decisions, regrets)\n"
   ]
  },
  {
   "cell_type": "code",
   "execution_count": 444,
   "id": "05402e5c",
   "metadata": {},
   "outputs": [
    {
     "name": "stdout",
     "output_type": "stream",
     "text": [
      "[0, 0, 0, 0, 2.0, 0, 0, 0, 0, 0, 0, 0, 0, 0, 0, 0, 20.0, 0, 0, 0, 0, 0, 0] 9989740.865234375\n"
     ]
    }
   ],
   "source": [
    "print(best_decision, regret)"
   ]
  },
  {
   "cell_type": "code",
   "execution_count": null,
   "id": "f644d6fc",
   "metadata": {},
   "outputs": [],
   "source": []
  },
  {
   "cell_type": "code",
   "execution_count": null,
   "id": "bf8416c4",
   "metadata": {},
   "outputs": [],
   "source": []
  },
  {
   "cell_type": "code",
   "execution_count": null,
   "id": "eccb6064",
   "metadata": {},
   "outputs": [],
   "source": []
  },
  {
   "cell_type": "code",
   "execution_count": null,
   "id": "dda31d22",
   "metadata": {},
   "outputs": [],
   "source": []
  },
  {
   "cell_type": "code",
   "execution_count": null,
   "id": "d1628e2d",
   "metadata": {},
   "outputs": [],
   "source": []
  }
 ],
 "metadata": {
  "kernelspec": {
   "display_name": "Python 3 (ipykernel)",
   "language": "python",
   "name": "python3"
  },
  "language_info": {
   "codemirror_mode": {
    "name": "ipython",
    "version": 3
   },
   "file_extension": ".py",
   "mimetype": "text/x-python",
   "name": "python",
   "nbconvert_exporter": "python",
   "pygments_lexer": "ipython3",
   "version": "3.9.13"
  }
 },
 "nbformat": 4,
 "nbformat_minor": 5
}
